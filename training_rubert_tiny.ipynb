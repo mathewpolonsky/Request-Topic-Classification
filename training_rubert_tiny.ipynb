{
  "cells": [
    {
      "cell_type": "markdown",
      "metadata": {
        "id": "ANrNlNT4h4rc"
      },
      "source": [
        "The following cell fixes the background color of tqdm background color in VSCode Jupyter Notebooks:"
      ]
    },
    {
      "cell_type": "code",
      "execution_count": null,
      "metadata": {
        "id": "PQciamrxh4rc",
        "outputId": "12abec2e-0cae-4853-e239-1310e6876774"
      },
      "outputs": [
        {
          "data": {
            "text/html": [
              "<style>\n",
              ".cell-output-ipywidget-background {\n",
              "   background-color: transparent !important;\n",
              "}\n",
              ".jp-OutputArea-output {\n",
              "   background-color: transparent;\n",
              "}  \n",
              "</style>\n"
            ],
            "text/plain": [
              "<IPython.core.display.HTML object>"
            ]
          },
          "metadata": {},
          "output_type": "display_data"
        }
      ],
      "source": [
        "%%html\n",
        "<style>\n",
        ".cell-output-ipywidget-background {\n",
        "   background-color: transparent !important;\n",
        "}\n",
        ".jp-OutputArea-output {\n",
        "   background-color: transparent;\n",
        "}\n",
        "</style>"
      ]
    },
    {
      "cell_type": "markdown",
      "metadata": {
        "id": "ur9GA_qeh4rc"
      },
      "source": [
        "Google Colab"
      ]
    },
    {
      "cell_type": "code",
      "execution_count": 1,
      "metadata": {
        "colab": {
          "base_uri": "https://localhost:8080/"
        },
        "id": "gXc_o70rh4rc",
        "outputId": "69316a41-6b1b-450c-a088-ebaf3245d9dc"
      },
      "outputs": [
        {
          "name": "stdout",
          "output_type": "stream",
          "text": [
            "Downloading...\n",
            "From: https://drive.google.com/uc?id=1wb6ayDuhhqOnFLjU4qWzeohiMnv7t8RK\n",
            "To: /content/train_dataset_train.csv\n",
            "\r  0% 0.00/13.6M [00:00<?, ?B/s]\r 54% 7.34M/13.6M [00:00<00:00, 72.4MB/s]\r100% 13.6M/13.6M [00:00<00:00, 96.3MB/s]\n"
          ]
        }
      ],
      "source": [
        "# Датасет\n",
        "!gdown 1wb6ayDuhhqOnFLjU4qWzeohiMnv7t8RK"
      ]
    },
    {
      "cell_type": "code",
      "execution_count": null,
      "metadata": {
        "id": "K8-VyYdYh4rc"
      },
      "outputs": [],
      "source": [
        "from google.colab import drive\n",
        "drive.mount('/content/drive')"
      ]
    },
    {
      "cell_type": "code",
      "execution_count": null,
      "metadata": {
        "id": "eMZYBBWsh4rc"
      },
      "outputs": [],
      "source": [
        "# !pip install git+https://github.com/huggingface/transformers.git\n",
        "# !pip install -U sentence-transformers\n",
        "# !pip install evaluate\n",
        "# !pip install transformers[torch]\n",
        "# !pip install demoji"
      ]
    },
    {
      "cell_type": "markdown",
      "metadata": {
        "id": "Wcxe2GiKh4rc"
      },
      "source": [
        "---"
      ]
    },
    {
      "cell_type": "code",
      "execution_count": 1,
      "metadata": {
        "id": "ykl0Ra1Gh4rc"
      },
      "outputs": [],
      "source": [
        "import re\n",
        "import json\n",
        "\n",
        "import numpy as np\n",
        "import pandas as pd\n",
        "\n",
        "import demoji\n",
        "\n",
        "from sklearn.model_selection import train_test_split\n",
        "from sklearn.utils.class_weight import compute_class_weight\n",
        "\n",
        "import torch\n",
        "from torch.utils.data import DataLoader, Dataset\n",
        "import evaluate\n",
        "\n",
        "from transformers import AutoModelForSequenceClassification, TrainingArguments, Trainer\n",
        "from transformers import AutoTokenizer, AutoModelForSeq2SeqLM, T5TokenizerFast, pipeline\n",
        "\n",
        "from tqdm.auto import tqdm"
      ]
    },
    {
      "cell_type": "markdown",
      "metadata": {
        "id": "B_kDea86h4rc"
      },
      "source": [
        "### Обработка датасета"
      ]
    },
    {
      "cell_type": "code",
      "execution_count": 2,
      "metadata": {
        "colab": {
          "base_uri": "https://localhost:8080/",
          "height": 501
        },
        "id": "VImNajtMh4rc",
        "outputId": "31c7ab95-f50c-4ea0-984d-2f2402a78b93"
      },
      "outputs": [
        {
          "data": {
            "text/html": [
              "\n",
              "  <div id=\"df-18eee444-0511-488a-9286-781198829c9b\" class=\"colab-df-container\">\n",
              "    <div>\n",
              "<style scoped>\n",
              "    .dataframe tbody tr th:only-of-type {\n",
              "        vertical-align: middle;\n",
              "    }\n",
              "\n",
              "    .dataframe tbody tr th {\n",
              "        vertical-align: top;\n",
              "    }\n",
              "\n",
              "    .dataframe thead th {\n",
              "        text-align: right;\n",
              "    }\n",
              "</style>\n",
              "<table border=\"1\" class=\"dataframe\">\n",
              "  <thead>\n",
              "    <tr style=\"text-align: right;\">\n",
              "      <th></th>\n",
              "      <th>Исполнитель</th>\n",
              "      <th>Группа тем</th>\n",
              "      <th>Текст инцидента</th>\n",
              "      <th>Тема</th>\n",
              "    </tr>\n",
              "  </thead>\n",
              "  <tbody>\n",
              "    <tr>\n",
              "      <th>0</th>\n",
              "      <td>Лысьвенский городской округ</td>\n",
              "      <td>Благоустройство</td>\n",
              "      <td>'Добрый день. Сегодня, 20.08.22, моя мать шла ...</td>\n",
              "      <td>★ Ямы во дворах</td>\n",
              "    </tr>\n",
              "    <tr>\n",
              "      <th>1</th>\n",
              "      <td>Министерство социального развития ПК</td>\n",
              "      <td>Социальное обслуживание и защита</td>\n",
              "      <td>'Пермь г, +79194692145. В Перми с ноября 2021 ...</td>\n",
              "      <td>Оказание гос. соц. помощи</td>\n",
              "    </tr>\n",
              "    <tr>\n",
              "      <th>2</th>\n",
              "      <td>Министерство социального развития ПК</td>\n",
              "      <td>Социальное обслуживание и защита</td>\n",
              "      <td>'Добрый день ! Скажите пожалуйста если подовал...</td>\n",
              "      <td>Дети и многодетные семьи</td>\n",
              "    </tr>\n",
              "    <tr>\n",
              "      <th>3</th>\n",
              "      <td>Город Пермь</td>\n",
              "      <td>Общественный транспорт</td>\n",
              "      <td>'Каждая из них не о чем. Люди на остановках хо...</td>\n",
              "      <td>Содержание остановок</td>\n",
              "    </tr>\n",
              "    <tr>\n",
              "      <th>4</th>\n",
              "      <td>Министерство здравоохранения</td>\n",
              "      <td>Здравоохранение/Медицина</td>\n",
              "      <td>'В Березниках у сына привитого откоронавируса ...</td>\n",
              "      <td>Технические проблемы с записью на прием к врачу</td>\n",
              "    </tr>\n",
              "  </tbody>\n",
              "</table>\n",
              "</div>\n",
              "    <div class=\"colab-df-buttons\">\n",
              "\n",
              "  <div class=\"colab-df-container\">\n",
              "    <button class=\"colab-df-convert\" onclick=\"convertToInteractive('df-18eee444-0511-488a-9286-781198829c9b')\"\n",
              "            title=\"Convert this dataframe to an interactive table.\"\n",
              "            style=\"display:none;\">\n",
              "\n",
              "  <svg xmlns=\"http://www.w3.org/2000/svg\" height=\"24px\" viewBox=\"0 -960 960 960\">\n",
              "    <path d=\"M120-120v-720h720v720H120Zm60-500h600v-160H180v160Zm220 220h160v-160H400v160Zm0 220h160v-160H400v160ZM180-400h160v-160H180v160Zm440 0h160v-160H620v160ZM180-180h160v-160H180v160Zm440 0h160v-160H620v160Z\"/>\n",
              "  </svg>\n",
              "    </button>\n",
              "\n",
              "  <style>\n",
              "    .colab-df-container {\n",
              "      display:flex;\n",
              "      gap: 12px;\n",
              "    }\n",
              "\n",
              "    .colab-df-convert {\n",
              "      background-color: #E8F0FE;\n",
              "      border: none;\n",
              "      border-radius: 50%;\n",
              "      cursor: pointer;\n",
              "      display: none;\n",
              "      fill: #1967D2;\n",
              "      height: 32px;\n",
              "      padding: 0 0 0 0;\n",
              "      width: 32px;\n",
              "    }\n",
              "\n",
              "    .colab-df-convert:hover {\n",
              "      background-color: #E2EBFA;\n",
              "      box-shadow: 0px 1px 2px rgba(60, 64, 67, 0.3), 0px 1px 3px 1px rgba(60, 64, 67, 0.15);\n",
              "      fill: #174EA6;\n",
              "    }\n",
              "\n",
              "    .colab-df-buttons div {\n",
              "      margin-bottom: 4px;\n",
              "    }\n",
              "\n",
              "    [theme=dark] .colab-df-convert {\n",
              "      background-color: #3B4455;\n",
              "      fill: #D2E3FC;\n",
              "    }\n",
              "\n",
              "    [theme=dark] .colab-df-convert:hover {\n",
              "      background-color: #434B5C;\n",
              "      box-shadow: 0px 1px 3px 1px rgba(0, 0, 0, 0.15);\n",
              "      filter: drop-shadow(0px 1px 2px rgba(0, 0, 0, 0.3));\n",
              "      fill: #FFFFFF;\n",
              "    }\n",
              "  </style>\n",
              "\n",
              "    <script>\n",
              "      const buttonEl =\n",
              "        document.querySelector('#df-18eee444-0511-488a-9286-781198829c9b button.colab-df-convert');\n",
              "      buttonEl.style.display =\n",
              "        google.colab.kernel.accessAllowed ? 'block' : 'none';\n",
              "\n",
              "      async function convertToInteractive(key) {\n",
              "        const element = document.querySelector('#df-18eee444-0511-488a-9286-781198829c9b');\n",
              "        const dataTable =\n",
              "          await google.colab.kernel.invokeFunction('convertToInteractive',\n",
              "                                                    [key], {});\n",
              "        if (!dataTable) return;\n",
              "\n",
              "        const docLinkHtml = 'Like what you see? Visit the ' +\n",
              "          '<a target=\"_blank\" href=https://colab.research.google.com/notebooks/data_table.ipynb>data table notebook</a>'\n",
              "          + ' to learn more about interactive tables.';\n",
              "        element.innerHTML = '';\n",
              "        dataTable['output_type'] = 'display_data';\n",
              "        await google.colab.output.renderOutput(dataTable, element);\n",
              "        const docLink = document.createElement('div');\n",
              "        docLink.innerHTML = docLinkHtml;\n",
              "        element.appendChild(docLink);\n",
              "      }\n",
              "    </script>\n",
              "  </div>\n",
              "\n",
              "\n",
              "<div id=\"df-eab0ff02-1c3f-41b6-8660-42c8c1ecdb64\">\n",
              "  <button class=\"colab-df-quickchart\" onclick=\"quickchart('df-eab0ff02-1c3f-41b6-8660-42c8c1ecdb64')\"\n",
              "            title=\"Suggest charts\"\n",
              "            style=\"display:none;\">\n",
              "\n",
              "<svg xmlns=\"http://www.w3.org/2000/svg\" height=\"24px\"viewBox=\"0 0 24 24\"\n",
              "     width=\"24px\">\n",
              "    <g>\n",
              "        <path d=\"M19 3H5c-1.1 0-2 .9-2 2v14c0 1.1.9 2 2 2h14c1.1 0 2-.9 2-2V5c0-1.1-.9-2-2-2zM9 17H7v-7h2v7zm4 0h-2V7h2v10zm4 0h-2v-4h2v4z\"/>\n",
              "    </g>\n",
              "</svg>\n",
              "  </button>\n",
              "\n",
              "<style>\n",
              "  .colab-df-quickchart {\n",
              "      --bg-color: #E8F0FE;\n",
              "      --fill-color: #1967D2;\n",
              "      --hover-bg-color: #E2EBFA;\n",
              "      --hover-fill-color: #174EA6;\n",
              "      --disabled-fill-color: #AAA;\n",
              "      --disabled-bg-color: #DDD;\n",
              "  }\n",
              "\n",
              "  [theme=dark] .colab-df-quickchart {\n",
              "      --bg-color: #3B4455;\n",
              "      --fill-color: #D2E3FC;\n",
              "      --hover-bg-color: #434B5C;\n",
              "      --hover-fill-color: #FFFFFF;\n",
              "      --disabled-bg-color: #3B4455;\n",
              "      --disabled-fill-color: #666;\n",
              "  }\n",
              "\n",
              "  .colab-df-quickchart {\n",
              "    background-color: var(--bg-color);\n",
              "    border: none;\n",
              "    border-radius: 50%;\n",
              "    cursor: pointer;\n",
              "    display: none;\n",
              "    fill: var(--fill-color);\n",
              "    height: 32px;\n",
              "    padding: 0;\n",
              "    width: 32px;\n",
              "  }\n",
              "\n",
              "  .colab-df-quickchart:hover {\n",
              "    background-color: var(--hover-bg-color);\n",
              "    box-shadow: 0 1px 2px rgba(60, 64, 67, 0.3), 0 1px 3px 1px rgba(60, 64, 67, 0.15);\n",
              "    fill: var(--button-hover-fill-color);\n",
              "  }\n",
              "\n",
              "  .colab-df-quickchart-complete:disabled,\n",
              "  .colab-df-quickchart-complete:disabled:hover {\n",
              "    background-color: var(--disabled-bg-color);\n",
              "    fill: var(--disabled-fill-color);\n",
              "    box-shadow: none;\n",
              "  }\n",
              "\n",
              "  .colab-df-spinner {\n",
              "    border: 2px solid var(--fill-color);\n",
              "    border-color: transparent;\n",
              "    border-bottom-color: var(--fill-color);\n",
              "    animation:\n",
              "      spin 1s steps(1) infinite;\n",
              "  }\n",
              "\n",
              "  @keyframes spin {\n",
              "    0% {\n",
              "      border-color: transparent;\n",
              "      border-bottom-color: var(--fill-color);\n",
              "      border-left-color: var(--fill-color);\n",
              "    }\n",
              "    20% {\n",
              "      border-color: transparent;\n",
              "      border-left-color: var(--fill-color);\n",
              "      border-top-color: var(--fill-color);\n",
              "    }\n",
              "    30% {\n",
              "      border-color: transparent;\n",
              "      border-left-color: var(--fill-color);\n",
              "      border-top-color: var(--fill-color);\n",
              "      border-right-color: var(--fill-color);\n",
              "    }\n",
              "    40% {\n",
              "      border-color: transparent;\n",
              "      border-right-color: var(--fill-color);\n",
              "      border-top-color: var(--fill-color);\n",
              "    }\n",
              "    60% {\n",
              "      border-color: transparent;\n",
              "      border-right-color: var(--fill-color);\n",
              "    }\n",
              "    80% {\n",
              "      border-color: transparent;\n",
              "      border-right-color: var(--fill-color);\n",
              "      border-bottom-color: var(--fill-color);\n",
              "    }\n",
              "    90% {\n",
              "      border-color: transparent;\n",
              "      border-bottom-color: var(--fill-color);\n",
              "    }\n",
              "  }\n",
              "</style>\n",
              "\n",
              "  <script>\n",
              "    async function quickchart(key) {\n",
              "      const quickchartButtonEl =\n",
              "        document.querySelector('#' + key + ' button');\n",
              "      quickchartButtonEl.disabled = true;  // To prevent multiple clicks.\n",
              "      quickchartButtonEl.classList.add('colab-df-spinner');\n",
              "      try {\n",
              "        const charts = await google.colab.kernel.invokeFunction(\n",
              "            'suggestCharts', [key], {});\n",
              "      } catch (error) {\n",
              "        console.error('Error during call to suggestCharts:', error);\n",
              "      }\n",
              "      quickchartButtonEl.classList.remove('colab-df-spinner');\n",
              "      quickchartButtonEl.classList.add('colab-df-quickchart-complete');\n",
              "    }\n",
              "    (() => {\n",
              "      let quickchartButtonEl =\n",
              "        document.querySelector('#df-eab0ff02-1c3f-41b6-8660-42c8c1ecdb64 button');\n",
              "      quickchartButtonEl.style.display =\n",
              "        google.colab.kernel.accessAllowed ? 'block' : 'none';\n",
              "    })();\n",
              "  </script>\n",
              "</div>\n",
              "    </div>\n",
              "  </div>\n"
            ],
            "text/plain": [
              "                            Исполнитель                        Группа тем  \\\n",
              "0           Лысьвенский городской округ                   Благоустройство   \n",
              "1  Министерство социального развития ПК  Социальное обслуживание и защита   \n",
              "2  Министерство социального развития ПК  Социальное обслуживание и защита   \n",
              "3                           Город Пермь            Общественный транспорт   \n",
              "4          Министерство здравоохранения          Здравоохранение/Медицина   \n",
              "\n",
              "                                     Текст инцидента  \\\n",
              "0  'Добрый день. Сегодня, 20.08.22, моя мать шла ...   \n",
              "1  'Пермь г, +79194692145. В Перми с ноября 2021 ...   \n",
              "2  'Добрый день ! Скажите пожалуйста если подовал...   \n",
              "3  'Каждая из них не о чем. Люди на остановках хо...   \n",
              "4  'В Березниках у сына привитого откоронавируса ...   \n",
              "\n",
              "                                              Тема  \n",
              "0                                  ★ Ямы во дворах  \n",
              "1                        Оказание гос. соц. помощи  \n",
              "2                         Дети и многодетные семьи  \n",
              "3                             Содержание остановок  \n",
              "4  Технические проблемы с записью на прием к врачу  "
            ]
          },
          "execution_count": 2,
          "metadata": {},
          "output_type": "execute_result"
        }
      ],
      "source": [
        "data = pd.read_csv('train_dataset_train.csv', sep=';')\n",
        "data.head()"
      ]
    },
    {
      "cell_type": "markdown",
      "metadata": {
        "id": "jg9j09XHh4rc"
      },
      "source": [
        "Убираем символ `'` в начале всех текстов инцидента"
      ]
    },
    {
      "cell_type": "code",
      "execution_count": 3,
      "metadata": {
        "colab": {
          "base_uri": "https://localhost:8080/"
        },
        "id": "UNACG2ibh4rc",
        "outputId": "0c4d979b-1677-4a8f-faa4-106030937d2c"
      },
      "outputs": [
        {
          "data": {
            "text/plain": [
              "True"
            ]
          },
          "execution_count": 3,
          "metadata": {},
          "output_type": "execute_result"
        }
      ],
      "source": [
        "all([i[0] == \"'\" for i in data['Текст инцидента'].values])"
      ]
    },
    {
      "cell_type": "code",
      "execution_count": 4,
      "metadata": {
        "colab": {
          "base_uri": "https://localhost:8080/"
        },
        "id": "SsOFouXDh4rc",
        "outputId": "040ad6e7-572a-4b43-f657-7279c6e58759"
      },
      "outputs": [
        {
          "data": {
            "text/plain": [
              "0    Добрый день. Сегодня, 20.08.22, моя мать шла п...\n",
              "1    Пермь г, +79194692145. В Перми с ноября 2021 г...\n",
              "2    Добрый день ! Скажите пожалуйста если подовала...\n",
              "3    Каждая из них не о чем. Люди на остановках хот...\n",
              "4    В Березниках у сына привитого откоронавируса з...\n",
              "Name: Текст инцидента, dtype: object"
            ]
          },
          "execution_count": 4,
          "metadata": {},
          "output_type": "execute_result"
        }
      ],
      "source": [
        "data['Текст инцидента'] = data['Текст инцидента'].str.strip(\"'\")\n",
        "data['Текст инцидента'].head()"
      ]
    },
    {
      "cell_type": "markdown",
      "metadata": {
        "id": "MKkxRZrUh4rt"
      },
      "source": [
        "Убираем тег `<br>` в начале всех текстов инцидента"
      ]
    },
    {
      "cell_type": "code",
      "execution_count": 5,
      "metadata": {
        "colab": {
          "base_uri": "https://localhost:8080/"
        },
        "id": "3PsGbdxFh4rt",
        "outputId": "9f8cd8cb-3256-44f0-fe3d-f7f23eba3927"
      },
      "outputs": [
        {
          "data": {
            "text/plain": [
              "3329"
            ]
          },
          "execution_count": 5,
          "metadata": {},
          "output_type": "execute_result"
        }
      ],
      "source": [
        "data['Текст инцидента'].str.contains('<br>').sum()"
      ]
    },
    {
      "cell_type": "code",
      "execution_count": 6,
      "metadata": {
        "id": "1kb8oSdVh4rt"
      },
      "outputs": [],
      "source": [
        "data['Текст инцидента'] = data['Текст инцидента'].str.replace('<br>', '\\n')"
      ]
    },
    {
      "cell_type": "markdown",
      "metadata": {
        "id": "hWx9M1keh4rt"
      },
      "source": [
        "Убираем ссылку на пользователя, которому адресован комментарий"
      ]
    },
    {
      "cell_type": "code",
      "execution_count": 7,
      "metadata": {
        "colab": {
          "base_uri": "https://localhost:8080/"
        },
        "id": "CSbw7TB5h4rt",
        "outputId": "58045c6e-330d-45f0-8e8a-be4d041f1f8f"
      },
      "outputs": [
        {
          "data": {
            "text/plain": [
              "22       [club185980418|Центр социальных выплат Пермско...\n",
              "25       [club57433185|Пермь Первая], обратите внимание...\n",
              "38       [id269738613|Дмитрий], в Краснокамске тоже ест...\n",
              "59       [club80949945|Администрация города Лысьвы], ко...\n",
              "64       [club201789187|ЦУР Пермского края] , здравству...\n",
              "                               ...                        \n",
              "23100    [club57433185|Пермь Первая], проблема с люком ...\n",
              "23105    [id586879673|Жанна], Я дважды уже столкнулась ...\n",
              "23113    [id153709709|Нина], ходить не возможно даже та...\n",
              "23120    [club171874188|МАУ \"СШ армейского рукопашного ...\n",
              "23122    [club173907682|Березники официальные], а если ...\n",
              "Name: Текст инцидента, Length: 1470, dtype: object"
            ]
          },
          "execution_count": 7,
          "metadata": {},
          "output_type": "execute_result"
        }
      ],
      "source": [
        "data[data['Текст инцидента'].str.startswith(\"[\")]['Текст инцидента']"
      ]
    },
    {
      "cell_type": "code",
      "execution_count": 8,
      "metadata": {
        "id": "lRyZKA2uh4rt"
      },
      "outputs": [],
      "source": [
        "def remove_recipient(text):\n",
        "    pattern = r\"^\\[[^\\]]+\\]\"\n",
        "\n",
        "    text_wo_recipient = re.sub(pattern, \"\", text).strip(', ')\n",
        "    return text_wo_recipient"
      ]
    },
    {
      "cell_type": "code",
      "execution_count": 9,
      "metadata": {
        "colab": {
          "base_uri": "https://localhost:8080/",
          "height": 93
        },
        "id": "OGOYt9T1h4rt",
        "outputId": "308cc7a5-f54f-4721-a739-f5c53394709a"
      },
      "outputs": [
        {
          "name": "stdout",
          "output_type": "stream",
          "text": [
            "[club57433185|Пермь Первая], обратите внимание на организацию работы на ГЭС и на незаконченный ремонт дороги через переезд на ул. Писарева!\n"
          ]
        },
        {
          "data": {
            "application/vnd.google.colaboratory.intrinsic+json": {
              "type": "string"
            },
            "text/plain": [
              "'обратите внимание на организацию работы на ГЭС и на незаконченный ремонт дороги через переезд на ул. Писарева!'"
            ]
          },
          "execution_count": 9,
          "metadata": {},
          "output_type": "execute_result"
        }
      ],
      "source": [
        "text = data[data['Текст инцидента'].str.startswith(\"[\")]['Текст инцидента'].iloc[1]\n",
        "print(text)\n",
        "\n",
        "remove_recipient(text)"
      ]
    },
    {
      "cell_type": "code",
      "execution_count": null,
      "metadata": {
        "id": "knpDqpKgh4rt"
      },
      "outputs": [],
      "source": [
        "# data['Текст инцидента'][data['Текст инцидента'].apply(remove_recipient).str.startswith(\"[\")]"
      ]
    },
    {
      "cell_type": "code",
      "execution_count": 10,
      "metadata": {
        "id": "3j0YmEw6h4rt"
      },
      "outputs": [],
      "source": [
        "data['Текст инцидента'] = data['Текст инцидента'].apply(remove_recipient)"
      ]
    },
    {
      "cell_type": "markdown",
      "metadata": {
        "id": "vIejU1Mph4rt"
      },
      "source": [
        "Если в тексте инцидента менее чем 4 слова, убираем такой текст"
      ]
    },
    {
      "cell_type": "code",
      "execution_count": 11,
      "metadata": {
        "colab": {
          "base_uri": "https://localhost:8080/"
        },
        "id": "ecnauFV-h4rt",
        "outputId": "1eb90c99-6c50-49ab-e202-06ae4d76a4ba"
      },
      "outputs": [
        {
          "data": {
            "text/plain": [
              "638"
            ]
          },
          "execution_count": 11,
          "metadata": {},
          "output_type": "execute_result"
        }
      ],
      "source": [
        "(data['Текст инцидента'].str.split().apply(len) < 4).sum()"
      ]
    },
    {
      "cell_type": "code",
      "execution_count": 12,
      "metadata": {
        "colab": {
          "base_uri": "https://localhost:8080/",
          "height": 519
        },
        "id": "GeKTGqRih4rt",
        "outputId": "fdc1f98c-34bf-4eb7-f7c8-1ad7d768b703"
      },
      "outputs": [
        {
          "data": {
            "text/html": [
              "\n",
              "  <div id=\"df-a688925a-12c4-464a-ae0f-a5cc44dea9c8\" class=\"colab-df-container\">\n",
              "    <div>\n",
              "<style scoped>\n",
              "    .dataframe tbody tr th:only-of-type {\n",
              "        vertical-align: middle;\n",
              "    }\n",
              "\n",
              "    .dataframe tbody tr th {\n",
              "        vertical-align: top;\n",
              "    }\n",
              "\n",
              "    .dataframe thead th {\n",
              "        text-align: right;\n",
              "    }\n",
              "</style>\n",
              "<table border=\"1\" class=\"dataframe\">\n",
              "  <thead>\n",
              "    <tr style=\"text-align: right;\">\n",
              "      <th></th>\n",
              "      <th>Исполнитель</th>\n",
              "      <th>Группа тем</th>\n",
              "      <th>Текст инцидента</th>\n",
              "      <th>Тема</th>\n",
              "    </tr>\n",
              "  </thead>\n",
              "  <tbody>\n",
              "    <tr>\n",
              "      <th>0</th>\n",
              "      <td>Лысьвенский городской округ</td>\n",
              "      <td>Благоустройство</td>\n",
              "      <td>Добрый день. Сегодня, 20.08.22, моя мать шла п...</td>\n",
              "      <td>★ Ямы во дворах</td>\n",
              "    </tr>\n",
              "    <tr>\n",
              "      <th>1</th>\n",
              "      <td>Министерство социального развития ПК</td>\n",
              "      <td>Социальное обслуживание и защита</td>\n",
              "      <td>Пермь г, +79194692145. В Перми с ноября 2021 г...</td>\n",
              "      <td>Оказание гос. соц. помощи</td>\n",
              "    </tr>\n",
              "    <tr>\n",
              "      <th>2</th>\n",
              "      <td>Министерство социального развития ПК</td>\n",
              "      <td>Социальное обслуживание и защита</td>\n",
              "      <td>Добрый день ! Скажите пожалуйста если подовала...</td>\n",
              "      <td>Дети и многодетные семьи</td>\n",
              "    </tr>\n",
              "    <tr>\n",
              "      <th>3</th>\n",
              "      <td>Город Пермь</td>\n",
              "      <td>Общественный транспорт</td>\n",
              "      <td>Каждая из них не о чем. Люди на остановках хот...</td>\n",
              "      <td>Содержание остановок</td>\n",
              "    </tr>\n",
              "    <tr>\n",
              "      <th>4</th>\n",
              "      <td>Министерство здравоохранения</td>\n",
              "      <td>Здравоохранение/Медицина</td>\n",
              "      <td>В Березниках у сына привитого откоронавируса з...</td>\n",
              "      <td>Технические проблемы с записью на прием к врачу</td>\n",
              "    </tr>\n",
              "  </tbody>\n",
              "</table>\n",
              "</div>\n",
              "    <div class=\"colab-df-buttons\">\n",
              "\n",
              "  <div class=\"colab-df-container\">\n",
              "    <button class=\"colab-df-convert\" onclick=\"convertToInteractive('df-a688925a-12c4-464a-ae0f-a5cc44dea9c8')\"\n",
              "            title=\"Convert this dataframe to an interactive table.\"\n",
              "            style=\"display:none;\">\n",
              "\n",
              "  <svg xmlns=\"http://www.w3.org/2000/svg\" height=\"24px\" viewBox=\"0 -960 960 960\">\n",
              "    <path d=\"M120-120v-720h720v720H120Zm60-500h600v-160H180v160Zm220 220h160v-160H400v160Zm0 220h160v-160H400v160ZM180-400h160v-160H180v160Zm440 0h160v-160H620v160ZM180-180h160v-160H180v160Zm440 0h160v-160H620v160Z\"/>\n",
              "  </svg>\n",
              "    </button>\n",
              "\n",
              "  <style>\n",
              "    .colab-df-container {\n",
              "      display:flex;\n",
              "      gap: 12px;\n",
              "    }\n",
              "\n",
              "    .colab-df-convert {\n",
              "      background-color: #E8F0FE;\n",
              "      border: none;\n",
              "      border-radius: 50%;\n",
              "      cursor: pointer;\n",
              "      display: none;\n",
              "      fill: #1967D2;\n",
              "      height: 32px;\n",
              "      padding: 0 0 0 0;\n",
              "      width: 32px;\n",
              "    }\n",
              "\n",
              "    .colab-df-convert:hover {\n",
              "      background-color: #E2EBFA;\n",
              "      box-shadow: 0px 1px 2px rgba(60, 64, 67, 0.3), 0px 1px 3px 1px rgba(60, 64, 67, 0.15);\n",
              "      fill: #174EA6;\n",
              "    }\n",
              "\n",
              "    .colab-df-buttons div {\n",
              "      margin-bottom: 4px;\n",
              "    }\n",
              "\n",
              "    [theme=dark] .colab-df-convert {\n",
              "      background-color: #3B4455;\n",
              "      fill: #D2E3FC;\n",
              "    }\n",
              "\n",
              "    [theme=dark] .colab-df-convert:hover {\n",
              "      background-color: #434B5C;\n",
              "      box-shadow: 0px 1px 3px 1px rgba(0, 0, 0, 0.15);\n",
              "      filter: drop-shadow(0px 1px 2px rgba(0, 0, 0, 0.3));\n",
              "      fill: #FFFFFF;\n",
              "    }\n",
              "  </style>\n",
              "\n",
              "    <script>\n",
              "      const buttonEl =\n",
              "        document.querySelector('#df-a688925a-12c4-464a-ae0f-a5cc44dea9c8 button.colab-df-convert');\n",
              "      buttonEl.style.display =\n",
              "        google.colab.kernel.accessAllowed ? 'block' : 'none';\n",
              "\n",
              "      async function convertToInteractive(key) {\n",
              "        const element = document.querySelector('#df-a688925a-12c4-464a-ae0f-a5cc44dea9c8');\n",
              "        const dataTable =\n",
              "          await google.colab.kernel.invokeFunction('convertToInteractive',\n",
              "                                                    [key], {});\n",
              "        if (!dataTable) return;\n",
              "\n",
              "        const docLinkHtml = 'Like what you see? Visit the ' +\n",
              "          '<a target=\"_blank\" href=https://colab.research.google.com/notebooks/data_table.ipynb>data table notebook</a>'\n",
              "          + ' to learn more about interactive tables.';\n",
              "        element.innerHTML = '';\n",
              "        dataTable['output_type'] = 'display_data';\n",
              "        await google.colab.output.renderOutput(dataTable, element);\n",
              "        const docLink = document.createElement('div');\n",
              "        docLink.innerHTML = docLinkHtml;\n",
              "        element.appendChild(docLink);\n",
              "      }\n",
              "    </script>\n",
              "  </div>\n",
              "\n",
              "\n",
              "<div id=\"df-53f07a9e-7457-4ec9-b01a-e5c8d2ca1ce5\">\n",
              "  <button class=\"colab-df-quickchart\" onclick=\"quickchart('df-53f07a9e-7457-4ec9-b01a-e5c8d2ca1ce5')\"\n",
              "            title=\"Suggest charts\"\n",
              "            style=\"display:none;\">\n",
              "\n",
              "<svg xmlns=\"http://www.w3.org/2000/svg\" height=\"24px\"viewBox=\"0 0 24 24\"\n",
              "     width=\"24px\">\n",
              "    <g>\n",
              "        <path d=\"M19 3H5c-1.1 0-2 .9-2 2v14c0 1.1.9 2 2 2h14c1.1 0 2-.9 2-2V5c0-1.1-.9-2-2-2zM9 17H7v-7h2v7zm4 0h-2V7h2v10zm4 0h-2v-4h2v4z\"/>\n",
              "    </g>\n",
              "</svg>\n",
              "  </button>\n",
              "\n",
              "<style>\n",
              "  .colab-df-quickchart {\n",
              "      --bg-color: #E8F0FE;\n",
              "      --fill-color: #1967D2;\n",
              "      --hover-bg-color: #E2EBFA;\n",
              "      --hover-fill-color: #174EA6;\n",
              "      --disabled-fill-color: #AAA;\n",
              "      --disabled-bg-color: #DDD;\n",
              "  }\n",
              "\n",
              "  [theme=dark] .colab-df-quickchart {\n",
              "      --bg-color: #3B4455;\n",
              "      --fill-color: #D2E3FC;\n",
              "      --hover-bg-color: #434B5C;\n",
              "      --hover-fill-color: #FFFFFF;\n",
              "      --disabled-bg-color: #3B4455;\n",
              "      --disabled-fill-color: #666;\n",
              "  }\n",
              "\n",
              "  .colab-df-quickchart {\n",
              "    background-color: var(--bg-color);\n",
              "    border: none;\n",
              "    border-radius: 50%;\n",
              "    cursor: pointer;\n",
              "    display: none;\n",
              "    fill: var(--fill-color);\n",
              "    height: 32px;\n",
              "    padding: 0;\n",
              "    width: 32px;\n",
              "  }\n",
              "\n",
              "  .colab-df-quickchart:hover {\n",
              "    background-color: var(--hover-bg-color);\n",
              "    box-shadow: 0 1px 2px rgba(60, 64, 67, 0.3), 0 1px 3px 1px rgba(60, 64, 67, 0.15);\n",
              "    fill: var(--button-hover-fill-color);\n",
              "  }\n",
              "\n",
              "  .colab-df-quickchart-complete:disabled,\n",
              "  .colab-df-quickchart-complete:disabled:hover {\n",
              "    background-color: var(--disabled-bg-color);\n",
              "    fill: var(--disabled-fill-color);\n",
              "    box-shadow: none;\n",
              "  }\n",
              "\n",
              "  .colab-df-spinner {\n",
              "    border: 2px solid var(--fill-color);\n",
              "    border-color: transparent;\n",
              "    border-bottom-color: var(--fill-color);\n",
              "    animation:\n",
              "      spin 1s steps(1) infinite;\n",
              "  }\n",
              "\n",
              "  @keyframes spin {\n",
              "    0% {\n",
              "      border-color: transparent;\n",
              "      border-bottom-color: var(--fill-color);\n",
              "      border-left-color: var(--fill-color);\n",
              "    }\n",
              "    20% {\n",
              "      border-color: transparent;\n",
              "      border-left-color: var(--fill-color);\n",
              "      border-top-color: var(--fill-color);\n",
              "    }\n",
              "    30% {\n",
              "      border-color: transparent;\n",
              "      border-left-color: var(--fill-color);\n",
              "      border-top-color: var(--fill-color);\n",
              "      border-right-color: var(--fill-color);\n",
              "    }\n",
              "    40% {\n",
              "      border-color: transparent;\n",
              "      border-right-color: var(--fill-color);\n",
              "      border-top-color: var(--fill-color);\n",
              "    }\n",
              "    60% {\n",
              "      border-color: transparent;\n",
              "      border-right-color: var(--fill-color);\n",
              "    }\n",
              "    80% {\n",
              "      border-color: transparent;\n",
              "      border-right-color: var(--fill-color);\n",
              "      border-bottom-color: var(--fill-color);\n",
              "    }\n",
              "    90% {\n",
              "      border-color: transparent;\n",
              "      border-bottom-color: var(--fill-color);\n",
              "    }\n",
              "  }\n",
              "</style>\n",
              "\n",
              "  <script>\n",
              "    async function quickchart(key) {\n",
              "      const quickchartButtonEl =\n",
              "        document.querySelector('#' + key + ' button');\n",
              "      quickchartButtonEl.disabled = true;  // To prevent multiple clicks.\n",
              "      quickchartButtonEl.classList.add('colab-df-spinner');\n",
              "      try {\n",
              "        const charts = await google.colab.kernel.invokeFunction(\n",
              "            'suggestCharts', [key], {});\n",
              "      } catch (error) {\n",
              "        console.error('Error during call to suggestCharts:', error);\n",
              "      }\n",
              "      quickchartButtonEl.classList.remove('colab-df-spinner');\n",
              "      quickchartButtonEl.classList.add('colab-df-quickchart-complete');\n",
              "    }\n",
              "    (() => {\n",
              "      let quickchartButtonEl =\n",
              "        document.querySelector('#df-53f07a9e-7457-4ec9-b01a-e5c8d2ca1ce5 button');\n",
              "      quickchartButtonEl.style.display =\n",
              "        google.colab.kernel.accessAllowed ? 'block' : 'none';\n",
              "    })();\n",
              "  </script>\n",
              "</div>\n",
              "    </div>\n",
              "  </div>\n"
            ],
            "text/plain": [
              "                            Исполнитель                        Группа тем  \\\n",
              "0           Лысьвенский городской округ                   Благоустройство   \n",
              "1  Министерство социального развития ПК  Социальное обслуживание и защита   \n",
              "2  Министерство социального развития ПК  Социальное обслуживание и защита   \n",
              "3                           Город Пермь            Общественный транспорт   \n",
              "4          Министерство здравоохранения          Здравоохранение/Медицина   \n",
              "\n",
              "                                     Текст инцидента  \\\n",
              "0  Добрый день. Сегодня, 20.08.22, моя мать шла п...   \n",
              "1  Пермь г, +79194692145. В Перми с ноября 2021 г...   \n",
              "2  Добрый день ! Скажите пожалуйста если подовала...   \n",
              "3  Каждая из них не о чем. Люди на остановках хот...   \n",
              "4  В Березниках у сына привитого откоронавируса з...   \n",
              "\n",
              "                                              Тема  \n",
              "0                                  ★ Ямы во дворах  \n",
              "1                        Оказание гос. соц. помощи  \n",
              "2                         Дети и многодетные семьи  \n",
              "3                             Содержание остановок  \n",
              "4  Технические проблемы с записью на прием к врачу  "
            ]
          },
          "execution_count": 12,
          "metadata": {},
          "output_type": "execute_result"
        }
      ],
      "source": [
        "data = data[data['Текст инцидента'].str.split().apply(len) >= 4]\n",
        "data.head()"
      ]
    },
    {
      "cell_type": "code",
      "execution_count": null,
      "metadata": {
        "id": "EhcKiCUJh4rt"
      },
      "outputs": [],
      "source": [
        "# После того, как убрали ссылки, первые предложения могут начинаться\n",
        "# с маленькой буквы\n",
        "data['Текст инцидента'] = data['Текст инцидента'].apply(lambda text: text[0].upper() + text[1:])"
      ]
    },
    {
      "cell_type": "markdown",
      "metadata": {
        "id": "aVHC_wSqh4rt"
      },
      "source": [
        "Убираем эмоджи"
      ]
    },
    {
      "cell_type": "code",
      "execution_count": 14,
      "metadata": {
        "id": "jfCBkjSZh4rt"
      },
      "outputs": [],
      "source": [
        "data[\"Текст инцидента\"] = data[\"Текст инцидента\"].apply(lambda x: demoji.replace(x, \"\"))"
      ]
    },
    {
      "cell_type": "markdown",
      "metadata": {
        "id": "zx9I6qzMh4rt"
      },
      "source": [
        "### Spellchecker"
      ]
    },
    {
      "cell_type": "code",
      "execution_count": null,
      "metadata": {
        "id": "SwRY-gKI0F2_"
      },
      "outputs": [],
      "source": [
        "class SpellDataset(Dataset):\n",
        "    def __init__(self, original_list):\n",
        "        self.original_list = original_list\n",
        "\n",
        "    def __len__(self):\n",
        "        return len(self.original_list)\n",
        "\n",
        "    def __getitem__(self, i):\n",
        "        return 'Spell correct: ' + self.original_list[i]\n",
        "\n",
        "spell_dataset = SpellDataset(data['Текст инцидента'].values)"
      ]
    },
    {
      "cell_type": "code",
      "execution_count": 17,
      "metadata": {
        "colab": {
          "base_uri": "https://localhost:8080/",
          "height": 129
        },
        "id": "Cg9-kVJb0sj3",
        "outputId": "c5c14b73-6275-4b2b-f8a4-b924974b0402"
      },
      "outputs": [
        {
          "data": {
            "application/vnd.google.colaboratory.intrinsic+json": {
              "type": "string"
            },
            "text/plain": [
              "'Spell correct: Добрый день. Сегодня, 20.08.22, моя мать шла по улице Ленина между домами 96 и 94. Фонари не горят, упала в яму, которую не видно. Сильно ударилась, остались синяки, очень больно. Благо шла не одна.\\nУважаемая Администрация, сделайте с этим что-нибудь, да и не только с этим. Ходить опасно не только взрослым, но и детям. Если бы упал маленький ребёнок, было бы намного хуже. Фото прилагаю. Спасибо!'"
            ]
          },
          "execution_count": 17,
          "metadata": {},
          "output_type": "execute_result"
        }
      ],
      "source": [
        "spell_dataset[0]"
      ]
    },
    {
      "cell_type": "code",
      "execution_count": 22,
      "metadata": {
        "id": "DxDFUTU7qgSf"
      },
      "outputs": [],
      "source": [
        "spell_pipeline = pipeline(model='UrukHan/t5-russian-spell',\n",
        "                          task='text2text-generation', batch_size=64, device='cuda')"
      ]
    },
    {
      "cell_type": "code",
      "execution_count": null,
      "metadata": {
        "colab": {
          "base_uri": "https://localhost:8080/",
          "height": 671,
          "referenced_widgets": [
            "9a32bd7089c24867be8cc196d2ee7dbd",
            "14ef91b498ca4830b39f1b8b96f20a53",
            "3205f414aeac40e198a095c8536bbb6a",
            "c169e388e2ca4e3d85d359cd95205c56",
            "5e481b1254114febb55ef34419d350d8",
            "1717fbb5407f4d648d63684f8469d6b9",
            "8db8abab20784dedb11cd4a7b28ff411",
            "2bec3fe3ecce4f39b8ad5c18e24d926c",
            "dc1cff3aab734a269cdfc56e8e51b965",
            "100887629d404a0e91b60aa8e6112d67",
            "a229905ccd144af89cee89bbb123c858"
          ]
        },
        "id": "cxzTuYr2sB0j",
        "outputId": "7fef3470-5b25-43bf-d596-88a8966b685d"
      },
      "outputs": [],
      "source": [
        "spells = []\n",
        "\n",
        "for out in tqdm(spell_pipeline(spell_dataset), total=len(spell_dataset)):\n",
        "    spells.append(out)"
      ]
    },
    {
      "cell_type": "code",
      "execution_count": 40,
      "metadata": {
        "colab": {
          "base_uri": "https://localhost:8080/"
        },
        "id": "Nd3jbiTIt2NI",
        "outputId": "613a8bfe-91ac-4979-d23a-a490ef98ca2a"
      },
      "outputs": [
        {
          "data": {
            "text/plain": [
              "['«Добрый день. Сегодня, 20.08.22, моя мать шла по улице Ленина между домами 96 и 94. Фонари не горят, упала в яму, которую не видно. Сильно ударилась, остались синяки, очень больно. Спасибо, шла не одна. Уважаемая Администрация, сделайте с этим что-нибудь. Да и не только с этим. Ходить опасно не только взрослым, но и детям. Если бы упал маленький ребёнок, было бы намного хуже. Фото прилагаю. Спасибо! Спасибо! Спасибо! Спасибо!! Спасибо!! Спасибо!!',\n",
              " 'Каким образом можно получить льготу по проезду в такси в соц учреждения инвалиду 2 группы? Проезд в общественном транспорте не представляется.',\n",
              " 'Здравствуйте! Скажите, пожалуйста, если подала на пособие с 3 до 7 декабря, когда можно повторно подать? . . . . Когда можно повторно подать? . . . . . . . . . . . . . . . . . . . . . . . . . . . . . . . . . . . . . . . . . Вроде за 30 дней можно.',\n",
              " 'А люди на остановках хотят укрыться от непогоды или слишком погоды. Присесть, поставить сумку. Лавочки на полторы попы? Отсутствие или намек на присутствие спинки? Конструкторы, понятно, что не ждут транспорта на остановках. А гаджеты заряжать дома надо. А интерактивные панели и близко не нужны. У каждого в руках телефоны - информации вагона. Разместить коды для быстрого доступа на ресурсы и сайты по транспорту хватит.',\n",
              " '. . Что вы, минздрав делаете? . . . ? . . . . . . . . . . . . . . . . . . . . . В Березниках у сына, привитого от коронавируса, заболели, пытались попасть на прием. Очередь в замкнутом пространстве бесподобна, прямое вредительское отношение к людям. Он не смог попасть на прием. Что делать? На работу с Той - 37. 8 не пускают и на прием не попасть. . . . Что вы, минздрав, делаете? . . . . . . . . . . . . . . . . . . . . . . . . . . . . . . . . . . . . . . . . . . . . . . . . . . . . . . ',\n",
              " 'Добрый день! Расскажите, тариф повысился на обращение с ТКО????????????????????????????????????????????????????????????????????????????????????????????????????????????????????????????????????????????????????????????????????????????????????????????????????????????????????????????????????????????????????????????????????????????????????????????????????????????????????????????????????????????????????????????????????????????????????????????????????????????????????????????????????????????????????????????????????????????????????????????????????????????????????????????????',\n",
              " 'Здравствуйте, уточните, в какую погоду дети начальной школы должны заниматься весной и осенью на улице?? Какие ограничения по температурному режиму и погодным условиям? . . . .',\n",
              " ', Пермский р-н, +795190579 Диспансеризация',\n",
              " 'Здравствуйте, скажите, пожалуйста, сколько времени занимает подпись документов на операцию в г. Лысьва?В понедельник были переданы документы на подпись на операцию в г. Перми. Сегодня, четверг, документы до сих пор не пришли. Операция была назначена на 13 сентября, из Москвы посылка пришла быстрее.',\n",
              " 'Но вместо того, чтобы приезжающий трактор почистил всю проезжую часть, он чистит \"точечно\". [[[id4817]927 ]Борис Антонов]]]:]].']"
            ]
          },
          "execution_count": 40,
          "metadata": {},
          "output_type": "execute_result"
        }
      ],
      "source": [
        "spells"
      ]
    },
    {
      "cell_type": "code",
      "execution_count": 14,
      "metadata": {
        "id": "FMIemBYEh4rt"
      },
      "outputs": [],
      "source": [
        "def check_spelling(input_text):\n",
        "    try:\n",
        "        encoded = spell_tokenizer(\n",
        "            task_prefix + input_text,\n",
        "            padding=\"longest\",\n",
        "            max_length=max_input,\n",
        "            truncation=True,\n",
        "            return_tensors=\"pt\",\n",
        "        ).to('cuda')\n",
        "\n",
        "        predicts = spell_model.generate(**encoded)\n",
        "        correct_text = spell_tokenizer.batch_decode(predicts, skip_special_tokens=True)[0]\n",
        "\n",
        "        # Убираем лишние символы в начале предложения, если модель их добавила\n",
        "        # correct_text = correct_text[correct_text.index(input_text[0]):]\n",
        "        correct_text = correct_text.lstrip('.,[]«»')\n",
        "\n",
        "        # Если модель выдает несколько одинаковых знаков препинания подряд, оставляем один\n",
        "        correct_text = re.sub(r'([^\\w\\s])\\1+', r'\\1', correct_text)\n",
        "    except:\n",
        "        print(correct_text)\n",
        "\n",
        "    return correct_text"
      ]
    },
    {
      "cell_type": "code",
      "execution_count": 26,
      "metadata": {
        "colab": {
          "base_uri": "https://localhost:8080/",
          "height": 93
        },
        "id": "CsciI1Beh4rt",
        "outputId": "f75f308f-f997-4e63-92f8-88e21e37a872"
      },
      "outputs": [
        {
          "name": "stdout",
          "output_type": "stream",
          "text": [
            "А какие выплаты для малоимущей(малообеспеченной) неполной семьи есть в вашем центре,весь доход семьи 10000 т.р. с небольшим\n"
          ]
        },
        {
          "data": {
            "application/vnd.google.colaboratory.intrinsic+json": {
              "type": "string"
            },
            "text/plain": [
              "'А какие выплаты для малоимущей (малообеспеченной) неполной семьи есть в вашем центре? Весь доход семьи 10000 т. р. с небольшим.'"
            ]
          },
          "execution_count": 26,
          "metadata": {},
          "output_type": "execute_result"
        }
      ],
      "source": [
        "# n = random.randint(0, data.shape[0])\n",
        "n = 22\n",
        "# print(n)\n",
        "\n",
        "print(remove_recipient(data['Текст инцидента'][n]))\n",
        "check_spelling(data['Текст инцидента'][n])"
      ]
    },
    {
      "cell_type": "code",
      "execution_count": null,
      "metadata": {
        "colab": {
          "base_uri": "https://localhost:8080/",
          "height": 583
        },
        "id": "LTdPbfIbkx18",
        "outputId": "117edef9-a46a-49c8-ceb3-5fdb18079a2f"
      },
      "outputs": [],
      "source": [
        "data['Текст инцидента'] = data['Текст инцидента'].apply(check_spelling)"
      ]
    },
    {
      "cell_type": "markdown",
      "metadata": {
        "id": "jNiWyy7Ch4rt"
      },
      "source": [
        "---"
      ]
    },
    {
      "cell_type": "markdown",
      "metadata": {
        "id": "Sr89OomGh4rt"
      },
      "source": [
        "### Классификация"
      ]
    },
    {
      "cell_type": "markdown",
      "metadata": {
        "id": "CF5IGhilh4rt"
      },
      "source": [
        "#### Обучение"
      ]
    },
    {
      "cell_type": "code",
      "execution_count": 18,
      "metadata": {
        "colab": {
          "base_uri": "https://localhost:8080/"
        },
        "id": "_eZ7TRd3h4rt",
        "outputId": "713b0e5b-0c43-450a-8c91-cb28bd6602c8"
      },
      "outputs": [
        {
          "data": {
            "text/plain": [
              "(195,)"
            ]
          },
          "execution_count": 18,
          "metadata": {},
          "output_type": "execute_result"
        }
      ],
      "source": [
        "data['Тема'].unique().shape"
      ]
    },
    {
      "cell_type": "code",
      "execution_count": 19,
      "metadata": {
        "id": "uSoFLbjPh4rt"
      },
      "outputs": [],
      "source": [
        "id2label = {label: topic for label, topic in enumerate(data['Тема'].unique())}\n",
        "\n",
        "label2id = {topic: label for label, topic in id2label.items()}"
      ]
    },
    {
      "cell_type": "code",
      "execution_count": 21,
      "metadata": {
        "id": "phSpkwwAkSvz"
      },
      "outputs": [],
      "source": [
        "with open(\"id2label.json\", 'w', encoding='utf-8') as f:\n",
        "    json.dump(id2label, f, ensure_ascii=False, indent=4)\n",
        "\n",
        "with open(\"label2id.json\", 'w', encoding='utf-8') as f:\n",
        "    json.dump(label2id, f, ensure_ascii=False, indent=4)"
      ]
    },
    {
      "cell_type": "code",
      "execution_count": 22,
      "metadata": {
        "colab": {
          "base_uri": "https://localhost:8080/",
          "height": 930
        },
        "id": "OE9MZtekh4rt",
        "outputId": "90a7ed13-7907-4cf4-fd4c-46d6d3f9a25d"
      },
      "outputs": [
        {
          "data": {
            "text/html": [
              "\n",
              "  <div id=\"df-f5bf0482-a210-439a-8f7b-f5add15ebed3\" class=\"colab-df-container\">\n",
              "    <div>\n",
              "<style scoped>\n",
              "    .dataframe tbody tr th:only-of-type {\n",
              "        vertical-align: middle;\n",
              "    }\n",
              "\n",
              "    .dataframe tbody tr th {\n",
              "        vertical-align: top;\n",
              "    }\n",
              "\n",
              "    .dataframe thead th {\n",
              "        text-align: right;\n",
              "    }\n",
              "</style>\n",
              "<table border=\"1\" class=\"dataframe\">\n",
              "  <thead>\n",
              "    <tr style=\"text-align: right;\">\n",
              "      <th></th>\n",
              "      <th>Исполнитель</th>\n",
              "      <th>Группа тем</th>\n",
              "      <th>Текст инцидента</th>\n",
              "      <th>Тема</th>\n",
              "      <th>label</th>\n",
              "    </tr>\n",
              "  </thead>\n",
              "  <tbody>\n",
              "    <tr>\n",
              "      <th>0</th>\n",
              "      <td>Лысьвенский городской округ</td>\n",
              "      <td>Благоустройство</td>\n",
              "      <td>Добрый день. Сегодня, 20.08.22, моя мать шла п...</td>\n",
              "      <td>★ Ямы во дворах</td>\n",
              "      <td>0</td>\n",
              "    </tr>\n",
              "    <tr>\n",
              "      <th>1</th>\n",
              "      <td>Министерство социального развития ПК</td>\n",
              "      <td>Социальное обслуживание и защита</td>\n",
              "      <td>Пермь г, +79194692145. В Перми с ноября 2021 г...</td>\n",
              "      <td>Оказание гос. соц. помощи</td>\n",
              "      <td>1</td>\n",
              "    </tr>\n",
              "    <tr>\n",
              "      <th>2</th>\n",
              "      <td>Министерство социального развития ПК</td>\n",
              "      <td>Социальное обслуживание и защита</td>\n",
              "      <td>Добрый день ! Скажите пожалуйста если подовала...</td>\n",
              "      <td>Дети и многодетные семьи</td>\n",
              "      <td>2</td>\n",
              "    </tr>\n",
              "    <tr>\n",
              "      <th>3</th>\n",
              "      <td>Город Пермь</td>\n",
              "      <td>Общественный транспорт</td>\n",
              "      <td>Каждая из них не о чем. Люди на остановках хот...</td>\n",
              "      <td>Содержание остановок</td>\n",
              "      <td>3</td>\n",
              "    </tr>\n",
              "    <tr>\n",
              "      <th>4</th>\n",
              "      <td>Министерство здравоохранения</td>\n",
              "      <td>Здравоохранение/Медицина</td>\n",
              "      <td>В Березниках у сына привитого откоронавируса з...</td>\n",
              "      <td>Технические проблемы с записью на прием к врачу</td>\n",
              "      <td>4</td>\n",
              "    </tr>\n",
              "    <tr>\n",
              "      <th>...</th>\n",
              "      <td>...</td>\n",
              "      <td>...</td>\n",
              "      <td>...</td>\n",
              "      <td>...</td>\n",
              "      <td>...</td>\n",
              "    </tr>\n",
              "    <tr>\n",
              "      <th>23122</th>\n",
              "      <td>Министерство социального развития ПК</td>\n",
              "      <td>Социальное обслуживание и защита</td>\n",
              "      <td>А если ещё не погасили ипотеку, но площадь бол...</td>\n",
              "      <td>Улучшение жилищных условий</td>\n",
              "      <td>125</td>\n",
              "    </tr>\n",
              "    <tr>\n",
              "      <th>23123</th>\n",
              "      <td>Губахинский городской округ</td>\n",
              "      <td>ЖКХ</td>\n",
              "      <td>Город Гремячинск-— ситуация с теплом на улице ...</td>\n",
              "      <td>Ненадлежащее качество или отсутствие отопления</td>\n",
              "      <td>72</td>\n",
              "    </tr>\n",
              "    <tr>\n",
              "      <th>23124</th>\n",
              "      <td>Министерство здравоохранения</td>\n",
              "      <td>Здравоохранение/Медицина</td>\n",
              "      <td>Здравствуйте у меня ребёнку 2 месяца , тест на...</td>\n",
              "      <td>Технические проблемы с записью на прием к врачу</td>\n",
              "      <td>4</td>\n",
              "    </tr>\n",
              "    <tr>\n",
              "      <th>23125</th>\n",
              "      <td>Лысьвенский городской округ</td>\n",
              "      <td>Благоустройство</td>\n",
              "      <td>А что творится с благоустройством дворов! Вооб...</td>\n",
              "      <td>Благоустройство придомовых территорий</td>\n",
              "      <td>122</td>\n",
              "    </tr>\n",
              "    <tr>\n",
              "      <th>23127</th>\n",
              "      <td>Министерство социального развития ПК</td>\n",
              "      <td>Социальное обслуживание и защита</td>\n",
              "      <td>Здравствуйте, подскажите пожалуйста. Сколько г...</td>\n",
              "      <td>Оказание гос. соц. помощи</td>\n",
              "      <td>1</td>\n",
              "    </tr>\n",
              "  </tbody>\n",
              "</table>\n",
              "<p>22490 rows × 5 columns</p>\n",
              "</div>\n",
              "    <div class=\"colab-df-buttons\">\n",
              "\n",
              "  <div class=\"colab-df-container\">\n",
              "    <button class=\"colab-df-convert\" onclick=\"convertToInteractive('df-f5bf0482-a210-439a-8f7b-f5add15ebed3')\"\n",
              "            title=\"Convert this dataframe to an interactive table.\"\n",
              "            style=\"display:none;\">\n",
              "\n",
              "  <svg xmlns=\"http://www.w3.org/2000/svg\" height=\"24px\" viewBox=\"0 -960 960 960\">\n",
              "    <path d=\"M120-120v-720h720v720H120Zm60-500h600v-160H180v160Zm220 220h160v-160H400v160Zm0 220h160v-160H400v160ZM180-400h160v-160H180v160Zm440 0h160v-160H620v160ZM180-180h160v-160H180v160Zm440 0h160v-160H620v160Z\"/>\n",
              "  </svg>\n",
              "    </button>\n",
              "\n",
              "  <style>\n",
              "    .colab-df-container {\n",
              "      display:flex;\n",
              "      gap: 12px;\n",
              "    }\n",
              "\n",
              "    .colab-df-convert {\n",
              "      background-color: #E8F0FE;\n",
              "      border: none;\n",
              "      border-radius: 50%;\n",
              "      cursor: pointer;\n",
              "      display: none;\n",
              "      fill: #1967D2;\n",
              "      height: 32px;\n",
              "      padding: 0 0 0 0;\n",
              "      width: 32px;\n",
              "    }\n",
              "\n",
              "    .colab-df-convert:hover {\n",
              "      background-color: #E2EBFA;\n",
              "      box-shadow: 0px 1px 2px rgba(60, 64, 67, 0.3), 0px 1px 3px 1px rgba(60, 64, 67, 0.15);\n",
              "      fill: #174EA6;\n",
              "    }\n",
              "\n",
              "    .colab-df-buttons div {\n",
              "      margin-bottom: 4px;\n",
              "    }\n",
              "\n",
              "    [theme=dark] .colab-df-convert {\n",
              "      background-color: #3B4455;\n",
              "      fill: #D2E3FC;\n",
              "    }\n",
              "\n",
              "    [theme=dark] .colab-df-convert:hover {\n",
              "      background-color: #434B5C;\n",
              "      box-shadow: 0px 1px 3px 1px rgba(0, 0, 0, 0.15);\n",
              "      filter: drop-shadow(0px 1px 2px rgba(0, 0, 0, 0.3));\n",
              "      fill: #FFFFFF;\n",
              "    }\n",
              "  </style>\n",
              "\n",
              "    <script>\n",
              "      const buttonEl =\n",
              "        document.querySelector('#df-f5bf0482-a210-439a-8f7b-f5add15ebed3 button.colab-df-convert');\n",
              "      buttonEl.style.display =\n",
              "        google.colab.kernel.accessAllowed ? 'block' : 'none';\n",
              "\n",
              "      async function convertToInteractive(key) {\n",
              "        const element = document.querySelector('#df-f5bf0482-a210-439a-8f7b-f5add15ebed3');\n",
              "        const dataTable =\n",
              "          await google.colab.kernel.invokeFunction('convertToInteractive',\n",
              "                                                    [key], {});\n",
              "        if (!dataTable) return;\n",
              "\n",
              "        const docLinkHtml = 'Like what you see? Visit the ' +\n",
              "          '<a target=\"_blank\" href=https://colab.research.google.com/notebooks/data_table.ipynb>data table notebook</a>'\n",
              "          + ' to learn more about interactive tables.';\n",
              "        element.innerHTML = '';\n",
              "        dataTable['output_type'] = 'display_data';\n",
              "        await google.colab.output.renderOutput(dataTable, element);\n",
              "        const docLink = document.createElement('div');\n",
              "        docLink.innerHTML = docLinkHtml;\n",
              "        element.appendChild(docLink);\n",
              "      }\n",
              "    </script>\n",
              "  </div>\n",
              "\n",
              "\n",
              "<div id=\"df-59449cb2-44eb-46b4-a1b1-fa6d5c30c282\">\n",
              "  <button class=\"colab-df-quickchart\" onclick=\"quickchart('df-59449cb2-44eb-46b4-a1b1-fa6d5c30c282')\"\n",
              "            title=\"Suggest charts\"\n",
              "            style=\"display:none;\">\n",
              "\n",
              "<svg xmlns=\"http://www.w3.org/2000/svg\" height=\"24px\"viewBox=\"0 0 24 24\"\n",
              "     width=\"24px\">\n",
              "    <g>\n",
              "        <path d=\"M19 3H5c-1.1 0-2 .9-2 2v14c0 1.1.9 2 2 2h14c1.1 0 2-.9 2-2V5c0-1.1-.9-2-2-2zM9 17H7v-7h2v7zm4 0h-2V7h2v10zm4 0h-2v-4h2v4z\"/>\n",
              "    </g>\n",
              "</svg>\n",
              "  </button>\n",
              "\n",
              "<style>\n",
              "  .colab-df-quickchart {\n",
              "      --bg-color: #E8F0FE;\n",
              "      --fill-color: #1967D2;\n",
              "      --hover-bg-color: #E2EBFA;\n",
              "      --hover-fill-color: #174EA6;\n",
              "      --disabled-fill-color: #AAA;\n",
              "      --disabled-bg-color: #DDD;\n",
              "  }\n",
              "\n",
              "  [theme=dark] .colab-df-quickchart {\n",
              "      --bg-color: #3B4455;\n",
              "      --fill-color: #D2E3FC;\n",
              "      --hover-bg-color: #434B5C;\n",
              "      --hover-fill-color: #FFFFFF;\n",
              "      --disabled-bg-color: #3B4455;\n",
              "      --disabled-fill-color: #666;\n",
              "  }\n",
              "\n",
              "  .colab-df-quickchart {\n",
              "    background-color: var(--bg-color);\n",
              "    border: none;\n",
              "    border-radius: 50%;\n",
              "    cursor: pointer;\n",
              "    display: none;\n",
              "    fill: var(--fill-color);\n",
              "    height: 32px;\n",
              "    padding: 0;\n",
              "    width: 32px;\n",
              "  }\n",
              "\n",
              "  .colab-df-quickchart:hover {\n",
              "    background-color: var(--hover-bg-color);\n",
              "    box-shadow: 0 1px 2px rgba(60, 64, 67, 0.3), 0 1px 3px 1px rgba(60, 64, 67, 0.15);\n",
              "    fill: var(--button-hover-fill-color);\n",
              "  }\n",
              "\n",
              "  .colab-df-quickchart-complete:disabled,\n",
              "  .colab-df-quickchart-complete:disabled:hover {\n",
              "    background-color: var(--disabled-bg-color);\n",
              "    fill: var(--disabled-fill-color);\n",
              "    box-shadow: none;\n",
              "  }\n",
              "\n",
              "  .colab-df-spinner {\n",
              "    border: 2px solid var(--fill-color);\n",
              "    border-color: transparent;\n",
              "    border-bottom-color: var(--fill-color);\n",
              "    animation:\n",
              "      spin 1s steps(1) infinite;\n",
              "  }\n",
              "\n",
              "  @keyframes spin {\n",
              "    0% {\n",
              "      border-color: transparent;\n",
              "      border-bottom-color: var(--fill-color);\n",
              "      border-left-color: var(--fill-color);\n",
              "    }\n",
              "    20% {\n",
              "      border-color: transparent;\n",
              "      border-left-color: var(--fill-color);\n",
              "      border-top-color: var(--fill-color);\n",
              "    }\n",
              "    30% {\n",
              "      border-color: transparent;\n",
              "      border-left-color: var(--fill-color);\n",
              "      border-top-color: var(--fill-color);\n",
              "      border-right-color: var(--fill-color);\n",
              "    }\n",
              "    40% {\n",
              "      border-color: transparent;\n",
              "      border-right-color: var(--fill-color);\n",
              "      border-top-color: var(--fill-color);\n",
              "    }\n",
              "    60% {\n",
              "      border-color: transparent;\n",
              "      border-right-color: var(--fill-color);\n",
              "    }\n",
              "    80% {\n",
              "      border-color: transparent;\n",
              "      border-right-color: var(--fill-color);\n",
              "      border-bottom-color: var(--fill-color);\n",
              "    }\n",
              "    90% {\n",
              "      border-color: transparent;\n",
              "      border-bottom-color: var(--fill-color);\n",
              "    }\n",
              "  }\n",
              "</style>\n",
              "\n",
              "  <script>\n",
              "    async function quickchart(key) {\n",
              "      const quickchartButtonEl =\n",
              "        document.querySelector('#' + key + ' button');\n",
              "      quickchartButtonEl.disabled = true;  // To prevent multiple clicks.\n",
              "      quickchartButtonEl.classList.add('colab-df-spinner');\n",
              "      try {\n",
              "        const charts = await google.colab.kernel.invokeFunction(\n",
              "            'suggestCharts', [key], {});\n",
              "      } catch (error) {\n",
              "        console.error('Error during call to suggestCharts:', error);\n",
              "      }\n",
              "      quickchartButtonEl.classList.remove('colab-df-spinner');\n",
              "      quickchartButtonEl.classList.add('colab-df-quickchart-complete');\n",
              "    }\n",
              "    (() => {\n",
              "      let quickchartButtonEl =\n",
              "        document.querySelector('#df-59449cb2-44eb-46b4-a1b1-fa6d5c30c282 button');\n",
              "      quickchartButtonEl.style.display =\n",
              "        google.colab.kernel.accessAllowed ? 'block' : 'none';\n",
              "    })();\n",
              "  </script>\n",
              "</div>\n",
              "    </div>\n",
              "  </div>\n"
            ],
            "text/plain": [
              "                                Исполнитель                        Группа тем  \\\n",
              "0               Лысьвенский городской округ                   Благоустройство   \n",
              "1      Министерство социального развития ПК  Социальное обслуживание и защита   \n",
              "2      Министерство социального развития ПК  Социальное обслуживание и защита   \n",
              "3                               Город Пермь            Общественный транспорт   \n",
              "4              Министерство здравоохранения          Здравоохранение/Медицина   \n",
              "...                                     ...                               ...   \n",
              "23122  Министерство социального развития ПК  Социальное обслуживание и защита   \n",
              "23123           Губахинский городской округ                               ЖКХ   \n",
              "23124          Министерство здравоохранения          Здравоохранение/Медицина   \n",
              "23125           Лысьвенский городской округ                   Благоустройство   \n",
              "23127  Министерство социального развития ПК  Социальное обслуживание и защита   \n",
              "\n",
              "                                         Текст инцидента  \\\n",
              "0      Добрый день. Сегодня, 20.08.22, моя мать шла п...   \n",
              "1      Пермь г, +79194692145. В Перми с ноября 2021 г...   \n",
              "2      Добрый день ! Скажите пожалуйста если подовала...   \n",
              "3      Каждая из них не о чем. Люди на остановках хот...   \n",
              "4      В Березниках у сына привитого откоронавируса з...   \n",
              "...                                                  ...   \n",
              "23122  А если ещё не погасили ипотеку, но площадь бол...   \n",
              "23123  Город Гремячинск-— ситуация с теплом на улице ...   \n",
              "23124  Здравствуйте у меня ребёнку 2 месяца , тест на...   \n",
              "23125  А что творится с благоустройством дворов! Вооб...   \n",
              "23127  Здравствуйте, подскажите пожалуйста. Сколько г...   \n",
              "\n",
              "                                                  Тема  label  \n",
              "0                                      ★ Ямы во дворах      0  \n",
              "1                            Оказание гос. соц. помощи      1  \n",
              "2                             Дети и многодетные семьи      2  \n",
              "3                                 Содержание остановок      3  \n",
              "4      Технические проблемы с записью на прием к врачу      4  \n",
              "...                                                ...    ...  \n",
              "23122                       Улучшение жилищных условий    125  \n",
              "23123   Ненадлежащее качество или отсутствие отопления     72  \n",
              "23124  Технические проблемы с записью на прием к врачу      4  \n",
              "23125            Благоустройство придомовых территорий    122  \n",
              "23127                        Оказание гос. соц. помощи      1  \n",
              "\n",
              "[22490 rows x 5 columns]"
            ]
          },
          "execution_count": 22,
          "metadata": {},
          "output_type": "execute_result"
        }
      ],
      "source": [
        "data['label'] = [label2id[topic] for topic in data['Тема']]\n",
        "data"
      ]
    },
    {
      "cell_type": "code",
      "execution_count": 23,
      "metadata": {
        "colab": {
          "base_uri": "https://localhost:8080/",
          "height": 378,
          "referenced_widgets": [
            "33b2629d90504b00af1b0384fb3b19db",
            "7f7d5be088e14319a03caf95d002d6a3",
            "4348dc5fc959431c8b18c54f4e55afc8",
            "0bfb72c22bb641158f56452c46be158c",
            "7084c3014841460f8e389bde8d0a6464",
            "e33a240742ac4cb3aabbcf1913c6e8d9",
            "5131ff770e854506b94182069329200a",
            "0b813b76a1ef4dcf93f51736730b4d0c",
            "9379dead24ae4c8192354a8bf5028191",
            "70cb22d7830640aba60121e99a31054a",
            "e3f33255e2ef46809b22d455f2e7b958",
            "8593f701d29e45cf8ca52e94fd70b4b9",
            "f96f85335b224c22ac6d4547714aa819",
            "f983280472e44e19a6e215a83525a205",
            "b147279759044662a7ecc4e6923ec93f",
            "637c54cf5bc6466ebcda2b6da64ef0d8",
            "81913635d3c94949a83d05f9adbda1a3",
            "1c20be830f314cec803c48899079d27d",
            "54c96d59bdf04edd8bfa46bd4b0a1099",
            "9191b42fae4547aaa97e364b26f0742b",
            "dc9192cf754f48478f5f6388b0787a88",
            "e578bde9f9004e8886e5b95b46364990",
            "b354f705e27a4beb8bc221ad151bf63a",
            "c6ede3356a8141758d3e7ac89ad8a047",
            "b6781e5fa55946ccbfa61c40d777dd02",
            "ebdf857fd0e749568483ff9d3a704cf6",
            "1a03ef34f58e420ebb46f744ce710678",
            "39396baf9c7044358a2548acab1bcdb8",
            "5a1318cf10084d76af9547cc4566bcc3",
            "019eb41538dc405f8860350a39bb6acf",
            "536b377cba9c42d1ad39971320cb4a2d",
            "2572aa9f79814d989b2246d108b56a0d",
            "706e9e9d758d47e583cd5e683ac53b2a",
            "4c00b8cc5b2c4f52a18fb580f7bd6cd0",
            "2e8233aadb4e40419dd64d8f4dbb8c2f",
            "4e59c425a7404056afa6c4fb39c18100",
            "327dbd5628c14a46a627ba70fa65f2b6",
            "4f2249e7239f40e09a1f18afb892d1b4",
            "366d590dc6b14c29a07c8393e35fad73",
            "51947f0d0c464a17b692a18c8def1d8d",
            "14fe7dfe4c0f42dcb11a6c356555e2ac",
            "e772b5dc49354e45be57cdfbf25ccb68",
            "dbfe1de627994ee38e94d4adeaefa658",
            "992f60946c25402bbb47407f3047d6ec",
            "7f1fea1e68db4e9aa68718323f16adf2",
            "203bfcd84edd444eb497a6f77c2fea00",
            "8ff96a2ae83b4389ab087b40a3c7b4b0",
            "21173252b5864a4b804edc0fc8d1e73c",
            "703215d5bcfd41a28a9a052cd284f80a",
            "e68bbb686d2647f988456edccaa33624",
            "0b2c7cf6fd56402e8fa143a256044d18",
            "1beaf893af6d48d296ce8fb4c9c32991",
            "8358b1789d6b4298bbaa07eb1b02806f",
            "79c7b85c07e94deb8f62db11bb6739cb",
            "713f655142bf46f893d56d1e1217ff94",
            "f23609187bf444ad8dcc9e8cb5745962",
            "d7f9a442dfa9451789e3a1aad906f458",
            "2762db7873fa4a2fb11034d7a58387f5",
            "570cbc259ee24f46a2a999c471c85456",
            "6c580c3e42ee4f2fb8b43f1b31550842",
            "b5344fe748bd446c8e9bb0eb6de8ec3b",
            "92d84d5f2fc64df9b4ca127fad4759c1",
            "c0568c74f10e4db3b83ee25355ebce1c",
            "01835f206386437dbea88a74d8507399",
            "3655edfdd2d14fa5b75db571c585d4c9",
            "1c22e3120fe84e30b6eff63016d7eadb"
          ]
        },
        "id": "TbfDOQyth4rt",
        "outputId": "31336aac-ef92-4bd9-e90f-514a3580066f"
      },
      "outputs": [
        {
          "data": {
            "application/vnd.jupyter.widget-view+json": {
              "model_id": "33b2629d90504b00af1b0384fb3b19db",
              "version_major": 2,
              "version_minor": 0
            },
            "text/plain": [
              "tokenizer_config.json:   0%|          | 0.00/401 [00:00<?, ?B/s]"
            ]
          },
          "metadata": {},
          "output_type": "display_data"
        },
        {
          "data": {
            "application/vnd.jupyter.widget-view+json": {
              "model_id": "8593f701d29e45cf8ca52e94fd70b4b9",
              "version_major": 2,
              "version_minor": 0
            },
            "text/plain": [
              "vocab.txt:   0%|          | 0.00/1.08M [00:00<?, ?B/s]"
            ]
          },
          "metadata": {},
          "output_type": "display_data"
        },
        {
          "data": {
            "application/vnd.jupyter.widget-view+json": {
              "model_id": "b354f705e27a4beb8bc221ad151bf63a",
              "version_major": 2,
              "version_minor": 0
            },
            "text/plain": [
              "tokenizer.json:   0%|          | 0.00/1.74M [00:00<?, ?B/s]"
            ]
          },
          "metadata": {},
          "output_type": "display_data"
        },
        {
          "data": {
            "application/vnd.jupyter.widget-view+json": {
              "model_id": "4c00b8cc5b2c4f52a18fb580f7bd6cd0",
              "version_major": 2,
              "version_minor": 0
            },
            "text/plain": [
              "special_tokens_map.json:   0%|          | 0.00/112 [00:00<?, ?B/s]"
            ]
          },
          "metadata": {},
          "output_type": "display_data"
        },
        {
          "data": {
            "application/vnd.jupyter.widget-view+json": {
              "model_id": "7f1fea1e68db4e9aa68718323f16adf2",
              "version_major": 2,
              "version_minor": 0
            },
            "text/plain": [
              "config.json:   0%|          | 0.00/693 [00:00<?, ?B/s]"
            ]
          },
          "metadata": {},
          "output_type": "display_data"
        },
        {
          "data": {
            "application/vnd.jupyter.widget-view+json": {
              "model_id": "f23609187bf444ad8dcc9e8cb5745962",
              "version_major": 2,
              "version_minor": 0
            },
            "text/plain": [
              "model.safetensors:   0%|          | 0.00/118M [00:00<?, ?B/s]"
            ]
          },
          "metadata": {},
          "output_type": "display_data"
        },
        {
          "name": "stderr",
          "output_type": "stream",
          "text": [
            "Some weights of BertForSequenceClassification were not initialized from the model checkpoint at cointegrated/rubert-tiny2 and are newly initialized: ['classifier.weight', 'classifier.bias']\n",
            "You should probably TRAIN this model on a down-stream task to be able to use it for predictions and inference.\n"
          ]
        }
      ],
      "source": [
        "# checkpoint = \"xlm-roberta-base\"\n",
        "classification_checkpoint = \"cointegrated/rubert-tiny2\"\n",
        "\n",
        "tokenizer = AutoTokenizer.from_pretrained(classification_checkpoint)\n",
        "\n",
        "classification_model = AutoModelForSequenceClassification.from_pretrained(\n",
        "    classification_checkpoint, num_labels = data['Тема'].unique().shape[0],\n",
        "    id2label=id2label, label2id=label2id\n",
        ")"
      ]
    },
    {
      "cell_type": "code",
      "execution_count": 24,
      "metadata": {
        "id": "OLh-8_fXh4rt"
      },
      "outputs": [],
      "source": [
        "class_weights = compute_class_weight(\"balanced\", classes=list(label2id.keys()), y=data[\"Тема\"])\n",
        "class_weights = torch.tensor(class_weights, device=classification_model.device).to(torch.float)"
      ]
    },
    {
      "cell_type": "code",
      "execution_count": 25,
      "metadata": {
        "id": "Ov3OZKLkh4rt"
      },
      "outputs": [],
      "source": [
        "class CustomTrainer(Trainer):\n",
        "    def compute_loss(self, model, inputs, return_outputs=False):\n",
        "        labels = inputs.pop(\"labels\")\n",
        "\n",
        "        outputs = classification_model(**inputs)\n",
        "        logits = outputs.get(\"logits\")\n",
        "\n",
        "        loss_fct = torch.nn.CrossEntropyLoss(weight=class_weights)\n",
        "        loss = loss_fct(logits.view(-1, self.model.config.num_labels), labels.view(-1))\n",
        "\n",
        "        return (loss, outputs) if return_outputs else loss"
      ]
    },
    {
      "cell_type": "code",
      "execution_count": null,
      "metadata": {
        "id": "Sm8LU9_Wh4rt"
      },
      "outputs": [],
      "source": [
        "train_data, val_data = train_test_split(\n",
        "    data[['Текст инцидента', 'label']], random_state=42, test_size=.1\n",
        ")\n",
        "val_data.head()"
      ]
    },
    {
      "cell_type": "code",
      "execution_count": null,
      "metadata": {
        "id": "muO-hdu_h4rt"
      },
      "outputs": [],
      "source": [
        "class TextDataset(Dataset):\n",
        "    def __init__(self, data_df, tokenizer, max_length=512):\n",
        "        self.tokenizer = tokenizer\n",
        "        self.max_length = max_length\n",
        "\n",
        "        self.sentences = data_df[\"Текст инцидента\"].values\n",
        "        self.labels = data_df['label'].values\n",
        "\n",
        "    def __len__(self):\n",
        "        return self.labels.shape[0]\n",
        "\n",
        "    def __getitem__(self, i):\n",
        "        sentence, label = self.sentences[i], self.labels[i]\n",
        "\n",
        "        tokens = tokenizer(sentence, truncation=\"longest_first\", padding=\"max_length\", max_length=self.max_length)\n",
        "\n",
        "        tokens['labels'] = label\n",
        "\n",
        "        tokens = {key: torch.tensor(val).long() for key, val in tokens.items()}\n",
        "\n",
        "        return tokens\n",
        "\n",
        "\n",
        "train_dataset = TextDataset(train_data, tokenizer)\n",
        "val_dataset = TextDataset(val_data, tokenizer)\n",
        "\n",
        "train_dataset[0]"
      ]
    },
    {
      "cell_type": "code",
      "execution_count": null,
      "metadata": {
        "id": "BWNMlJOLh4rt"
      },
      "outputs": [],
      "source": [
        "accuracy = evaluate.load(\"accuracy\")\n",
        "f1_metric = evaluate.load(\"f1\")"
      ]
    },
    {
      "cell_type": "code",
      "execution_count": null,
      "metadata": {
        "id": "nnR24b7th4rt"
      },
      "outputs": [],
      "source": [
        "def compute_metrics(eval_pred):\n",
        "    predictions, labels = eval_pred\n",
        "    predictions = np.argmax(predictions, axis=1)\n",
        "\n",
        "    out = {}\n",
        "\n",
        "    out.update(accuracy.compute(predictions=predictions, references=labels))\n",
        "    out.update(f1_metric.compute(predictions=predictions, references=labels,\n",
        "                                 average='weighted'))\n",
        "\n",
        "    return out"
      ]
    },
    {
      "cell_type": "code",
      "execution_count": null,
      "metadata": {
        "id": "0O5QRdoYh4rt"
      },
      "outputs": [],
      "source": [
        "training_args = TrainingArguments(\n",
        "    output_dir=\"promobot/models/rubert_tiny\",\n",
        "    learning_rate=2e-5,\n",
        "    per_device_train_batch_size=64,\n",
        "    per_device_eval_batch_size=64,\n",
        "    num_train_epochs=2,\n",
        "    weight_decay=0.01,\n",
        "    evaluation_strategy=\"epoch\",\n",
        "    # save_strategy=\"epoch\",\n",
        "    save_strategy='no',\n",
        "    # load_best_model_at_end=True,\n",
        ")"
      ]
    },
    {
      "cell_type": "code",
      "execution_count": null,
      "metadata": {
        "id": "fZy7a6uyh4rt"
      },
      "outputs": [],
      "source": [
        "trainer = CustomTrainer(\n",
        "    model=model,\n",
        "    args=training_args,\n",
        "    train_dataset=train_dataset,\n",
        "    eval_dataset=val_dataset,\n",
        "    tokenizer=tokenizer,\n",
        "    compute_metrics=compute_metrics,\n",
        ")"
      ]
    },
    {
      "cell_type": "code",
      "execution_count": null,
      "metadata": {
        "id": "L-LkwMz3h4rt"
      },
      "outputs": [],
      "source": [
        "trainer.train()"
      ]
    },
    {
      "cell_type": "markdown",
      "metadata": {
        "id": "IEVKnd9_h4rt"
      },
      "source": [
        "#### Тест"
      ]
    },
    {
      "cell_type": "code",
      "execution_count": null,
      "metadata": {
        "id": "0IXOKJMPh4rt"
      },
      "outputs": [],
      "source": [
        "n = np.random.randint(val_data.shape[0])\n",
        "n"
      ]
    },
    {
      "cell_type": "code",
      "execution_count": null,
      "metadata": {
        "id": "Z8rDsfeah4rt"
      },
      "outputs": [],
      "source": [
        "sentence = str(val_data[\"Текст инцидента\"].iloc[n])\n",
        "\n",
        "print(sentence, '\\n', id2label[val_data[\"label\"].iloc[n]])\n",
        "\n",
        "tokens = tokenizer(sentence, truncation=\"longest_first\", padding=\"max_length\", max_length=512)\n",
        "\n",
        "tokens = {key: torch.tensor(val).long() for key, val in tokens.items()}\n",
        "\n",
        "\n",
        "for key in tokens:\n",
        "    # tokens[key] = tokens[key].to(\"cuda\").unsqueeze(0)\n",
        "    tokens[key] = tokens[key].unsqueeze(0)"
      ]
    },
    {
      "cell_type": "code",
      "execution_count": null,
      "metadata": {
        "id": "2ZIkYMbQh4rt"
      },
      "outputs": [],
      "source": [
        "pred = model(**tokens)\n",
        "id2label[pred[\"logits\"].argmax().item()]"
      ]
    },
    {
      "cell_type": "markdown",
      "metadata": {
        "id": "EZoOITtVh4rt"
      },
      "source": [
        "#### Сохранение модели"
      ]
    },
    {
      "cell_type": "code",
      "execution_count": null,
      "metadata": {
        "id": "A_hp7Le1h4rt"
      },
      "outputs": [],
      "source": [
        "# torch.save(model, '/content/drive/MyDrive/models/promobot/rubert.pt')"
      ]
    },
    {
      "cell_type": "markdown",
      "metadata": {
        "id": "0SqLWy-4h4rt"
      },
      "source": [
        "#### Загрузка модели"
      ]
    },
    {
      "cell_type": "code",
      "execution_count": null,
      "metadata": {
        "id": "IrJluNVSh4rt"
      },
      "outputs": [],
      "source": []
    },
    {
      "cell_type": "markdown",
      "metadata": {},
      "source": [
        "---"
      ]
    },
    {
      "cell_type": "code",
      "execution_count": 104,
      "metadata": {},
      "outputs": [
        {
          "data": {
            "text/html": [
              "<div>\n",
              "<style scoped>\n",
              "    .dataframe tbody tr th:only-of-type {\n",
              "        vertical-align: middle;\n",
              "    }\n",
              "\n",
              "    .dataframe tbody tr th {\n",
              "        vertical-align: top;\n",
              "    }\n",
              "\n",
              "    .dataframe thead th {\n",
              "        text-align: right;\n",
              "    }\n",
              "</style>\n",
              "<table border=\"1\" class=\"dataframe\">\n",
              "  <thead>\n",
              "    <tr style=\"text-align: right;\">\n",
              "      <th></th>\n",
              "      <th>Исполнитель</th>\n",
              "      <th>Группа тем</th>\n",
              "      <th>Текст инцидента</th>\n",
              "      <th>Тема</th>\n",
              "      <th>Ners</th>\n",
              "    </tr>\n",
              "  </thead>\n",
              "  <tbody>\n",
              "    <tr>\n",
              "      <th>0</th>\n",
              "      <td>Лысьвенский городской округ</td>\n",
              "      <td>Благоустройство</td>\n",
              "      <td>Добрый день. Сегодня, 20 августа, моя мать шла...</td>\n",
              "      <td>★ Ямы во дворах</td>\n",
              "      <td>[['LOC', 'Ленина']]</td>\n",
              "    </tr>\n",
              "    <tr>\n",
              "      <th>1</th>\n",
              "      <td>Министерство социального развития ПК</td>\n",
              "      <td>Социальное обслуживание и защита</td>\n",
              "      <td>Пермь, г. , +791692145. В Перми с ноября 2021 ...</td>\n",
              "      <td>Оказание гос. соц. помощи</td>\n",
              "      <td>[['LOC', 'Пермь'], ['LOC', 'Перми']]</td>\n",
              "    </tr>\n",
              "    <tr>\n",
              "      <th>2</th>\n",
              "      <td>Министерство социального развития ПК</td>\n",
              "      <td>Социальное обслуживание и защита</td>\n",
              "      <td>Добрый день! Скажите, пожалуйста, если подала ...</td>\n",
              "      <td>Дети и многодетные семьи</td>\n",
              "      <td>[]</td>\n",
              "    </tr>\n",
              "    <tr>\n",
              "      <th>3</th>\n",
              "      <td>Город Пермь</td>\n",
              "      <td>Общественный транспорт</td>\n",
              "      <td>Каждая из них не о чем. Люди на остановках хот...</td>\n",
              "      <td>Содержание остановок</td>\n",
              "      <td>[]</td>\n",
              "    </tr>\n",
              "    <tr>\n",
              "      <th>4</th>\n",
              "      <td>Министерство здравоохранения</td>\n",
              "      <td>Здравоохранение/Медицина</td>\n",
              "      <td>В Березниках у сына, привитого от коронавируса...</td>\n",
              "      <td>Технические проблемы с записью на прием к врачу</td>\n",
              "      <td>[['LOC', 'Березниках']]</td>\n",
              "    </tr>\n",
              "    <tr>\n",
              "      <th>...</th>\n",
              "      <td>...</td>\n",
              "      <td>...</td>\n",
              "      <td>...</td>\n",
              "      <td>...</td>\n",
              "      <td>...</td>\n",
              "    </tr>\n",
              "    <tr>\n",
              "      <th>22485</th>\n",
              "      <td>Министерство социального развития ПК</td>\n",
              "      <td>Социальное обслуживание и защита</td>\n",
              "      <td>А если ещё не погасили ипотеку, но площадь бол...</td>\n",
              "      <td>Улучшение жилищных условий</td>\n",
              "      <td>[]</td>\n",
              "    </tr>\n",
              "    <tr>\n",
              "      <th>22486</th>\n",
              "      <td>Губахинский городской округ</td>\n",
              "      <td>ЖКХ</td>\n",
              "      <td>Город Гремячинск — ситуация с теплом на улице ...</td>\n",
              "      <td>Ненадлежащее качество или отсутствие отопления</td>\n",
              "      <td>[['LOC', 'Гремячинск'], ['PER', 'Кожевникова']]</td>\n",
              "    </tr>\n",
              "    <tr>\n",
              "      <th>22487</th>\n",
              "      <td>Министерство здравоохранения</td>\n",
              "      <td>Здравоохранение/Медицина</td>\n",
              "      <td>Здравствуйте, у меня ребёнку 2 месяца. Тест на...</td>\n",
              "      <td>Технические проблемы с записью на прием к врачу</td>\n",
              "      <td>[]</td>\n",
              "    </tr>\n",
              "    <tr>\n",
              "      <th>22488</th>\n",
              "      <td>Лысьвенский городской округ</td>\n",
              "      <td>Благоустройство</td>\n",
              "      <td>А что творится с благоустройством дворов?!!! В...</td>\n",
              "      <td>Благоустройство придомовых территорий</td>\n",
              "      <td>[['PER', 'Федосеев'], ['LOC', 'Оборина']]</td>\n",
              "    </tr>\n",
              "    <tr>\n",
              "      <th>22489</th>\n",
              "      <td>Министерство социального развития ПК</td>\n",
              "      <td>Социальное обслуживание и защита</td>\n",
              "      <td>Здравствуйте, подскажите, пожалуйста. Сколько ...</td>\n",
              "      <td>Оказание гос. соц. помощи</td>\n",
              "      <td>[['ORG', 'МФЦ']]</td>\n",
              "    </tr>\n",
              "  </tbody>\n",
              "</table>\n",
              "<p>22490 rows × 5 columns</p>\n",
              "</div>"
            ],
            "text/plain": [
              "                                Исполнитель                        Группа тем  \\\n",
              "0               Лысьвенский городской округ                   Благоустройство   \n",
              "1      Министерство социального развития ПК  Социальное обслуживание и защита   \n",
              "2      Министерство социального развития ПК  Социальное обслуживание и защита   \n",
              "3                               Город Пермь            Общественный транспорт   \n",
              "4              Министерство здравоохранения          Здравоохранение/Медицина   \n",
              "...                                     ...                               ...   \n",
              "22485  Министерство социального развития ПК  Социальное обслуживание и защита   \n",
              "22486           Губахинский городской округ                               ЖКХ   \n",
              "22487          Министерство здравоохранения          Здравоохранение/Медицина   \n",
              "22488           Лысьвенский городской округ                   Благоустройство   \n",
              "22489  Министерство социального развития ПК  Социальное обслуживание и защита   \n",
              "\n",
              "                                         Текст инцидента  \\\n",
              "0      Добрый день. Сегодня, 20 августа, моя мать шла...   \n",
              "1      Пермь, г. , +791692145. В Перми с ноября 2021 ...   \n",
              "2      Добрый день! Скажите, пожалуйста, если подала ...   \n",
              "3      Каждая из них не о чем. Люди на остановках хот...   \n",
              "4      В Березниках у сына, привитого от коронавируса...   \n",
              "...                                                  ...   \n",
              "22485  А если ещё не погасили ипотеку, но площадь бол...   \n",
              "22486  Город Гремячинск — ситуация с теплом на улице ...   \n",
              "22487  Здравствуйте, у меня ребёнку 2 месяца. Тест на...   \n",
              "22488  А что творится с благоустройством дворов?!!! В...   \n",
              "22489  Здравствуйте, подскажите, пожалуйста. Сколько ...   \n",
              "\n",
              "                                                  Тема  \\\n",
              "0                                      ★ Ямы во дворах   \n",
              "1                            Оказание гос. соц. помощи   \n",
              "2                             Дети и многодетные семьи   \n",
              "3                                 Содержание остановок   \n",
              "4      Технические проблемы с записью на прием к врачу   \n",
              "...                                                ...   \n",
              "22485                       Улучшение жилищных условий   \n",
              "22486   Ненадлежащее качество или отсутствие отопления   \n",
              "22487  Технические проблемы с записью на прием к врачу   \n",
              "22488            Благоустройство придомовых территорий   \n",
              "22489                        Оказание гос. соц. помощи   \n",
              "\n",
              "                                                  Ners  \n",
              "0                                  [['LOC', 'Ленина']]  \n",
              "1                 [['LOC', 'Пермь'], ['LOC', 'Перми']]  \n",
              "2                                                   []  \n",
              "3                                                   []  \n",
              "4                              [['LOC', 'Березниках']]  \n",
              "...                                                ...  \n",
              "22485                                               []  \n",
              "22486  [['LOC', 'Гремячинск'], ['PER', 'Кожевникова']]  \n",
              "22487                                               []  \n",
              "22488        [['PER', 'Федосеев'], ['LOC', 'Оборина']]  \n",
              "22489                                 [['ORG', 'МФЦ']]  \n",
              "\n",
              "[22490 rows x 5 columns]"
            ]
          },
          "execution_count": 104,
          "metadata": {},
          "output_type": "execute_result"
        }
      ],
      "source": [
        "data = pd.read_csv('data_corrected_spell_ner.csv')\n",
        "data"
      ]
    },
    {
      "cell_type": "code",
      "execution_count": 42,
      "metadata": {},
      "outputs": [],
      "source": [
        "import re"
      ]
    },
    {
      "cell_type": "code",
      "execution_count": 105,
      "metadata": {},
      "outputs": [
        {
          "data": {
            "text/html": [
              "<div>\n",
              "<style scoped>\n",
              "    .dataframe tbody tr th:only-of-type {\n",
              "        vertical-align: middle;\n",
              "    }\n",
              "\n",
              "    .dataframe tbody tr th {\n",
              "        vertical-align: top;\n",
              "    }\n",
              "\n",
              "    .dataframe thead th {\n",
              "        text-align: right;\n",
              "    }\n",
              "</style>\n",
              "<table border=\"1\" class=\"dataframe\">\n",
              "  <thead>\n",
              "    <tr style=\"text-align: right;\">\n",
              "      <th></th>\n",
              "      <th>Исполнитель</th>\n",
              "      <th>Группа тем</th>\n",
              "      <th>Текст инцидента</th>\n",
              "      <th>Тема</th>\n",
              "      <th>Ners</th>\n",
              "    </tr>\n",
              "  </thead>\n",
              "  <tbody>\n",
              "    <tr>\n",
              "      <th>0</th>\n",
              "      <td>Лысьвенский городской округ</td>\n",
              "      <td>Благоустройство</td>\n",
              "      <td>Добрый день. Сегодня, 20 августа, моя мать шла...</td>\n",
              "      <td>★ Ямы во дворах</td>\n",
              "      <td>[['LOC', 'Ленина']]</td>\n",
              "    </tr>\n",
              "    <tr>\n",
              "      <th>1</th>\n",
              "      <td>Министерство социального развития ПК</td>\n",
              "      <td>Социальное обслуживание и защита</td>\n",
              "      <td>Пермь, г. , +791692145. В Перми с ноября 2021 ...</td>\n",
              "      <td>Оказание гос. соц. помощи</td>\n",
              "      <td>[['LOC', 'Пермь'], ['LOC', 'Перми']]</td>\n",
              "    </tr>\n",
              "    <tr>\n",
              "      <th>2</th>\n",
              "      <td>Министерство социального развития ПК</td>\n",
              "      <td>Социальное обслуживание и защита</td>\n",
              "      <td>Добрый день! Скажите, пожалуйста, если подала ...</td>\n",
              "      <td>Дети и многодетные семьи</td>\n",
              "      <td>[]</td>\n",
              "    </tr>\n",
              "    <tr>\n",
              "      <th>3</th>\n",
              "      <td>Город Пермь</td>\n",
              "      <td>Общественный транспорт</td>\n",
              "      <td>Каждая из них не о чем. Люди на остановках хот...</td>\n",
              "      <td>Содержание остановок</td>\n",
              "      <td>[]</td>\n",
              "    </tr>\n",
              "    <tr>\n",
              "      <th>4</th>\n",
              "      <td>Министерство здравоохранения</td>\n",
              "      <td>Здравоохранение/Медицина</td>\n",
              "      <td>В Березниках у сына, привитого от коронавируса...</td>\n",
              "      <td>Технические проблемы с записью на прием к врачу</td>\n",
              "      <td>[['LOC', 'Березниках']]</td>\n",
              "    </tr>\n",
              "  </tbody>\n",
              "</table>\n",
              "</div>"
            ],
            "text/plain": [
              "                            Исполнитель                        Группа тем  \\\n",
              "0           Лысьвенский городской округ                   Благоустройство   \n",
              "1  Министерство социального развития ПК  Социальное обслуживание и защита   \n",
              "2  Министерство социального развития ПК  Социальное обслуживание и защита   \n",
              "3                           Город Пермь            Общественный транспорт   \n",
              "4          Министерство здравоохранения          Здравоохранение/Медицина   \n",
              "\n",
              "                                     Текст инцидента  \\\n",
              "0  Добрый день. Сегодня, 20 августа, моя мать шла...   \n",
              "1  Пермь, г. , +791692145. В Перми с ноября 2021 ...   \n",
              "2  Добрый день! Скажите, пожалуйста, если подала ...   \n",
              "3  Каждая из них не о чем. Люди на остановках хот...   \n",
              "4  В Березниках у сына, привитого от коронавируса...   \n",
              "\n",
              "                                              Тема  \\\n",
              "0                                  ★ Ямы во дворах   \n",
              "1                        Оказание гос. соц. помощи   \n",
              "2                         Дети и многодетные семьи   \n",
              "3                             Содержание остановок   \n",
              "4  Технические проблемы с записью на прием к врачу   \n",
              "\n",
              "                                   Ners  \n",
              "0                   [['LOC', 'Ленина']]  \n",
              "1  [['LOC', 'Пермь'], ['LOC', 'Перми']]  \n",
              "2                                    []  \n",
              "3                                    []  \n",
              "4               [['LOC', 'Березниках']]  "
            ]
          },
          "execution_count": 105,
          "metadata": {},
          "output_type": "execute_result"
        }
      ],
      "source": [
        "def remove_extra_symbols(text):\n",
        "    # Убираем лишние символы в начале предложения, если модель их добавила\n",
        "    # correct_text = correct_text[correct_text.index(input_text[0]):]\n",
        "    text = text.lstrip('.,[]«»')\n",
        "\n",
        "    # Если модель выдает несколько одинаковых знаков препинания подряд, оставляем один\n",
        "    text = re.sub(r'([^\\w\\s])\\1+', r'\\1', text)\n",
        "\n",
        "    return text\n",
        "\n",
        "data['Текст инцидента'] = data['Текст инцидента'].apply(remove_extra_symbols)\n",
        "data.head()"
      ]
    },
    {
      "cell_type": "code",
      "execution_count": 106,
      "metadata": {},
      "outputs": [
        {
          "data": {
            "text/html": [
              "<div>\n",
              "<style scoped>\n",
              "    .dataframe tbody tr th:only-of-type {\n",
              "        vertical-align: middle;\n",
              "    }\n",
              "\n",
              "    .dataframe tbody tr th {\n",
              "        vertical-align: top;\n",
              "    }\n",
              "\n",
              "    .dataframe thead th {\n",
              "        text-align: right;\n",
              "    }\n",
              "</style>\n",
              "<table border=\"1\" class=\"dataframe\">\n",
              "  <thead>\n",
              "    <tr style=\"text-align: right;\">\n",
              "      <th></th>\n",
              "      <th>Исполнитель</th>\n",
              "      <th>Группа тем</th>\n",
              "      <th>Текст инцидента</th>\n",
              "      <th>Тема</th>\n",
              "      <th>Ners</th>\n",
              "    </tr>\n",
              "  </thead>\n",
              "  <tbody>\n",
              "    <tr>\n",
              "      <th>0</th>\n",
              "      <td>Лысьвенский городской округ</td>\n",
              "      <td>Благоустройство</td>\n",
              "      <td>Добрый день. Сегодня, 20 августа, моя мать шла...</td>\n",
              "      <td>★ Ямы во дворах</td>\n",
              "      <td>LOC: Ленина</td>\n",
              "    </tr>\n",
              "    <tr>\n",
              "      <th>1</th>\n",
              "      <td>Министерство социального развития ПК</td>\n",
              "      <td>Социальное обслуживание и защита</td>\n",
              "      <td>Пермь, г. , +791692145. В Перми с ноября 2021 ...</td>\n",
              "      <td>Оказание гос. соц. помощи</td>\n",
              "      <td>LOC: Пермь, LOC: Перми</td>\n",
              "    </tr>\n",
              "    <tr>\n",
              "      <th>2</th>\n",
              "      <td>Министерство социального развития ПК</td>\n",
              "      <td>Социальное обслуживание и защита</td>\n",
              "      <td>Добрый день! Скажите, пожалуйста, если подала ...</td>\n",
              "      <td>Дети и многодетные семьи</td>\n",
              "      <td></td>\n",
              "    </tr>\n",
              "    <tr>\n",
              "      <th>3</th>\n",
              "      <td>Город Пермь</td>\n",
              "      <td>Общественный транспорт</td>\n",
              "      <td>Каждая из них не о чем. Люди на остановках хот...</td>\n",
              "      <td>Содержание остановок</td>\n",
              "      <td></td>\n",
              "    </tr>\n",
              "    <tr>\n",
              "      <th>4</th>\n",
              "      <td>Министерство здравоохранения</td>\n",
              "      <td>Здравоохранение/Медицина</td>\n",
              "      <td>В Березниках у сына, привитого от коронавируса...</td>\n",
              "      <td>Технические проблемы с записью на прием к врачу</td>\n",
              "      <td>LOC: Березниках</td>\n",
              "    </tr>\n",
              "  </tbody>\n",
              "</table>\n",
              "</div>"
            ],
            "text/plain": [
              "                            Исполнитель                        Группа тем  \\\n",
              "0           Лысьвенский городской округ                   Благоустройство   \n",
              "1  Министерство социального развития ПК  Социальное обслуживание и защита   \n",
              "2  Министерство социального развития ПК  Социальное обслуживание и защита   \n",
              "3                           Город Пермь            Общественный транспорт   \n",
              "4          Министерство здравоохранения          Здравоохранение/Медицина   \n",
              "\n",
              "                                     Текст инцидента  \\\n",
              "0  Добрый день. Сегодня, 20 августа, моя мать шла...   \n",
              "1  Пермь, г. , +791692145. В Перми с ноября 2021 ...   \n",
              "2  Добрый день! Скажите, пожалуйста, если подала ...   \n",
              "3  Каждая из них не о чем. Люди на остановках хот...   \n",
              "4  В Березниках у сына, привитого от коронавируса...   \n",
              "\n",
              "                                              Тема                    Ners  \n",
              "0                                  ★ Ямы во дворах             LOC: Ленина  \n",
              "1                        Оказание гос. соц. помощи  LOC: Пермь, LOC: Перми  \n",
              "2                         Дети и многодетные семьи                          \n",
              "3                             Содержание остановок                          \n",
              "4  Технические проблемы с записью на прием к врачу         LOC: Березниках  "
            ]
          },
          "execution_count": 106,
          "metadata": {},
          "output_type": "execute_result"
        }
      ],
      "source": [
        "def correct_ners(ners):\n",
        "    ners = eval(ners)\n",
        "    ners = ', '.join([f'{ner[0]}: {ner[1]}' for ner in ners if ner[0] in ['LOC', 'ORG']])\n",
        "    return ners\n",
        "\n",
        "data['Ners'] = data['Ners'].apply(correct_ners)\n",
        "data.head()"
      ]
    },
    {
      "cell_type": "code",
      "execution_count": null,
      "metadata": {},
      "outputs": [],
      "source": []
    },
    {
      "cell_type": "code",
      "execution_count": 109,
      "metadata": {},
      "outputs": [
        {
          "data": {
            "text/html": [
              "<div>\n",
              "<style scoped>\n",
              "    .dataframe tbody tr th:only-of-type {\n",
              "        vertical-align: middle;\n",
              "    }\n",
              "\n",
              "    .dataframe tbody tr th {\n",
              "        vertical-align: top;\n",
              "    }\n",
              "\n",
              "    .dataframe thead th {\n",
              "        text-align: right;\n",
              "    }\n",
              "</style>\n",
              "<table border=\"1\" class=\"dataframe\">\n",
              "  <thead>\n",
              "    <tr style=\"text-align: right;\">\n",
              "      <th></th>\n",
              "      <th>Исполнитель</th>\n",
              "      <th>Группа тем</th>\n",
              "      <th>Текст инцидента</th>\n",
              "      <th>Тема</th>\n",
              "      <th>Ners</th>\n",
              "      <th>full_text_wo_contractor</th>\n",
              "    </tr>\n",
              "  </thead>\n",
              "  <tbody>\n",
              "    <tr>\n",
              "      <th>0</th>\n",
              "      <td>Лысьвенский городской округ</td>\n",
              "      <td>Благоустройство</td>\n",
              "      <td>Добрый день. Сегодня, 20 августа, моя мать шла...</td>\n",
              "      <td>★ Ямы во дворах</td>\n",
              "      <td>LOC: Ленина</td>\n",
              "      <td>Добрый день. Сегодня, 20 августа, моя мать шла...</td>\n",
              "    </tr>\n",
              "    <tr>\n",
              "      <th>1</th>\n",
              "      <td>Министерство социального развития ПК</td>\n",
              "      <td>Социальное обслуживание и защита</td>\n",
              "      <td>Пермь, г. , +791692145. В Перми с ноября 2021 ...</td>\n",
              "      <td>Оказание гос. соц. помощи</td>\n",
              "      <td>LOC: Пермь, LOC: Перми</td>\n",
              "      <td>Пермь, г. , +791692145. В Перми с ноября 2021 ...</td>\n",
              "    </tr>\n",
              "    <tr>\n",
              "      <th>2</th>\n",
              "      <td>Министерство социального развития ПК</td>\n",
              "      <td>Социальное обслуживание и защита</td>\n",
              "      <td>Добрый день! Скажите, пожалуйста, если подала ...</td>\n",
              "      <td>Дети и многодетные семьи</td>\n",
              "      <td></td>\n",
              "      <td>Добрый день! Скажите, пожалуйста, если подала ...</td>\n",
              "    </tr>\n",
              "    <tr>\n",
              "      <th>3</th>\n",
              "      <td>Город Пермь</td>\n",
              "      <td>Общественный транспорт</td>\n",
              "      <td>Каждая из них не о чем. Люди на остановках хот...</td>\n",
              "      <td>Содержание остановок</td>\n",
              "      <td></td>\n",
              "      <td>Каждая из них не о чем. Люди на остановках хот...</td>\n",
              "    </tr>\n",
              "    <tr>\n",
              "      <th>4</th>\n",
              "      <td>Министерство здравоохранения</td>\n",
              "      <td>Здравоохранение/Медицина</td>\n",
              "      <td>В Березниках у сына, привитого от коронавируса...</td>\n",
              "      <td>Технические проблемы с записью на прием к врачу</td>\n",
              "      <td>LOC: Березниках</td>\n",
              "      <td>В Березниках у сына, привитого от коронавируса...</td>\n",
              "    </tr>\n",
              "  </tbody>\n",
              "</table>\n",
              "</div>"
            ],
            "text/plain": [
              "                            Исполнитель                        Группа тем  \\\n",
              "0           Лысьвенский городской округ                   Благоустройство   \n",
              "1  Министерство социального развития ПК  Социальное обслуживание и защита   \n",
              "2  Министерство социального развития ПК  Социальное обслуживание и защита   \n",
              "3                           Город Пермь            Общественный транспорт   \n",
              "4          Министерство здравоохранения          Здравоохранение/Медицина   \n",
              "\n",
              "                                     Текст инцидента  \\\n",
              "0  Добрый день. Сегодня, 20 августа, моя мать шла...   \n",
              "1  Пермь, г. , +791692145. В Перми с ноября 2021 ...   \n",
              "2  Добрый день! Скажите, пожалуйста, если подала ...   \n",
              "3  Каждая из них не о чем. Люди на остановках хот...   \n",
              "4  В Березниках у сына, привитого от коронавируса...   \n",
              "\n",
              "                                              Тема                    Ners  \\\n",
              "0                                  ★ Ямы во дворах             LOC: Ленина   \n",
              "1                        Оказание гос. соц. помощи  LOC: Пермь, LOC: Перми   \n",
              "2                         Дети и многодетные семьи                           \n",
              "3                             Содержание остановок                           \n",
              "4  Технические проблемы с записью на прием к врачу         LOC: Березниках   \n",
              "\n",
              "                             full_text_wo_contractor  \n",
              "0  Добрый день. Сегодня, 20 августа, моя мать шла...  \n",
              "1  Пермь, г. , +791692145. В Перми с ноября 2021 ...  \n",
              "2  Добрый день! Скажите, пожалуйста, если подала ...  \n",
              "3  Каждая из них не о чем. Люди на остановках хот...  \n",
              "4  В Березниках у сына, привитого от коронавируса...  "
            ]
          },
          "execution_count": 109,
          "metadata": {},
          "output_type": "execute_result"
        }
      ],
      "source": [
        "def data4contractor_prediction(row):\n",
        "    full_text = f\"{row['Текст инцидента']};\\n{row['Тема']};\\n{row['Группа тем']};\"\n",
        "\n",
        "    if row['Ners']:\n",
        "        full_text += f\"\\n{row['Ners']}\"\n",
        "\n",
        "    return full_text\n",
        "\n",
        "data['full_text_wo_contractor'] = data[['Текст инцидента', 'Тема', 'Группа тем', 'Ners']].apply(data4contractor_prediction, axis=1)\n",
        "data.head()"
      ]
    },
    {
      "cell_type": "code",
      "execution_count": 113,
      "metadata": {},
      "outputs": [
        {
          "name": "stdout",
          "output_type": "stream",
          "text": [
            "Пермь, г. , +791692145. В Перми с ноября 2021 года не работает социальное такси. Каким образом можно получить льготу по проезду в такси в соц учреждения инвалиду 2 группы? Проезд в общественном транспорте не возможен. Да и проездного льготного не представляется.;\n",
            "Оказание гос. соц. помощи;\n",
            "Социальное обслуживание и защита;\n",
            "LOC: Пермь, LOC: Перми\n",
            "\n",
            "Каждая из них не о чем. Люди на остановках хотят укрыться от непогоды или слишком погоды. Присесть, поставить сумку. Лавочки на полторы минуты? Отсутствие или намек на присутствие спинки? Конструкторы, понятно, что не ждут транспорт на остановках. А гаджеты заряжать дома надо. Интерактивные панели и близко не нужны. У каждого в руках телефоны - информации вагон. Разместить коды для быстрого доступа на ресурсы и сайты по транспорту хватит.;\n",
            "Содержание остановок;\n",
            "Общественный транспорт;\n"
          ]
        }
      ],
      "source": [
        "print(data['full_text_wo_contractor'].iloc[1], data['full_text_wo_contractor'].iloc[3], sep='\\n\\n')"
      ]
    },
    {
      "cell_type": "code",
      "execution_count": 114,
      "metadata": {},
      "outputs": [],
      "source": [
        "data.to_csv('data_corrected_spell_ner_full_text.csv', index=False)"
      ]
    },
    {
      "cell_type": "markdown",
      "metadata": {},
      "source": [
        "---"
      ]
    },
    {
      "cell_type": "code",
      "execution_count": 2,
      "metadata": {},
      "outputs": [
        {
          "data": {
            "application/vnd.plotly.v1+json": {
              "config": {
                "plotlyServerURL": "https://plot.ly"
              },
              "data": [
                {
                  "branchvalues": "total",
                  "domain": {
                    "x": [
                      0,
                      1
                    ],
                    "y": [
                      0,
                      1
                    ]
                  },
                  "hovertemplate": "labels=%{label}<br>count=%{value}<br>parent=%{parent}<br>id=%{id}<extra></extra>",
                  "ids": [
                    "Социальное обслуживание и защита/Аварийное жилье/переселение",
                    "Строительство и архитектура/Архитектура города",
                    "Безопасность/Беженцы",
                    "Образование/Безопасность образовательного процесса",
                    "Безопасность/Безопасность общественных пространств",
                    "Благоустройство/Благоустройство общественного пространства (парк, сквер, пешеходная зона, бульвар, набережная, центральная улица или площадь)",
                    "Благоустройство/Благоустройство придомовых территорий",
                    "Благоустройство/Борщевик Сосновского",
                    "Образование/ВУЗы и ССУЗы",
                    "Здравоохранение/Медицина/Вакцинация",
                    "Социальное обслуживание и защита/Волонтерство",
                    "Газ и топливо/Восстановление газоснабжения",
                    "Мусор/Свалки/ТКО/Выброс мусора нарушителем",
                    "Экология/Выбросы вредных веществ в атмосферу/загрязнение воздуха",
                    "Экология/Выбросы вредных веществ в водоёмы/загрязнение водоёмов",
                    "Образование/Выплаты стипендий",
                    "Благоустройство/Вырубка деревьев, кустарников",
                    "МФЦ \"Мои документы\"/Государственные услуги",
                    "Общественный транспорт/График движения общественного транспорта",
                    "ЖКХ/Дезинфекция МКД",
                    "Социальное обслуживание и защита/Дети и многодетные семьи",
                    "Образование/Детские оздоровительные лагеря",
                    "Здравоохранение/Медицина/Диспансеризация",
                    "Образование/Дистанционное образование",
                    "Общественный транспорт/Добавить новый маршрут",
                    "Образование/Дополнительное образование",
                    "Коронавирус/Доступность вакцин",
                    "ЖКХ/Другие проблемы с общедомовой системой водоотведения (канализации)",
                    "Образование/ЕГЭ, ОГЭ",
                    "Коронавирус/Жалобы на врачей",
                    "ЖКХ/Жалобы на управляющие компании",
                    "ЖКХ/Завышение платы за коммунальные услуги",
                    "Социальное обслуживание и защита/Задержка выплат гражданам",
                    "ЖКХ/Залитие квартиры",
                    "Социальное обслуживание и защита/Занятость и трудоустройство",
                    "Газ и топливо/Запрос на газификацию и её условия",
                    "Образование/Зарплата учителей",
                    "Мобилизация/Зарплата, компенсации, поощрения, выплаты",
                    "Здравоохранение/Медицина/Здравоохранение прочее",
                    "Общественный транспорт/Изменение класса и количества автобусов",
                    "Общественный транспорт/Изменить или отменить маршрут",
                    "Социальное обслуживание и защита/Инвалиды",
                    "Образование/Кадровые перестановки",
                    "Электроснабжение/Качество электроснабжения",
                    "Коронавирус/Коронавирус",
                    "Коронавирус/Коронавирусные ограничения",
                    "Культура/Культурно-досуговые мероприятия",
                    "Дороги/Ливневые канализации (строительство и реконструкция)",
                    "ЖКХ/Лифт неисправен или отключен",
                    "Здравоохранение/Медицина/Льготные лекарства",
                    "Общественный транспорт/Льготы на проезд и тарифы",
                    "МФЦ \"Мои документы\"/МФЦ \"Мои документы\"",
                    "Социальное обслуживание и защита/Матери-одиночки, подростки",
                    "Благоустройство/Нарушение правил проведения земляных работ",
                    "Дороги/Нарушение технологии и (или) сроков производства работ",
                    "ЖКХ/Неисправность выступающих конструкций: балконов, козырьков, эркеров, карнизов входных крылец и т. п.",
                    "Дороги/Некачественно выполненный ремонт дорог",
                    "ЖКХ/Некачественный капитальный ремонт",
                    "Общественный транспорт/Некорректное поведение водительского состава",
                    "ЖКХ/Ненадлежащая уборка подъездов и лифтов",
                    "ЖКХ/Ненадлежащее качество или отсутствие отопления",
                    "ЖКХ/Ненадлежащее содержание и эксплуатация МКД",
                    "Благоустройство/Ненадлежащее состояние фасадов нежилых зданий, объектов и ограждений",
                    "Дороги/Необходима установка и замена дорожных ограждений",
                    "ЖКХ/Непригодные для проживания жилые помещения",
                    "Дороги/Несанкционированное ограничение движения, помехи движению, захват земли в полосе отвода автодорог",
                    "Общественный транспорт/Неудовлетворительные условия проезда в транспорте на действующем маршруте",
                    "Здравоохранение/Медицина/Нехватка или сокращение врачей и медицинских учреждений",
                    "Здравоохранение/Медицина/Нехватка материально-технического обеспечения",
                    "Образование/Нехватка мест в школах",
                    "Здравоохранение/Медицина/Низкая заработная плата врачей",
                    "ЖКХ/Низкая температура воды/слабое давление",
                    "Роспотребнадзор/Обработка и уничтожение грызунов (дератизация)",
                    "Образование/Образовательный процесс",
                    "Благоустройство/Обустройство асфальтового покрытия парковки, внутридворового проезда, тротуара, пешеходной дорожки, въезда во двор",
                    "Образование/Общее впечатление",
                    "Социальное обслуживание и защита/Оказание гос. соц. помощи",
                    "Дороги/Организация парковок",
                    "Дороги/Организация переходов, светофоров/Изменить организацию движения",
                    "Дороги/Освещение неисправно или отсутствует",
                    "Безопасность/Отлов безнадзорных собак и кошек",
                    "Здравоохранение/Медицина/Отсутствие аптек",
                    "ЖКХ/Отсутствие горячей воды",
                    "Благоустройство/Отсутствие детских площадок",
                    "Здравоохранение/Медицина/Отсутствие лекарств в аптеках",
                    "Здравоохранение/Медицина/Отсутствие лекарств в стационарах",
                    "Благоустройство/Отсутствие общественных туалетов",
                    "Общественный транспорт/Отсутствие остановочных пунктов",
                    "Благоустройство/Отсутствие фонарей освещения",
                    "ЖКХ/Отсутствие холодной воды",
                    "ЖКХ/Отсутствие электричества",
                    "Здравоохранение/Медицина/Очередь",
                    "Здравоохранение/Медицина/Ошибки врачей, халатность",
                    "Памятники и объекты культурного наследия/Памятники и объекты культурного наследия",
                    "Благоустройство/Парки и зоны отдыха",
                    "Социальное обслуживание и защита/Пенсионеры и ветераны",
                    "ЖКХ/Перепланировка и реконструкция помещений",
                    "Общественный транспорт/Пешеходные переходы и жд переезды",
                    "Образование/Питание",
                    "ЖКХ/Плата за ЖКУ и работа ЕИРЦ",
                    "Мусор/Свалки/ТКО/Плата за вывоз ТКО",
                    "ЖКХ/Плохое качество воды",
                    "Погребение и похоронное дело/Погребение и похоронное дело",
                    "Мобилизация/Поддержка семей мобилизованных",
                    "ЖКХ/Подключение к водоснабжению",
                    "Дороги/Подтопление автомобильных дорог",
                    "Коронавирус/Порядок и пункты вакцинации",
                    "Дороги/Предложение дороги в план ремонта",
                    "Благоустройство/Предложение по благоустройству",
                    "Здравоохранение/Медицина/Предложения по созданию лечебных центров",
                    "Дороги/Предложить установку нового лежачего полицейского (ИДН)",
                    "Дороги/Пробки",
                    "Коронавирус/Проблемы в работе горячих линий",
                    "Мусор/Свалки/ТКО/Проблемы с контейнерами",
                    "Образование/Проблемы с отоплением детских садов и школ",
                    "Общественный транспорт/Проблемы с социальными картами или проездными документами",
                    "Здравоохранение/Медицина/Профильный осмотр",
                    "Дороги/Работа светофора (установка, изменение режима работы, оборудование кнопкой вызова)",
                    "Мусор/Свалки/ТКО/Раздельная сортировка отходов",
                    "Благоустройство/Разрушение тротуаров и пешеходных дорожек",
                    "Государственная собственность/Региональное имущество",
                    "Дороги/Ремонт дороги",
                    "ЖКХ/Ремонт подъездов",
                    "Физическая культура и спорт/Ремонт спортивных учреждений",
                    "Дороги/Ремонт/строительство мостов",
                    "Благоустройство/Самовольная установка ограждений на территории общего пользования",
                    "Коронавирус/Самоизоляция и карантин",
                    "Роспотребнадзор/Санитарно-эпидемиологическое благополучие",
                    "ЖКХ/Сборы за капитальный ремонт",
                    "Коронавирус/Сертификаты и QR-коды",
                    "Здравоохранение/Медицина/Содержание больниц",
                    "Образование/Содержание гос. образовательных организаций",
                    "Дороги/Содержание дорожных знаков/Установка новых дорожных знаков, с внесением в схему дислокации, замена старых знаков на новые",
                    "Общественный транспорт/Содержание остановок",
                    "Дороги/Содержание, ремонт и обустройство тротуаров",
                    "Социальное обслуживание и защита/Создание доступной среды для инвалидов",
                    "Строительство и архитектура/Состояние зданий учреждений и организаций",
                    "Социальное обслуживание и защита/Соц.обслуживание прочее",
                    "Здравоохранение/Медицина/Социальная поддержка медперсонала",
                    "Образование/Социальная поддержка учителей",
                    "Социальное обслуживание и защита/Социальные учреждения",
                    "Спецпроекты/Спецпроекты",
                    "Физическая культура и спорт/Спортивные мероприятия",
                    "Газ и топливо/Сроки газификации",
                    "Газ и топливо/Стоимость, оплата и возврат средств на газификацию",
                    "Строительство и архитектура/Строительство зданий",
                    "Дороги/Строительство или реконструкция дорог",
                    "Мусор/Свалки/ТКО/Строительство объектов по обращению с отходами",
                    "Строительство и архитектура/Строительство социальных объектов",
                    "Физическая культура и спорт/Строительство спортивной инфраструктуры",
                    "Образование/Строительство школ, детских садов",
                    "Коронавирус/Тесты на коронавирус",
                    "Здравоохранение/Медицина/Технические проблемы с записью на прием к врачу",
                    "Экономика и бизнес/Трудоустройство",
                    "Благоустройство/Уборка территорий",
                    "Социальное обслуживание и защита/Улучшение жилищных условий",
                    "Благоустройство/Установка ограждений, препятствующих въезду на тротуар, газон на дворовой территории МКД",
                    "Образование/Устройство в ДОУ",
                    "Культура/Учреждения культуры",
                    "Здравоохранение/Медицина/Хамство медицинских работников",
                    "Экономика и бизнес/Цены и ценообразование",
                    "Дороги/Ямы и выбоины на дороге",
                    "ЖКХ/★ Засор в общедомовой системе водоотведения (канализации)",
                    "ЖКХ/★ Затопление подъездов, подвальных помещений",
                    "Связь и телевидение/★ Информационно-техническая поддержка",
                    "ЖКХ/★ Наледь и сосульки на кровле",
                    "Дороги/★ Нарушение правил очистки дорог от снега и наледи/Обращения о необходимости очистить тротуар от снега и наледи",
                    "Благоустройство/★ Нарушение правил уборки внутридворового проезда, пешеходной дорожки",
                    "Благоустройство/★ Нарушение правил уборки и вывоза загрязненного снега и наледи на газоне",
                    "Благоустройство/★ Нарушение правил уборки и вывоза порубочных остатков",
                    "Благоустройство/★ Нарушение правил уборки от снега и наледи внутридворового проезда, тротуара, площади",
                    "Благоустройство/★ Нарушение правил уборки от снега и наледи детской игровой и спортивной площадки",
                    "Благоустройство/★ Нарушение правил уборки от снега и наледи территории парка и сквера",
                    "Благоустройство/★ Неисправные фонари освещения",
                    "Дороги/★ Некачественно нанесенная разметка на проезжей части",
                    "Благоустройство/★ Ненадлежащее содержание зеленых насаждений (газонов)/деревьев и кустарников",
                    "Благоустройство/★ Ненадлежащее состояние игровых элементов на детской или спортивной площадке",
                    "ЖКХ/★ Несанкционированные надписи, рисунки, реклама на фасаде МКД",
                    "Дороги/★ Несоблюдение правил уборки проезжей части",
                    "Торговля/★ Нестационарная торговля (киоски, павильоны, сезонная торговля)",
                    "Здравоохранение/Медицина/★ Оказание медицинской помощи не в полном объеме/отказ в оказании медицинской помощи",
                    "Благоустройство/★ Открытые канализационные люки",
                    "Мусор/Свалки/ТКО/★ Отсутствие контейнерной площадки/Проезд к контейнерной площадке",
                    "Благоустройство/★ Отсутствие урн, лавочек в общественных местах и дворовой территории",
                    "Благоустройство/★ Парковка на газонах",
                    "Здравоохранение/Медицина/★ Питание в медицинских учреждениях",
                    "Электроснабжение/★ Повреждение опор ЛЭП",
                    "Благоустройство/★ Подтопление территории",
                    "ЖКХ/★ Прорыв трубы/трубопровода",
                    "Здравоохранение/Медицина/★ Просьбы о лечении",
                    "ЖКХ/★ Протечки с кровли (системы водостока)",
                    "Здравоохранение/Медицина/★ Скорая помощь",
                    "Мусор/Свалки/ТКО/★ Стихийные свалки в городе/в парках/в лесу",
                    "Мусор/Свалки/ТКО/★ Уборка/Вывоз мусора",
                    "Благоустройство/★ Ямы во дворах",
                    "Безопасность",
                    "Благоустройство",
                    "Газ и топливо",
                    "Государственная собственность",
                    "Дороги",
                    "ЖКХ",
                    "Здравоохранение/Медицина",
                    "Коронавирус",
                    "Культура",
                    "МФЦ \"Мои документы\"",
                    "Мобилизация",
                    "Мусор/Свалки/ТКО",
                    "Образование",
                    "Общественный транспорт",
                    "Памятники и объекты культурного наследия",
                    "Погребение и похоронное дело",
                    "Роспотребнадзор",
                    "Связь и телевидение",
                    "Социальное обслуживание и защита",
                    "Спецпроекты",
                    "Строительство и архитектура",
                    "Торговля",
                    "Физическая культура и спорт",
                    "Экология",
                    "Экономика и бизнес",
                    "Электроснабжение"
                  ],
                  "labels": [
                    "Аварийное жилье/переселение",
                    "Архитектура города",
                    "Беженцы",
                    "Безопасность образовательного процесса",
                    "Безопасность общественных пространств",
                    "Благоустройство общественного пространства (парк, сквер, пешеходная зона, бульвар, набережная, центральная улица или площадь)",
                    "Благоустройство придомовых территорий",
                    "Борщевик Сосновского",
                    "ВУЗы и ССУЗы",
                    "Вакцинация",
                    "Волонтерство",
                    "Восстановление газоснабжения",
                    "Выброс мусора нарушителем",
                    "Выбросы вредных веществ в атмосферу/загрязнение воздуха",
                    "Выбросы вредных веществ в водоёмы/загрязнение водоёмов",
                    "Выплаты стипендий",
                    "Вырубка деревьев, кустарников",
                    "Государственные услуги",
                    "График движения общественного транспорта",
                    "Дезинфекция МКД",
                    "Дети и многодетные семьи",
                    "Детские оздоровительные лагеря",
                    "Диспансеризация",
                    "Дистанционное образование",
                    "Добавить новый маршрут",
                    "Дополнительное образование",
                    "Доступность вакцин",
                    "Другие проблемы с общедомовой системой водоотведения (канализации)",
                    "ЕГЭ, ОГЭ",
                    "Жалобы на врачей",
                    "Жалобы на управляющие компании",
                    "Завышение платы за коммунальные услуги",
                    "Задержка выплат гражданам",
                    "Залитие квартиры",
                    "Занятость и трудоустройство",
                    "Запрос на газификацию и её условия",
                    "Зарплата учителей",
                    "Зарплата, компенсации, поощрения, выплаты",
                    "Здравоохранение прочее",
                    "Изменение класса и количества автобусов",
                    "Изменить или отменить маршрут",
                    "Инвалиды",
                    "Кадровые перестановки",
                    "Качество электроснабжения",
                    "Коронавирус",
                    "Коронавирусные ограничения",
                    "Культурно-досуговые мероприятия",
                    "Ливневые канализации (строительство и реконструкция)",
                    "Лифт неисправен или отключен",
                    "Льготные лекарства",
                    "Льготы на проезд и тарифы",
                    "МФЦ \"Мои документы\"",
                    "Матери-одиночки, подростки",
                    "Нарушение правил проведения земляных работ",
                    "Нарушение технологии и (или) сроков производства работ",
                    "Неисправность выступающих конструкций: балконов, козырьков, эркеров, карнизов входных крылец и т. п.",
                    "Некачественно выполненный ремонт дорог",
                    "Некачественный капитальный ремонт",
                    "Некорректное поведение водительского состава",
                    "Ненадлежащая уборка подъездов и лифтов",
                    "Ненадлежащее качество или отсутствие отопления",
                    "Ненадлежащее содержание и эксплуатация МКД",
                    "Ненадлежащее состояние фасадов нежилых зданий, объектов и ограждений",
                    "Необходима установка и замена дорожных ограждений",
                    "Непригодные для проживания жилые помещения",
                    "Несанкционированное ограничение движения, помехи движению, захват земли в полосе отвода автодорог",
                    "Неудовлетворительные условия проезда в транспорте на действующем маршруте",
                    "Нехватка или сокращение врачей и медицинских учреждений",
                    "Нехватка материально-технического обеспечения",
                    "Нехватка мест в школах",
                    "Низкая заработная плата врачей",
                    "Низкая температура воды/слабое давление",
                    "Обработка и уничтожение грызунов (дератизация)",
                    "Образовательный процесс",
                    "Обустройство асфальтового покрытия парковки, внутридворового проезда, тротуара, пешеходной дорожки, въезда во двор",
                    "Общее впечатление",
                    "Оказание гос. соц. помощи",
                    "Организация парковок",
                    "Организация переходов, светофоров/Изменить организацию движения",
                    "Освещение неисправно или отсутствует",
                    "Отлов безнадзорных собак и кошек",
                    "Отсутствие аптек",
                    "Отсутствие горячей воды",
                    "Отсутствие детских площадок",
                    "Отсутствие лекарств в аптеках",
                    "Отсутствие лекарств в стационарах",
                    "Отсутствие общественных туалетов",
                    "Отсутствие остановочных пунктов",
                    "Отсутствие фонарей освещения",
                    "Отсутствие холодной воды",
                    "Отсутствие электричества",
                    "Очередь",
                    "Ошибки врачей, халатность",
                    "Памятники и объекты культурного наследия",
                    "Парки и зоны отдыха",
                    "Пенсионеры и ветераны",
                    "Перепланировка и реконструкция помещений",
                    "Пешеходные переходы и жд переезды",
                    "Питание",
                    "Плата за ЖКУ и работа ЕИРЦ",
                    "Плата за вывоз ТКО",
                    "Плохое качество воды",
                    "Погребение и похоронное дело",
                    "Поддержка семей мобилизованных",
                    "Подключение к водоснабжению",
                    "Подтопление автомобильных дорог",
                    "Порядок и пункты вакцинации",
                    "Предложение дороги в план ремонта",
                    "Предложение по благоустройству",
                    "Предложения по созданию лечебных центров",
                    "Предложить установку нового лежачего полицейского (ИДН)",
                    "Пробки",
                    "Проблемы в работе горячих линий",
                    "Проблемы с контейнерами",
                    "Проблемы с отоплением детских садов и школ",
                    "Проблемы с социальными картами или проездными документами",
                    "Профильный осмотр",
                    "Работа светофора (установка, изменение режима работы, оборудование кнопкой вызова)",
                    "Раздельная сортировка отходов",
                    "Разрушение тротуаров и пешеходных дорожек",
                    "Региональное имущество",
                    "Ремонт дороги",
                    "Ремонт подъездов",
                    "Ремонт спортивных учреждений",
                    "Ремонт/строительство мостов",
                    "Самовольная установка ограждений на территории общего пользования",
                    "Самоизоляция и карантин",
                    "Санитарно-эпидемиологическое благополучие",
                    "Сборы за капитальный ремонт",
                    "Сертификаты и QR-коды",
                    "Содержание больниц",
                    "Содержание гос. образовательных организаций",
                    "Содержание дорожных знаков/Установка новых дорожных знаков, с внесением в схему дислокации, замена старых знаков на новые",
                    "Содержание остановок",
                    "Содержание, ремонт и обустройство тротуаров",
                    "Создание доступной среды для инвалидов",
                    "Состояние зданий учреждений и организаций",
                    "Соц.обслуживание прочее",
                    "Социальная поддержка медперсонала",
                    "Социальная поддержка учителей",
                    "Социальные учреждения",
                    "Спецпроекты",
                    "Спортивные мероприятия",
                    "Сроки газификации",
                    "Стоимость, оплата и возврат средств на газификацию",
                    "Строительство зданий",
                    "Строительство или реконструкция дорог",
                    "Строительство объектов по обращению с отходами",
                    "Строительство социальных объектов",
                    "Строительство спортивной инфраструктуры",
                    "Строительство школ, детских садов",
                    "Тесты на коронавирус",
                    "Технические проблемы с записью на прием к врачу",
                    "Трудоустройство",
                    "Уборка территорий",
                    "Улучшение жилищных условий",
                    "Установка ограждений, препятствующих въезду на тротуар, газон на дворовой территории МКД",
                    "Устройство в ДОУ",
                    "Учреждения культуры",
                    "Хамство медицинских работников",
                    "Цены и ценообразование",
                    "Ямы и выбоины на дороге",
                    "★ Засор в общедомовой системе водоотведения (канализации)",
                    "★ Затопление подъездов, подвальных помещений",
                    "★ Информационно-техническая поддержка",
                    "★ Наледь и сосульки на кровле",
                    "★ Нарушение правил очистки дорог от снега и наледи/Обращения о необходимости очистить тротуар от снега и наледи",
                    "★ Нарушение правил уборки внутридворового проезда, пешеходной дорожки",
                    "★ Нарушение правил уборки и вывоза загрязненного снега и наледи на газоне",
                    "★ Нарушение правил уборки и вывоза порубочных остатков",
                    "★ Нарушение правил уборки от снега и наледи внутридворового проезда, тротуара, площади",
                    "★ Нарушение правил уборки от снега и наледи детской игровой и спортивной площадки",
                    "★ Нарушение правил уборки от снега и наледи территории парка и сквера",
                    "★ Неисправные фонари освещения",
                    "★ Некачественно нанесенная разметка на проезжей части",
                    "★ Ненадлежащее содержание зеленых насаждений (газонов)/деревьев и кустарников",
                    "★ Ненадлежащее состояние игровых элементов на детской или спортивной площадке",
                    "★ Несанкционированные надписи, рисунки, реклама на фасаде МКД",
                    "★ Несоблюдение правил уборки проезжей части",
                    "★ Нестационарная торговля (киоски, павильоны, сезонная торговля)",
                    "★ Оказание медицинской помощи не в полном объеме/отказ в оказании медицинской помощи",
                    "★ Открытые канализационные люки",
                    "★ Отсутствие контейнерной площадки/Проезд к контейнерной площадке",
                    "★ Отсутствие урн, лавочек в общественных местах и дворовой территории",
                    "★ Парковка на газонах",
                    "★ Питание в медицинских учреждениях",
                    "★ Повреждение опор ЛЭП",
                    "★ Подтопление территории",
                    "★ Прорыв трубы/трубопровода",
                    "★ Просьбы о лечении",
                    "★ Протечки с кровли (системы водостока)",
                    "★ Скорая помощь",
                    "★ Стихийные свалки в городе/в парках/в лесу",
                    "★ Уборка/Вывоз мусора",
                    "★ Ямы во дворах",
                    "Безопасность",
                    "Благоустройство",
                    "Газ и топливо",
                    "Государственная собственность",
                    "Дороги",
                    "ЖКХ",
                    "Здравоохранение/Медицина",
                    "Коронавирус",
                    "Культура",
                    "МФЦ \"Мои документы\"",
                    "Мобилизация",
                    "Мусор/Свалки/ТКО",
                    "Образование",
                    "Общественный транспорт",
                    "Памятники и объекты культурного наследия",
                    "Погребение и похоронное дело",
                    "Роспотребнадзор",
                    "Связь и телевидение",
                    "Социальное обслуживание и защита",
                    "Спецпроекты",
                    "Строительство и архитектура",
                    "Торговля",
                    "Физическая культура и спорт",
                    "Экология",
                    "Экономика и бизнес",
                    "Электроснабжение"
                  ],
                  "name": "",
                  "parents": [
                    "Социальное обслуживание и защита",
                    "Строительство и архитектура",
                    "Безопасность",
                    "Образование",
                    "Безопасность",
                    "Благоустройство",
                    "Благоустройство",
                    "Благоустройство",
                    "Образование",
                    "Здравоохранение/Медицина",
                    "Социальное обслуживание и защита",
                    "Газ и топливо",
                    "Мусор/Свалки/ТКО",
                    "Экология",
                    "Экология",
                    "Образование",
                    "Благоустройство",
                    "МФЦ \"Мои документы\"",
                    "Общественный транспорт",
                    "ЖКХ",
                    "Социальное обслуживание и защита",
                    "Образование",
                    "Здравоохранение/Медицина",
                    "Образование",
                    "Общественный транспорт",
                    "Образование",
                    "Коронавирус",
                    "ЖКХ",
                    "Образование",
                    "Коронавирус",
                    "ЖКХ",
                    "ЖКХ",
                    "Социальное обслуживание и защита",
                    "ЖКХ",
                    "Социальное обслуживание и защита",
                    "Газ и топливо",
                    "Образование",
                    "Мобилизация",
                    "Здравоохранение/Медицина",
                    "Общественный транспорт",
                    "Общественный транспорт",
                    "Социальное обслуживание и защита",
                    "Образование",
                    "Электроснабжение",
                    "Коронавирус",
                    "Коронавирус",
                    "Культура",
                    "Дороги",
                    "ЖКХ",
                    "Здравоохранение/Медицина",
                    "Общественный транспорт",
                    "МФЦ \"Мои документы\"",
                    "Социальное обслуживание и защита",
                    "Благоустройство",
                    "Дороги",
                    "ЖКХ",
                    "Дороги",
                    "ЖКХ",
                    "Общественный транспорт",
                    "ЖКХ",
                    "ЖКХ",
                    "ЖКХ",
                    "Благоустройство",
                    "Дороги",
                    "ЖКХ",
                    "Дороги",
                    "Общественный транспорт",
                    "Здравоохранение/Медицина",
                    "Здравоохранение/Медицина",
                    "Образование",
                    "Здравоохранение/Медицина",
                    "ЖКХ",
                    "Роспотребнадзор",
                    "Образование",
                    "Благоустройство",
                    "Образование",
                    "Социальное обслуживание и защита",
                    "Дороги",
                    "Дороги",
                    "Дороги",
                    "Безопасность",
                    "Здравоохранение/Медицина",
                    "ЖКХ",
                    "Благоустройство",
                    "Здравоохранение/Медицина",
                    "Здравоохранение/Медицина",
                    "Благоустройство",
                    "Общественный транспорт",
                    "Благоустройство",
                    "ЖКХ",
                    "ЖКХ",
                    "Здравоохранение/Медицина",
                    "Здравоохранение/Медицина",
                    "Памятники и объекты культурного наследия",
                    "Благоустройство",
                    "Социальное обслуживание и защита",
                    "ЖКХ",
                    "Общественный транспорт",
                    "Образование",
                    "ЖКХ",
                    "Мусор/Свалки/ТКО",
                    "ЖКХ",
                    "Погребение и похоронное дело",
                    "Мобилизация",
                    "ЖКХ",
                    "Дороги",
                    "Коронавирус",
                    "Дороги",
                    "Благоустройство",
                    "Здравоохранение/Медицина",
                    "Дороги",
                    "Дороги",
                    "Коронавирус",
                    "Мусор/Свалки/ТКО",
                    "Образование",
                    "Общественный транспорт",
                    "Здравоохранение/Медицина",
                    "Дороги",
                    "Мусор/Свалки/ТКО",
                    "Благоустройство",
                    "Государственная собственность",
                    "Дороги",
                    "ЖКХ",
                    "Физическая культура и спорт",
                    "Дороги",
                    "Благоустройство",
                    "Коронавирус",
                    "Роспотребнадзор",
                    "ЖКХ",
                    "Коронавирус",
                    "Здравоохранение/Медицина",
                    "Образование",
                    "Дороги",
                    "Общественный транспорт",
                    "Дороги",
                    "Социальное обслуживание и защита",
                    "Строительство и архитектура",
                    "Социальное обслуживание и защита",
                    "Здравоохранение/Медицина",
                    "Образование",
                    "Социальное обслуживание и защита",
                    "Спецпроекты",
                    "Физическая культура и спорт",
                    "Газ и топливо",
                    "Газ и топливо",
                    "Строительство и архитектура",
                    "Дороги",
                    "Мусор/Свалки/ТКО",
                    "Строительство и архитектура",
                    "Физическая культура и спорт",
                    "Образование",
                    "Коронавирус",
                    "Здравоохранение/Медицина",
                    "Экономика и бизнес",
                    "Благоустройство",
                    "Социальное обслуживание и защита",
                    "Благоустройство",
                    "Образование",
                    "Культура",
                    "Здравоохранение/Медицина",
                    "Экономика и бизнес",
                    "Дороги",
                    "ЖКХ",
                    "ЖКХ",
                    "Связь и телевидение",
                    "ЖКХ",
                    "Дороги",
                    "Благоустройство",
                    "Благоустройство",
                    "Благоустройство",
                    "Благоустройство",
                    "Благоустройство",
                    "Благоустройство",
                    "Благоустройство",
                    "Дороги",
                    "Благоустройство",
                    "Благоустройство",
                    "ЖКХ",
                    "Дороги",
                    "Торговля",
                    "Здравоохранение/Медицина",
                    "Благоустройство",
                    "Мусор/Свалки/ТКО",
                    "Благоустройство",
                    "Благоустройство",
                    "Здравоохранение/Медицина",
                    "Электроснабжение",
                    "Благоустройство",
                    "ЖКХ",
                    "Здравоохранение/Медицина",
                    "ЖКХ",
                    "Здравоохранение/Медицина",
                    "Мусор/Свалки/ТКО",
                    "Мусор/Свалки/ТКО",
                    "Благоустройство",
                    "",
                    "",
                    "",
                    "",
                    "",
                    "",
                    "",
                    "",
                    "",
                    "",
                    "",
                    "",
                    "",
                    "",
                    "",
                    "",
                    "",
                    "",
                    "",
                    "",
                    "",
                    "",
                    "",
                    "",
                    "",
                    ""
                  ],
                  "type": "sunburst",
                  "values": [
                    1,
                    1,
                    1,
                    1,
                    1,
                    1,
                    1,
                    1,
                    1,
                    1,
                    1,
                    1,
                    1,
                    1,
                    1,
                    1,
                    1,
                    1,
                    1,
                    1,
                    1,
                    1,
                    1,
                    1,
                    1,
                    1,
                    1,
                    1,
                    1,
                    1,
                    1,
                    1,
                    1,
                    1,
                    1,
                    1,
                    1,
                    1,
                    1,
                    1,
                    1,
                    1,
                    1,
                    1,
                    1,
                    1,
                    1,
                    1,
                    1,
                    1,
                    1,
                    1,
                    1,
                    1,
                    1,
                    1,
                    1,
                    1,
                    1,
                    1,
                    1,
                    1,
                    1,
                    1,
                    1,
                    1,
                    1,
                    1,
                    1,
                    1,
                    1,
                    1,
                    1,
                    1,
                    1,
                    1,
                    1,
                    1,
                    1,
                    1,
                    1,
                    1,
                    1,
                    1,
                    1,
                    1,
                    1,
                    1,
                    1,
                    1,
                    1,
                    1,
                    1,
                    1,
                    1,
                    1,
                    1,
                    1,
                    1,
                    1,
                    1,
                    1,
                    1,
                    1,
                    1,
                    1,
                    1,
                    1,
                    1,
                    1,
                    1,
                    1,
                    1,
                    1,
                    1,
                    1,
                    1,
                    1,
                    1,
                    1,
                    1,
                    1,
                    1,
                    1,
                    1,
                    1,
                    1,
                    1,
                    1,
                    1,
                    1,
                    1,
                    1,
                    1,
                    1,
                    1,
                    1,
                    1,
                    1,
                    1,
                    1,
                    1,
                    1,
                    1,
                    1,
                    1,
                    1,
                    1,
                    1,
                    1,
                    1,
                    1,
                    1,
                    1,
                    1,
                    1,
                    1,
                    1,
                    1,
                    1,
                    1,
                    1,
                    1,
                    1,
                    1,
                    1,
                    1,
                    1,
                    1,
                    1,
                    1,
                    1,
                    1,
                    1,
                    1,
                    1,
                    1,
                    1,
                    1,
                    1,
                    1,
                    1,
                    1,
                    1,
                    1,
                    1,
                    1,
                    1,
                    1,
                    1,
                    1,
                    1,
                    1,
                    1,
                    1,
                    3,
                    30,
                    4,
                    1,
                    22,
                    28,
                    22,
                    9,
                    2,
                    2,
                    2,
                    8,
                    18,
                    11,
                    1,
                    1,
                    2,
                    1,
                    13,
                    1,
                    4,
                    1,
                    3,
                    2,
                    2,
                    2
                  ]
                }
              ],
              "layout": {
                "legend": {
                  "tracegroupgap": 0
                },
                "margin": {
                  "t": 60
                },
                "template": {
                  "data": {
                    "bar": [
                      {
                        "error_x": {
                          "color": "#2a3f5f"
                        },
                        "error_y": {
                          "color": "#2a3f5f"
                        },
                        "marker": {
                          "line": {
                            "color": "#E5ECF6",
                            "width": 0.5
                          },
                          "pattern": {
                            "fillmode": "overlay",
                            "size": 10,
                            "solidity": 0.2
                          }
                        },
                        "type": "bar"
                      }
                    ],
                    "barpolar": [
                      {
                        "marker": {
                          "line": {
                            "color": "#E5ECF6",
                            "width": 0.5
                          },
                          "pattern": {
                            "fillmode": "overlay",
                            "size": 10,
                            "solidity": 0.2
                          }
                        },
                        "type": "barpolar"
                      }
                    ],
                    "carpet": [
                      {
                        "aaxis": {
                          "endlinecolor": "#2a3f5f",
                          "gridcolor": "white",
                          "linecolor": "white",
                          "minorgridcolor": "white",
                          "startlinecolor": "#2a3f5f"
                        },
                        "baxis": {
                          "endlinecolor": "#2a3f5f",
                          "gridcolor": "white",
                          "linecolor": "white",
                          "minorgridcolor": "white",
                          "startlinecolor": "#2a3f5f"
                        },
                        "type": "carpet"
                      }
                    ],
                    "choropleth": [
                      {
                        "colorbar": {
                          "outlinewidth": 0,
                          "ticks": ""
                        },
                        "type": "choropleth"
                      }
                    ],
                    "contour": [
                      {
                        "colorbar": {
                          "outlinewidth": 0,
                          "ticks": ""
                        },
                        "colorscale": [
                          [
                            0,
                            "#0d0887"
                          ],
                          [
                            0.1111111111111111,
                            "#46039f"
                          ],
                          [
                            0.2222222222222222,
                            "#7201a8"
                          ],
                          [
                            0.3333333333333333,
                            "#9c179e"
                          ],
                          [
                            0.4444444444444444,
                            "#bd3786"
                          ],
                          [
                            0.5555555555555556,
                            "#d8576b"
                          ],
                          [
                            0.6666666666666666,
                            "#ed7953"
                          ],
                          [
                            0.7777777777777778,
                            "#fb9f3a"
                          ],
                          [
                            0.8888888888888888,
                            "#fdca26"
                          ],
                          [
                            1,
                            "#f0f921"
                          ]
                        ],
                        "type": "contour"
                      }
                    ],
                    "contourcarpet": [
                      {
                        "colorbar": {
                          "outlinewidth": 0,
                          "ticks": ""
                        },
                        "type": "contourcarpet"
                      }
                    ],
                    "heatmap": [
                      {
                        "colorbar": {
                          "outlinewidth": 0,
                          "ticks": ""
                        },
                        "colorscale": [
                          [
                            0,
                            "#0d0887"
                          ],
                          [
                            0.1111111111111111,
                            "#46039f"
                          ],
                          [
                            0.2222222222222222,
                            "#7201a8"
                          ],
                          [
                            0.3333333333333333,
                            "#9c179e"
                          ],
                          [
                            0.4444444444444444,
                            "#bd3786"
                          ],
                          [
                            0.5555555555555556,
                            "#d8576b"
                          ],
                          [
                            0.6666666666666666,
                            "#ed7953"
                          ],
                          [
                            0.7777777777777778,
                            "#fb9f3a"
                          ],
                          [
                            0.8888888888888888,
                            "#fdca26"
                          ],
                          [
                            1,
                            "#f0f921"
                          ]
                        ],
                        "type": "heatmap"
                      }
                    ],
                    "heatmapgl": [
                      {
                        "colorbar": {
                          "outlinewidth": 0,
                          "ticks": ""
                        },
                        "colorscale": [
                          [
                            0,
                            "#0d0887"
                          ],
                          [
                            0.1111111111111111,
                            "#46039f"
                          ],
                          [
                            0.2222222222222222,
                            "#7201a8"
                          ],
                          [
                            0.3333333333333333,
                            "#9c179e"
                          ],
                          [
                            0.4444444444444444,
                            "#bd3786"
                          ],
                          [
                            0.5555555555555556,
                            "#d8576b"
                          ],
                          [
                            0.6666666666666666,
                            "#ed7953"
                          ],
                          [
                            0.7777777777777778,
                            "#fb9f3a"
                          ],
                          [
                            0.8888888888888888,
                            "#fdca26"
                          ],
                          [
                            1,
                            "#f0f921"
                          ]
                        ],
                        "type": "heatmapgl"
                      }
                    ],
                    "histogram": [
                      {
                        "marker": {
                          "pattern": {
                            "fillmode": "overlay",
                            "size": 10,
                            "solidity": 0.2
                          }
                        },
                        "type": "histogram"
                      }
                    ],
                    "histogram2d": [
                      {
                        "colorbar": {
                          "outlinewidth": 0,
                          "ticks": ""
                        },
                        "colorscale": [
                          [
                            0,
                            "#0d0887"
                          ],
                          [
                            0.1111111111111111,
                            "#46039f"
                          ],
                          [
                            0.2222222222222222,
                            "#7201a8"
                          ],
                          [
                            0.3333333333333333,
                            "#9c179e"
                          ],
                          [
                            0.4444444444444444,
                            "#bd3786"
                          ],
                          [
                            0.5555555555555556,
                            "#d8576b"
                          ],
                          [
                            0.6666666666666666,
                            "#ed7953"
                          ],
                          [
                            0.7777777777777778,
                            "#fb9f3a"
                          ],
                          [
                            0.8888888888888888,
                            "#fdca26"
                          ],
                          [
                            1,
                            "#f0f921"
                          ]
                        ],
                        "type": "histogram2d"
                      }
                    ],
                    "histogram2dcontour": [
                      {
                        "colorbar": {
                          "outlinewidth": 0,
                          "ticks": ""
                        },
                        "colorscale": [
                          [
                            0,
                            "#0d0887"
                          ],
                          [
                            0.1111111111111111,
                            "#46039f"
                          ],
                          [
                            0.2222222222222222,
                            "#7201a8"
                          ],
                          [
                            0.3333333333333333,
                            "#9c179e"
                          ],
                          [
                            0.4444444444444444,
                            "#bd3786"
                          ],
                          [
                            0.5555555555555556,
                            "#d8576b"
                          ],
                          [
                            0.6666666666666666,
                            "#ed7953"
                          ],
                          [
                            0.7777777777777778,
                            "#fb9f3a"
                          ],
                          [
                            0.8888888888888888,
                            "#fdca26"
                          ],
                          [
                            1,
                            "#f0f921"
                          ]
                        ],
                        "type": "histogram2dcontour"
                      }
                    ],
                    "mesh3d": [
                      {
                        "colorbar": {
                          "outlinewidth": 0,
                          "ticks": ""
                        },
                        "type": "mesh3d"
                      }
                    ],
                    "parcoords": [
                      {
                        "line": {
                          "colorbar": {
                            "outlinewidth": 0,
                            "ticks": ""
                          }
                        },
                        "type": "parcoords"
                      }
                    ],
                    "pie": [
                      {
                        "automargin": true,
                        "type": "pie"
                      }
                    ],
                    "scatter": [
                      {
                        "fillpattern": {
                          "fillmode": "overlay",
                          "size": 10,
                          "solidity": 0.2
                        },
                        "type": "scatter"
                      }
                    ],
                    "scatter3d": [
                      {
                        "line": {
                          "colorbar": {
                            "outlinewidth": 0,
                            "ticks": ""
                          }
                        },
                        "marker": {
                          "colorbar": {
                            "outlinewidth": 0,
                            "ticks": ""
                          }
                        },
                        "type": "scatter3d"
                      }
                    ],
                    "scattercarpet": [
                      {
                        "marker": {
                          "colorbar": {
                            "outlinewidth": 0,
                            "ticks": ""
                          }
                        },
                        "type": "scattercarpet"
                      }
                    ],
                    "scattergeo": [
                      {
                        "marker": {
                          "colorbar": {
                            "outlinewidth": 0,
                            "ticks": ""
                          }
                        },
                        "type": "scattergeo"
                      }
                    ],
                    "scattergl": [
                      {
                        "marker": {
                          "colorbar": {
                            "outlinewidth": 0,
                            "ticks": ""
                          }
                        },
                        "type": "scattergl"
                      }
                    ],
                    "scattermapbox": [
                      {
                        "marker": {
                          "colorbar": {
                            "outlinewidth": 0,
                            "ticks": ""
                          }
                        },
                        "type": "scattermapbox"
                      }
                    ],
                    "scatterpolar": [
                      {
                        "marker": {
                          "colorbar": {
                            "outlinewidth": 0,
                            "ticks": ""
                          }
                        },
                        "type": "scatterpolar"
                      }
                    ],
                    "scatterpolargl": [
                      {
                        "marker": {
                          "colorbar": {
                            "outlinewidth": 0,
                            "ticks": ""
                          }
                        },
                        "type": "scatterpolargl"
                      }
                    ],
                    "scatterternary": [
                      {
                        "marker": {
                          "colorbar": {
                            "outlinewidth": 0,
                            "ticks": ""
                          }
                        },
                        "type": "scatterternary"
                      }
                    ],
                    "surface": [
                      {
                        "colorbar": {
                          "outlinewidth": 0,
                          "ticks": ""
                        },
                        "colorscale": [
                          [
                            0,
                            "#0d0887"
                          ],
                          [
                            0.1111111111111111,
                            "#46039f"
                          ],
                          [
                            0.2222222222222222,
                            "#7201a8"
                          ],
                          [
                            0.3333333333333333,
                            "#9c179e"
                          ],
                          [
                            0.4444444444444444,
                            "#bd3786"
                          ],
                          [
                            0.5555555555555556,
                            "#d8576b"
                          ],
                          [
                            0.6666666666666666,
                            "#ed7953"
                          ],
                          [
                            0.7777777777777778,
                            "#fb9f3a"
                          ],
                          [
                            0.8888888888888888,
                            "#fdca26"
                          ],
                          [
                            1,
                            "#f0f921"
                          ]
                        ],
                        "type": "surface"
                      }
                    ],
                    "table": [
                      {
                        "cells": {
                          "fill": {
                            "color": "#EBF0F8"
                          },
                          "line": {
                            "color": "white"
                          }
                        },
                        "header": {
                          "fill": {
                            "color": "#C8D4E3"
                          },
                          "line": {
                            "color": "white"
                          }
                        },
                        "type": "table"
                      }
                    ]
                  },
                  "layout": {
                    "annotationdefaults": {
                      "arrowcolor": "#2a3f5f",
                      "arrowhead": 0,
                      "arrowwidth": 1
                    },
                    "autotypenumbers": "strict",
                    "coloraxis": {
                      "colorbar": {
                        "outlinewidth": 0,
                        "ticks": ""
                      }
                    },
                    "colorscale": {
                      "diverging": [
                        [
                          0,
                          "#8e0152"
                        ],
                        [
                          0.1,
                          "#c51b7d"
                        ],
                        [
                          0.2,
                          "#de77ae"
                        ],
                        [
                          0.3,
                          "#f1b6da"
                        ],
                        [
                          0.4,
                          "#fde0ef"
                        ],
                        [
                          0.5,
                          "#f7f7f7"
                        ],
                        [
                          0.6,
                          "#e6f5d0"
                        ],
                        [
                          0.7,
                          "#b8e186"
                        ],
                        [
                          0.8,
                          "#7fbc41"
                        ],
                        [
                          0.9,
                          "#4d9221"
                        ],
                        [
                          1,
                          "#276419"
                        ]
                      ],
                      "sequential": [
                        [
                          0,
                          "#0d0887"
                        ],
                        [
                          0.1111111111111111,
                          "#46039f"
                        ],
                        [
                          0.2222222222222222,
                          "#7201a8"
                        ],
                        [
                          0.3333333333333333,
                          "#9c179e"
                        ],
                        [
                          0.4444444444444444,
                          "#bd3786"
                        ],
                        [
                          0.5555555555555556,
                          "#d8576b"
                        ],
                        [
                          0.6666666666666666,
                          "#ed7953"
                        ],
                        [
                          0.7777777777777778,
                          "#fb9f3a"
                        ],
                        [
                          0.8888888888888888,
                          "#fdca26"
                        ],
                        [
                          1,
                          "#f0f921"
                        ]
                      ],
                      "sequentialminus": [
                        [
                          0,
                          "#0d0887"
                        ],
                        [
                          0.1111111111111111,
                          "#46039f"
                        ],
                        [
                          0.2222222222222222,
                          "#7201a8"
                        ],
                        [
                          0.3333333333333333,
                          "#9c179e"
                        ],
                        [
                          0.4444444444444444,
                          "#bd3786"
                        ],
                        [
                          0.5555555555555556,
                          "#d8576b"
                        ],
                        [
                          0.6666666666666666,
                          "#ed7953"
                        ],
                        [
                          0.7777777777777778,
                          "#fb9f3a"
                        ],
                        [
                          0.8888888888888888,
                          "#fdca26"
                        ],
                        [
                          1,
                          "#f0f921"
                        ]
                      ]
                    },
                    "colorway": [
                      "#636efa",
                      "#EF553B",
                      "#00cc96",
                      "#ab63fa",
                      "#FFA15A",
                      "#19d3f3",
                      "#FF6692",
                      "#B6E880",
                      "#FF97FF",
                      "#FECB52"
                    ],
                    "font": {
                      "color": "#2a3f5f"
                    },
                    "geo": {
                      "bgcolor": "white",
                      "lakecolor": "white",
                      "landcolor": "#E5ECF6",
                      "showlakes": true,
                      "showland": true,
                      "subunitcolor": "white"
                    },
                    "hoverlabel": {
                      "align": "left"
                    },
                    "hovermode": "closest",
                    "mapbox": {
                      "style": "light"
                    },
                    "paper_bgcolor": "white",
                    "plot_bgcolor": "#E5ECF6",
                    "polar": {
                      "angularaxis": {
                        "gridcolor": "white",
                        "linecolor": "white",
                        "ticks": ""
                      },
                      "bgcolor": "#E5ECF6",
                      "radialaxis": {
                        "gridcolor": "white",
                        "linecolor": "white",
                        "ticks": ""
                      }
                    },
                    "scene": {
                      "xaxis": {
                        "backgroundcolor": "#E5ECF6",
                        "gridcolor": "white",
                        "gridwidth": 2,
                        "linecolor": "white",
                        "showbackground": true,
                        "ticks": "",
                        "zerolinecolor": "white"
                      },
                      "yaxis": {
                        "backgroundcolor": "#E5ECF6",
                        "gridcolor": "white",
                        "gridwidth": 2,
                        "linecolor": "white",
                        "showbackground": true,
                        "ticks": "",
                        "zerolinecolor": "white"
                      },
                      "zaxis": {
                        "backgroundcolor": "#E5ECF6",
                        "gridcolor": "white",
                        "gridwidth": 2,
                        "linecolor": "white",
                        "showbackground": true,
                        "ticks": "",
                        "zerolinecolor": "white"
                      }
                    },
                    "shapedefaults": {
                      "line": {
                        "color": "#2a3f5f"
                      }
                    },
                    "ternary": {
                      "aaxis": {
                        "gridcolor": "white",
                        "linecolor": "white",
                        "ticks": ""
                      },
                      "baxis": {
                        "gridcolor": "white",
                        "linecolor": "white",
                        "ticks": ""
                      },
                      "bgcolor": "#E5ECF6",
                      "caxis": {
                        "gridcolor": "white",
                        "linecolor": "white",
                        "ticks": ""
                      }
                    },
                    "title": {
                      "x": 0.05
                    },
                    "xaxis": {
                      "automargin": true,
                      "gridcolor": "white",
                      "linecolor": "white",
                      "ticks": "",
                      "title": {
                        "standoff": 15
                      },
                      "zerolinecolor": "white",
                      "zerolinewidth": 2
                    },
                    "yaxis": {
                      "automargin": true,
                      "gridcolor": "white",
                      "linecolor": "white",
                      "ticks": "",
                      "title": {
                        "standoff": 15
                      },
                      "zerolinecolor": "white",
                      "zerolinewidth": 2
                    }
                  }
                }
              }
            }
          },
          "metadata": {},
          "output_type": "display_data"
        }
      ],
      "source": [
        "import json\n",
        "import pandas as pd\n",
        "import plotly.express as px\n",
        "\n",
        "\n",
        "big_topic_path = 'topic2big_topic.json'\n",
        "\n",
        "with open(big_topic_path, 'r', encoding='UTF-8') as file:\n",
        "    json_dict = json.load(file)\n",
        "\n",
        "df = pd.DataFrame(list(json_dict.items()), columns=['Тема', 'Группа тем'])\n",
        "\n",
        "fig = px.sunburst(df, path=['Группа тем', 'Тема'])\n",
        "fig.show()"
      ]
    }
  ],
  "metadata": {
    "accelerator": "GPU",
    "colab": {
      "gpuType": "T4",
      "provenance": []
    },
    "kernelspec": {
      "display_name": "Python 3",
      "name": "python3"
    },
    "language_info": {
      "codemirror_mode": {
        "name": "ipython",
        "version": 3
      },
      "file_extension": ".py",
      "mimetype": "text/x-python",
      "name": "python",
      "nbconvert_exporter": "python",
      "pygments_lexer": "ipython3",
      "version": "3.11.5"
    },
    "orig_nbformat": 4,
    "vscode": {
      "interpreter": {
        "hash": "e7370f93d1d0cde622a1f8e1c04877d8463912d04d973331ad4851f04de6915a"
      }
    },
    "widgets": {
      "application/vnd.jupyter.widget-state+json": {
        "01835f206386437dbea88a74d8507399": {
          "model_module": "@jupyter-widgets/controls",
          "model_module_version": "1.5.0",
          "model_name": "ProgressStyleModel",
          "state": {
            "_model_module": "@jupyter-widgets/controls",
            "_model_module_version": "1.5.0",
            "_model_name": "ProgressStyleModel",
            "_view_count": null,
            "_view_module": "@jupyter-widgets/base",
            "_view_module_version": "1.2.0",
            "_view_name": "StyleView",
            "bar_color": null,
            "description_width": ""
          }
        },
        "019eb41538dc405f8860350a39bb6acf": {
          "model_module": "@jupyter-widgets/base",
          "model_module_version": "1.2.0",
          "model_name": "LayoutModel",
          "state": {
            "_model_module": "@jupyter-widgets/base",
            "_model_module_version": "1.2.0",
            "_model_name": "LayoutModel",
            "_view_count": null,
            "_view_module": "@jupyter-widgets/base",
            "_view_module_version": "1.2.0",
            "_view_name": "LayoutView",
            "align_content": null,
            "align_items": null,
            "align_self": null,
            "border": null,
            "bottom": null,
            "display": null,
            "flex": null,
            "flex_flow": null,
            "grid_area": null,
            "grid_auto_columns": null,
            "grid_auto_flow": null,
            "grid_auto_rows": null,
            "grid_column": null,
            "grid_gap": null,
            "grid_row": null,
            "grid_template_areas": null,
            "grid_template_columns": null,
            "grid_template_rows": null,
            "height": null,
            "justify_content": null,
            "justify_items": null,
            "left": null,
            "margin": null,
            "max_height": null,
            "max_width": null,
            "min_height": null,
            "min_width": null,
            "object_fit": null,
            "object_position": null,
            "order": null,
            "overflow": null,
            "overflow_x": null,
            "overflow_y": null,
            "padding": null,
            "right": null,
            "top": null,
            "visibility": null,
            "width": null
          }
        },
        "0b2c7cf6fd56402e8fa143a256044d18": {
          "model_module": "@jupyter-widgets/controls",
          "model_module_version": "1.5.0",
          "model_name": "DescriptionStyleModel",
          "state": {
            "_model_module": "@jupyter-widgets/controls",
            "_model_module_version": "1.5.0",
            "_model_name": "DescriptionStyleModel",
            "_view_count": null,
            "_view_module": "@jupyter-widgets/base",
            "_view_module_version": "1.2.0",
            "_view_name": "StyleView",
            "description_width": ""
          }
        },
        "0b813b76a1ef4dcf93f51736730b4d0c": {
          "model_module": "@jupyter-widgets/base",
          "model_module_version": "1.2.0",
          "model_name": "LayoutModel",
          "state": {
            "_model_module": "@jupyter-widgets/base",
            "_model_module_version": "1.2.0",
            "_model_name": "LayoutModel",
            "_view_count": null,
            "_view_module": "@jupyter-widgets/base",
            "_view_module_version": "1.2.0",
            "_view_name": "LayoutView",
            "align_content": null,
            "align_items": null,
            "align_self": null,
            "border": null,
            "bottom": null,
            "display": null,
            "flex": null,
            "flex_flow": null,
            "grid_area": null,
            "grid_auto_columns": null,
            "grid_auto_flow": null,
            "grid_auto_rows": null,
            "grid_column": null,
            "grid_gap": null,
            "grid_row": null,
            "grid_template_areas": null,
            "grid_template_columns": null,
            "grid_template_rows": null,
            "height": null,
            "justify_content": null,
            "justify_items": null,
            "left": null,
            "margin": null,
            "max_height": null,
            "max_width": null,
            "min_height": null,
            "min_width": null,
            "object_fit": null,
            "object_position": null,
            "order": null,
            "overflow": null,
            "overflow_x": null,
            "overflow_y": null,
            "padding": null,
            "right": null,
            "top": null,
            "visibility": null,
            "width": null
          }
        },
        "0bfb72c22bb641158f56452c46be158c": {
          "model_module": "@jupyter-widgets/controls",
          "model_module_version": "1.5.0",
          "model_name": "HTMLModel",
          "state": {
            "_dom_classes": [],
            "_model_module": "@jupyter-widgets/controls",
            "_model_module_version": "1.5.0",
            "_model_name": "HTMLModel",
            "_view_count": null,
            "_view_module": "@jupyter-widgets/controls",
            "_view_module_version": "1.5.0",
            "_view_name": "HTMLView",
            "description": "",
            "description_tooltip": null,
            "layout": "IPY_MODEL_70cb22d7830640aba60121e99a31054a",
            "placeholder": "​",
            "style": "IPY_MODEL_e3f33255e2ef46809b22d455f2e7b958",
            "value": " 401/401 [00:00&lt;00:00, 9.62kB/s]"
          }
        },
        "100887629d404a0e91b60aa8e6112d67": {
          "model_module": "@jupyter-widgets/base",
          "model_module_version": "1.2.0",
          "model_name": "LayoutModel",
          "state": {
            "_model_module": "@jupyter-widgets/base",
            "_model_module_version": "1.2.0",
            "_model_name": "LayoutModel",
            "_view_count": null,
            "_view_module": "@jupyter-widgets/base",
            "_view_module_version": "1.2.0",
            "_view_name": "LayoutView",
            "align_content": null,
            "align_items": null,
            "align_self": null,
            "border": null,
            "bottom": null,
            "display": null,
            "flex": null,
            "flex_flow": null,
            "grid_area": null,
            "grid_auto_columns": null,
            "grid_auto_flow": null,
            "grid_auto_rows": null,
            "grid_column": null,
            "grid_gap": null,
            "grid_row": null,
            "grid_template_areas": null,
            "grid_template_columns": null,
            "grid_template_rows": null,
            "height": null,
            "justify_content": null,
            "justify_items": null,
            "left": null,
            "margin": null,
            "max_height": null,
            "max_width": null,
            "min_height": null,
            "min_width": null,
            "object_fit": null,
            "object_position": null,
            "order": null,
            "overflow": null,
            "overflow_x": null,
            "overflow_y": null,
            "padding": null,
            "right": null,
            "top": null,
            "visibility": null,
            "width": null
          }
        },
        "14ef91b498ca4830b39f1b8b96f20a53": {
          "model_module": "@jupyter-widgets/controls",
          "model_module_version": "1.5.0",
          "model_name": "HTMLModel",
          "state": {
            "_dom_classes": [],
            "_model_module": "@jupyter-widgets/controls",
            "_model_module_version": "1.5.0",
            "_model_name": "HTMLModel",
            "_view_count": null,
            "_view_module": "@jupyter-widgets/controls",
            "_view_module_version": "1.5.0",
            "_view_name": "HTMLView",
            "description": "",
            "description_tooltip": null,
            "layout": "IPY_MODEL_1717fbb5407f4d648d63684f8469d6b9",
            "placeholder": "​",
            "style": "IPY_MODEL_8db8abab20784dedb11cd4a7b28ff411",
            "value": " 18%"
          }
        },
        "14fe7dfe4c0f42dcb11a6c356555e2ac": {
          "model_module": "@jupyter-widgets/base",
          "model_module_version": "1.2.0",
          "model_name": "LayoutModel",
          "state": {
            "_model_module": "@jupyter-widgets/base",
            "_model_module_version": "1.2.0",
            "_model_name": "LayoutModel",
            "_view_count": null,
            "_view_module": "@jupyter-widgets/base",
            "_view_module_version": "1.2.0",
            "_view_name": "LayoutView",
            "align_content": null,
            "align_items": null,
            "align_self": null,
            "border": null,
            "bottom": null,
            "display": null,
            "flex": null,
            "flex_flow": null,
            "grid_area": null,
            "grid_auto_columns": null,
            "grid_auto_flow": null,
            "grid_auto_rows": null,
            "grid_column": null,
            "grid_gap": null,
            "grid_row": null,
            "grid_template_areas": null,
            "grid_template_columns": null,
            "grid_template_rows": null,
            "height": null,
            "justify_content": null,
            "justify_items": null,
            "left": null,
            "margin": null,
            "max_height": null,
            "max_width": null,
            "min_height": null,
            "min_width": null,
            "object_fit": null,
            "object_position": null,
            "order": null,
            "overflow": null,
            "overflow_x": null,
            "overflow_y": null,
            "padding": null,
            "right": null,
            "top": null,
            "visibility": null,
            "width": null
          }
        },
        "1717fbb5407f4d648d63684f8469d6b9": {
          "model_module": "@jupyter-widgets/base",
          "model_module_version": "1.2.0",
          "model_name": "LayoutModel",
          "state": {
            "_model_module": "@jupyter-widgets/base",
            "_model_module_version": "1.2.0",
            "_model_name": "LayoutModel",
            "_view_count": null,
            "_view_module": "@jupyter-widgets/base",
            "_view_module_version": "1.2.0",
            "_view_name": "LayoutView",
            "align_content": null,
            "align_items": null,
            "align_self": null,
            "border": null,
            "bottom": null,
            "display": null,
            "flex": null,
            "flex_flow": null,
            "grid_area": null,
            "grid_auto_columns": null,
            "grid_auto_flow": null,
            "grid_auto_rows": null,
            "grid_column": null,
            "grid_gap": null,
            "grid_row": null,
            "grid_template_areas": null,
            "grid_template_columns": null,
            "grid_template_rows": null,
            "height": null,
            "justify_content": null,
            "justify_items": null,
            "left": null,
            "margin": null,
            "max_height": null,
            "max_width": null,
            "min_height": null,
            "min_width": null,
            "object_fit": null,
            "object_position": null,
            "order": null,
            "overflow": null,
            "overflow_x": null,
            "overflow_y": null,
            "padding": null,
            "right": null,
            "top": null,
            "visibility": null,
            "width": null
          }
        },
        "1a03ef34f58e420ebb46f744ce710678": {
          "model_module": "@jupyter-widgets/base",
          "model_module_version": "1.2.0",
          "model_name": "LayoutModel",
          "state": {
            "_model_module": "@jupyter-widgets/base",
            "_model_module_version": "1.2.0",
            "_model_name": "LayoutModel",
            "_view_count": null,
            "_view_module": "@jupyter-widgets/base",
            "_view_module_version": "1.2.0",
            "_view_name": "LayoutView",
            "align_content": null,
            "align_items": null,
            "align_self": null,
            "border": null,
            "bottom": null,
            "display": null,
            "flex": null,
            "flex_flow": null,
            "grid_area": null,
            "grid_auto_columns": null,
            "grid_auto_flow": null,
            "grid_auto_rows": null,
            "grid_column": null,
            "grid_gap": null,
            "grid_row": null,
            "grid_template_areas": null,
            "grid_template_columns": null,
            "grid_template_rows": null,
            "height": null,
            "justify_content": null,
            "justify_items": null,
            "left": null,
            "margin": null,
            "max_height": null,
            "max_width": null,
            "min_height": null,
            "min_width": null,
            "object_fit": null,
            "object_position": null,
            "order": null,
            "overflow": null,
            "overflow_x": null,
            "overflow_y": null,
            "padding": null,
            "right": null,
            "top": null,
            "visibility": null,
            "width": null
          }
        },
        "1beaf893af6d48d296ce8fb4c9c32991": {
          "model_module": "@jupyter-widgets/base",
          "model_module_version": "1.2.0",
          "model_name": "LayoutModel",
          "state": {
            "_model_module": "@jupyter-widgets/base",
            "_model_module_version": "1.2.0",
            "_model_name": "LayoutModel",
            "_view_count": null,
            "_view_module": "@jupyter-widgets/base",
            "_view_module_version": "1.2.0",
            "_view_name": "LayoutView",
            "align_content": null,
            "align_items": null,
            "align_self": null,
            "border": null,
            "bottom": null,
            "display": null,
            "flex": null,
            "flex_flow": null,
            "grid_area": null,
            "grid_auto_columns": null,
            "grid_auto_flow": null,
            "grid_auto_rows": null,
            "grid_column": null,
            "grid_gap": null,
            "grid_row": null,
            "grid_template_areas": null,
            "grid_template_columns": null,
            "grid_template_rows": null,
            "height": null,
            "justify_content": null,
            "justify_items": null,
            "left": null,
            "margin": null,
            "max_height": null,
            "max_width": null,
            "min_height": null,
            "min_width": null,
            "object_fit": null,
            "object_position": null,
            "order": null,
            "overflow": null,
            "overflow_x": null,
            "overflow_y": null,
            "padding": null,
            "right": null,
            "top": null,
            "visibility": null,
            "width": null
          }
        },
        "1c20be830f314cec803c48899079d27d": {
          "model_module": "@jupyter-widgets/controls",
          "model_module_version": "1.5.0",
          "model_name": "DescriptionStyleModel",
          "state": {
            "_model_module": "@jupyter-widgets/controls",
            "_model_module_version": "1.5.0",
            "_model_name": "DescriptionStyleModel",
            "_view_count": null,
            "_view_module": "@jupyter-widgets/base",
            "_view_module_version": "1.2.0",
            "_view_name": "StyleView",
            "description_width": ""
          }
        },
        "1c22e3120fe84e30b6eff63016d7eadb": {
          "model_module": "@jupyter-widgets/controls",
          "model_module_version": "1.5.0",
          "model_name": "DescriptionStyleModel",
          "state": {
            "_model_module": "@jupyter-widgets/controls",
            "_model_module_version": "1.5.0",
            "_model_name": "DescriptionStyleModel",
            "_view_count": null,
            "_view_module": "@jupyter-widgets/base",
            "_view_module_version": "1.2.0",
            "_view_name": "StyleView",
            "description_width": ""
          }
        },
        "203bfcd84edd444eb497a6f77c2fea00": {
          "model_module": "@jupyter-widgets/controls",
          "model_module_version": "1.5.0",
          "model_name": "HTMLModel",
          "state": {
            "_dom_classes": [],
            "_model_module": "@jupyter-widgets/controls",
            "_model_module_version": "1.5.0",
            "_model_name": "HTMLModel",
            "_view_count": null,
            "_view_module": "@jupyter-widgets/controls",
            "_view_module_version": "1.5.0",
            "_view_name": "HTMLView",
            "description": "",
            "description_tooltip": null,
            "layout": "IPY_MODEL_e68bbb686d2647f988456edccaa33624",
            "placeholder": "​",
            "style": "IPY_MODEL_0b2c7cf6fd56402e8fa143a256044d18",
            "value": "config.json: 100%"
          }
        },
        "21173252b5864a4b804edc0fc8d1e73c": {
          "model_module": "@jupyter-widgets/controls",
          "model_module_version": "1.5.0",
          "model_name": "HTMLModel",
          "state": {
            "_dom_classes": [],
            "_model_module": "@jupyter-widgets/controls",
            "_model_module_version": "1.5.0",
            "_model_name": "HTMLModel",
            "_view_count": null,
            "_view_module": "@jupyter-widgets/controls",
            "_view_module_version": "1.5.0",
            "_view_name": "HTMLView",
            "description": "",
            "description_tooltip": null,
            "layout": "IPY_MODEL_79c7b85c07e94deb8f62db11bb6739cb",
            "placeholder": "​",
            "style": "IPY_MODEL_713f655142bf46f893d56d1e1217ff94",
            "value": " 693/693 [00:00&lt;00:00, 17.9kB/s]"
          }
        },
        "2572aa9f79814d989b2246d108b56a0d": {
          "model_module": "@jupyter-widgets/base",
          "model_module_version": "1.2.0",
          "model_name": "LayoutModel",
          "state": {
            "_model_module": "@jupyter-widgets/base",
            "_model_module_version": "1.2.0",
            "_model_name": "LayoutModel",
            "_view_count": null,
            "_view_module": "@jupyter-widgets/base",
            "_view_module_version": "1.2.0",
            "_view_name": "LayoutView",
            "align_content": null,
            "align_items": null,
            "align_self": null,
            "border": null,
            "bottom": null,
            "display": null,
            "flex": null,
            "flex_flow": null,
            "grid_area": null,
            "grid_auto_columns": null,
            "grid_auto_flow": null,
            "grid_auto_rows": null,
            "grid_column": null,
            "grid_gap": null,
            "grid_row": null,
            "grid_template_areas": null,
            "grid_template_columns": null,
            "grid_template_rows": null,
            "height": null,
            "justify_content": null,
            "justify_items": null,
            "left": null,
            "margin": null,
            "max_height": null,
            "max_width": null,
            "min_height": null,
            "min_width": null,
            "object_fit": null,
            "object_position": null,
            "order": null,
            "overflow": null,
            "overflow_x": null,
            "overflow_y": null,
            "padding": null,
            "right": null,
            "top": null,
            "visibility": null,
            "width": null
          }
        },
        "2762db7873fa4a2fb11034d7a58387f5": {
          "model_module": "@jupyter-widgets/controls",
          "model_module_version": "1.5.0",
          "model_name": "FloatProgressModel",
          "state": {
            "_dom_classes": [],
            "_model_module": "@jupyter-widgets/controls",
            "_model_module_version": "1.5.0",
            "_model_name": "FloatProgressModel",
            "_view_count": null,
            "_view_module": "@jupyter-widgets/controls",
            "_view_module_version": "1.5.0",
            "_view_name": "ProgressView",
            "bar_style": "success",
            "description": "",
            "description_tooltip": null,
            "layout": "IPY_MODEL_c0568c74f10e4db3b83ee25355ebce1c",
            "max": 117529600,
            "min": 0,
            "orientation": "horizontal",
            "style": "IPY_MODEL_01835f206386437dbea88a74d8507399",
            "value": 117529600
          }
        },
        "2bec3fe3ecce4f39b8ad5c18e24d926c": {
          "model_module": "@jupyter-widgets/base",
          "model_module_version": "1.2.0",
          "model_name": "LayoutModel",
          "state": {
            "_model_module": "@jupyter-widgets/base",
            "_model_module_version": "1.2.0",
            "_model_name": "LayoutModel",
            "_view_count": null,
            "_view_module": "@jupyter-widgets/base",
            "_view_module_version": "1.2.0",
            "_view_name": "LayoutView",
            "align_content": null,
            "align_items": null,
            "align_self": null,
            "border": null,
            "bottom": null,
            "display": null,
            "flex": null,
            "flex_flow": null,
            "grid_area": null,
            "grid_auto_columns": null,
            "grid_auto_flow": null,
            "grid_auto_rows": null,
            "grid_column": null,
            "grid_gap": null,
            "grid_row": null,
            "grid_template_areas": null,
            "grid_template_columns": null,
            "grid_template_rows": null,
            "height": null,
            "justify_content": null,
            "justify_items": null,
            "left": null,
            "margin": null,
            "max_height": null,
            "max_width": null,
            "min_height": null,
            "min_width": null,
            "object_fit": null,
            "object_position": null,
            "order": null,
            "overflow": null,
            "overflow_x": null,
            "overflow_y": null,
            "padding": null,
            "right": null,
            "top": null,
            "visibility": null,
            "width": null
          }
        },
        "2e8233aadb4e40419dd64d8f4dbb8c2f": {
          "model_module": "@jupyter-widgets/controls",
          "model_module_version": "1.5.0",
          "model_name": "HTMLModel",
          "state": {
            "_dom_classes": [],
            "_model_module": "@jupyter-widgets/controls",
            "_model_module_version": "1.5.0",
            "_model_name": "HTMLModel",
            "_view_count": null,
            "_view_module": "@jupyter-widgets/controls",
            "_view_module_version": "1.5.0",
            "_view_name": "HTMLView",
            "description": "",
            "description_tooltip": null,
            "layout": "IPY_MODEL_366d590dc6b14c29a07c8393e35fad73",
            "placeholder": "​",
            "style": "IPY_MODEL_51947f0d0c464a17b692a18c8def1d8d",
            "value": "special_tokens_map.json: 100%"
          }
        },
        "3205f414aeac40e198a095c8536bbb6a": {
          "model_module": "@jupyter-widgets/controls",
          "model_module_version": "1.5.0",
          "model_name": "FloatProgressModel",
          "state": {
            "_dom_classes": [],
            "_model_module": "@jupyter-widgets/controls",
            "_model_module_version": "1.5.0",
            "_model_name": "FloatProgressModel",
            "_view_count": null,
            "_view_module": "@jupyter-widgets/controls",
            "_view_module_version": "1.5.0",
            "_view_name": "ProgressView",
            "bar_style": "danger",
            "description": "",
            "description_tooltip": null,
            "layout": "IPY_MODEL_2bec3fe3ecce4f39b8ad5c18e24d926c",
            "max": 22490,
            "min": 0,
            "orientation": "horizontal",
            "style": "IPY_MODEL_dc1cff3aab734a269cdfc56e8e51b965",
            "value": 4160
          }
        },
        "327dbd5628c14a46a627ba70fa65f2b6": {
          "model_module": "@jupyter-widgets/controls",
          "model_module_version": "1.5.0",
          "model_name": "HTMLModel",
          "state": {
            "_dom_classes": [],
            "_model_module": "@jupyter-widgets/controls",
            "_model_module_version": "1.5.0",
            "_model_name": "HTMLModel",
            "_view_count": null,
            "_view_module": "@jupyter-widgets/controls",
            "_view_module_version": "1.5.0",
            "_view_name": "HTMLView",
            "description": "",
            "description_tooltip": null,
            "layout": "IPY_MODEL_dbfe1de627994ee38e94d4adeaefa658",
            "placeholder": "​",
            "style": "IPY_MODEL_992f60946c25402bbb47407f3047d6ec",
            "value": " 112/112 [00:00&lt;00:00, 3.27kB/s]"
          }
        },
        "33b2629d90504b00af1b0384fb3b19db": {
          "model_module": "@jupyter-widgets/controls",
          "model_module_version": "1.5.0",
          "model_name": "HBoxModel",
          "state": {
            "_dom_classes": [],
            "_model_module": "@jupyter-widgets/controls",
            "_model_module_version": "1.5.0",
            "_model_name": "HBoxModel",
            "_view_count": null,
            "_view_module": "@jupyter-widgets/controls",
            "_view_module_version": "1.5.0",
            "_view_name": "HBoxView",
            "box_style": "",
            "children": [
              "IPY_MODEL_7f7d5be088e14319a03caf95d002d6a3",
              "IPY_MODEL_4348dc5fc959431c8b18c54f4e55afc8",
              "IPY_MODEL_0bfb72c22bb641158f56452c46be158c"
            ],
            "layout": "IPY_MODEL_7084c3014841460f8e389bde8d0a6464"
          }
        },
        "3655edfdd2d14fa5b75db571c585d4c9": {
          "model_module": "@jupyter-widgets/base",
          "model_module_version": "1.2.0",
          "model_name": "LayoutModel",
          "state": {
            "_model_module": "@jupyter-widgets/base",
            "_model_module_version": "1.2.0",
            "_model_name": "LayoutModel",
            "_view_count": null,
            "_view_module": "@jupyter-widgets/base",
            "_view_module_version": "1.2.0",
            "_view_name": "LayoutView",
            "align_content": null,
            "align_items": null,
            "align_self": null,
            "border": null,
            "bottom": null,
            "display": null,
            "flex": null,
            "flex_flow": null,
            "grid_area": null,
            "grid_auto_columns": null,
            "grid_auto_flow": null,
            "grid_auto_rows": null,
            "grid_column": null,
            "grid_gap": null,
            "grid_row": null,
            "grid_template_areas": null,
            "grid_template_columns": null,
            "grid_template_rows": null,
            "height": null,
            "justify_content": null,
            "justify_items": null,
            "left": null,
            "margin": null,
            "max_height": null,
            "max_width": null,
            "min_height": null,
            "min_width": null,
            "object_fit": null,
            "object_position": null,
            "order": null,
            "overflow": null,
            "overflow_x": null,
            "overflow_y": null,
            "padding": null,
            "right": null,
            "top": null,
            "visibility": null,
            "width": null
          }
        },
        "366d590dc6b14c29a07c8393e35fad73": {
          "model_module": "@jupyter-widgets/base",
          "model_module_version": "1.2.0",
          "model_name": "LayoutModel",
          "state": {
            "_model_module": "@jupyter-widgets/base",
            "_model_module_version": "1.2.0",
            "_model_name": "LayoutModel",
            "_view_count": null,
            "_view_module": "@jupyter-widgets/base",
            "_view_module_version": "1.2.0",
            "_view_name": "LayoutView",
            "align_content": null,
            "align_items": null,
            "align_self": null,
            "border": null,
            "bottom": null,
            "display": null,
            "flex": null,
            "flex_flow": null,
            "grid_area": null,
            "grid_auto_columns": null,
            "grid_auto_flow": null,
            "grid_auto_rows": null,
            "grid_column": null,
            "grid_gap": null,
            "grid_row": null,
            "grid_template_areas": null,
            "grid_template_columns": null,
            "grid_template_rows": null,
            "height": null,
            "justify_content": null,
            "justify_items": null,
            "left": null,
            "margin": null,
            "max_height": null,
            "max_width": null,
            "min_height": null,
            "min_width": null,
            "object_fit": null,
            "object_position": null,
            "order": null,
            "overflow": null,
            "overflow_x": null,
            "overflow_y": null,
            "padding": null,
            "right": null,
            "top": null,
            "visibility": null,
            "width": null
          }
        },
        "39396baf9c7044358a2548acab1bcdb8": {
          "model_module": "@jupyter-widgets/base",
          "model_module_version": "1.2.0",
          "model_name": "LayoutModel",
          "state": {
            "_model_module": "@jupyter-widgets/base",
            "_model_module_version": "1.2.0",
            "_model_name": "LayoutModel",
            "_view_count": null,
            "_view_module": "@jupyter-widgets/base",
            "_view_module_version": "1.2.0",
            "_view_name": "LayoutView",
            "align_content": null,
            "align_items": null,
            "align_self": null,
            "border": null,
            "bottom": null,
            "display": null,
            "flex": null,
            "flex_flow": null,
            "grid_area": null,
            "grid_auto_columns": null,
            "grid_auto_flow": null,
            "grid_auto_rows": null,
            "grid_column": null,
            "grid_gap": null,
            "grid_row": null,
            "grid_template_areas": null,
            "grid_template_columns": null,
            "grid_template_rows": null,
            "height": null,
            "justify_content": null,
            "justify_items": null,
            "left": null,
            "margin": null,
            "max_height": null,
            "max_width": null,
            "min_height": null,
            "min_width": null,
            "object_fit": null,
            "object_position": null,
            "order": null,
            "overflow": null,
            "overflow_x": null,
            "overflow_y": null,
            "padding": null,
            "right": null,
            "top": null,
            "visibility": null,
            "width": null
          }
        },
        "4348dc5fc959431c8b18c54f4e55afc8": {
          "model_module": "@jupyter-widgets/controls",
          "model_module_version": "1.5.0",
          "model_name": "FloatProgressModel",
          "state": {
            "_dom_classes": [],
            "_model_module": "@jupyter-widgets/controls",
            "_model_module_version": "1.5.0",
            "_model_name": "FloatProgressModel",
            "_view_count": null,
            "_view_module": "@jupyter-widgets/controls",
            "_view_module_version": "1.5.0",
            "_view_name": "ProgressView",
            "bar_style": "success",
            "description": "",
            "description_tooltip": null,
            "layout": "IPY_MODEL_0b813b76a1ef4dcf93f51736730b4d0c",
            "max": 401,
            "min": 0,
            "orientation": "horizontal",
            "style": "IPY_MODEL_9379dead24ae4c8192354a8bf5028191",
            "value": 401
          }
        },
        "4c00b8cc5b2c4f52a18fb580f7bd6cd0": {
          "model_module": "@jupyter-widgets/controls",
          "model_module_version": "1.5.0",
          "model_name": "HBoxModel",
          "state": {
            "_dom_classes": [],
            "_model_module": "@jupyter-widgets/controls",
            "_model_module_version": "1.5.0",
            "_model_name": "HBoxModel",
            "_view_count": null,
            "_view_module": "@jupyter-widgets/controls",
            "_view_module_version": "1.5.0",
            "_view_name": "HBoxView",
            "box_style": "",
            "children": [
              "IPY_MODEL_2e8233aadb4e40419dd64d8f4dbb8c2f",
              "IPY_MODEL_4e59c425a7404056afa6c4fb39c18100",
              "IPY_MODEL_327dbd5628c14a46a627ba70fa65f2b6"
            ],
            "layout": "IPY_MODEL_4f2249e7239f40e09a1f18afb892d1b4"
          }
        },
        "4e59c425a7404056afa6c4fb39c18100": {
          "model_module": "@jupyter-widgets/controls",
          "model_module_version": "1.5.0",
          "model_name": "FloatProgressModel",
          "state": {
            "_dom_classes": [],
            "_model_module": "@jupyter-widgets/controls",
            "_model_module_version": "1.5.0",
            "_model_name": "FloatProgressModel",
            "_view_count": null,
            "_view_module": "@jupyter-widgets/controls",
            "_view_module_version": "1.5.0",
            "_view_name": "ProgressView",
            "bar_style": "success",
            "description": "",
            "description_tooltip": null,
            "layout": "IPY_MODEL_14fe7dfe4c0f42dcb11a6c356555e2ac",
            "max": 112,
            "min": 0,
            "orientation": "horizontal",
            "style": "IPY_MODEL_e772b5dc49354e45be57cdfbf25ccb68",
            "value": 112
          }
        },
        "4f2249e7239f40e09a1f18afb892d1b4": {
          "model_module": "@jupyter-widgets/base",
          "model_module_version": "1.2.0",
          "model_name": "LayoutModel",
          "state": {
            "_model_module": "@jupyter-widgets/base",
            "_model_module_version": "1.2.0",
            "_model_name": "LayoutModel",
            "_view_count": null,
            "_view_module": "@jupyter-widgets/base",
            "_view_module_version": "1.2.0",
            "_view_name": "LayoutView",
            "align_content": null,
            "align_items": null,
            "align_self": null,
            "border": null,
            "bottom": null,
            "display": null,
            "flex": null,
            "flex_flow": null,
            "grid_area": null,
            "grid_auto_columns": null,
            "grid_auto_flow": null,
            "grid_auto_rows": null,
            "grid_column": null,
            "grid_gap": null,
            "grid_row": null,
            "grid_template_areas": null,
            "grid_template_columns": null,
            "grid_template_rows": null,
            "height": null,
            "justify_content": null,
            "justify_items": null,
            "left": null,
            "margin": null,
            "max_height": null,
            "max_width": null,
            "min_height": null,
            "min_width": null,
            "object_fit": null,
            "object_position": null,
            "order": null,
            "overflow": null,
            "overflow_x": null,
            "overflow_y": null,
            "padding": null,
            "right": null,
            "top": null,
            "visibility": null,
            "width": null
          }
        },
        "5131ff770e854506b94182069329200a": {
          "model_module": "@jupyter-widgets/controls",
          "model_module_version": "1.5.0",
          "model_name": "DescriptionStyleModel",
          "state": {
            "_model_module": "@jupyter-widgets/controls",
            "_model_module_version": "1.5.0",
            "_model_name": "DescriptionStyleModel",
            "_view_count": null,
            "_view_module": "@jupyter-widgets/base",
            "_view_module_version": "1.2.0",
            "_view_name": "StyleView",
            "description_width": ""
          }
        },
        "51947f0d0c464a17b692a18c8def1d8d": {
          "model_module": "@jupyter-widgets/controls",
          "model_module_version": "1.5.0",
          "model_name": "DescriptionStyleModel",
          "state": {
            "_model_module": "@jupyter-widgets/controls",
            "_model_module_version": "1.5.0",
            "_model_name": "DescriptionStyleModel",
            "_view_count": null,
            "_view_module": "@jupyter-widgets/base",
            "_view_module_version": "1.2.0",
            "_view_name": "StyleView",
            "description_width": ""
          }
        },
        "536b377cba9c42d1ad39971320cb4a2d": {
          "model_module": "@jupyter-widgets/controls",
          "model_module_version": "1.5.0",
          "model_name": "ProgressStyleModel",
          "state": {
            "_model_module": "@jupyter-widgets/controls",
            "_model_module_version": "1.5.0",
            "_model_name": "ProgressStyleModel",
            "_view_count": null,
            "_view_module": "@jupyter-widgets/base",
            "_view_module_version": "1.2.0",
            "_view_name": "StyleView",
            "bar_color": null,
            "description_width": ""
          }
        },
        "54c96d59bdf04edd8bfa46bd4b0a1099": {
          "model_module": "@jupyter-widgets/base",
          "model_module_version": "1.2.0",
          "model_name": "LayoutModel",
          "state": {
            "_model_module": "@jupyter-widgets/base",
            "_model_module_version": "1.2.0",
            "_model_name": "LayoutModel",
            "_view_count": null,
            "_view_module": "@jupyter-widgets/base",
            "_view_module_version": "1.2.0",
            "_view_name": "LayoutView",
            "align_content": null,
            "align_items": null,
            "align_self": null,
            "border": null,
            "bottom": null,
            "display": null,
            "flex": null,
            "flex_flow": null,
            "grid_area": null,
            "grid_auto_columns": null,
            "grid_auto_flow": null,
            "grid_auto_rows": null,
            "grid_column": null,
            "grid_gap": null,
            "grid_row": null,
            "grid_template_areas": null,
            "grid_template_columns": null,
            "grid_template_rows": null,
            "height": null,
            "justify_content": null,
            "justify_items": null,
            "left": null,
            "margin": null,
            "max_height": null,
            "max_width": null,
            "min_height": null,
            "min_width": null,
            "object_fit": null,
            "object_position": null,
            "order": null,
            "overflow": null,
            "overflow_x": null,
            "overflow_y": null,
            "padding": null,
            "right": null,
            "top": null,
            "visibility": null,
            "width": null
          }
        },
        "570cbc259ee24f46a2a999c471c85456": {
          "model_module": "@jupyter-widgets/controls",
          "model_module_version": "1.5.0",
          "model_name": "HTMLModel",
          "state": {
            "_dom_classes": [],
            "_model_module": "@jupyter-widgets/controls",
            "_model_module_version": "1.5.0",
            "_model_name": "HTMLModel",
            "_view_count": null,
            "_view_module": "@jupyter-widgets/controls",
            "_view_module_version": "1.5.0",
            "_view_name": "HTMLView",
            "description": "",
            "description_tooltip": null,
            "layout": "IPY_MODEL_3655edfdd2d14fa5b75db571c585d4c9",
            "placeholder": "​",
            "style": "IPY_MODEL_1c22e3120fe84e30b6eff63016d7eadb",
            "value": " 118M/118M [00:01&lt;00:00, 129MB/s]"
          }
        },
        "5a1318cf10084d76af9547cc4566bcc3": {
          "model_module": "@jupyter-widgets/controls",
          "model_module_version": "1.5.0",
          "model_name": "DescriptionStyleModel",
          "state": {
            "_model_module": "@jupyter-widgets/controls",
            "_model_module_version": "1.5.0",
            "_model_name": "DescriptionStyleModel",
            "_view_count": null,
            "_view_module": "@jupyter-widgets/base",
            "_view_module_version": "1.2.0",
            "_view_name": "StyleView",
            "description_width": ""
          }
        },
        "5e481b1254114febb55ef34419d350d8": {
          "model_module": "@jupyter-widgets/base",
          "model_module_version": "1.2.0",
          "model_name": "LayoutModel",
          "state": {
            "_model_module": "@jupyter-widgets/base",
            "_model_module_version": "1.2.0",
            "_model_name": "LayoutModel",
            "_view_count": null,
            "_view_module": "@jupyter-widgets/base",
            "_view_module_version": "1.2.0",
            "_view_name": "LayoutView",
            "align_content": null,
            "align_items": null,
            "align_self": null,
            "border": null,
            "bottom": null,
            "display": null,
            "flex": null,
            "flex_flow": null,
            "grid_area": null,
            "grid_auto_columns": null,
            "grid_auto_flow": null,
            "grid_auto_rows": null,
            "grid_column": null,
            "grid_gap": null,
            "grid_row": null,
            "grid_template_areas": null,
            "grid_template_columns": null,
            "grid_template_rows": null,
            "height": null,
            "justify_content": null,
            "justify_items": null,
            "left": null,
            "margin": null,
            "max_height": null,
            "max_width": null,
            "min_height": null,
            "min_width": null,
            "object_fit": null,
            "object_position": null,
            "order": null,
            "overflow": null,
            "overflow_x": null,
            "overflow_y": null,
            "padding": null,
            "right": null,
            "top": null,
            "visibility": null,
            "width": null
          }
        },
        "637c54cf5bc6466ebcda2b6da64ef0d8": {
          "model_module": "@jupyter-widgets/base",
          "model_module_version": "1.2.0",
          "model_name": "LayoutModel",
          "state": {
            "_model_module": "@jupyter-widgets/base",
            "_model_module_version": "1.2.0",
            "_model_name": "LayoutModel",
            "_view_count": null,
            "_view_module": "@jupyter-widgets/base",
            "_view_module_version": "1.2.0",
            "_view_name": "LayoutView",
            "align_content": null,
            "align_items": null,
            "align_self": null,
            "border": null,
            "bottom": null,
            "display": null,
            "flex": null,
            "flex_flow": null,
            "grid_area": null,
            "grid_auto_columns": null,
            "grid_auto_flow": null,
            "grid_auto_rows": null,
            "grid_column": null,
            "grid_gap": null,
            "grid_row": null,
            "grid_template_areas": null,
            "grid_template_columns": null,
            "grid_template_rows": null,
            "height": null,
            "justify_content": null,
            "justify_items": null,
            "left": null,
            "margin": null,
            "max_height": null,
            "max_width": null,
            "min_height": null,
            "min_width": null,
            "object_fit": null,
            "object_position": null,
            "order": null,
            "overflow": null,
            "overflow_x": null,
            "overflow_y": null,
            "padding": null,
            "right": null,
            "top": null,
            "visibility": null,
            "width": null
          }
        },
        "6c580c3e42ee4f2fb8b43f1b31550842": {
          "model_module": "@jupyter-widgets/base",
          "model_module_version": "1.2.0",
          "model_name": "LayoutModel",
          "state": {
            "_model_module": "@jupyter-widgets/base",
            "_model_module_version": "1.2.0",
            "_model_name": "LayoutModel",
            "_view_count": null,
            "_view_module": "@jupyter-widgets/base",
            "_view_module_version": "1.2.0",
            "_view_name": "LayoutView",
            "align_content": null,
            "align_items": null,
            "align_self": null,
            "border": null,
            "bottom": null,
            "display": null,
            "flex": null,
            "flex_flow": null,
            "grid_area": null,
            "grid_auto_columns": null,
            "grid_auto_flow": null,
            "grid_auto_rows": null,
            "grid_column": null,
            "grid_gap": null,
            "grid_row": null,
            "grid_template_areas": null,
            "grid_template_columns": null,
            "grid_template_rows": null,
            "height": null,
            "justify_content": null,
            "justify_items": null,
            "left": null,
            "margin": null,
            "max_height": null,
            "max_width": null,
            "min_height": null,
            "min_width": null,
            "object_fit": null,
            "object_position": null,
            "order": null,
            "overflow": null,
            "overflow_x": null,
            "overflow_y": null,
            "padding": null,
            "right": null,
            "top": null,
            "visibility": null,
            "width": null
          }
        },
        "703215d5bcfd41a28a9a052cd284f80a": {
          "model_module": "@jupyter-widgets/base",
          "model_module_version": "1.2.0",
          "model_name": "LayoutModel",
          "state": {
            "_model_module": "@jupyter-widgets/base",
            "_model_module_version": "1.2.0",
            "_model_name": "LayoutModel",
            "_view_count": null,
            "_view_module": "@jupyter-widgets/base",
            "_view_module_version": "1.2.0",
            "_view_name": "LayoutView",
            "align_content": null,
            "align_items": null,
            "align_self": null,
            "border": null,
            "bottom": null,
            "display": null,
            "flex": null,
            "flex_flow": null,
            "grid_area": null,
            "grid_auto_columns": null,
            "grid_auto_flow": null,
            "grid_auto_rows": null,
            "grid_column": null,
            "grid_gap": null,
            "grid_row": null,
            "grid_template_areas": null,
            "grid_template_columns": null,
            "grid_template_rows": null,
            "height": null,
            "justify_content": null,
            "justify_items": null,
            "left": null,
            "margin": null,
            "max_height": null,
            "max_width": null,
            "min_height": null,
            "min_width": null,
            "object_fit": null,
            "object_position": null,
            "order": null,
            "overflow": null,
            "overflow_x": null,
            "overflow_y": null,
            "padding": null,
            "right": null,
            "top": null,
            "visibility": null,
            "width": null
          }
        },
        "706e9e9d758d47e583cd5e683ac53b2a": {
          "model_module": "@jupyter-widgets/controls",
          "model_module_version": "1.5.0",
          "model_name": "DescriptionStyleModel",
          "state": {
            "_model_module": "@jupyter-widgets/controls",
            "_model_module_version": "1.5.0",
            "_model_name": "DescriptionStyleModel",
            "_view_count": null,
            "_view_module": "@jupyter-widgets/base",
            "_view_module_version": "1.2.0",
            "_view_name": "StyleView",
            "description_width": ""
          }
        },
        "7084c3014841460f8e389bde8d0a6464": {
          "model_module": "@jupyter-widgets/base",
          "model_module_version": "1.2.0",
          "model_name": "LayoutModel",
          "state": {
            "_model_module": "@jupyter-widgets/base",
            "_model_module_version": "1.2.0",
            "_model_name": "LayoutModel",
            "_view_count": null,
            "_view_module": "@jupyter-widgets/base",
            "_view_module_version": "1.2.0",
            "_view_name": "LayoutView",
            "align_content": null,
            "align_items": null,
            "align_self": null,
            "border": null,
            "bottom": null,
            "display": null,
            "flex": null,
            "flex_flow": null,
            "grid_area": null,
            "grid_auto_columns": null,
            "grid_auto_flow": null,
            "grid_auto_rows": null,
            "grid_column": null,
            "grid_gap": null,
            "grid_row": null,
            "grid_template_areas": null,
            "grid_template_columns": null,
            "grid_template_rows": null,
            "height": null,
            "justify_content": null,
            "justify_items": null,
            "left": null,
            "margin": null,
            "max_height": null,
            "max_width": null,
            "min_height": null,
            "min_width": null,
            "object_fit": null,
            "object_position": null,
            "order": null,
            "overflow": null,
            "overflow_x": null,
            "overflow_y": null,
            "padding": null,
            "right": null,
            "top": null,
            "visibility": null,
            "width": null
          }
        },
        "70cb22d7830640aba60121e99a31054a": {
          "model_module": "@jupyter-widgets/base",
          "model_module_version": "1.2.0",
          "model_name": "LayoutModel",
          "state": {
            "_model_module": "@jupyter-widgets/base",
            "_model_module_version": "1.2.0",
            "_model_name": "LayoutModel",
            "_view_count": null,
            "_view_module": "@jupyter-widgets/base",
            "_view_module_version": "1.2.0",
            "_view_name": "LayoutView",
            "align_content": null,
            "align_items": null,
            "align_self": null,
            "border": null,
            "bottom": null,
            "display": null,
            "flex": null,
            "flex_flow": null,
            "grid_area": null,
            "grid_auto_columns": null,
            "grid_auto_flow": null,
            "grid_auto_rows": null,
            "grid_column": null,
            "grid_gap": null,
            "grid_row": null,
            "grid_template_areas": null,
            "grid_template_columns": null,
            "grid_template_rows": null,
            "height": null,
            "justify_content": null,
            "justify_items": null,
            "left": null,
            "margin": null,
            "max_height": null,
            "max_width": null,
            "min_height": null,
            "min_width": null,
            "object_fit": null,
            "object_position": null,
            "order": null,
            "overflow": null,
            "overflow_x": null,
            "overflow_y": null,
            "padding": null,
            "right": null,
            "top": null,
            "visibility": null,
            "width": null
          }
        },
        "713f655142bf46f893d56d1e1217ff94": {
          "model_module": "@jupyter-widgets/controls",
          "model_module_version": "1.5.0",
          "model_name": "DescriptionStyleModel",
          "state": {
            "_model_module": "@jupyter-widgets/controls",
            "_model_module_version": "1.5.0",
            "_model_name": "DescriptionStyleModel",
            "_view_count": null,
            "_view_module": "@jupyter-widgets/base",
            "_view_module_version": "1.2.0",
            "_view_name": "StyleView",
            "description_width": ""
          }
        },
        "79c7b85c07e94deb8f62db11bb6739cb": {
          "model_module": "@jupyter-widgets/base",
          "model_module_version": "1.2.0",
          "model_name": "LayoutModel",
          "state": {
            "_model_module": "@jupyter-widgets/base",
            "_model_module_version": "1.2.0",
            "_model_name": "LayoutModel",
            "_view_count": null,
            "_view_module": "@jupyter-widgets/base",
            "_view_module_version": "1.2.0",
            "_view_name": "LayoutView",
            "align_content": null,
            "align_items": null,
            "align_self": null,
            "border": null,
            "bottom": null,
            "display": null,
            "flex": null,
            "flex_flow": null,
            "grid_area": null,
            "grid_auto_columns": null,
            "grid_auto_flow": null,
            "grid_auto_rows": null,
            "grid_column": null,
            "grid_gap": null,
            "grid_row": null,
            "grid_template_areas": null,
            "grid_template_columns": null,
            "grid_template_rows": null,
            "height": null,
            "justify_content": null,
            "justify_items": null,
            "left": null,
            "margin": null,
            "max_height": null,
            "max_width": null,
            "min_height": null,
            "min_width": null,
            "object_fit": null,
            "object_position": null,
            "order": null,
            "overflow": null,
            "overflow_x": null,
            "overflow_y": null,
            "padding": null,
            "right": null,
            "top": null,
            "visibility": null,
            "width": null
          }
        },
        "7f1fea1e68db4e9aa68718323f16adf2": {
          "model_module": "@jupyter-widgets/controls",
          "model_module_version": "1.5.0",
          "model_name": "HBoxModel",
          "state": {
            "_dom_classes": [],
            "_model_module": "@jupyter-widgets/controls",
            "_model_module_version": "1.5.0",
            "_model_name": "HBoxModel",
            "_view_count": null,
            "_view_module": "@jupyter-widgets/controls",
            "_view_module_version": "1.5.0",
            "_view_name": "HBoxView",
            "box_style": "",
            "children": [
              "IPY_MODEL_203bfcd84edd444eb497a6f77c2fea00",
              "IPY_MODEL_8ff96a2ae83b4389ab087b40a3c7b4b0",
              "IPY_MODEL_21173252b5864a4b804edc0fc8d1e73c"
            ],
            "layout": "IPY_MODEL_703215d5bcfd41a28a9a052cd284f80a"
          }
        },
        "7f7d5be088e14319a03caf95d002d6a3": {
          "model_module": "@jupyter-widgets/controls",
          "model_module_version": "1.5.0",
          "model_name": "HTMLModel",
          "state": {
            "_dom_classes": [],
            "_model_module": "@jupyter-widgets/controls",
            "_model_module_version": "1.5.0",
            "_model_name": "HTMLModel",
            "_view_count": null,
            "_view_module": "@jupyter-widgets/controls",
            "_view_module_version": "1.5.0",
            "_view_name": "HTMLView",
            "description": "",
            "description_tooltip": null,
            "layout": "IPY_MODEL_e33a240742ac4cb3aabbcf1913c6e8d9",
            "placeholder": "​",
            "style": "IPY_MODEL_5131ff770e854506b94182069329200a",
            "value": "tokenizer_config.json: 100%"
          }
        },
        "81913635d3c94949a83d05f9adbda1a3": {
          "model_module": "@jupyter-widgets/base",
          "model_module_version": "1.2.0",
          "model_name": "LayoutModel",
          "state": {
            "_model_module": "@jupyter-widgets/base",
            "_model_module_version": "1.2.0",
            "_model_name": "LayoutModel",
            "_view_count": null,
            "_view_module": "@jupyter-widgets/base",
            "_view_module_version": "1.2.0",
            "_view_name": "LayoutView",
            "align_content": null,
            "align_items": null,
            "align_self": null,
            "border": null,
            "bottom": null,
            "display": null,
            "flex": null,
            "flex_flow": null,
            "grid_area": null,
            "grid_auto_columns": null,
            "grid_auto_flow": null,
            "grid_auto_rows": null,
            "grid_column": null,
            "grid_gap": null,
            "grid_row": null,
            "grid_template_areas": null,
            "grid_template_columns": null,
            "grid_template_rows": null,
            "height": null,
            "justify_content": null,
            "justify_items": null,
            "left": null,
            "margin": null,
            "max_height": null,
            "max_width": null,
            "min_height": null,
            "min_width": null,
            "object_fit": null,
            "object_position": null,
            "order": null,
            "overflow": null,
            "overflow_x": null,
            "overflow_y": null,
            "padding": null,
            "right": null,
            "top": null,
            "visibility": null,
            "width": null
          }
        },
        "8358b1789d6b4298bbaa07eb1b02806f": {
          "model_module": "@jupyter-widgets/controls",
          "model_module_version": "1.5.0",
          "model_name": "ProgressStyleModel",
          "state": {
            "_model_module": "@jupyter-widgets/controls",
            "_model_module_version": "1.5.0",
            "_model_name": "ProgressStyleModel",
            "_view_count": null,
            "_view_module": "@jupyter-widgets/base",
            "_view_module_version": "1.2.0",
            "_view_name": "StyleView",
            "bar_color": null,
            "description_width": ""
          }
        },
        "8593f701d29e45cf8ca52e94fd70b4b9": {
          "model_module": "@jupyter-widgets/controls",
          "model_module_version": "1.5.0",
          "model_name": "HBoxModel",
          "state": {
            "_dom_classes": [],
            "_model_module": "@jupyter-widgets/controls",
            "_model_module_version": "1.5.0",
            "_model_name": "HBoxModel",
            "_view_count": null,
            "_view_module": "@jupyter-widgets/controls",
            "_view_module_version": "1.5.0",
            "_view_name": "HBoxView",
            "box_style": "",
            "children": [
              "IPY_MODEL_f96f85335b224c22ac6d4547714aa819",
              "IPY_MODEL_f983280472e44e19a6e215a83525a205",
              "IPY_MODEL_b147279759044662a7ecc4e6923ec93f"
            ],
            "layout": "IPY_MODEL_637c54cf5bc6466ebcda2b6da64ef0d8"
          }
        },
        "8db8abab20784dedb11cd4a7b28ff411": {
          "model_module": "@jupyter-widgets/controls",
          "model_module_version": "1.5.0",
          "model_name": "DescriptionStyleModel",
          "state": {
            "_model_module": "@jupyter-widgets/controls",
            "_model_module_version": "1.5.0",
            "_model_name": "DescriptionStyleModel",
            "_view_count": null,
            "_view_module": "@jupyter-widgets/base",
            "_view_module_version": "1.2.0",
            "_view_name": "StyleView",
            "description_width": ""
          }
        },
        "8ff96a2ae83b4389ab087b40a3c7b4b0": {
          "model_module": "@jupyter-widgets/controls",
          "model_module_version": "1.5.0",
          "model_name": "FloatProgressModel",
          "state": {
            "_dom_classes": [],
            "_model_module": "@jupyter-widgets/controls",
            "_model_module_version": "1.5.0",
            "_model_name": "FloatProgressModel",
            "_view_count": null,
            "_view_module": "@jupyter-widgets/controls",
            "_view_module_version": "1.5.0",
            "_view_name": "ProgressView",
            "bar_style": "success",
            "description": "",
            "description_tooltip": null,
            "layout": "IPY_MODEL_1beaf893af6d48d296ce8fb4c9c32991",
            "max": 693,
            "min": 0,
            "orientation": "horizontal",
            "style": "IPY_MODEL_8358b1789d6b4298bbaa07eb1b02806f",
            "value": 693
          }
        },
        "9191b42fae4547aaa97e364b26f0742b": {
          "model_module": "@jupyter-widgets/controls",
          "model_module_version": "1.5.0",
          "model_name": "ProgressStyleModel",
          "state": {
            "_model_module": "@jupyter-widgets/controls",
            "_model_module_version": "1.5.0",
            "_model_name": "ProgressStyleModel",
            "_view_count": null,
            "_view_module": "@jupyter-widgets/base",
            "_view_module_version": "1.2.0",
            "_view_name": "StyleView",
            "bar_color": null,
            "description_width": ""
          }
        },
        "92d84d5f2fc64df9b4ca127fad4759c1": {
          "model_module": "@jupyter-widgets/controls",
          "model_module_version": "1.5.0",
          "model_name": "DescriptionStyleModel",
          "state": {
            "_model_module": "@jupyter-widgets/controls",
            "_model_module_version": "1.5.0",
            "_model_name": "DescriptionStyleModel",
            "_view_count": null,
            "_view_module": "@jupyter-widgets/base",
            "_view_module_version": "1.2.0",
            "_view_name": "StyleView",
            "description_width": ""
          }
        },
        "9379dead24ae4c8192354a8bf5028191": {
          "model_module": "@jupyter-widgets/controls",
          "model_module_version": "1.5.0",
          "model_name": "ProgressStyleModel",
          "state": {
            "_model_module": "@jupyter-widgets/controls",
            "_model_module_version": "1.5.0",
            "_model_name": "ProgressStyleModel",
            "_view_count": null,
            "_view_module": "@jupyter-widgets/base",
            "_view_module_version": "1.2.0",
            "_view_name": "StyleView",
            "bar_color": null,
            "description_width": ""
          }
        },
        "992f60946c25402bbb47407f3047d6ec": {
          "model_module": "@jupyter-widgets/controls",
          "model_module_version": "1.5.0",
          "model_name": "DescriptionStyleModel",
          "state": {
            "_model_module": "@jupyter-widgets/controls",
            "_model_module_version": "1.5.0",
            "_model_name": "DescriptionStyleModel",
            "_view_count": null,
            "_view_module": "@jupyter-widgets/base",
            "_view_module_version": "1.2.0",
            "_view_name": "StyleView",
            "description_width": ""
          }
        },
        "9a32bd7089c24867be8cc196d2ee7dbd": {
          "model_module": "@jupyter-widgets/controls",
          "model_module_version": "1.5.0",
          "model_name": "HBoxModel",
          "state": {
            "_dom_classes": [],
            "_model_module": "@jupyter-widgets/controls",
            "_model_module_version": "1.5.0",
            "_model_name": "HBoxModel",
            "_view_count": null,
            "_view_module": "@jupyter-widgets/controls",
            "_view_module_version": "1.5.0",
            "_view_name": "HBoxView",
            "box_style": "",
            "children": [
              "IPY_MODEL_14ef91b498ca4830b39f1b8b96f20a53",
              "IPY_MODEL_3205f414aeac40e198a095c8536bbb6a",
              "IPY_MODEL_c169e388e2ca4e3d85d359cd95205c56"
            ],
            "layout": "IPY_MODEL_5e481b1254114febb55ef34419d350d8"
          }
        },
        "a229905ccd144af89cee89bbb123c858": {
          "model_module": "@jupyter-widgets/controls",
          "model_module_version": "1.5.0",
          "model_name": "DescriptionStyleModel",
          "state": {
            "_model_module": "@jupyter-widgets/controls",
            "_model_module_version": "1.5.0",
            "_model_name": "DescriptionStyleModel",
            "_view_count": null,
            "_view_module": "@jupyter-widgets/base",
            "_view_module_version": "1.2.0",
            "_view_name": "StyleView",
            "description_width": ""
          }
        },
        "b147279759044662a7ecc4e6923ec93f": {
          "model_module": "@jupyter-widgets/controls",
          "model_module_version": "1.5.0",
          "model_name": "HTMLModel",
          "state": {
            "_dom_classes": [],
            "_model_module": "@jupyter-widgets/controls",
            "_model_module_version": "1.5.0",
            "_model_name": "HTMLModel",
            "_view_count": null,
            "_view_module": "@jupyter-widgets/controls",
            "_view_module_version": "1.5.0",
            "_view_name": "HTMLView",
            "description": "",
            "description_tooltip": null,
            "layout": "IPY_MODEL_dc9192cf754f48478f5f6388b0787a88",
            "placeholder": "​",
            "style": "IPY_MODEL_e578bde9f9004e8886e5b95b46364990",
            "value": " 1.08M/1.08M [00:00&lt;00:00, 2.21MB/s]"
          }
        },
        "b354f705e27a4beb8bc221ad151bf63a": {
          "model_module": "@jupyter-widgets/controls",
          "model_module_version": "1.5.0",
          "model_name": "HBoxModel",
          "state": {
            "_dom_classes": [],
            "_model_module": "@jupyter-widgets/controls",
            "_model_module_version": "1.5.0",
            "_model_name": "HBoxModel",
            "_view_count": null,
            "_view_module": "@jupyter-widgets/controls",
            "_view_module_version": "1.5.0",
            "_view_name": "HBoxView",
            "box_style": "",
            "children": [
              "IPY_MODEL_c6ede3356a8141758d3e7ac89ad8a047",
              "IPY_MODEL_b6781e5fa55946ccbfa61c40d777dd02",
              "IPY_MODEL_ebdf857fd0e749568483ff9d3a704cf6"
            ],
            "layout": "IPY_MODEL_1a03ef34f58e420ebb46f744ce710678"
          }
        },
        "b5344fe748bd446c8e9bb0eb6de8ec3b": {
          "model_module": "@jupyter-widgets/base",
          "model_module_version": "1.2.0",
          "model_name": "LayoutModel",
          "state": {
            "_model_module": "@jupyter-widgets/base",
            "_model_module_version": "1.2.0",
            "_model_name": "LayoutModel",
            "_view_count": null,
            "_view_module": "@jupyter-widgets/base",
            "_view_module_version": "1.2.0",
            "_view_name": "LayoutView",
            "align_content": null,
            "align_items": null,
            "align_self": null,
            "border": null,
            "bottom": null,
            "display": null,
            "flex": null,
            "flex_flow": null,
            "grid_area": null,
            "grid_auto_columns": null,
            "grid_auto_flow": null,
            "grid_auto_rows": null,
            "grid_column": null,
            "grid_gap": null,
            "grid_row": null,
            "grid_template_areas": null,
            "grid_template_columns": null,
            "grid_template_rows": null,
            "height": null,
            "justify_content": null,
            "justify_items": null,
            "left": null,
            "margin": null,
            "max_height": null,
            "max_width": null,
            "min_height": null,
            "min_width": null,
            "object_fit": null,
            "object_position": null,
            "order": null,
            "overflow": null,
            "overflow_x": null,
            "overflow_y": null,
            "padding": null,
            "right": null,
            "top": null,
            "visibility": null,
            "width": null
          }
        },
        "b6781e5fa55946ccbfa61c40d777dd02": {
          "model_module": "@jupyter-widgets/controls",
          "model_module_version": "1.5.0",
          "model_name": "FloatProgressModel",
          "state": {
            "_dom_classes": [],
            "_model_module": "@jupyter-widgets/controls",
            "_model_module_version": "1.5.0",
            "_model_name": "FloatProgressModel",
            "_view_count": null,
            "_view_module": "@jupyter-widgets/controls",
            "_view_module_version": "1.5.0",
            "_view_name": "ProgressView",
            "bar_style": "success",
            "description": "",
            "description_tooltip": null,
            "layout": "IPY_MODEL_019eb41538dc405f8860350a39bb6acf",
            "max": 1741842,
            "min": 0,
            "orientation": "horizontal",
            "style": "IPY_MODEL_536b377cba9c42d1ad39971320cb4a2d",
            "value": 1741842
          }
        },
        "c0568c74f10e4db3b83ee25355ebce1c": {
          "model_module": "@jupyter-widgets/base",
          "model_module_version": "1.2.0",
          "model_name": "LayoutModel",
          "state": {
            "_model_module": "@jupyter-widgets/base",
            "_model_module_version": "1.2.0",
            "_model_name": "LayoutModel",
            "_view_count": null,
            "_view_module": "@jupyter-widgets/base",
            "_view_module_version": "1.2.0",
            "_view_name": "LayoutView",
            "align_content": null,
            "align_items": null,
            "align_self": null,
            "border": null,
            "bottom": null,
            "display": null,
            "flex": null,
            "flex_flow": null,
            "grid_area": null,
            "grid_auto_columns": null,
            "grid_auto_flow": null,
            "grid_auto_rows": null,
            "grid_column": null,
            "grid_gap": null,
            "grid_row": null,
            "grid_template_areas": null,
            "grid_template_columns": null,
            "grid_template_rows": null,
            "height": null,
            "justify_content": null,
            "justify_items": null,
            "left": null,
            "margin": null,
            "max_height": null,
            "max_width": null,
            "min_height": null,
            "min_width": null,
            "object_fit": null,
            "object_position": null,
            "order": null,
            "overflow": null,
            "overflow_x": null,
            "overflow_y": null,
            "padding": null,
            "right": null,
            "top": null,
            "visibility": null,
            "width": null
          }
        },
        "c169e388e2ca4e3d85d359cd95205c56": {
          "model_module": "@jupyter-widgets/controls",
          "model_module_version": "1.5.0",
          "model_name": "HTMLModel",
          "state": {
            "_dom_classes": [],
            "_model_module": "@jupyter-widgets/controls",
            "_model_module_version": "1.5.0",
            "_model_name": "HTMLModel",
            "_view_count": null,
            "_view_module": "@jupyter-widgets/controls",
            "_view_module_version": "1.5.0",
            "_view_name": "HTMLView",
            "description": "",
            "description_tooltip": null,
            "layout": "IPY_MODEL_100887629d404a0e91b60aa8e6112d67",
            "placeholder": "​",
            "style": "IPY_MODEL_a229905ccd144af89cee89bbb123c858",
            "value": " 4160/22490 [13:49&lt;58:05,  5.26it/s]"
          }
        },
        "c6ede3356a8141758d3e7ac89ad8a047": {
          "model_module": "@jupyter-widgets/controls",
          "model_module_version": "1.5.0",
          "model_name": "HTMLModel",
          "state": {
            "_dom_classes": [],
            "_model_module": "@jupyter-widgets/controls",
            "_model_module_version": "1.5.0",
            "_model_name": "HTMLModel",
            "_view_count": null,
            "_view_module": "@jupyter-widgets/controls",
            "_view_module_version": "1.5.0",
            "_view_name": "HTMLView",
            "description": "",
            "description_tooltip": null,
            "layout": "IPY_MODEL_39396baf9c7044358a2548acab1bcdb8",
            "placeholder": "​",
            "style": "IPY_MODEL_5a1318cf10084d76af9547cc4566bcc3",
            "value": "tokenizer.json: 100%"
          }
        },
        "d7f9a442dfa9451789e3a1aad906f458": {
          "model_module": "@jupyter-widgets/controls",
          "model_module_version": "1.5.0",
          "model_name": "HTMLModel",
          "state": {
            "_dom_classes": [],
            "_model_module": "@jupyter-widgets/controls",
            "_model_module_version": "1.5.0",
            "_model_name": "HTMLModel",
            "_view_count": null,
            "_view_module": "@jupyter-widgets/controls",
            "_view_module_version": "1.5.0",
            "_view_name": "HTMLView",
            "description": "",
            "description_tooltip": null,
            "layout": "IPY_MODEL_b5344fe748bd446c8e9bb0eb6de8ec3b",
            "placeholder": "​",
            "style": "IPY_MODEL_92d84d5f2fc64df9b4ca127fad4759c1",
            "value": "model.safetensors: 100%"
          }
        },
        "dbfe1de627994ee38e94d4adeaefa658": {
          "model_module": "@jupyter-widgets/base",
          "model_module_version": "1.2.0",
          "model_name": "LayoutModel",
          "state": {
            "_model_module": "@jupyter-widgets/base",
            "_model_module_version": "1.2.0",
            "_model_name": "LayoutModel",
            "_view_count": null,
            "_view_module": "@jupyter-widgets/base",
            "_view_module_version": "1.2.0",
            "_view_name": "LayoutView",
            "align_content": null,
            "align_items": null,
            "align_self": null,
            "border": null,
            "bottom": null,
            "display": null,
            "flex": null,
            "flex_flow": null,
            "grid_area": null,
            "grid_auto_columns": null,
            "grid_auto_flow": null,
            "grid_auto_rows": null,
            "grid_column": null,
            "grid_gap": null,
            "grid_row": null,
            "grid_template_areas": null,
            "grid_template_columns": null,
            "grid_template_rows": null,
            "height": null,
            "justify_content": null,
            "justify_items": null,
            "left": null,
            "margin": null,
            "max_height": null,
            "max_width": null,
            "min_height": null,
            "min_width": null,
            "object_fit": null,
            "object_position": null,
            "order": null,
            "overflow": null,
            "overflow_x": null,
            "overflow_y": null,
            "padding": null,
            "right": null,
            "top": null,
            "visibility": null,
            "width": null
          }
        },
        "dc1cff3aab734a269cdfc56e8e51b965": {
          "model_module": "@jupyter-widgets/controls",
          "model_module_version": "1.5.0",
          "model_name": "ProgressStyleModel",
          "state": {
            "_model_module": "@jupyter-widgets/controls",
            "_model_module_version": "1.5.0",
            "_model_name": "ProgressStyleModel",
            "_view_count": null,
            "_view_module": "@jupyter-widgets/base",
            "_view_module_version": "1.2.0",
            "_view_name": "StyleView",
            "bar_color": null,
            "description_width": ""
          }
        },
        "dc9192cf754f48478f5f6388b0787a88": {
          "model_module": "@jupyter-widgets/base",
          "model_module_version": "1.2.0",
          "model_name": "LayoutModel",
          "state": {
            "_model_module": "@jupyter-widgets/base",
            "_model_module_version": "1.2.0",
            "_model_name": "LayoutModel",
            "_view_count": null,
            "_view_module": "@jupyter-widgets/base",
            "_view_module_version": "1.2.0",
            "_view_name": "LayoutView",
            "align_content": null,
            "align_items": null,
            "align_self": null,
            "border": null,
            "bottom": null,
            "display": null,
            "flex": null,
            "flex_flow": null,
            "grid_area": null,
            "grid_auto_columns": null,
            "grid_auto_flow": null,
            "grid_auto_rows": null,
            "grid_column": null,
            "grid_gap": null,
            "grid_row": null,
            "grid_template_areas": null,
            "grid_template_columns": null,
            "grid_template_rows": null,
            "height": null,
            "justify_content": null,
            "justify_items": null,
            "left": null,
            "margin": null,
            "max_height": null,
            "max_width": null,
            "min_height": null,
            "min_width": null,
            "object_fit": null,
            "object_position": null,
            "order": null,
            "overflow": null,
            "overflow_x": null,
            "overflow_y": null,
            "padding": null,
            "right": null,
            "top": null,
            "visibility": null,
            "width": null
          }
        },
        "e33a240742ac4cb3aabbcf1913c6e8d9": {
          "model_module": "@jupyter-widgets/base",
          "model_module_version": "1.2.0",
          "model_name": "LayoutModel",
          "state": {
            "_model_module": "@jupyter-widgets/base",
            "_model_module_version": "1.2.0",
            "_model_name": "LayoutModel",
            "_view_count": null,
            "_view_module": "@jupyter-widgets/base",
            "_view_module_version": "1.2.0",
            "_view_name": "LayoutView",
            "align_content": null,
            "align_items": null,
            "align_self": null,
            "border": null,
            "bottom": null,
            "display": null,
            "flex": null,
            "flex_flow": null,
            "grid_area": null,
            "grid_auto_columns": null,
            "grid_auto_flow": null,
            "grid_auto_rows": null,
            "grid_column": null,
            "grid_gap": null,
            "grid_row": null,
            "grid_template_areas": null,
            "grid_template_columns": null,
            "grid_template_rows": null,
            "height": null,
            "justify_content": null,
            "justify_items": null,
            "left": null,
            "margin": null,
            "max_height": null,
            "max_width": null,
            "min_height": null,
            "min_width": null,
            "object_fit": null,
            "object_position": null,
            "order": null,
            "overflow": null,
            "overflow_x": null,
            "overflow_y": null,
            "padding": null,
            "right": null,
            "top": null,
            "visibility": null,
            "width": null
          }
        },
        "e3f33255e2ef46809b22d455f2e7b958": {
          "model_module": "@jupyter-widgets/controls",
          "model_module_version": "1.5.0",
          "model_name": "DescriptionStyleModel",
          "state": {
            "_model_module": "@jupyter-widgets/controls",
            "_model_module_version": "1.5.0",
            "_model_name": "DescriptionStyleModel",
            "_view_count": null,
            "_view_module": "@jupyter-widgets/base",
            "_view_module_version": "1.2.0",
            "_view_name": "StyleView",
            "description_width": ""
          }
        },
        "e578bde9f9004e8886e5b95b46364990": {
          "model_module": "@jupyter-widgets/controls",
          "model_module_version": "1.5.0",
          "model_name": "DescriptionStyleModel",
          "state": {
            "_model_module": "@jupyter-widgets/controls",
            "_model_module_version": "1.5.0",
            "_model_name": "DescriptionStyleModel",
            "_view_count": null,
            "_view_module": "@jupyter-widgets/base",
            "_view_module_version": "1.2.0",
            "_view_name": "StyleView",
            "description_width": ""
          }
        },
        "e68bbb686d2647f988456edccaa33624": {
          "model_module": "@jupyter-widgets/base",
          "model_module_version": "1.2.0",
          "model_name": "LayoutModel",
          "state": {
            "_model_module": "@jupyter-widgets/base",
            "_model_module_version": "1.2.0",
            "_model_name": "LayoutModel",
            "_view_count": null,
            "_view_module": "@jupyter-widgets/base",
            "_view_module_version": "1.2.0",
            "_view_name": "LayoutView",
            "align_content": null,
            "align_items": null,
            "align_self": null,
            "border": null,
            "bottom": null,
            "display": null,
            "flex": null,
            "flex_flow": null,
            "grid_area": null,
            "grid_auto_columns": null,
            "grid_auto_flow": null,
            "grid_auto_rows": null,
            "grid_column": null,
            "grid_gap": null,
            "grid_row": null,
            "grid_template_areas": null,
            "grid_template_columns": null,
            "grid_template_rows": null,
            "height": null,
            "justify_content": null,
            "justify_items": null,
            "left": null,
            "margin": null,
            "max_height": null,
            "max_width": null,
            "min_height": null,
            "min_width": null,
            "object_fit": null,
            "object_position": null,
            "order": null,
            "overflow": null,
            "overflow_x": null,
            "overflow_y": null,
            "padding": null,
            "right": null,
            "top": null,
            "visibility": null,
            "width": null
          }
        },
        "e772b5dc49354e45be57cdfbf25ccb68": {
          "model_module": "@jupyter-widgets/controls",
          "model_module_version": "1.5.0",
          "model_name": "ProgressStyleModel",
          "state": {
            "_model_module": "@jupyter-widgets/controls",
            "_model_module_version": "1.5.0",
            "_model_name": "ProgressStyleModel",
            "_view_count": null,
            "_view_module": "@jupyter-widgets/base",
            "_view_module_version": "1.2.0",
            "_view_name": "StyleView",
            "bar_color": null,
            "description_width": ""
          }
        },
        "ebdf857fd0e749568483ff9d3a704cf6": {
          "model_module": "@jupyter-widgets/controls",
          "model_module_version": "1.5.0",
          "model_name": "HTMLModel",
          "state": {
            "_dom_classes": [],
            "_model_module": "@jupyter-widgets/controls",
            "_model_module_version": "1.5.0",
            "_model_name": "HTMLModel",
            "_view_count": null,
            "_view_module": "@jupyter-widgets/controls",
            "_view_module_version": "1.5.0",
            "_view_name": "HTMLView",
            "description": "",
            "description_tooltip": null,
            "layout": "IPY_MODEL_2572aa9f79814d989b2246d108b56a0d",
            "placeholder": "​",
            "style": "IPY_MODEL_706e9e9d758d47e583cd5e683ac53b2a",
            "value": " 1.74M/1.74M [00:00&lt;00:00, 23.8MB/s]"
          }
        },
        "f23609187bf444ad8dcc9e8cb5745962": {
          "model_module": "@jupyter-widgets/controls",
          "model_module_version": "1.5.0",
          "model_name": "HBoxModel",
          "state": {
            "_dom_classes": [],
            "_model_module": "@jupyter-widgets/controls",
            "_model_module_version": "1.5.0",
            "_model_name": "HBoxModel",
            "_view_count": null,
            "_view_module": "@jupyter-widgets/controls",
            "_view_module_version": "1.5.0",
            "_view_name": "HBoxView",
            "box_style": "",
            "children": [
              "IPY_MODEL_d7f9a442dfa9451789e3a1aad906f458",
              "IPY_MODEL_2762db7873fa4a2fb11034d7a58387f5",
              "IPY_MODEL_570cbc259ee24f46a2a999c471c85456"
            ],
            "layout": "IPY_MODEL_6c580c3e42ee4f2fb8b43f1b31550842"
          }
        },
        "f96f85335b224c22ac6d4547714aa819": {
          "model_module": "@jupyter-widgets/controls",
          "model_module_version": "1.5.0",
          "model_name": "HTMLModel",
          "state": {
            "_dom_classes": [],
            "_model_module": "@jupyter-widgets/controls",
            "_model_module_version": "1.5.0",
            "_model_name": "HTMLModel",
            "_view_count": null,
            "_view_module": "@jupyter-widgets/controls",
            "_view_module_version": "1.5.0",
            "_view_name": "HTMLView",
            "description": "",
            "description_tooltip": null,
            "layout": "IPY_MODEL_81913635d3c94949a83d05f9adbda1a3",
            "placeholder": "​",
            "style": "IPY_MODEL_1c20be830f314cec803c48899079d27d",
            "value": "vocab.txt: 100%"
          }
        },
        "f983280472e44e19a6e215a83525a205": {
          "model_module": "@jupyter-widgets/controls",
          "model_module_version": "1.5.0",
          "model_name": "FloatProgressModel",
          "state": {
            "_dom_classes": [],
            "_model_module": "@jupyter-widgets/controls",
            "_model_module_version": "1.5.0",
            "_model_name": "FloatProgressModel",
            "_view_count": null,
            "_view_module": "@jupyter-widgets/controls",
            "_view_module_version": "1.5.0",
            "_view_name": "ProgressView",
            "bar_style": "success",
            "description": "",
            "description_tooltip": null,
            "layout": "IPY_MODEL_54c96d59bdf04edd8bfa46bd4b0a1099",
            "max": 1080667,
            "min": 0,
            "orientation": "horizontal",
            "style": "IPY_MODEL_9191b42fae4547aaa97e364b26f0742b",
            "value": 1080667
          }
        }
      }
    }
  },
  "nbformat": 4,
  "nbformat_minor": 0
}
