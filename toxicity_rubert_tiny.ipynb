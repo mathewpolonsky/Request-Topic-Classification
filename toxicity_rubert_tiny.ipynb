{
  "cells": [
    {
      "cell_type": "code",
      "execution_count": null,
      "metadata": {
        "colab": {
          "base_uri": "https://localhost:8080/"
        },
        "id": "Vj-OOyTkw-HV",
        "outputId": "1d61000e-1729-4790-e6f8-a311c218dba3"
      },
      "outputs": [],
      "source": [
        "!pip install git+https://github.com/huggingface/transformers.git\n",
        "!pip install -U sentence-transformers\n",
        "!pip install evaluate\n",
        "!pip install transformers[torch]"
      ]
    },
    {
      "cell_type": "code",
      "execution_count": 1,
      "metadata": {
        "id": "H2XR9G1yvwxW"
      },
      "outputs": [],
      "source": [
        "import torch\n",
        "from torch.utils.data import DataLoader, Dataset\n",
        "\n",
        "import numpy as np\n",
        "import pandas as pd\n",
        "\n",
        "from sklearn.model_selection import train_test_split\n",
        "\n",
        "import evaluate\n",
        "\n",
        "from transformers import AutoModelForSequenceClassification, TrainingArguments, Trainer\n",
        "from transformers import AutoTokenizer"
      ]
    },
    {
      "cell_type": "code",
      "execution_count": 2,
      "metadata": {
        "colab": {
          "base_uri": "https://localhost:8080/"
        },
        "id": "8vJHleFgrLDG",
        "outputId": "6972c382-9cb6-49a3-c3ea-9d0303252f0f"
      },
      "outputs": [
        {
          "name": "stderr",
          "output_type": "stream",
          "text": [
            "Some weights of the model checkpoint at cointegrated/rubert-tiny2 were not used when initializing BertForSequenceClassification: ['cls.seq_relationship.weight', 'cls.predictions.transform.LayerNorm.bias', 'cls.predictions.transform.LayerNorm.weight', 'cls.seq_relationship.bias', 'cls.predictions.transform.dense.bias', 'cls.predictions.bias', 'cls.predictions.transform.dense.weight']\n",
            "- This IS expected if you are initializing BertForSequenceClassification from the checkpoint of a model trained on another task or with another architecture (e.g. initializing a BertForSequenceClassification model from a BertForPreTraining model).\n",
            "- This IS NOT expected if you are initializing BertForSequenceClassification from the checkpoint of a model that you expect to be exactly identical (initializing a BertForSequenceClassification model from a BertForSequenceClassification model).\n",
            "Some weights of BertForSequenceClassification were not initialized from the model checkpoint at cointegrated/rubert-tiny2 and are newly initialized: ['classifier.weight', 'classifier.bias']\n",
            "You should probably TRAIN this model on a down-stream task to be able to use it for predictions and inference.\n"
          ]
        }
      ],
      "source": [
        "checkpoint = \"cointegrated/rubert-tiny2\"\n",
        "\n",
        "tokenizer = AutoTokenizer.from_pretrained(checkpoint)\n",
        "\n",
        "model = AutoModelForSequenceClassification.from_pretrained(\n",
        "    checkpoint, num_labels=2\n",
        ")"
      ]
    },
    {
      "cell_type": "markdown",
      "metadata": {},
      "source": [
        "Dataset of toxic comments  "
      ]
    },
    {
      "cell_type": "code",
      "execution_count": null,
      "metadata": {},
      "outputs": [],
      "source": [
        "comments = pd.DataFrame(pd.read_csv('data_commets_toxic.csv')['comment'])\n",
        "comments = comments.rename(columns={'comment': 'text'})\n",
        "\n",
        "comments['is_request'] = 0\n",
        "comments"
      ]
    },
    {
      "cell_type": "markdown",
      "metadata": {},
      "source": [
        "Promobot Dataset  "
      ]
    },
    {
      "cell_type": "code",
      "execution_count": null,
      "metadata": {},
      "outputs": [],
      "source": [
        "requests = pd.DataFrame(pd.read_csv('data_corrected_spell_ner_full_text.csv')['Текст инцидента'])\n",
        "requests = requests.rename(columns={'Текст инцидента': 'text'})\n",
        "\n",
        "requests['is_request'] = 1\n",
        "requests"
      ]
    },
    {
      "cell_type": "code",
      "execution_count": null,
      "metadata": {},
      "outputs": [],
      "source": [
        "data = pd.concat([requests, comments], ignore_index=True)\n",
        "data"
      ]
    },
    {
      "cell_type": "code",
      "execution_count": 3,
      "metadata": {},
      "outputs": [
        {
          "data": {
            "text/html": [
              "<div>\n",
              "<style scoped>\n",
              "    .dataframe tbody tr th:only-of-type {\n",
              "        vertical-align: middle;\n",
              "    }\n",
              "\n",
              "    .dataframe tbody tr th {\n",
              "        vertical-align: top;\n",
              "    }\n",
              "\n",
              "    .dataframe thead th {\n",
              "        text-align: right;\n",
              "    }\n",
              "</style>\n",
              "<table border=\"1\" class=\"dataframe\">\n",
              "  <thead>\n",
              "    <tr style=\"text-align: right;\">\n",
              "      <th></th>\n",
              "      <th>text</th>\n",
              "      <th>is_request</th>\n",
              "    </tr>\n",
              "  </thead>\n",
              "  <tbody>\n",
              "    <tr>\n",
              "      <th>0</th>\n",
              "      <td>Добрый день. Сегодня, 20 августа, моя мать шла...</td>\n",
              "      <td>1</td>\n",
              "    </tr>\n",
              "    <tr>\n",
              "      <th>1</th>\n",
              "      <td>Пермь, г. , +791692145. В Перми с ноября 2021 ...</td>\n",
              "      <td>1</td>\n",
              "    </tr>\n",
              "    <tr>\n",
              "      <th>2</th>\n",
              "      <td>Добрый день! Скажите, пожалуйста, если подала ...</td>\n",
              "      <td>1</td>\n",
              "    </tr>\n",
              "    <tr>\n",
              "      <th>3</th>\n",
              "      <td>Каждая из них не о чем. Люди на остановках хот...</td>\n",
              "      <td>1</td>\n",
              "    </tr>\n",
              "    <tr>\n",
              "      <th>4</th>\n",
              "      <td>В Березниках у сына, привитого от коронавируса...</td>\n",
              "      <td>1</td>\n",
              "    </tr>\n",
              "    <tr>\n",
              "      <th>...</th>\n",
              "      <td>...</td>\n",
              "      <td>...</td>\n",
              "    </tr>\n",
              "    <tr>\n",
              "      <th>36897</th>\n",
              "      <td>Вонючий совковый скот прибежал и ноет. А вот и...</td>\n",
              "      <td>0</td>\n",
              "    </tr>\n",
              "    <tr>\n",
              "      <th>36898</th>\n",
              "      <td>А кого любить? Гоблина тупорылого что-ли? Или ...</td>\n",
              "      <td>0</td>\n",
              "    </tr>\n",
              "    <tr>\n",
              "      <th>36899</th>\n",
              "      <td>Посмотрел Утомленных солнцем 2. И оказалось, ч...</td>\n",
              "      <td>0</td>\n",
              "    </tr>\n",
              "    <tr>\n",
              "      <th>36900</th>\n",
              "      <td>КРЫМОТРЕД НАРУШАЕТ ПРАВИЛА РАЗДЕЛА Т.К В НЕМ Н...</td>\n",
              "      <td>0</td>\n",
              "    </tr>\n",
              "    <tr>\n",
              "      <th>36901</th>\n",
              "      <td>До сих пор пересматриваю его видео. Орамбо кст...</td>\n",
              "      <td>0</td>\n",
              "    </tr>\n",
              "  </tbody>\n",
              "</table>\n",
              "<p>36902 rows × 2 columns</p>\n",
              "</div>"
            ],
            "text/plain": [
              "                                                    text  is_request\n",
              "0      Добрый день. Сегодня, 20 августа, моя мать шла...           1\n",
              "1      Пермь, г. , +791692145. В Перми с ноября 2021 ...           1\n",
              "2      Добрый день! Скажите, пожалуйста, если подала ...           1\n",
              "3      Каждая из них не о чем. Люди на остановках хот...           1\n",
              "4      В Березниках у сына, привитого от коронавируса...           1\n",
              "...                                                  ...         ...\n",
              "36897  Вонючий совковый скот прибежал и ноет. А вот и...           0\n",
              "36898  А кого любить? Гоблина тупорылого что-ли? Или ...           0\n",
              "36899  Посмотрел Утомленных солнцем 2. И оказалось, ч...           0\n",
              "36900  КРЫМОТРЕД НАРУШАЕТ ПРАВИЛА РАЗДЕЛА Т.К В НЕМ Н...           0\n",
              "36901  До сих пор пересматриваю его видео. Орамбо кст...           0\n",
              "\n",
              "[36902 rows x 2 columns]"
            ]
          },
          "execution_count": 3,
          "metadata": {},
          "output_type": "execute_result"
        }
      ],
      "source": [
        "# data = pd.read_csv('data_request_predict.csv')\n",
        "\n",
        "train_data, val_data = train_test_split(\n",
        "    data, random_state=42, test_size=.1\n",
        ")\n",
        "\n",
        "data"
      ]
    },
    {
      "cell_type": "code",
      "execution_count": 4,
      "metadata": {
        "colab": {
          "base_uri": "https://localhost:8080/"
        },
        "id": "V7qE-yluwY97",
        "outputId": "2e52ba22-6d85-4041-a545-9a075d6b7d5a"
      },
      "outputs": [],
      "source": [
        "class TextDataset(Dataset):\n",
        "    def __init__(self, data_df, tokenizer, max_length=512):\n",
        "        self.tokenizer = tokenizer\n",
        "        self.max_length = max_length\n",
        "\n",
        "        self.sentences = data_df[\"text\"].values\n",
        "        self.labels = data_df['is_request'].values\n",
        "\n",
        "    def __len__(self):\n",
        "        return self.labels.shape[0]\n",
        "\n",
        "    def __getitem__(self, i):\n",
        "        sentence, label = self.sentences[i], self.labels[i]\n",
        "\n",
        "        tokens = tokenizer(sentence, truncation=\"longest_first\", padding=\"max_length\", max_length=self.max_length)\n",
        "\n",
        "        tokens['labels'] = label\n",
        "\n",
        "        tokens = {key: torch.tensor(val).long() for key, val in tokens.items()}\n",
        "\n",
        "        return tokens\n",
        "\n",
        "\n",
        "train_dataset = TextDataset(train_data, tokenizer)\n",
        "val_dataset = TextDataset(val_data, tokenizer)"
      ]
    },
    {
      "cell_type": "code",
      "execution_count": 5,
      "metadata": {
        "id": "SlyRHDBX15H0"
      },
      "outputs": [],
      "source": [
        "accuracy = evaluate.load(\"accuracy\")\n",
        "f1_metric = evaluate.load(\"f1\")"
      ]
    },
    {
      "cell_type": "code",
      "execution_count": 6,
      "metadata": {
        "id": "IeVInmGe2Z5b"
      },
      "outputs": [],
      "source": [
        "def compute_metrics(eval_pred):\n",
        "    predictions, labels = eval_pred\n",
        "    predictions = np.argmax(predictions, axis=1)\n",
        "\n",
        "    out = {}\n",
        "\n",
        "    out.update(accuracy.compute(predictions=predictions, references=labels))\n",
        "    out.update(f1_metric.compute(predictions=predictions, references=labels))\n",
        "\n",
        "    return out"
      ]
    },
    {
      "cell_type": "code",
      "execution_count": 7,
      "metadata": {
        "id": "pa6s9-n2uMDI"
      },
      "outputs": [],
      "source": [
        "training_args = TrainingArguments(\n",
        "    output_dir=\"models/rubert_tiny_request\",\n",
        "    learning_rate=2e-5,\n",
        "    per_device_train_batch_size=32,\n",
        "    per_device_eval_batch_size=32,\n",
        "    num_train_epochs=5,\n",
        "    weight_decay=0.01,\n",
        "    evaluation_strategy=\"epoch\",\n",
        "    save_strategy=\"epoch\",\n",
        "    load_best_model_at_end=True,\n",
        ")"
      ]
    },
    {
      "cell_type": "code",
      "execution_count": 8,
      "metadata": {
        "id": "ljyw-Q2Ou8S_"
      },
      "outputs": [],
      "source": [
        "trainer = Trainer(\n",
        "    model=model,\n",
        "    args=training_args,\n",
        "    train_dataset=train_dataset,\n",
        "    eval_dataset=val_dataset,\n",
        "    tokenizer=tokenizer,\n",
        "    compute_metrics=compute_metrics,\n",
        ")"
      ]
    },
    {
      "cell_type": "code",
      "execution_count": 9,
      "metadata": {
        "colab": {
          "base_uri": "https://localhost:8080/",
          "height": 231
        },
        "id": "cYnQzvslu9XB",
        "outputId": "13b9a6a1-457b-49f4-84cf-8165a80180c8"
      },
      "outputs": [
        {
          "name": "stderr",
          "output_type": "stream",
          "text": [
            "/home/mat/miniconda3/lib/python3.11/site-packages/transformers/optimization.py:411: FutureWarning: This implementation of AdamW is deprecated and will be removed in a future version. Use the PyTorch implementation torch.optim.AdamW instead, or set `no_deprecation_warning=True` to disable this warning\n",
            "  warnings.warn(\n"
          ]
        },
        {
          "data": {
            "application/vnd.jupyter.widget-view+json": {
              "model_id": "3214eba5a62549bcbe85dd6798e8ebc4",
              "version_major": 2,
              "version_minor": 0
            },
            "text/plain": [
              "  0%|          | 0/5190 [00:00<?, ?it/s]"
            ]
          },
          "metadata": {},
          "output_type": "display_data"
        },
        {
          "name": "stderr",
          "output_type": "stream",
          "text": [
            "You're using a BertTokenizerFast tokenizer. Please note that with a fast tokenizer, using the `__call__` method is faster than using a method to encode the text followed by a call to the `pad` method to get a padded encoding.\n"
          ]
        },
        {
          "name": "stdout",
          "output_type": "stream",
          "text": [
            "{'loss': 0.232, 'learning_rate': 1.8073217726396917e-05, 'epoch': 0.48}\n",
            "{'loss': 0.1266, 'learning_rate': 1.6146435452793836e-05, 'epoch': 0.96}\n"
          ]
        },
        {
          "data": {
            "application/vnd.jupyter.widget-view+json": {
              "model_id": "3c132d7fcbed4074be71adec7d4b37f9",
              "version_major": 2,
              "version_minor": 0
            },
            "text/plain": [
              "  0%|          | 0/116 [00:00<?, ?it/s]"
            ]
          },
          "metadata": {},
          "output_type": "display_data"
        },
        {
          "name": "stdout",
          "output_type": "stream",
          "text": [
            "{'eval_loss': 0.10093213617801666, 'eval_accuracy': 0.9636954754808995, 'eval_f1': 0.9706140350877193, 'eval_runtime': 12.348, 'eval_samples_per_second': 298.915, 'eval_steps_per_second': 9.394, 'epoch': 1.0}\n",
            "{'loss': 0.0837, 'learning_rate': 1.4219653179190754e-05, 'epoch': 1.45}\n",
            "{'loss': 0.0797, 'learning_rate': 1.2292870905587671e-05, 'epoch': 1.93}\n"
          ]
        },
        {
          "data": {
            "application/vnd.jupyter.widget-view+json": {
              "model_id": "cd7065eeafda4c1d95a6ca61d4ca3092",
              "version_major": 2,
              "version_minor": 0
            },
            "text/plain": [
              "  0%|          | 0/116 [00:00<?, ?it/s]"
            ]
          },
          "metadata": {},
          "output_type": "display_data"
        },
        {
          "name": "stdout",
          "output_type": "stream",
          "text": [
            "{'eval_loss': 0.09592889994382858, 'eval_accuracy': 0.9677594147927391, 'eval_f1': 0.974000436967446, 'eval_runtime': 10.1454, 'eval_samples_per_second': 363.811, 'eval_steps_per_second': 11.434, 'epoch': 2.0}\n",
            "{'loss': 0.0605, 'learning_rate': 1.0366088631984585e-05, 'epoch': 2.41}\n",
            "{'loss': 0.0588, 'learning_rate': 8.439306358381504e-06, 'epoch': 2.89}\n"
          ]
        },
        {
          "data": {
            "application/vnd.jupyter.widget-view+json": {
              "model_id": "331bcaf273bd40b8a67adf0ec3d6493c",
              "version_major": 2,
              "version_minor": 0
            },
            "text/plain": [
              "  0%|          | 0/116 [00:00<?, ?it/s]"
            ]
          },
          "metadata": {},
          "output_type": "display_data"
        },
        {
          "name": "stdout",
          "output_type": "stream",
          "text": [
            "{'eval_loss': 0.09358404576778412, 'eval_accuracy': 0.9712814955296668, 'eval_f1': 0.9766725352112675, 'eval_runtime': 10.0983, 'eval_samples_per_second': 365.507, 'eval_steps_per_second': 11.487, 'epoch': 3.0}\n",
            "{'loss': 0.0509, 'learning_rate': 6.512524084778421e-06, 'epoch': 3.37}\n",
            "{'loss': 0.0452, 'learning_rate': 4.585741811175338e-06, 'epoch': 3.85}\n"
          ]
        },
        {
          "data": {
            "application/vnd.jupyter.widget-view+json": {
              "model_id": "62c6926b28e84ef284a4d83f07d5e1fc",
              "version_major": 2,
              "version_minor": 0
            },
            "text/plain": [
              "  0%|          | 0/116 [00:00<?, ?it/s]"
            ]
          },
          "metadata": {},
          "output_type": "display_data"
        },
        {
          "name": "stdout",
          "output_type": "stream",
          "text": [
            "{'eval_loss': 0.09912583976984024, 'eval_accuracy': 0.9726361419669466, 'eval_f1': 0.977787552232241, 'eval_runtime': 10.0689, 'eval_samples_per_second': 366.575, 'eval_steps_per_second': 11.521, 'epoch': 4.0}\n",
            "{'loss': 0.0357, 'learning_rate': 2.658959537572254e-06, 'epoch': 4.34}\n",
            "{'loss': 0.0366, 'learning_rate': 7.321772639691716e-07, 'epoch': 4.82}\n"
          ]
        },
        {
          "data": {
            "application/vnd.jupyter.widget-view+json": {
              "model_id": "779ad8c7c5904523b13306d0a997e051",
              "version_major": 2,
              "version_minor": 0
            },
            "text/plain": [
              "  0%|          | 0/116 [00:00<?, ?it/s]"
            ]
          },
          "metadata": {},
          "output_type": "display_data"
        },
        {
          "name": "stdout",
          "output_type": "stream",
          "text": [
            "{'eval_loss': 0.10722693055868149, 'eval_accuracy': 0.9712814955296668, 'eval_f1': 0.976805251641138, 'eval_runtime': 10.0167, 'eval_samples_per_second': 368.486, 'eval_steps_per_second': 11.581, 'epoch': 5.0}\n",
            "{'train_runtime': 1329.5693, 'train_samples_per_second': 124.894, 'train_steps_per_second': 3.904, 'train_loss': 0.07927754177982867, 'epoch': 5.0}\n"
          ]
        },
        {
          "data": {
            "text/plain": [
              "TrainOutput(global_step=5190, training_loss=0.07927754177982867, metrics={'train_runtime': 1329.5693, 'train_samples_per_second': 124.894, 'train_steps_per_second': 3.904, 'train_loss': 0.07927754177982867, 'epoch': 5.0})"
            ]
          },
          "execution_count": 9,
          "metadata": {},
          "output_type": "execute_result"
        }
      ],
      "source": [
        "trainer.train()"
      ]
    },
    {
      "cell_type": "code",
      "execution_count": 10,
      "metadata": {},
      "outputs": [],
      "source": [
        "model.save_pretrained(\"request_ruBert-tiny/\")"
      ]
    }
  ],
  "metadata": {
    "accelerator": "GPU",
    "colab": {
      "gpuType": "T4",
      "provenance": []
    },
    "gpuClass": "standard",
    "kernelspec": {
      "display_name": "Python 3",
      "name": "python3"
    },
    "language_info": {
      "codemirror_mode": {
        "name": "ipython",
        "version": 3
      },
      "file_extension": ".py",
      "mimetype": "text/x-python",
      "name": "python",
      "nbconvert_exporter": "python",
      "pygments_lexer": "ipython3",
      "version": "3.11.5"
    }
  },
  "nbformat": 4,
  "nbformat_minor": 0
}
