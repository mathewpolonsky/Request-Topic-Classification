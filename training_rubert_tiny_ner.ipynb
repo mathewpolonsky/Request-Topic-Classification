{
  "cells": [
    {
      "cell_type": "markdown",
      "metadata": {
        "id": "-VftDJU53wGk"
      },
      "source": [
        "### Среда"
      ]
    },
    {
      "cell_type": "markdown",
      "metadata": {
        "id": "ANrNlNT4h4rc"
      },
      "source": [
        "The following cell fixes the background color of tqdm background color in VSCode Jupyter Notebooks:"
      ]
    },
    {
      "cell_type": "code",
      "execution_count": 1,
      "metadata": {
        "id": "PQciamrxh4rc",
        "outputId": "12abec2e-0cae-4853-e239-1310e6876774"
      },
      "outputs": [
        {
          "data": {
            "text/html": [
              "<style>\n",
              ".cell-output-ipywidget-background {\n",
              "   background-color: transparent !important;\n",
              "}\n",
              ".jp-OutputArea-output {\n",
              "   background-color: transparent;\n",
              "}\n",
              "</style>\n"
            ],
            "text/plain": [
              "<IPython.core.display.HTML object>"
            ]
          },
          "metadata": {},
          "output_type": "display_data"
        }
      ],
      "source": [
        "%%html\n",
        "<style>\n",
        ".cell-output-ipywidget-background {\n",
        "   background-color: transparent !important;\n",
        "}\n",
        ".jp-OutputArea-output {\n",
        "   background-color: transparent;\n",
        "}\n",
        ".jp-OutputArea-output {\n",
        "   foreground-color: white;\n",
        "}\n",
        "</style>"
      ]
    },
    {
      "cell_type": "markdown",
      "metadata": {
        "id": "ur9GA_qeh4rc"
      },
      "source": [
        "Google Colab"
      ]
    },
    {
      "cell_type": "code",
      "execution_count": null,
      "metadata": {
        "id": "gXc_o70rh4rc"
      },
      "outputs": [],
      "source": [
        "# dataset\n",
        "!gdown 1wb6ayDuhhqOnFLjU4qWzeohiMnv7t8RK\n",
        "\n",
        "# clear dataset\n",
        "!gdown 1vzYpVcquBvzX5Ige3klpaACQFbjEP4Ak\n",
        "\n",
        "# id2label and label2id\n",
        "!gdown 1yBppNyzNCS5tinBvlTIyuMbBDmQhmKBF\n",
        "\n",
        "!gdown 1GvsfK3vZIBbYViI-KFPCsW-mFw4RUjqK\n",
        "\n",
        "# contractor dataset\n",
        "!gdown 1j528C3llhpycw5mqSlUO8hATZR1hzoza\n",
        "\n",
        "# contractor id2label and label2id\n",
        "!gdown 1-0o2i16oGXe8gtiV_HnZXzLGiJtfBv9T\n",
        "!gdown 1FwH6xxW0KXStqkn8nfaeYnsYlars8P_M\n",
        "\n",
        "# topic2big_topic\n",
        "!gdown 1EJfpWAHRlgGE9DdPQNYu69hoUDmbahT0"
      ]
    },
    {
      "cell_type": "code",
      "execution_count": 3,
      "metadata": {
        "colab": {
          "base_uri": "https://localhost:8080/"
        },
        "id": "K8-VyYdYh4rc",
        "outputId": "be6895a3-bba0-4c06-f3ee-08c2c1f85d2f"
      },
      "outputs": [
        {
          "name": "stdout",
          "output_type": "stream",
          "text": [
            "Mounted at /content/drive\n"
          ]
        }
      ],
      "source": [
        "from google.colab import drive\n",
        "drive.mount('/content/drive')"
      ]
    },
    {
      "cell_type": "code",
      "execution_count": null,
      "metadata": {
        "id": "eMZYBBWsh4rc"
      },
      "outputs": [],
      "source": [
        "!pip install git+https://github.com/huggingface/transformers.git\n",
        "# !pip install -U sentence-transformers\n",
        "!pip install evaluate\n",
        "!pip install transformers[torch]\n",
        "!pip install demoji"
      ]
    },
    {
      "cell_type": "markdown",
      "metadata": {
        "id": "Wcxe2GiKh4rc"
      },
      "source": [
        "---"
      ]
    },
    {
      "cell_type": "markdown",
      "metadata": {
        "id": "Vvwb2xVa36Gb"
      },
      "source": [
        "### Импорт библиотек"
      ]
    },
    {
      "cell_type": "code",
      "execution_count": 2,
      "metadata": {
        "id": "ykl0Ra1Gh4rc"
      },
      "outputs": [],
      "source": [
        "import re\n",
        "import json\n",
        "\n",
        "import numpy as np\n",
        "import pandas as pd\n",
        "\n",
        "import demoji\n",
        "\n",
        "from sklearn.model_selection import train_test_split\n",
        "from sklearn.utils.class_weight import compute_class_weight\n",
        "\n",
        "import torch\n",
        "from torch.utils.data import DataLoader, Dataset\n",
        "import evaluate\n",
        "\n",
        "from transformers import AutoModelForSequenceClassification, TrainingArguments, Trainer\n",
        "from transformers import AutoTokenizer, AutoModelForSeq2SeqLM, T5TokenizerFast, pipeline\n",
        "\n",
        "from tqdm.auto import tqdm"
      ]
    },
    {
      "cell_type": "markdown",
      "metadata": {
        "id": "B_kDea86h4rc"
      },
      "source": [
        "### Обработка датасета"
      ]
    },
    {
      "cell_type": "code",
      "execution_count": 6,
      "metadata": {
        "colab": {
          "base_uri": "https://localhost:8080/",
          "height": 206
        },
        "id": "VImNajtMh4rc",
        "outputId": "93c3bf8e-fc7d-4095-f958-f88c067b6a80"
      },
      "outputs": [
        {
          "data": {
            "text/html": [
              "\n",
              "  <div id=\"df-8f26849f-3eda-41db-9380-82300eeae6e3\" class=\"colab-df-container\">\n",
              "    <div>\n",
              "<style scoped>\n",
              "    .dataframe tbody tr th:only-of-type {\n",
              "        vertical-align: middle;\n",
              "    }\n",
              "\n",
              "    .dataframe tbody tr th {\n",
              "        vertical-align: top;\n",
              "    }\n",
              "\n",
              "    .dataframe thead th {\n",
              "        text-align: right;\n",
              "    }\n",
              "</style>\n",
              "<table border=\"1\" class=\"dataframe\">\n",
              "  <thead>\n",
              "    <tr style=\"text-align: right;\">\n",
              "      <th></th>\n",
              "      <th>Исполнитель</th>\n",
              "      <th>Группа тем</th>\n",
              "      <th>Текст инцидента</th>\n",
              "      <th>Тема</th>\n",
              "    </tr>\n",
              "  </thead>\n",
              "  <tbody>\n",
              "    <tr>\n",
              "      <th>0</th>\n",
              "      <td>Лысьвенский городской округ</td>\n",
              "      <td>Благоустройство</td>\n",
              "      <td>'Добрый день. Сегодня, 20.08.22, моя мать шла ...</td>\n",
              "      <td>★ Ямы во дворах</td>\n",
              "    </tr>\n",
              "    <tr>\n",
              "      <th>1</th>\n",
              "      <td>Министерство социального развития ПК</td>\n",
              "      <td>Социальное обслуживание и защита</td>\n",
              "      <td>'Пермь г, +79194692145. В Перми с ноября 2021 ...</td>\n",
              "      <td>Оказание гос. соц. помощи</td>\n",
              "    </tr>\n",
              "    <tr>\n",
              "      <th>2</th>\n",
              "      <td>Министерство социального развития ПК</td>\n",
              "      <td>Социальное обслуживание и защита</td>\n",
              "      <td>'Добрый день ! Скажите пожалуйста если подовал...</td>\n",
              "      <td>Дети и многодетные семьи</td>\n",
              "    </tr>\n",
              "    <tr>\n",
              "      <th>3</th>\n",
              "      <td>Город Пермь</td>\n",
              "      <td>Общественный транспорт</td>\n",
              "      <td>'Каждая из них не о чем. Люди на остановках хо...</td>\n",
              "      <td>Содержание остановок</td>\n",
              "    </tr>\n",
              "    <tr>\n",
              "      <th>4</th>\n",
              "      <td>Министерство здравоохранения</td>\n",
              "      <td>Здравоохранение/Медицина</td>\n",
              "      <td>'В Березниках у сына привитого откоронавируса ...</td>\n",
              "      <td>Технические проблемы с записью на прием к врачу</td>\n",
              "    </tr>\n",
              "  </tbody>\n",
              "</table>\n",
              "</div>\n",
              "    <div class=\"colab-df-buttons\">\n",
              "\n",
              "  <div class=\"colab-df-container\">\n",
              "    <button class=\"colab-df-convert\" onclick=\"convertToInteractive('df-8f26849f-3eda-41db-9380-82300eeae6e3')\"\n",
              "            title=\"Convert this dataframe to an interactive table.\"\n",
              "            style=\"display:none;\">\n",
              "\n",
              "  <svg xmlns=\"http://www.w3.org/2000/svg\" height=\"24px\" viewBox=\"0 -960 960 960\">\n",
              "    <path d=\"M120-120v-720h720v720H120Zm60-500h600v-160H180v160Zm220 220h160v-160H400v160Zm0 220h160v-160H400v160ZM180-400h160v-160H180v160Zm440 0h160v-160H620v160ZM180-180h160v-160H180v160Zm440 0h160v-160H620v160Z\"/>\n",
              "  </svg>\n",
              "    </button>\n",
              "\n",
              "  <style>\n",
              "    .colab-df-container {\n",
              "      display:flex;\n",
              "      gap: 12px;\n",
              "    }\n",
              "\n",
              "    .colab-df-convert {\n",
              "      background-color: #E8F0FE;\n",
              "      border: none;\n",
              "      border-radius: 50%;\n",
              "      cursor: pointer;\n",
              "      display: none;\n",
              "      fill: #1967D2;\n",
              "      height: 32px;\n",
              "      padding: 0 0 0 0;\n",
              "      width: 32px;\n",
              "    }\n",
              "\n",
              "    .colab-df-convert:hover {\n",
              "      background-color: #E2EBFA;\n",
              "      box-shadow: 0px 1px 2px rgba(60, 64, 67, 0.3), 0px 1px 3px 1px rgba(60, 64, 67, 0.15);\n",
              "      fill: #174EA6;\n",
              "    }\n",
              "\n",
              "    .colab-df-buttons div {\n",
              "      margin-bottom: 4px;\n",
              "    }\n",
              "\n",
              "    [theme=dark] .colab-df-convert {\n",
              "      background-color: #3B4455;\n",
              "      fill: #D2E3FC;\n",
              "    }\n",
              "\n",
              "    [theme=dark] .colab-df-convert:hover {\n",
              "      background-color: #434B5C;\n",
              "      box-shadow: 0px 1px 3px 1px rgba(0, 0, 0, 0.15);\n",
              "      filter: drop-shadow(0px 1px 2px rgba(0, 0, 0, 0.3));\n",
              "      fill: #FFFFFF;\n",
              "    }\n",
              "  </style>\n",
              "\n",
              "    <script>\n",
              "      const buttonEl =\n",
              "        document.querySelector('#df-8f26849f-3eda-41db-9380-82300eeae6e3 button.colab-df-convert');\n",
              "      buttonEl.style.display =\n",
              "        google.colab.kernel.accessAllowed ? 'block' : 'none';\n",
              "\n",
              "      async function convertToInteractive(key) {\n",
              "        const element = document.querySelector('#df-8f26849f-3eda-41db-9380-82300eeae6e3');\n",
              "        const dataTable =\n",
              "          await google.colab.kernel.invokeFunction('convertToInteractive',\n",
              "                                                    [key], {});\n",
              "        if (!dataTable) return;\n",
              "\n",
              "        const docLinkHtml = 'Like what you see? Visit the ' +\n",
              "          '<a target=\"_blank\" href=https://colab.research.google.com/notebooks/data_table.ipynb>data table notebook</a>'\n",
              "          + ' to learn more about interactive tables.';\n",
              "        element.innerHTML = '';\n",
              "        dataTable['output_type'] = 'display_data';\n",
              "        await google.colab.output.renderOutput(dataTable, element);\n",
              "        const docLink = document.createElement('div');\n",
              "        docLink.innerHTML = docLinkHtml;\n",
              "        element.appendChild(docLink);\n",
              "      }\n",
              "    </script>\n",
              "  </div>\n",
              "\n",
              "\n",
              "<div id=\"df-fc704bb0-1253-466c-b97b-f9fcc9d22a6e\">\n",
              "  <button class=\"colab-df-quickchart\" onclick=\"quickchart('df-fc704bb0-1253-466c-b97b-f9fcc9d22a6e')\"\n",
              "            title=\"Suggest charts\"\n",
              "            style=\"display:none;\">\n",
              "\n",
              "<svg xmlns=\"http://www.w3.org/2000/svg\" height=\"24px\"viewBox=\"0 0 24 24\"\n",
              "     width=\"24px\">\n",
              "    <g>\n",
              "        <path d=\"M19 3H5c-1.1 0-2 .9-2 2v14c0 1.1.9 2 2 2h14c1.1 0 2-.9 2-2V5c0-1.1-.9-2-2-2zM9 17H7v-7h2v7zm4 0h-2V7h2v10zm4 0h-2v-4h2v4z\"/>\n",
              "    </g>\n",
              "</svg>\n",
              "  </button>\n",
              "\n",
              "<style>\n",
              "  .colab-df-quickchart {\n",
              "      --bg-color: #E8F0FE;\n",
              "      --fill-color: #1967D2;\n",
              "      --hover-bg-color: #E2EBFA;\n",
              "      --hover-fill-color: #174EA6;\n",
              "      --disabled-fill-color: #AAA;\n",
              "      --disabled-bg-color: #DDD;\n",
              "  }\n",
              "\n",
              "  [theme=dark] .colab-df-quickchart {\n",
              "      --bg-color: #3B4455;\n",
              "      --fill-color: #D2E3FC;\n",
              "      --hover-bg-color: #434B5C;\n",
              "      --hover-fill-color: #FFFFFF;\n",
              "      --disabled-bg-color: #3B4455;\n",
              "      --disabled-fill-color: #666;\n",
              "  }\n",
              "\n",
              "  .colab-df-quickchart {\n",
              "    background-color: var(--bg-color);\n",
              "    border: none;\n",
              "    border-radius: 50%;\n",
              "    cursor: pointer;\n",
              "    display: none;\n",
              "    fill: var(--fill-color);\n",
              "    height: 32px;\n",
              "    padding: 0;\n",
              "    width: 32px;\n",
              "  }\n",
              "\n",
              "  .colab-df-quickchart:hover {\n",
              "    background-color: var(--hover-bg-color);\n",
              "    box-shadow: 0 1px 2px rgba(60, 64, 67, 0.3), 0 1px 3px 1px rgba(60, 64, 67, 0.15);\n",
              "    fill: var(--button-hover-fill-color);\n",
              "  }\n",
              "\n",
              "  .colab-df-quickchart-complete:disabled,\n",
              "  .colab-df-quickchart-complete:disabled:hover {\n",
              "    background-color: var(--disabled-bg-color);\n",
              "    fill: var(--disabled-fill-color);\n",
              "    box-shadow: none;\n",
              "  }\n",
              "\n",
              "  .colab-df-spinner {\n",
              "    border: 2px solid var(--fill-color);\n",
              "    border-color: transparent;\n",
              "    border-bottom-color: var(--fill-color);\n",
              "    animation:\n",
              "      spin 1s steps(1) infinite;\n",
              "  }\n",
              "\n",
              "  @keyframes spin {\n",
              "    0% {\n",
              "      border-color: transparent;\n",
              "      border-bottom-color: var(--fill-color);\n",
              "      border-left-color: var(--fill-color);\n",
              "    }\n",
              "    20% {\n",
              "      border-color: transparent;\n",
              "      border-left-color: var(--fill-color);\n",
              "      border-top-color: var(--fill-color);\n",
              "    }\n",
              "    30% {\n",
              "      border-color: transparent;\n",
              "      border-left-color: var(--fill-color);\n",
              "      border-top-color: var(--fill-color);\n",
              "      border-right-color: var(--fill-color);\n",
              "    }\n",
              "    40% {\n",
              "      border-color: transparent;\n",
              "      border-right-color: var(--fill-color);\n",
              "      border-top-color: var(--fill-color);\n",
              "    }\n",
              "    60% {\n",
              "      border-color: transparent;\n",
              "      border-right-color: var(--fill-color);\n",
              "    }\n",
              "    80% {\n",
              "      border-color: transparent;\n",
              "      border-right-color: var(--fill-color);\n",
              "      border-bottom-color: var(--fill-color);\n",
              "    }\n",
              "    90% {\n",
              "      border-color: transparent;\n",
              "      border-bottom-color: var(--fill-color);\n",
              "    }\n",
              "  }\n",
              "</style>\n",
              "\n",
              "  <script>\n",
              "    async function quickchart(key) {\n",
              "      const quickchartButtonEl =\n",
              "        document.querySelector('#' + key + ' button');\n",
              "      quickchartButtonEl.disabled = true;  // To prevent multiple clicks.\n",
              "      quickchartButtonEl.classList.add('colab-df-spinner');\n",
              "      try {\n",
              "        const charts = await google.colab.kernel.invokeFunction(\n",
              "            'suggestCharts', [key], {});\n",
              "      } catch (error) {\n",
              "        console.error('Error during call to suggestCharts:', error);\n",
              "      }\n",
              "      quickchartButtonEl.classList.remove('colab-df-spinner');\n",
              "      quickchartButtonEl.classList.add('colab-df-quickchart-complete');\n",
              "    }\n",
              "    (() => {\n",
              "      let quickchartButtonEl =\n",
              "        document.querySelector('#df-fc704bb0-1253-466c-b97b-f9fcc9d22a6e button');\n",
              "      quickchartButtonEl.style.display =\n",
              "        google.colab.kernel.accessAllowed ? 'block' : 'none';\n",
              "    })();\n",
              "  </script>\n",
              "</div>\n",
              "    </div>\n",
              "  </div>\n"
            ],
            "text/plain": [
              "                            Исполнитель                        Группа тем  \\\n",
              "0           Лысьвенский городской округ                   Благоустройство   \n",
              "1  Министерство социального развития ПК  Социальное обслуживание и защита   \n",
              "2  Министерство социального развития ПК  Социальное обслуживание и защита   \n",
              "3                           Город Пермь            Общественный транспорт   \n",
              "4          Министерство здравоохранения          Здравоохранение/Медицина   \n",
              "\n",
              "                                     Текст инцидента  \\\n",
              "0  'Добрый день. Сегодня, 20.08.22, моя мать шла ...   \n",
              "1  'Пермь г, +79194692145. В Перми с ноября 2021 ...   \n",
              "2  'Добрый день ! Скажите пожалуйста если подовал...   \n",
              "3  'Каждая из них не о чем. Люди на остановках хо...   \n",
              "4  'В Березниках у сына привитого откоронавируса ...   \n",
              "\n",
              "                                              Тема  \n",
              "0                                  ★ Ямы во дворах  \n",
              "1                        Оказание гос. соц. помощи  \n",
              "2                         Дети и многодетные семьи  \n",
              "3                             Содержание остановок  \n",
              "4  Технические проблемы с записью на прием к врачу  "
            ]
          },
          "execution_count": 6,
          "metadata": {},
          "output_type": "execute_result"
        }
      ],
      "source": [
        "data = pd.read_csv('train_dataset_train.csv', sep=';')\n",
        "data.head()"
      ]
    },
    {
      "cell_type": "markdown",
      "metadata": {
        "id": "jg9j09XHh4rc"
      },
      "source": [
        "Убираем символ `'` в начале всех текстов инцидента"
      ]
    },
    {
      "cell_type": "code",
      "execution_count": null,
      "metadata": {
        "colab": {
          "base_uri": "https://localhost:8080/"
        },
        "id": "UNACG2ibh4rc",
        "outputId": "0c4d979b-1677-4a8f-faa4-106030937d2c"
      },
      "outputs": [
        {
          "data": {
            "text/plain": [
              "True"
            ]
          },
          "execution_count": 3,
          "metadata": {},
          "output_type": "execute_result"
        }
      ],
      "source": [
        "all([i[0] == \"'\" for i in data['Текст инцидента'].values])"
      ]
    },
    {
      "cell_type": "code",
      "execution_count": null,
      "metadata": {
        "colab": {
          "base_uri": "https://localhost:8080/"
        },
        "id": "SsOFouXDh4rc",
        "outputId": "040ad6e7-572a-4b43-f657-7279c6e58759"
      },
      "outputs": [
        {
          "data": {
            "text/plain": [
              "0    Добрый день. Сегодня, 20.08.22, моя мать шла п...\n",
              "1    Пермь г, +79194692145. В Перми с ноября 2021 г...\n",
              "2    Добрый день ! Скажите пожалуйста если подовала...\n",
              "3    Каждая из них не о чем. Люди на остановках хот...\n",
              "4    В Березниках у сына привитого откоронавируса з...\n",
              "Name: Текст инцидента, dtype: object"
            ]
          },
          "execution_count": 4,
          "metadata": {},
          "output_type": "execute_result"
        }
      ],
      "source": [
        "data['Текст инцидента'] = data['Текст инцидента'].str.strip(\"'\")\n",
        "data['Текст инцидента'].head()"
      ]
    },
    {
      "cell_type": "markdown",
      "metadata": {
        "id": "MKkxRZrUh4rt"
      },
      "source": [
        "Убираем тег `<br>` в начале всех текстов инцидента"
      ]
    },
    {
      "cell_type": "code",
      "execution_count": null,
      "metadata": {
        "colab": {
          "base_uri": "https://localhost:8080/"
        },
        "id": "3PsGbdxFh4rt",
        "outputId": "9f8cd8cb-3256-44f0-fe3d-f7f23eba3927"
      },
      "outputs": [
        {
          "data": {
            "text/plain": [
              "3329"
            ]
          },
          "execution_count": 5,
          "metadata": {},
          "output_type": "execute_result"
        }
      ],
      "source": [
        "data['Текст инцидента'].str.contains('<br>').sum()"
      ]
    },
    {
      "cell_type": "code",
      "execution_count": null,
      "metadata": {
        "id": "1kb8oSdVh4rt"
      },
      "outputs": [],
      "source": [
        "data['Текст инцидента'] = data['Текст инцидента'].str.replace('<br>', '\\n')"
      ]
    },
    {
      "cell_type": "markdown",
      "metadata": {
        "id": "hWx9M1keh4rt"
      },
      "source": [
        "Убираем ссылку на пользователя, которому адресован комментарий"
      ]
    },
    {
      "cell_type": "code",
      "execution_count": null,
      "metadata": {
        "colab": {
          "base_uri": "https://localhost:8080/"
        },
        "id": "CSbw7TB5h4rt",
        "outputId": "58045c6e-330d-45f0-8e8a-be4d041f1f8f"
      },
      "outputs": [
        {
          "data": {
            "text/plain": [
              "22       [club185980418|Центр социальных выплат Пермско...\n",
              "25       [club57433185|Пермь Первая], обратите внимание...\n",
              "38       [id269738613|Дмитрий], в Краснокамске тоже ест...\n",
              "59       [club80949945|Администрация города Лысьвы], ко...\n",
              "64       [club201789187|ЦУР Пермского края] , здравству...\n",
              "                               ...                        \n",
              "23100    [club57433185|Пермь Первая], проблема с люком ...\n",
              "23105    [id586879673|Жанна], Я дважды уже столкнулась ...\n",
              "23113    [id153709709|Нина], ходить не возможно даже та...\n",
              "23120    [club171874188|МАУ \"СШ армейского рукопашного ...\n",
              "23122    [club173907682|Березники официальные], а если ...\n",
              "Name: Текст инцидента, Length: 1470, dtype: object"
            ]
          },
          "execution_count": 7,
          "metadata": {},
          "output_type": "execute_result"
        }
      ],
      "source": [
        "data[data['Текст инцидента'].str.startswith(\"[\")]['Текст инцидента']"
      ]
    },
    {
      "cell_type": "code",
      "execution_count": null,
      "metadata": {
        "id": "lRyZKA2uh4rt"
      },
      "outputs": [],
      "source": [
        "def remove_recipient(text):\n",
        "    pattern = r\"^\\[[^\\]]+\\]\"\n",
        "\n",
        "    text_wo_recipient = re.sub(pattern, \"\", text).strip(', ')\n",
        "    return text_wo_recipient"
      ]
    },
    {
      "cell_type": "code",
      "execution_count": null,
      "metadata": {
        "colab": {
          "base_uri": "https://localhost:8080/",
          "height": 94
        },
        "id": "OGOYt9T1h4rt",
        "outputId": "308cc7a5-f54f-4721-a739-f5c53394709a"
      },
      "outputs": [
        {
          "name": "stdout",
          "output_type": "stream",
          "text": [
            "[club57433185|Пермь Первая], обратите внимание на организацию работы на ГЭС и на незаконченный ремонт дороги через переезд на ул. Писарева!\n"
          ]
        },
        {
          "data": {
            "application/vnd.google.colaboratory.intrinsic+json": {
              "type": "string"
            },
            "text/plain": [
              "'обратите внимание на организацию работы на ГЭС и на незаконченный ремонт дороги через переезд на ул. Писарева!'"
            ]
          },
          "execution_count": 9,
          "metadata": {},
          "output_type": "execute_result"
        }
      ],
      "source": [
        "text = data[data['Текст инцидента'].str.startswith(\"[\")]['Текст инцидента'].iloc[1]\n",
        "print(text)\n",
        "\n",
        "remove_recipient(text)"
      ]
    },
    {
      "cell_type": "code",
      "execution_count": null,
      "metadata": {
        "id": "knpDqpKgh4rt"
      },
      "outputs": [],
      "source": [
        "# data['Текст инцидента'][data['Текст инцидента'].apply(remove_recipient).str.startswith(\"[\")]"
      ]
    },
    {
      "cell_type": "code",
      "execution_count": null,
      "metadata": {
        "id": "3j0YmEw6h4rt"
      },
      "outputs": [],
      "source": [
        "data['Текст инцидента'] = data['Текст инцидента'].apply(remove_recipient)"
      ]
    },
    {
      "cell_type": "markdown",
      "metadata": {
        "id": "vIejU1Mph4rt"
      },
      "source": [
        "Если в тексте инцидента менее чем 4 слова, убираем такой текст"
      ]
    },
    {
      "cell_type": "code",
      "execution_count": null,
      "metadata": {
        "colab": {
          "base_uri": "https://localhost:8080/"
        },
        "id": "ecnauFV-h4rt",
        "outputId": "1eb90c99-6c50-49ab-e202-06ae4d76a4ba"
      },
      "outputs": [
        {
          "data": {
            "text/plain": [
              "638"
            ]
          },
          "execution_count": 11,
          "metadata": {},
          "output_type": "execute_result"
        }
      ],
      "source": [
        "(data['Текст инцидента'].str.split().apply(len) < 4).sum()"
      ]
    },
    {
      "cell_type": "code",
      "execution_count": null,
      "metadata": {
        "colab": {
          "base_uri": "https://localhost:8080/",
          "height": 519
        },
        "id": "GeKTGqRih4rt",
        "outputId": "fdc1f98c-34bf-4eb7-f7c8-1ad7d768b703"
      },
      "outputs": [
        {
          "data": {
            "text/html": [
              "\n",
              "  <div id=\"df-a688925a-12c4-464a-ae0f-a5cc44dea9c8\" class=\"colab-df-container\">\n",
              "    <div>\n",
              "<style scoped>\n",
              "    .dataframe tbody tr th:only-of-type {\n",
              "        vertical-align: middle;\n",
              "    }\n",
              "\n",
              "    .dataframe tbody tr th {\n",
              "        vertical-align: top;\n",
              "    }\n",
              "\n",
              "    .dataframe thead th {\n",
              "        text-align: right;\n",
              "    }\n",
              "</style>\n",
              "<table border=\"1\" class=\"dataframe\">\n",
              "  <thead>\n",
              "    <tr style=\"text-align: right;\">\n",
              "      <th></th>\n",
              "      <th>Исполнитель</th>\n",
              "      <th>Группа тем</th>\n",
              "      <th>Текст инцидента</th>\n",
              "      <th>Тема</th>\n",
              "    </tr>\n",
              "  </thead>\n",
              "  <tbody>\n",
              "    <tr>\n",
              "      <th>0</th>\n",
              "      <td>Лысьвенский городской округ</td>\n",
              "      <td>Благоустройство</td>\n",
              "      <td>Добрый день. Сегодня, 20.08.22, моя мать шла п...</td>\n",
              "      <td>★ Ямы во дворах</td>\n",
              "    </tr>\n",
              "    <tr>\n",
              "      <th>1</th>\n",
              "      <td>Министерство социального развития ПК</td>\n",
              "      <td>Социальное обслуживание и защита</td>\n",
              "      <td>Пермь г, +79194692145. В Перми с ноября 2021 г...</td>\n",
              "      <td>Оказание гос. соц. помощи</td>\n",
              "    </tr>\n",
              "    <tr>\n",
              "      <th>2</th>\n",
              "      <td>Министерство социального развития ПК</td>\n",
              "      <td>Социальное обслуживание и защита</td>\n",
              "      <td>Добрый день ! Скажите пожалуйста если подовала...</td>\n",
              "      <td>Дети и многодетные семьи</td>\n",
              "    </tr>\n",
              "    <tr>\n",
              "      <th>3</th>\n",
              "      <td>Город Пермь</td>\n",
              "      <td>Общественный транспорт</td>\n",
              "      <td>Каждая из них не о чем. Люди на остановках хот...</td>\n",
              "      <td>Содержание остановок</td>\n",
              "    </tr>\n",
              "    <tr>\n",
              "      <th>4</th>\n",
              "      <td>Министерство здравоохранения</td>\n",
              "      <td>Здравоохранение/Медицина</td>\n",
              "      <td>В Березниках у сына привитого откоронавируса з...</td>\n",
              "      <td>Технические проблемы с записью на прием к врачу</td>\n",
              "    </tr>\n",
              "  </tbody>\n",
              "</table>\n",
              "</div>\n",
              "    <div class=\"colab-df-buttons\">\n",
              "\n",
              "  <div class=\"colab-df-container\">\n",
              "    <button class=\"colab-df-convert\" onclick=\"convertToInteractive('df-a688925a-12c4-464a-ae0f-a5cc44dea9c8')\"\n",
              "            title=\"Convert this dataframe to an interactive table.\"\n",
              "            style=\"display:none;\">\n",
              "\n",
              "  <svg xmlns=\"http://www.w3.org/2000/svg\" height=\"24px\" viewBox=\"0 -960 960 960\">\n",
              "    <path d=\"M120-120v-720h720v720H120Zm60-500h600v-160H180v160Zm220 220h160v-160H400v160Zm0 220h160v-160H400v160ZM180-400h160v-160H180v160Zm440 0h160v-160H620v160ZM180-180h160v-160H180v160Zm440 0h160v-160H620v160Z\"/>\n",
              "  </svg>\n",
              "    </button>\n",
              "\n",
              "  <style>\n",
              "    .colab-df-container {\n",
              "      display:flex;\n",
              "      gap: 12px;\n",
              "    }\n",
              "\n",
              "    .colab-df-convert {\n",
              "      background-color: #E8F0FE;\n",
              "      border: none;\n",
              "      border-radius: 50%;\n",
              "      cursor: pointer;\n",
              "      display: none;\n",
              "      fill: #1967D2;\n",
              "      height: 32px;\n",
              "      padding: 0 0 0 0;\n",
              "      width: 32px;\n",
              "    }\n",
              "\n",
              "    .colab-df-convert:hover {\n",
              "      background-color: #E2EBFA;\n",
              "      box-shadow: 0px 1px 2px rgba(60, 64, 67, 0.3), 0px 1px 3px 1px rgba(60, 64, 67, 0.15);\n",
              "      fill: #174EA6;\n",
              "    }\n",
              "\n",
              "    .colab-df-buttons div {\n",
              "      margin-bottom: 4px;\n",
              "    }\n",
              "\n",
              "    [theme=dark] .colab-df-convert {\n",
              "      background-color: #3B4455;\n",
              "      fill: #D2E3FC;\n",
              "    }\n",
              "\n",
              "    [theme=dark] .colab-df-convert:hover {\n",
              "      background-color: #434B5C;\n",
              "      box-shadow: 0px 1px 3px 1px rgba(0, 0, 0, 0.15);\n",
              "      filter: drop-shadow(0px 1px 2px rgba(0, 0, 0, 0.3));\n",
              "      fill: #FFFFFF;\n",
              "    }\n",
              "  </style>\n",
              "\n",
              "    <script>\n",
              "      const buttonEl =\n",
              "        document.querySelector('#df-a688925a-12c4-464a-ae0f-a5cc44dea9c8 button.colab-df-convert');\n",
              "      buttonEl.style.display =\n",
              "        google.colab.kernel.accessAllowed ? 'block' : 'none';\n",
              "\n",
              "      async function convertToInteractive(key) {\n",
              "        const element = document.querySelector('#df-a688925a-12c4-464a-ae0f-a5cc44dea9c8');\n",
              "        const dataTable =\n",
              "          await google.colab.kernel.invokeFunction('convertToInteractive',\n",
              "                                                    [key], {});\n",
              "        if (!dataTable) return;\n",
              "\n",
              "        const docLinkHtml = 'Like what you see? Visit the ' +\n",
              "          '<a target=\"_blank\" href=https://colab.research.google.com/notebooks/data_table.ipynb>data table notebook</a>'\n",
              "          + ' to learn more about interactive tables.';\n",
              "        element.innerHTML = '';\n",
              "        dataTable['output_type'] = 'display_data';\n",
              "        await google.colab.output.renderOutput(dataTable, element);\n",
              "        const docLink = document.createElement('div');\n",
              "        docLink.innerHTML = docLinkHtml;\n",
              "        element.appendChild(docLink);\n",
              "      }\n",
              "    </script>\n",
              "  </div>\n",
              "\n",
              "\n",
              "<div id=\"df-53f07a9e-7457-4ec9-b01a-e5c8d2ca1ce5\">\n",
              "  <button class=\"colab-df-quickchart\" onclick=\"quickchart('df-53f07a9e-7457-4ec9-b01a-e5c8d2ca1ce5')\"\n",
              "            title=\"Suggest charts\"\n",
              "            style=\"display:none;\">\n",
              "\n",
              "<svg xmlns=\"http://www.w3.org/2000/svg\" height=\"24px\"viewBox=\"0 0 24 24\"\n",
              "     width=\"24px\">\n",
              "    <g>\n",
              "        <path d=\"M19 3H5c-1.1 0-2 .9-2 2v14c0 1.1.9 2 2 2h14c1.1 0 2-.9 2-2V5c0-1.1-.9-2-2-2zM9 17H7v-7h2v7zm4 0h-2V7h2v10zm4 0h-2v-4h2v4z\"/>\n",
              "    </g>\n",
              "</svg>\n",
              "  </button>\n",
              "\n",
              "<style>\n",
              "  .colab-df-quickchart {\n",
              "      --bg-color: #E8F0FE;\n",
              "      --fill-color: #1967D2;\n",
              "      --hover-bg-color: #E2EBFA;\n",
              "      --hover-fill-color: #174EA6;\n",
              "      --disabled-fill-color: #AAA;\n",
              "      --disabled-bg-color: #DDD;\n",
              "  }\n",
              "\n",
              "  [theme=dark] .colab-df-quickchart {\n",
              "      --bg-color: #3B4455;\n",
              "      --fill-color: #D2E3FC;\n",
              "      --hover-bg-color: #434B5C;\n",
              "      --hover-fill-color: #FFFFFF;\n",
              "      --disabled-bg-color: #3B4455;\n",
              "      --disabled-fill-color: #666;\n",
              "  }\n",
              "\n",
              "  .colab-df-quickchart {\n",
              "    background-color: var(--bg-color);\n",
              "    border: none;\n",
              "    border-radius: 50%;\n",
              "    cursor: pointer;\n",
              "    display: none;\n",
              "    fill: var(--fill-color);\n",
              "    height: 32px;\n",
              "    padding: 0;\n",
              "    width: 32px;\n",
              "  }\n",
              "\n",
              "  .colab-df-quickchart:hover {\n",
              "    background-color: var(--hover-bg-color);\n",
              "    box-shadow: 0 1px 2px rgba(60, 64, 67, 0.3), 0 1px 3px 1px rgba(60, 64, 67, 0.15);\n",
              "    fill: var(--button-hover-fill-color);\n",
              "  }\n",
              "\n",
              "  .colab-df-quickchart-complete:disabled,\n",
              "  .colab-df-quickchart-complete:disabled:hover {\n",
              "    background-color: var(--disabled-bg-color);\n",
              "    fill: var(--disabled-fill-color);\n",
              "    box-shadow: none;\n",
              "  }\n",
              "\n",
              "  .colab-df-spinner {\n",
              "    border: 2px solid var(--fill-color);\n",
              "    border-color: transparent;\n",
              "    border-bottom-color: var(--fill-color);\n",
              "    animation:\n",
              "      spin 1s steps(1) infinite;\n",
              "  }\n",
              "\n",
              "  @keyframes spin {\n",
              "    0% {\n",
              "      border-color: transparent;\n",
              "      border-bottom-color: var(--fill-color);\n",
              "      border-left-color: var(--fill-color);\n",
              "    }\n",
              "    20% {\n",
              "      border-color: transparent;\n",
              "      border-left-color: var(--fill-color);\n",
              "      border-top-color: var(--fill-color);\n",
              "    }\n",
              "    30% {\n",
              "      border-color: transparent;\n",
              "      border-left-color: var(--fill-color);\n",
              "      border-top-color: var(--fill-color);\n",
              "      border-right-color: var(--fill-color);\n",
              "    }\n",
              "    40% {\n",
              "      border-color: transparent;\n",
              "      border-right-color: var(--fill-color);\n",
              "      border-top-color: var(--fill-color);\n",
              "    }\n",
              "    60% {\n",
              "      border-color: transparent;\n",
              "      border-right-color: var(--fill-color);\n",
              "    }\n",
              "    80% {\n",
              "      border-color: transparent;\n",
              "      border-right-color: var(--fill-color);\n",
              "      border-bottom-color: var(--fill-color);\n",
              "    }\n",
              "    90% {\n",
              "      border-color: transparent;\n",
              "      border-bottom-color: var(--fill-color);\n",
              "    }\n",
              "  }\n",
              "</style>\n",
              "\n",
              "  <script>\n",
              "    async function quickchart(key) {\n",
              "      const quickchartButtonEl =\n",
              "        document.querySelector('#' + key + ' button');\n",
              "      quickchartButtonEl.disabled = true;  // To prevent multiple clicks.\n",
              "      quickchartButtonEl.classList.add('colab-df-spinner');\n",
              "      try {\n",
              "        const charts = await google.colab.kernel.invokeFunction(\n",
              "            'suggestCharts', [key], {});\n",
              "      } catch (error) {\n",
              "        console.error('Error during call to suggestCharts:', error);\n",
              "      }\n",
              "      quickchartButtonEl.classList.remove('colab-df-spinner');\n",
              "      quickchartButtonEl.classList.add('colab-df-quickchart-complete');\n",
              "    }\n",
              "    (() => {\n",
              "      let quickchartButtonEl =\n",
              "        document.querySelector('#df-53f07a9e-7457-4ec9-b01a-e5c8d2ca1ce5 button');\n",
              "      quickchartButtonEl.style.display =\n",
              "        google.colab.kernel.accessAllowed ? 'block' : 'none';\n",
              "    })();\n",
              "  </script>\n",
              "</div>\n",
              "    </div>\n",
              "  </div>\n"
            ],
            "text/plain": [
              "                            Исполнитель                        Группа тем  \\\n",
              "0           Лысьвенский городской округ                   Благоустройство   \n",
              "1  Министерство социального развития ПК  Социальное обслуживание и защита   \n",
              "2  Министерство социального развития ПК  Социальное обслуживание и защита   \n",
              "3                           Город Пермь            Общественный транспорт   \n",
              "4          Министерство здравоохранения          Здравоохранение/Медицина   \n",
              "\n",
              "                                     Текст инцидента  \\\n",
              "0  Добрый день. Сегодня, 20.08.22, моя мать шла п...   \n",
              "1  Пермь г, +79194692145. В Перми с ноября 2021 г...   \n",
              "2  Добрый день ! Скажите пожалуйста если подовала...   \n",
              "3  Каждая из них не о чем. Люди на остановках хот...   \n",
              "4  В Березниках у сына привитого откоронавируса з...   \n",
              "\n",
              "                                              Тема  \n",
              "0                                  ★ Ямы во дворах  \n",
              "1                        Оказание гос. соц. помощи  \n",
              "2                         Дети и многодетные семьи  \n",
              "3                             Содержание остановок  \n",
              "4  Технические проблемы с записью на прием к врачу  "
            ]
          },
          "execution_count": 12,
          "metadata": {},
          "output_type": "execute_result"
        }
      ],
      "source": [
        "data = data[data['Текст инцидента'].str.split().apply(len) >= 4]\n",
        "data.head()"
      ]
    },
    {
      "cell_type": "code",
      "execution_count": null,
      "metadata": {
        "id": "EhcKiCUJh4rt"
      },
      "outputs": [],
      "source": [
        "# После того, как убрали ссылки, первые предложения могут начинаться\n",
        "# с маленькой буквы\n",
        "data['Текст инцидента'] = data['Текст инцидента'].apply(lambda text: text[0].upper() + text[1:])"
      ]
    },
    {
      "cell_type": "markdown",
      "metadata": {
        "id": "aVHC_wSqh4rt"
      },
      "source": [
        "Убираем эмоджи"
      ]
    },
    {
      "cell_type": "code",
      "execution_count": null,
      "metadata": {
        "id": "jfCBkjSZh4rt"
      },
      "outputs": [],
      "source": [
        "data[\"Текст инцидента\"] = data[\"Текст инцидента\"].apply(lambda x: demoji.replace(x, \"\"))"
      ]
    },
    {
      "cell_type": "markdown",
      "metadata": {
        "id": "zx9I6qzMh4rt"
      },
      "source": [
        "### Spellchecker"
      ]
    },
    {
      "cell_type": "code",
      "execution_count": null,
      "metadata": {
        "id": "SwRY-gKI0F2_"
      },
      "outputs": [],
      "source": [
        "class SpellDataset(Dataset):\n",
        "    def __init__(self, original_list):\n",
        "        self.original_list = original_list\n",
        "\n",
        "    def __len__(self):\n",
        "        return len(self.original_list)\n",
        "\n",
        "    def __getitem__(self, i):\n",
        "        return 'Spell correct: ' + self.original_list[i]\n",
        "\n",
        "spell_dataset = SpellDataset(data['Текст инцидента'].values)"
      ]
    },
    {
      "cell_type": "code",
      "execution_count": null,
      "metadata": {
        "colab": {
          "base_uri": "https://localhost:8080/",
          "height": 130
        },
        "id": "Cg9-kVJb0sj3",
        "outputId": "c5c14b73-6275-4b2b-f8a4-b924974b0402"
      },
      "outputs": [
        {
          "data": {
            "application/vnd.google.colaboratory.intrinsic+json": {
              "type": "string"
            },
            "text/plain": [
              "'Spell correct: Добрый день. Сегодня, 20.08.22, моя мать шла по улице Ленина между домами 96 и 94. Фонари не горят, упала в яму, которую не видно. Сильно ударилась, остались синяки, очень больно. Благо шла не одна.\\nУважаемая Администрация, сделайте с этим что-нибудь, да и не только с этим. Ходить опасно не только взрослым, но и детям. Если бы упал маленький ребёнок, было бы намного хуже. Фото прилагаю. Спасибо!'"
            ]
          },
          "execution_count": 17,
          "metadata": {},
          "output_type": "execute_result"
        }
      ],
      "source": [
        "spell_dataset[0]"
      ]
    },
    {
      "cell_type": "code",
      "execution_count": null,
      "metadata": {
        "id": "DxDFUTU7qgSf"
      },
      "outputs": [],
      "source": [
        "spell_pipeline = pipeline(model='UrukHan/t5-russian-spell',\n",
        "                          task='text2text-generation', batch_size=64, device='cuda')"
      ]
    },
    {
      "cell_type": "code",
      "execution_count": null,
      "metadata": {
        "colab": {
          "base_uri": "https://localhost:8080/",
          "height": 680,
          "referenced_widgets": [
            "9a32bd7089c24867be8cc196d2ee7dbd",
            "14ef91b498ca4830b39f1b8b96f20a53",
            "3205f414aeac40e198a095c8536bbb6a",
            "c169e388e2ca4e3d85d359cd95205c56",
            "5e481b1254114febb55ef34419d350d8",
            "1717fbb5407f4d648d63684f8469d6b9",
            "8db8abab20784dedb11cd4a7b28ff411",
            "2bec3fe3ecce4f39b8ad5c18e24d926c",
            "dc1cff3aab734a269cdfc56e8e51b965",
            "100887629d404a0e91b60aa8e6112d67",
            "a229905ccd144af89cee89bbb123c858"
          ]
        },
        "id": "cxzTuYr2sB0j",
        "outputId": "7fef3470-5b25-43bf-d596-88a8966b685d"
      },
      "outputs": [
        {
          "data": {
            "application/vnd.jupyter.widget-view+json": {
              "model_id": "9a32bd7089c24867be8cc196d2ee7dbd",
              "version_major": 2,
              "version_minor": 0
            },
            "text/plain": [
              "  0%|          | 0/22490 [00:00<?, ?it/s]"
            ]
          },
          "metadata": {},
          "output_type": "display_data"
        },
        {
          "ename": "OutOfMemoryError",
          "evalue": "ignored",
          "output_type": "error",
          "traceback": [
            "\u001b[0;31m---------------------------------------------------------------------------\u001b[0m",
            "\u001b[0;31mOutOfMemoryError\u001b[0m                          Traceback (most recent call last)",
            "\u001b[0;32m<ipython-input-23-717a32dba6e3>\u001b[0m in \u001b[0;36m<cell line: 3>\u001b[0;34m()\u001b[0m\n\u001b[1;32m      1\u001b[0m \u001b[0mspells\u001b[0m \u001b[0;34m=\u001b[0m \u001b[0;34m[\u001b[0m\u001b[0;34m]\u001b[0m\u001b[0;34m\u001b[0m\u001b[0;34m\u001b[0m\u001b[0m\n\u001b[1;32m      2\u001b[0m \u001b[0;34m\u001b[0m\u001b[0m\n\u001b[0;32m----> 3\u001b[0;31m \u001b[0;32mfor\u001b[0m \u001b[0mout\u001b[0m \u001b[0;32min\u001b[0m \u001b[0mtqdm\u001b[0m\u001b[0;34m(\u001b[0m\u001b[0mspell_pipeline\u001b[0m\u001b[0;34m(\u001b[0m\u001b[0mspell_dataset\u001b[0m\u001b[0;34m)\u001b[0m\u001b[0;34m,\u001b[0m \u001b[0mtotal\u001b[0m\u001b[0;34m=\u001b[0m\u001b[0mlen\u001b[0m\u001b[0;34m(\u001b[0m\u001b[0mspell_dataset\u001b[0m\u001b[0;34m)\u001b[0m\u001b[0;34m)\u001b[0m\u001b[0;34m:\u001b[0m\u001b[0;34m\u001b[0m\u001b[0;34m\u001b[0m\u001b[0m\n\u001b[0m\u001b[1;32m      4\u001b[0m     \u001b[0mspells\u001b[0m\u001b[0;34m.\u001b[0m\u001b[0mappend\u001b[0m\u001b[0;34m(\u001b[0m\u001b[0mout\u001b[0m\u001b[0;34m)\u001b[0m\u001b[0;34m\u001b[0m\u001b[0;34m\u001b[0m\u001b[0m\n",
            "\u001b[0;32m/usr/local/lib/python3.10/dist-packages/tqdm/notebook.py\u001b[0m in \u001b[0;36m__iter__\u001b[0;34m(self)\u001b[0m\n\u001b[1;32m    247\u001b[0m         \u001b[0;32mtry\u001b[0m\u001b[0;34m:\u001b[0m\u001b[0;34m\u001b[0m\u001b[0;34m\u001b[0m\u001b[0m\n\u001b[1;32m    248\u001b[0m             \u001b[0mit\u001b[0m \u001b[0;34m=\u001b[0m \u001b[0msuper\u001b[0m\u001b[0;34m(\u001b[0m\u001b[0mtqdm_notebook\u001b[0m\u001b[0;34m,\u001b[0m \u001b[0mself\u001b[0m\u001b[0;34m)\u001b[0m\u001b[0;34m.\u001b[0m\u001b[0m__iter__\u001b[0m\u001b[0;34m(\u001b[0m\u001b[0;34m)\u001b[0m\u001b[0;34m\u001b[0m\u001b[0;34m\u001b[0m\u001b[0m\n\u001b[0;32m--> 249\u001b[0;31m             \u001b[0;32mfor\u001b[0m \u001b[0mobj\u001b[0m \u001b[0;32min\u001b[0m \u001b[0mit\u001b[0m\u001b[0;34m:\u001b[0m\u001b[0;34m\u001b[0m\u001b[0;34m\u001b[0m\u001b[0m\n\u001b[0m\u001b[1;32m    250\u001b[0m                 \u001b[0;31m# return super(tqdm...) will not catch exception\u001b[0m\u001b[0;34m\u001b[0m\u001b[0;34m\u001b[0m\u001b[0m\n\u001b[1;32m    251\u001b[0m                 \u001b[0;32myield\u001b[0m \u001b[0mobj\u001b[0m\u001b[0;34m\u001b[0m\u001b[0;34m\u001b[0m\u001b[0m\n",
            "\u001b[0;32m/usr/local/lib/python3.10/dist-packages/tqdm/std.py\u001b[0m in \u001b[0;36m__iter__\u001b[0;34m(self)\u001b[0m\n\u001b[1;32m   1180\u001b[0m \u001b[0;34m\u001b[0m\u001b[0m\n\u001b[1;32m   1181\u001b[0m         \u001b[0;32mtry\u001b[0m\u001b[0;34m:\u001b[0m\u001b[0;34m\u001b[0m\u001b[0;34m\u001b[0m\u001b[0m\n\u001b[0;32m-> 1182\u001b[0;31m             \u001b[0;32mfor\u001b[0m \u001b[0mobj\u001b[0m \u001b[0;32min\u001b[0m \u001b[0miterable\u001b[0m\u001b[0;34m:\u001b[0m\u001b[0;34m\u001b[0m\u001b[0;34m\u001b[0m\u001b[0m\n\u001b[0m\u001b[1;32m   1183\u001b[0m                 \u001b[0;32myield\u001b[0m \u001b[0mobj\u001b[0m\u001b[0;34m\u001b[0m\u001b[0;34m\u001b[0m\u001b[0m\n\u001b[1;32m   1184\u001b[0m                 \u001b[0;31m# Update and possibly print the progressbar.\u001b[0m\u001b[0;34m\u001b[0m\u001b[0;34m\u001b[0m\u001b[0m\n",
            "\u001b[0;32m/usr/local/lib/python3.10/dist-packages/transformers/pipelines/pt_utils.py\u001b[0m in \u001b[0;36m__next__\u001b[0;34m(self)\u001b[0m\n\u001b[1;32m    122\u001b[0m \u001b[0;34m\u001b[0m\u001b[0m\n\u001b[1;32m    123\u001b[0m         \u001b[0;31m# We're out of items within a batch\u001b[0m\u001b[0;34m\u001b[0m\u001b[0;34m\u001b[0m\u001b[0m\n\u001b[0;32m--> 124\u001b[0;31m         \u001b[0mitem\u001b[0m \u001b[0;34m=\u001b[0m \u001b[0mnext\u001b[0m\u001b[0;34m(\u001b[0m\u001b[0mself\u001b[0m\u001b[0;34m.\u001b[0m\u001b[0miterator\u001b[0m\u001b[0;34m)\u001b[0m\u001b[0;34m\u001b[0m\u001b[0;34m\u001b[0m\u001b[0m\n\u001b[0m\u001b[1;32m    125\u001b[0m         \u001b[0mprocessed\u001b[0m \u001b[0;34m=\u001b[0m \u001b[0mself\u001b[0m\u001b[0;34m.\u001b[0m\u001b[0minfer\u001b[0m\u001b[0;34m(\u001b[0m\u001b[0mitem\u001b[0m\u001b[0;34m,\u001b[0m \u001b[0;34m**\u001b[0m\u001b[0mself\u001b[0m\u001b[0;34m.\u001b[0m\u001b[0mparams\u001b[0m\u001b[0;34m)\u001b[0m\u001b[0;34m\u001b[0m\u001b[0;34m\u001b[0m\u001b[0m\n\u001b[1;32m    126\u001b[0m         \u001b[0;31m# We now have a batch of \"inferred things\".\u001b[0m\u001b[0;34m\u001b[0m\u001b[0;34m\u001b[0m\u001b[0m\n",
            "\u001b[0;32m/usr/local/lib/python3.10/dist-packages/transformers/pipelines/pt_utils.py\u001b[0m in \u001b[0;36m__next__\u001b[0;34m(self)\u001b[0m\n\u001b[1;32m    123\u001b[0m         \u001b[0;31m# We're out of items within a batch\u001b[0m\u001b[0;34m\u001b[0m\u001b[0;34m\u001b[0m\u001b[0m\n\u001b[1;32m    124\u001b[0m         \u001b[0mitem\u001b[0m \u001b[0;34m=\u001b[0m \u001b[0mnext\u001b[0m\u001b[0;34m(\u001b[0m\u001b[0mself\u001b[0m\u001b[0;34m.\u001b[0m\u001b[0miterator\u001b[0m\u001b[0;34m)\u001b[0m\u001b[0;34m\u001b[0m\u001b[0;34m\u001b[0m\u001b[0m\n\u001b[0;32m--> 125\u001b[0;31m         \u001b[0mprocessed\u001b[0m \u001b[0;34m=\u001b[0m \u001b[0mself\u001b[0m\u001b[0;34m.\u001b[0m\u001b[0minfer\u001b[0m\u001b[0;34m(\u001b[0m\u001b[0mitem\u001b[0m\u001b[0;34m,\u001b[0m \u001b[0;34m**\u001b[0m\u001b[0mself\u001b[0m\u001b[0;34m.\u001b[0m\u001b[0mparams\u001b[0m\u001b[0;34m)\u001b[0m\u001b[0;34m\u001b[0m\u001b[0;34m\u001b[0m\u001b[0m\n\u001b[0m\u001b[1;32m    126\u001b[0m         \u001b[0;31m# We now have a batch of \"inferred things\".\u001b[0m\u001b[0;34m\u001b[0m\u001b[0;34m\u001b[0m\u001b[0m\n\u001b[1;32m    127\u001b[0m         \u001b[0;32mif\u001b[0m \u001b[0mself\u001b[0m\u001b[0;34m.\u001b[0m\u001b[0mloader_batch_size\u001b[0m \u001b[0;32mis\u001b[0m \u001b[0;32mnot\u001b[0m \u001b[0;32mNone\u001b[0m\u001b[0;34m:\u001b[0m\u001b[0;34m\u001b[0m\u001b[0;34m\u001b[0m\u001b[0m\n",
            "\u001b[0;32m/usr/local/lib/python3.10/dist-packages/transformers/pipelines/base.py\u001b[0m in \u001b[0;36mforward\u001b[0;34m(self, model_inputs, **forward_params)\u001b[0m\n\u001b[1;32m   1044\u001b[0m                 \u001b[0;32mwith\u001b[0m \u001b[0minference_context\u001b[0m\u001b[0;34m(\u001b[0m\u001b[0;34m)\u001b[0m\u001b[0;34m:\u001b[0m\u001b[0;34m\u001b[0m\u001b[0;34m\u001b[0m\u001b[0m\n\u001b[1;32m   1045\u001b[0m                     \u001b[0mmodel_inputs\u001b[0m \u001b[0;34m=\u001b[0m \u001b[0mself\u001b[0m\u001b[0;34m.\u001b[0m\u001b[0m_ensure_tensor_on_device\u001b[0m\u001b[0;34m(\u001b[0m\u001b[0mmodel_inputs\u001b[0m\u001b[0;34m,\u001b[0m \u001b[0mdevice\u001b[0m\u001b[0;34m=\u001b[0m\u001b[0mself\u001b[0m\u001b[0;34m.\u001b[0m\u001b[0mdevice\u001b[0m\u001b[0;34m)\u001b[0m\u001b[0;34m\u001b[0m\u001b[0;34m\u001b[0m\u001b[0m\n\u001b[0;32m-> 1046\u001b[0;31m                     \u001b[0mmodel_outputs\u001b[0m \u001b[0;34m=\u001b[0m \u001b[0mself\u001b[0m\u001b[0;34m.\u001b[0m\u001b[0m_forward\u001b[0m\u001b[0;34m(\u001b[0m\u001b[0mmodel_inputs\u001b[0m\u001b[0;34m,\u001b[0m \u001b[0;34m**\u001b[0m\u001b[0mforward_params\u001b[0m\u001b[0;34m)\u001b[0m\u001b[0;34m\u001b[0m\u001b[0;34m\u001b[0m\u001b[0m\n\u001b[0m\u001b[1;32m   1047\u001b[0m                     \u001b[0mmodel_outputs\u001b[0m \u001b[0;34m=\u001b[0m \u001b[0mself\u001b[0m\u001b[0;34m.\u001b[0m\u001b[0m_ensure_tensor_on_device\u001b[0m\u001b[0;34m(\u001b[0m\u001b[0mmodel_outputs\u001b[0m\u001b[0;34m,\u001b[0m \u001b[0mdevice\u001b[0m\u001b[0;34m=\u001b[0m\u001b[0mtorch\u001b[0m\u001b[0;34m.\u001b[0m\u001b[0mdevice\u001b[0m\u001b[0;34m(\u001b[0m\u001b[0;34m\"cpu\"\u001b[0m\u001b[0;34m)\u001b[0m\u001b[0;34m)\u001b[0m\u001b[0;34m\u001b[0m\u001b[0;34m\u001b[0m\u001b[0m\n\u001b[1;32m   1048\u001b[0m             \u001b[0;32melse\u001b[0m\u001b[0;34m:\u001b[0m\u001b[0;34m\u001b[0m\u001b[0;34m\u001b[0m\u001b[0m\n",
            "\u001b[0;32m/usr/local/lib/python3.10/dist-packages/transformers/pipelines/text2text_generation.py\u001b[0m in \u001b[0;36m_forward\u001b[0;34m(self, model_inputs, **generate_kwargs)\u001b[0m\n\u001b[1;32m    189\u001b[0m             \u001b[0mgenerate_kwargs\u001b[0m\u001b[0;34m.\u001b[0m\u001b[0mget\u001b[0m\u001b[0;34m(\u001b[0m\u001b[0;34m\"max_length\"\u001b[0m\u001b[0;34m,\u001b[0m \u001b[0mself\u001b[0m\u001b[0;34m.\u001b[0m\u001b[0mmodel\u001b[0m\u001b[0;34m.\u001b[0m\u001b[0mconfig\u001b[0m\u001b[0;34m.\u001b[0m\u001b[0mmax_length\u001b[0m\u001b[0;34m)\u001b[0m\u001b[0;34m,\u001b[0m\u001b[0;34m\u001b[0m\u001b[0;34m\u001b[0m\u001b[0m\n\u001b[1;32m    190\u001b[0m         )\n\u001b[0;32m--> 191\u001b[0;31m         \u001b[0moutput_ids\u001b[0m \u001b[0;34m=\u001b[0m \u001b[0mself\u001b[0m\u001b[0;34m.\u001b[0m\u001b[0mmodel\u001b[0m\u001b[0;34m.\u001b[0m\u001b[0mgenerate\u001b[0m\u001b[0;34m(\u001b[0m\u001b[0;34m**\u001b[0m\u001b[0mmodel_inputs\u001b[0m\u001b[0;34m,\u001b[0m \u001b[0;34m**\u001b[0m\u001b[0mgenerate_kwargs\u001b[0m\u001b[0;34m)\u001b[0m\u001b[0;34m\u001b[0m\u001b[0;34m\u001b[0m\u001b[0m\n\u001b[0m\u001b[1;32m    192\u001b[0m         \u001b[0mout_b\u001b[0m \u001b[0;34m=\u001b[0m \u001b[0moutput_ids\u001b[0m\u001b[0;34m.\u001b[0m\u001b[0mshape\u001b[0m\u001b[0;34m[\u001b[0m\u001b[0;36m0\u001b[0m\u001b[0;34m]\u001b[0m\u001b[0;34m\u001b[0m\u001b[0;34m\u001b[0m\u001b[0m\n\u001b[1;32m    193\u001b[0m         \u001b[0;32mif\u001b[0m \u001b[0mself\u001b[0m\u001b[0;34m.\u001b[0m\u001b[0mframework\u001b[0m \u001b[0;34m==\u001b[0m \u001b[0;34m\"pt\"\u001b[0m\u001b[0;34m:\u001b[0m\u001b[0;34m\u001b[0m\u001b[0;34m\u001b[0m\u001b[0m\n",
            "\u001b[0;32m/usr/local/lib/python3.10/dist-packages/torch/utils/_contextlib.py\u001b[0m in \u001b[0;36mdecorate_context\u001b[0;34m(*args, **kwargs)\u001b[0m\n\u001b[1;32m    113\u001b[0m     \u001b[0;32mdef\u001b[0m \u001b[0mdecorate_context\u001b[0m\u001b[0;34m(\u001b[0m\u001b[0;34m*\u001b[0m\u001b[0margs\u001b[0m\u001b[0;34m,\u001b[0m \u001b[0;34m**\u001b[0m\u001b[0mkwargs\u001b[0m\u001b[0;34m)\u001b[0m\u001b[0;34m:\u001b[0m\u001b[0;34m\u001b[0m\u001b[0;34m\u001b[0m\u001b[0m\n\u001b[1;32m    114\u001b[0m         \u001b[0;32mwith\u001b[0m \u001b[0mctx_factory\u001b[0m\u001b[0;34m(\u001b[0m\u001b[0;34m)\u001b[0m\u001b[0;34m:\u001b[0m\u001b[0;34m\u001b[0m\u001b[0;34m\u001b[0m\u001b[0m\n\u001b[0;32m--> 115\u001b[0;31m             \u001b[0;32mreturn\u001b[0m \u001b[0mfunc\u001b[0m\u001b[0;34m(\u001b[0m\u001b[0;34m*\u001b[0m\u001b[0margs\u001b[0m\u001b[0;34m,\u001b[0m \u001b[0;34m**\u001b[0m\u001b[0mkwargs\u001b[0m\u001b[0;34m)\u001b[0m\u001b[0;34m\u001b[0m\u001b[0;34m\u001b[0m\u001b[0m\n\u001b[0m\u001b[1;32m    116\u001b[0m \u001b[0;34m\u001b[0m\u001b[0m\n\u001b[1;32m    117\u001b[0m     \u001b[0;32mreturn\u001b[0m \u001b[0mdecorate_context\u001b[0m\u001b[0;34m\u001b[0m\u001b[0;34m\u001b[0m\u001b[0m\n",
            "\u001b[0;32m/usr/local/lib/python3.10/dist-packages/transformers/generation/utils.py\u001b[0m in \u001b[0;36mgenerate\u001b[0;34m(self, inputs, generation_config, logits_processor, stopping_criteria, prefix_allowed_tokens_fn, synced_gpus, assistant_model, streamer, negative_prompt_ids, negative_prompt_attention_mask, **kwargs)\u001b[0m\n\u001b[1;32m   1627\u001b[0m             \u001b[0;31m# if model is encoder decoder encoder_outputs are created\u001b[0m\u001b[0;34m\u001b[0m\u001b[0;34m\u001b[0m\u001b[0m\n\u001b[1;32m   1628\u001b[0m             \u001b[0;31m# and added to `model_kwargs`\u001b[0m\u001b[0;34m\u001b[0m\u001b[0;34m\u001b[0m\u001b[0m\n\u001b[0;32m-> 1629\u001b[0;31m             model_kwargs = self._prepare_encoder_decoder_kwargs_for_generation(\n\u001b[0m\u001b[1;32m   1630\u001b[0m                 \u001b[0minputs_tensor\u001b[0m\u001b[0;34m,\u001b[0m \u001b[0mmodel_kwargs\u001b[0m\u001b[0;34m,\u001b[0m \u001b[0mmodel_input_name\u001b[0m\u001b[0;34m\u001b[0m\u001b[0;34m\u001b[0m\u001b[0m\n\u001b[1;32m   1631\u001b[0m             )\n",
            "\u001b[0;32m/usr/local/lib/python3.10/dist-packages/transformers/generation/utils.py\u001b[0m in \u001b[0;36m_prepare_encoder_decoder_kwargs_for_generation\u001b[0;34m(self, inputs_tensor, model_kwargs, model_input_name)\u001b[0m\n\u001b[1;32m    739\u001b[0m         \u001b[0mencoder_kwargs\u001b[0m\u001b[0;34m[\u001b[0m\u001b[0;34m\"return_dict\"\u001b[0m\u001b[0;34m]\u001b[0m \u001b[0;34m=\u001b[0m \u001b[0;32mTrue\u001b[0m\u001b[0;34m\u001b[0m\u001b[0;34m\u001b[0m\u001b[0m\n\u001b[1;32m    740\u001b[0m         \u001b[0mencoder_kwargs\u001b[0m\u001b[0;34m[\u001b[0m\u001b[0mmodel_input_name\u001b[0m\u001b[0;34m]\u001b[0m \u001b[0;34m=\u001b[0m \u001b[0minputs_tensor\u001b[0m\u001b[0;34m\u001b[0m\u001b[0;34m\u001b[0m\u001b[0m\n\u001b[0;32m--> 741\u001b[0;31m         \u001b[0mmodel_kwargs\u001b[0m\u001b[0;34m[\u001b[0m\u001b[0;34m\"encoder_outputs\"\u001b[0m\u001b[0;34m]\u001b[0m\u001b[0;34m:\u001b[0m \u001b[0mModelOutput\u001b[0m \u001b[0;34m=\u001b[0m \u001b[0mencoder\u001b[0m\u001b[0;34m(\u001b[0m\u001b[0;34m**\u001b[0m\u001b[0mencoder_kwargs\u001b[0m\u001b[0;34m)\u001b[0m\u001b[0;34m\u001b[0m\u001b[0;34m\u001b[0m\u001b[0m\n\u001b[0m\u001b[1;32m    742\u001b[0m \u001b[0;34m\u001b[0m\u001b[0m\n\u001b[1;32m    743\u001b[0m         \u001b[0;32mreturn\u001b[0m \u001b[0mmodel_kwargs\u001b[0m\u001b[0;34m\u001b[0m\u001b[0;34m\u001b[0m\u001b[0m\n",
            "\u001b[0;32m/usr/local/lib/python3.10/dist-packages/torch/nn/modules/module.py\u001b[0m in \u001b[0;36m_wrapped_call_impl\u001b[0;34m(self, *args, **kwargs)\u001b[0m\n\u001b[1;32m   1516\u001b[0m             \u001b[0;32mreturn\u001b[0m \u001b[0mself\u001b[0m\u001b[0;34m.\u001b[0m\u001b[0m_compiled_call_impl\u001b[0m\u001b[0;34m(\u001b[0m\u001b[0;34m*\u001b[0m\u001b[0margs\u001b[0m\u001b[0;34m,\u001b[0m \u001b[0;34m**\u001b[0m\u001b[0mkwargs\u001b[0m\u001b[0;34m)\u001b[0m  \u001b[0;31m# type: ignore[misc]\u001b[0m\u001b[0;34m\u001b[0m\u001b[0;34m\u001b[0m\u001b[0m\n\u001b[1;32m   1517\u001b[0m         \u001b[0;32melse\u001b[0m\u001b[0;34m:\u001b[0m\u001b[0;34m\u001b[0m\u001b[0;34m\u001b[0m\u001b[0m\n\u001b[0;32m-> 1518\u001b[0;31m             \u001b[0;32mreturn\u001b[0m \u001b[0mself\u001b[0m\u001b[0;34m.\u001b[0m\u001b[0m_call_impl\u001b[0m\u001b[0;34m(\u001b[0m\u001b[0;34m*\u001b[0m\u001b[0margs\u001b[0m\u001b[0;34m,\u001b[0m \u001b[0;34m**\u001b[0m\u001b[0mkwargs\u001b[0m\u001b[0;34m)\u001b[0m\u001b[0;34m\u001b[0m\u001b[0;34m\u001b[0m\u001b[0m\n\u001b[0m\u001b[1;32m   1519\u001b[0m \u001b[0;34m\u001b[0m\u001b[0m\n\u001b[1;32m   1520\u001b[0m     \u001b[0;32mdef\u001b[0m \u001b[0m_call_impl\u001b[0m\u001b[0;34m(\u001b[0m\u001b[0mself\u001b[0m\u001b[0;34m,\u001b[0m \u001b[0;34m*\u001b[0m\u001b[0margs\u001b[0m\u001b[0;34m,\u001b[0m \u001b[0;34m**\u001b[0m\u001b[0mkwargs\u001b[0m\u001b[0;34m)\u001b[0m\u001b[0;34m:\u001b[0m\u001b[0;34m\u001b[0m\u001b[0;34m\u001b[0m\u001b[0m\n",
            "\u001b[0;32m/usr/local/lib/python3.10/dist-packages/torch/nn/modules/module.py\u001b[0m in \u001b[0;36m_call_impl\u001b[0;34m(self, *args, **kwargs)\u001b[0m\n\u001b[1;32m   1525\u001b[0m                 \u001b[0;32mor\u001b[0m \u001b[0m_global_backward_pre_hooks\u001b[0m \u001b[0;32mor\u001b[0m \u001b[0m_global_backward_hooks\u001b[0m\u001b[0;34m\u001b[0m\u001b[0;34m\u001b[0m\u001b[0m\n\u001b[1;32m   1526\u001b[0m                 or _global_forward_hooks or _global_forward_pre_hooks):\n\u001b[0;32m-> 1527\u001b[0;31m             \u001b[0;32mreturn\u001b[0m \u001b[0mforward_call\u001b[0m\u001b[0;34m(\u001b[0m\u001b[0;34m*\u001b[0m\u001b[0margs\u001b[0m\u001b[0;34m,\u001b[0m \u001b[0;34m**\u001b[0m\u001b[0mkwargs\u001b[0m\u001b[0;34m)\u001b[0m\u001b[0;34m\u001b[0m\u001b[0;34m\u001b[0m\u001b[0m\n\u001b[0m\u001b[1;32m   1528\u001b[0m \u001b[0;34m\u001b[0m\u001b[0m\n\u001b[1;32m   1529\u001b[0m         \u001b[0;32mtry\u001b[0m\u001b[0;34m:\u001b[0m\u001b[0;34m\u001b[0m\u001b[0;34m\u001b[0m\u001b[0m\n",
            "\u001b[0;32m/usr/local/lib/python3.10/dist-packages/transformers/models/t5/modeling_t5.py\u001b[0m in \u001b[0;36mforward\u001b[0;34m(self, input_ids, attention_mask, encoder_hidden_states, encoder_attention_mask, inputs_embeds, head_mask, cross_attn_head_mask, past_key_values, use_cache, output_attentions, output_hidden_states, return_dict)\u001b[0m\n\u001b[1;32m   1108\u001b[0m                 )\n\u001b[1;32m   1109\u001b[0m             \u001b[0;32melse\u001b[0m\u001b[0;34m:\u001b[0m\u001b[0;34m\u001b[0m\u001b[0;34m\u001b[0m\u001b[0m\n\u001b[0;32m-> 1110\u001b[0;31m                 layer_outputs = layer_module(\n\u001b[0m\u001b[1;32m   1111\u001b[0m                     \u001b[0mhidden_states\u001b[0m\u001b[0;34m,\u001b[0m\u001b[0;34m\u001b[0m\u001b[0;34m\u001b[0m\u001b[0m\n\u001b[1;32m   1112\u001b[0m                     \u001b[0mattention_mask\u001b[0m\u001b[0;34m=\u001b[0m\u001b[0mextended_attention_mask\u001b[0m\u001b[0;34m,\u001b[0m\u001b[0;34m\u001b[0m\u001b[0;34m\u001b[0m\u001b[0m\n",
            "\u001b[0;32m/usr/local/lib/python3.10/dist-packages/torch/nn/modules/module.py\u001b[0m in \u001b[0;36m_wrapped_call_impl\u001b[0;34m(self, *args, **kwargs)\u001b[0m\n\u001b[1;32m   1516\u001b[0m             \u001b[0;32mreturn\u001b[0m \u001b[0mself\u001b[0m\u001b[0;34m.\u001b[0m\u001b[0m_compiled_call_impl\u001b[0m\u001b[0;34m(\u001b[0m\u001b[0;34m*\u001b[0m\u001b[0margs\u001b[0m\u001b[0;34m,\u001b[0m \u001b[0;34m**\u001b[0m\u001b[0mkwargs\u001b[0m\u001b[0;34m)\u001b[0m  \u001b[0;31m# type: ignore[misc]\u001b[0m\u001b[0;34m\u001b[0m\u001b[0;34m\u001b[0m\u001b[0m\n\u001b[1;32m   1517\u001b[0m         \u001b[0;32melse\u001b[0m\u001b[0;34m:\u001b[0m\u001b[0;34m\u001b[0m\u001b[0;34m\u001b[0m\u001b[0m\n\u001b[0;32m-> 1518\u001b[0;31m             \u001b[0;32mreturn\u001b[0m \u001b[0mself\u001b[0m\u001b[0;34m.\u001b[0m\u001b[0m_call_impl\u001b[0m\u001b[0;34m(\u001b[0m\u001b[0;34m*\u001b[0m\u001b[0margs\u001b[0m\u001b[0;34m,\u001b[0m \u001b[0;34m**\u001b[0m\u001b[0mkwargs\u001b[0m\u001b[0;34m)\u001b[0m\u001b[0;34m\u001b[0m\u001b[0;34m\u001b[0m\u001b[0m\n\u001b[0m\u001b[1;32m   1519\u001b[0m \u001b[0;34m\u001b[0m\u001b[0m\n\u001b[1;32m   1520\u001b[0m     \u001b[0;32mdef\u001b[0m \u001b[0m_call_impl\u001b[0m\u001b[0;34m(\u001b[0m\u001b[0mself\u001b[0m\u001b[0;34m,\u001b[0m \u001b[0;34m*\u001b[0m\u001b[0margs\u001b[0m\u001b[0;34m,\u001b[0m \u001b[0;34m**\u001b[0m\u001b[0mkwargs\u001b[0m\u001b[0;34m)\u001b[0m\u001b[0;34m:\u001b[0m\u001b[0;34m\u001b[0m\u001b[0;34m\u001b[0m\u001b[0m\n",
            "\u001b[0;32m/usr/local/lib/python3.10/dist-packages/torch/nn/modules/module.py\u001b[0m in \u001b[0;36m_call_impl\u001b[0;34m(self, *args, **kwargs)\u001b[0m\n\u001b[1;32m   1525\u001b[0m                 \u001b[0;32mor\u001b[0m \u001b[0m_global_backward_pre_hooks\u001b[0m \u001b[0;32mor\u001b[0m \u001b[0m_global_backward_hooks\u001b[0m\u001b[0;34m\u001b[0m\u001b[0;34m\u001b[0m\u001b[0m\n\u001b[1;32m   1526\u001b[0m                 or _global_forward_hooks or _global_forward_pre_hooks):\n\u001b[0;32m-> 1527\u001b[0;31m             \u001b[0;32mreturn\u001b[0m \u001b[0mforward_call\u001b[0m\u001b[0;34m(\u001b[0m\u001b[0;34m*\u001b[0m\u001b[0margs\u001b[0m\u001b[0;34m,\u001b[0m \u001b[0;34m**\u001b[0m\u001b[0mkwargs\u001b[0m\u001b[0;34m)\u001b[0m\u001b[0;34m\u001b[0m\u001b[0;34m\u001b[0m\u001b[0m\n\u001b[0m\u001b[1;32m   1528\u001b[0m \u001b[0;34m\u001b[0m\u001b[0m\n\u001b[1;32m   1529\u001b[0m         \u001b[0;32mtry\u001b[0m\u001b[0;34m:\u001b[0m\u001b[0;34m\u001b[0m\u001b[0;34m\u001b[0m\u001b[0m\n",
            "\u001b[0;32m/usr/local/lib/python3.10/dist-packages/transformers/models/t5/modeling_t5.py\u001b[0m in \u001b[0;36mforward\u001b[0;34m(self, hidden_states, attention_mask, position_bias, encoder_hidden_states, encoder_attention_mask, encoder_decoder_position_bias, layer_head_mask, cross_attn_layer_head_mask, past_key_value, use_cache, output_attentions, return_dict)\u001b[0m\n\u001b[1;32m    692\u001b[0m             \u001b[0mself_attn_past_key_value\u001b[0m\u001b[0;34m,\u001b[0m \u001b[0mcross_attn_past_key_value\u001b[0m \u001b[0;34m=\u001b[0m \u001b[0;32mNone\u001b[0m\u001b[0;34m,\u001b[0m \u001b[0;32mNone\u001b[0m\u001b[0;34m\u001b[0m\u001b[0;34m\u001b[0m\u001b[0m\n\u001b[1;32m    693\u001b[0m \u001b[0;34m\u001b[0m\u001b[0m\n\u001b[0;32m--> 694\u001b[0;31m         self_attention_outputs = self.layer[0](\n\u001b[0m\u001b[1;32m    695\u001b[0m             \u001b[0mhidden_states\u001b[0m\u001b[0;34m,\u001b[0m\u001b[0;34m\u001b[0m\u001b[0;34m\u001b[0m\u001b[0m\n\u001b[1;32m    696\u001b[0m             \u001b[0mattention_mask\u001b[0m\u001b[0;34m=\u001b[0m\u001b[0mattention_mask\u001b[0m\u001b[0;34m,\u001b[0m\u001b[0;34m\u001b[0m\u001b[0;34m\u001b[0m\u001b[0m\n",
            "\u001b[0;32m/usr/local/lib/python3.10/dist-packages/torch/nn/modules/module.py\u001b[0m in \u001b[0;36m_wrapped_call_impl\u001b[0;34m(self, *args, **kwargs)\u001b[0m\n\u001b[1;32m   1516\u001b[0m             \u001b[0;32mreturn\u001b[0m \u001b[0mself\u001b[0m\u001b[0;34m.\u001b[0m\u001b[0m_compiled_call_impl\u001b[0m\u001b[0;34m(\u001b[0m\u001b[0;34m*\u001b[0m\u001b[0margs\u001b[0m\u001b[0;34m,\u001b[0m \u001b[0;34m**\u001b[0m\u001b[0mkwargs\u001b[0m\u001b[0;34m)\u001b[0m  \u001b[0;31m# type: ignore[misc]\u001b[0m\u001b[0;34m\u001b[0m\u001b[0;34m\u001b[0m\u001b[0m\n\u001b[1;32m   1517\u001b[0m         \u001b[0;32melse\u001b[0m\u001b[0;34m:\u001b[0m\u001b[0;34m\u001b[0m\u001b[0;34m\u001b[0m\u001b[0m\n\u001b[0;32m-> 1518\u001b[0;31m             \u001b[0;32mreturn\u001b[0m \u001b[0mself\u001b[0m\u001b[0;34m.\u001b[0m\u001b[0m_call_impl\u001b[0m\u001b[0;34m(\u001b[0m\u001b[0;34m*\u001b[0m\u001b[0margs\u001b[0m\u001b[0;34m,\u001b[0m \u001b[0;34m**\u001b[0m\u001b[0mkwargs\u001b[0m\u001b[0;34m)\u001b[0m\u001b[0;34m\u001b[0m\u001b[0;34m\u001b[0m\u001b[0m\n\u001b[0m\u001b[1;32m   1519\u001b[0m \u001b[0;34m\u001b[0m\u001b[0m\n\u001b[1;32m   1520\u001b[0m     \u001b[0;32mdef\u001b[0m \u001b[0m_call_impl\u001b[0m\u001b[0;34m(\u001b[0m\u001b[0mself\u001b[0m\u001b[0;34m,\u001b[0m \u001b[0;34m*\u001b[0m\u001b[0margs\u001b[0m\u001b[0;34m,\u001b[0m \u001b[0;34m**\u001b[0m\u001b[0mkwargs\u001b[0m\u001b[0;34m)\u001b[0m\u001b[0;34m:\u001b[0m\u001b[0;34m\u001b[0m\u001b[0;34m\u001b[0m\u001b[0m\n",
            "\u001b[0;32m/usr/local/lib/python3.10/dist-packages/torch/nn/modules/module.py\u001b[0m in \u001b[0;36m_call_impl\u001b[0;34m(self, *args, **kwargs)\u001b[0m\n\u001b[1;32m   1525\u001b[0m                 \u001b[0;32mor\u001b[0m \u001b[0m_global_backward_pre_hooks\u001b[0m \u001b[0;32mor\u001b[0m \u001b[0m_global_backward_hooks\u001b[0m\u001b[0;34m\u001b[0m\u001b[0;34m\u001b[0m\u001b[0m\n\u001b[1;32m   1526\u001b[0m                 or _global_forward_hooks or _global_forward_pre_hooks):\n\u001b[0;32m-> 1527\u001b[0;31m             \u001b[0;32mreturn\u001b[0m \u001b[0mforward_call\u001b[0m\u001b[0;34m(\u001b[0m\u001b[0;34m*\u001b[0m\u001b[0margs\u001b[0m\u001b[0;34m,\u001b[0m \u001b[0;34m**\u001b[0m\u001b[0mkwargs\u001b[0m\u001b[0;34m)\u001b[0m\u001b[0;34m\u001b[0m\u001b[0;34m\u001b[0m\u001b[0m\n\u001b[0m\u001b[1;32m   1528\u001b[0m \u001b[0;34m\u001b[0m\u001b[0m\n\u001b[1;32m   1529\u001b[0m         \u001b[0;32mtry\u001b[0m\u001b[0;34m:\u001b[0m\u001b[0;34m\u001b[0m\u001b[0;34m\u001b[0m\u001b[0m\n",
            "\u001b[0;32m/usr/local/lib/python3.10/dist-packages/transformers/models/t5/modeling_t5.py\u001b[0m in \u001b[0;36mforward\u001b[0;34m(self, hidden_states, attention_mask, position_bias, layer_head_mask, past_key_value, use_cache, output_attentions)\u001b[0m\n\u001b[1;32m    599\u001b[0m     ):\n\u001b[1;32m    600\u001b[0m         \u001b[0mnormed_hidden_states\u001b[0m \u001b[0;34m=\u001b[0m \u001b[0mself\u001b[0m\u001b[0;34m.\u001b[0m\u001b[0mlayer_norm\u001b[0m\u001b[0;34m(\u001b[0m\u001b[0mhidden_states\u001b[0m\u001b[0;34m)\u001b[0m\u001b[0;34m\u001b[0m\u001b[0;34m\u001b[0m\u001b[0m\n\u001b[0;32m--> 601\u001b[0;31m         attention_output = self.SelfAttention(\n\u001b[0m\u001b[1;32m    602\u001b[0m             \u001b[0mnormed_hidden_states\u001b[0m\u001b[0;34m,\u001b[0m\u001b[0;34m\u001b[0m\u001b[0;34m\u001b[0m\u001b[0m\n\u001b[1;32m    603\u001b[0m             \u001b[0mmask\u001b[0m\u001b[0;34m=\u001b[0m\u001b[0mattention_mask\u001b[0m\u001b[0;34m,\u001b[0m\u001b[0;34m\u001b[0m\u001b[0;34m\u001b[0m\u001b[0m\n",
            "\u001b[0;32m/usr/local/lib/python3.10/dist-packages/torch/nn/modules/module.py\u001b[0m in \u001b[0;36m_wrapped_call_impl\u001b[0;34m(self, *args, **kwargs)\u001b[0m\n\u001b[1;32m   1516\u001b[0m             \u001b[0;32mreturn\u001b[0m \u001b[0mself\u001b[0m\u001b[0;34m.\u001b[0m\u001b[0m_compiled_call_impl\u001b[0m\u001b[0;34m(\u001b[0m\u001b[0;34m*\u001b[0m\u001b[0margs\u001b[0m\u001b[0;34m,\u001b[0m \u001b[0;34m**\u001b[0m\u001b[0mkwargs\u001b[0m\u001b[0;34m)\u001b[0m  \u001b[0;31m# type: ignore[misc]\u001b[0m\u001b[0;34m\u001b[0m\u001b[0;34m\u001b[0m\u001b[0m\n\u001b[1;32m   1517\u001b[0m         \u001b[0;32melse\u001b[0m\u001b[0;34m:\u001b[0m\u001b[0;34m\u001b[0m\u001b[0;34m\u001b[0m\u001b[0m\n\u001b[0;32m-> 1518\u001b[0;31m             \u001b[0;32mreturn\u001b[0m \u001b[0mself\u001b[0m\u001b[0;34m.\u001b[0m\u001b[0m_call_impl\u001b[0m\u001b[0;34m(\u001b[0m\u001b[0;34m*\u001b[0m\u001b[0margs\u001b[0m\u001b[0;34m,\u001b[0m \u001b[0;34m**\u001b[0m\u001b[0mkwargs\u001b[0m\u001b[0;34m)\u001b[0m\u001b[0;34m\u001b[0m\u001b[0;34m\u001b[0m\u001b[0m\n\u001b[0m\u001b[1;32m   1519\u001b[0m \u001b[0;34m\u001b[0m\u001b[0m\n\u001b[1;32m   1520\u001b[0m     \u001b[0;32mdef\u001b[0m \u001b[0m_call_impl\u001b[0m\u001b[0;34m(\u001b[0m\u001b[0mself\u001b[0m\u001b[0;34m,\u001b[0m \u001b[0;34m*\u001b[0m\u001b[0margs\u001b[0m\u001b[0;34m,\u001b[0m \u001b[0;34m**\u001b[0m\u001b[0mkwargs\u001b[0m\u001b[0;34m)\u001b[0m\u001b[0;34m:\u001b[0m\u001b[0;34m\u001b[0m\u001b[0;34m\u001b[0m\u001b[0m\n",
            "\u001b[0;32m/usr/local/lib/python3.10/dist-packages/torch/nn/modules/module.py\u001b[0m in \u001b[0;36m_call_impl\u001b[0;34m(self, *args, **kwargs)\u001b[0m\n\u001b[1;32m   1525\u001b[0m                 \u001b[0;32mor\u001b[0m \u001b[0m_global_backward_pre_hooks\u001b[0m \u001b[0;32mor\u001b[0m \u001b[0m_global_backward_hooks\u001b[0m\u001b[0;34m\u001b[0m\u001b[0;34m\u001b[0m\u001b[0m\n\u001b[1;32m   1526\u001b[0m                 or _global_forward_hooks or _global_forward_pre_hooks):\n\u001b[0;32m-> 1527\u001b[0;31m             \u001b[0;32mreturn\u001b[0m \u001b[0mforward_call\u001b[0m\u001b[0;34m(\u001b[0m\u001b[0;34m*\u001b[0m\u001b[0margs\u001b[0m\u001b[0;34m,\u001b[0m \u001b[0;34m**\u001b[0m\u001b[0mkwargs\u001b[0m\u001b[0;34m)\u001b[0m\u001b[0;34m\u001b[0m\u001b[0;34m\u001b[0m\u001b[0m\n\u001b[0m\u001b[1;32m   1528\u001b[0m \u001b[0;34m\u001b[0m\u001b[0m\n\u001b[1;32m   1529\u001b[0m         \u001b[0;32mtry\u001b[0m\u001b[0;34m:\u001b[0m\u001b[0;34m\u001b[0m\u001b[0;34m\u001b[0m\u001b[0m\n",
            "\u001b[0;32m/usr/local/lib/python3.10/dist-packages/transformers/models/t5/modeling_t5.py\u001b[0m in \u001b[0;36mforward\u001b[0;34m(self, hidden_states, mask, key_value_states, position_bias, past_key_value, layer_head_mask, query_length, use_cache, output_attentions)\u001b[0m\n\u001b[1;32m    549\u001b[0m \u001b[0;34m\u001b[0m\u001b[0m\n\u001b[1;32m    550\u001b[0m             \u001b[0;32mif\u001b[0m \u001b[0mmask\u001b[0m \u001b[0;32mis\u001b[0m \u001b[0;32mnot\u001b[0m \u001b[0;32mNone\u001b[0m\u001b[0;34m:\u001b[0m\u001b[0;34m\u001b[0m\u001b[0;34m\u001b[0m\u001b[0m\n\u001b[0;32m--> 551\u001b[0;31m                 \u001b[0mposition_bias\u001b[0m \u001b[0;34m=\u001b[0m \u001b[0mposition_bias\u001b[0m \u001b[0;34m+\u001b[0m \u001b[0mmask\u001b[0m  \u001b[0;31m# (batch_size, n_heads, seq_length, key_length)\u001b[0m\u001b[0;34m\u001b[0m\u001b[0;34m\u001b[0m\u001b[0m\n\u001b[0m\u001b[1;32m    552\u001b[0m \u001b[0;34m\u001b[0m\u001b[0m\n\u001b[1;32m    553\u001b[0m         \u001b[0;32mif\u001b[0m \u001b[0mself\u001b[0m\u001b[0;34m.\u001b[0m\u001b[0mpruned_heads\u001b[0m\u001b[0;34m:\u001b[0m\u001b[0;34m\u001b[0m\u001b[0;34m\u001b[0m\u001b[0m\n",
            "\u001b[0;31mOutOfMemoryError\u001b[0m: CUDA out of memory. Tried to allocate 5.68 GiB. GPU 0 has a total capacty of 14.75 GiB of which 734.81 MiB is free. Process 821592 has 14.03 GiB memory in use. Of the allocated memory 10.85 GiB is allocated by PyTorch, and 3.06 GiB is reserved by PyTorch but unallocated. If reserved but unallocated memory is large try setting max_split_size_mb to avoid fragmentation.  See documentation for Memory Management and PYTORCH_CUDA_ALLOC_CONF"
          ]
        }
      ],
      "source": [
        "spells = []\n",
        "\n",
        "for out in tqdm(spell_pipeline(spell_dataset), total=len(spell_dataset)):\n",
        "    spells.append(out)"
      ]
    },
    {
      "cell_type": "code",
      "execution_count": null,
      "metadata": {
        "colab": {
          "base_uri": "https://localhost:8080/"
        },
        "id": "Nd3jbiTIt2NI",
        "outputId": "613a8bfe-91ac-4979-d23a-a490ef98ca2a"
      },
      "outputs": [
        {
          "data": {
            "text/plain": [
              "['«Добрый день. Сегодня, 20.08.22, моя мать шла по улице Ленина между домами 96 и 94. Фонари не горят, упала в яму, которую не видно. Сильно ударилась, остались синяки, очень больно. Спасибо, шла не одна. Уважаемая Администрация, сделайте с этим что-нибудь. Да и не только с этим. Ходить опасно не только взрослым, но и детям. Если бы упал маленький ребёнок, было бы намного хуже. Фото прилагаю. Спасибо! Спасибо! Спасибо! Спасибо!! Спасибо!! Спасибо!!',\n",
              " 'Каким образом можно получить льготу по проезду в такси в соц учреждения инвалиду 2 группы? Проезд в общественном транспорте не представляется.',\n",
              " 'Здравствуйте! Скажите, пожалуйста, если подала на пособие с 3 до 7 декабря, когда можно повторно подать? . . . . Когда можно повторно подать? . . . . . . . . . . . . . . . . . . . . . . . . . . . . . . . . . . . . . . . . . Вроде за 30 дней можно.',\n",
              " 'А люди на остановках хотят укрыться от непогоды или слишком погоды. Присесть, поставить сумку. Лавочки на полторы попы? Отсутствие или намек на присутствие спинки? Конструкторы, понятно, что не ждут транспорта на остановках. А гаджеты заряжать дома надо. А интерактивные панели и близко не нужны. У каждого в руках телефоны - информации вагона. Разместить коды для быстрого доступа на ресурсы и сайты по транспорту хватит.',\n",
              " '. . Что вы, минздрав делаете? . . . ? . . . . . . . . . . . . . . . . . . . . . В Березниках у сына, привитого от коронавируса, заболели, пытались попасть на прием. Очередь в замкнутом пространстве бесподобна, прямое вредительское отношение к людям. Он не смог попасть на прием. Что делать? На работу с Той - 37. 8 не пускают и на прием не попасть. . . . Что вы, минздрав, делаете? . . . . . . . . . . . . . . . . . . . . . . . . . . . . . . . . . . . . . . . . . . . . . . . . . . . . . . ',\n",
              " 'Добрый день! Расскажите, тариф повысился на обращение с ТКО????????????????????????????????????????????????????????????????????????????????????????????????????????????????????????????????????????????????????????????????????????????????????????????????????????????????????????????????????????????????????????????????????????????????????????????????????????????????????????????????????????????????????????????????????????????????????????????????????????????????????????????????????????????????????????????????????????????????????????????????????????????????????????????????',\n",
              " 'Здравствуйте, уточните, в какую погоду дети начальной школы должны заниматься весной и осенью на улице?? Какие ограничения по температурному режиму и погодным условиям? . . . .',\n",
              " ', Пермский р-н, +795190579 Диспансеризация',\n",
              " 'Здравствуйте, скажите, пожалуйста, сколько времени занимает подпись документов на операцию в г. Лысьва?В понедельник были переданы документы на подпись на операцию в г. Перми. Сегодня, четверг, документы до сих пор не пришли. Операция была назначена на 13 сентября, из Москвы посылка пришла быстрее.',\n",
              " 'Но вместо того, чтобы приезжающий трактор почистил всю проезжую часть, он чистит \"точечно\". [[[id4817]927 ]Борис Антонов]]]:]].']"
            ]
          },
          "execution_count": 40,
          "metadata": {},
          "output_type": "execute_result"
        }
      ],
      "source": [
        "spells"
      ]
    },
    {
      "cell_type": "code",
      "execution_count": null,
      "metadata": {
        "id": "FMIemBYEh4rt"
      },
      "outputs": [],
      "source": [
        "def check_spelling(input_text):\n",
        "    try:\n",
        "        encoded = spell_tokenizer(\n",
        "            task_prefix + input_text,\n",
        "            padding=\"longest\",\n",
        "            max_length=max_input,\n",
        "            truncation=True,\n",
        "            return_tensors=\"pt\",\n",
        "        ).to('cuda')\n",
        "\n",
        "        predicts = spell_model.generate(**encoded)\n",
        "        correct_text = spell_tokenizer.batch_decode(predicts, skip_special_tokens=True)[0]\n",
        "\n",
        "        # Убираем лишние символы в начале предложения, если модель их добавила\n",
        "        # correct_text = correct_text[correct_text.index(input_text[0]):]\n",
        "        correct_text = correct_text.lstrip('.,[]«»')\n",
        "\n",
        "        # Если модель выдает несколько одинаковых знаков препинания подряд, оставляем один\n",
        "        correct_text = re.sub(r'([^\\w\\s])\\1+', r'\\1', correct_text)\n",
        "    except:\n",
        "        print(correct_text)\n",
        "\n",
        "    return correct_text"
      ]
    },
    {
      "cell_type": "code",
      "execution_count": null,
      "metadata": {
        "colab": {
          "base_uri": "https://localhost:8080/",
          "height": 94
        },
        "id": "CsciI1Beh4rt",
        "outputId": "f75f308f-f997-4e63-92f8-88e21e37a872"
      },
      "outputs": [
        {
          "name": "stdout",
          "output_type": "stream",
          "text": [
            "А какие выплаты для малоимущей(малообеспеченной) неполной семьи есть в вашем центре,весь доход семьи 10000 т.р. с небольшим\n"
          ]
        },
        {
          "data": {
            "application/vnd.google.colaboratory.intrinsic+json": {
              "type": "string"
            },
            "text/plain": [
              "'А какие выплаты для малоимущей (малообеспеченной) неполной семьи есть в вашем центре? Весь доход семьи 10000 т. р. с небольшим.'"
            ]
          },
          "execution_count": 26,
          "metadata": {},
          "output_type": "execute_result"
        }
      ],
      "source": [
        "# n = random.randint(0, data.shape[0])\n",
        "n = 22\n",
        "# print(n)\n",
        "\n",
        "print(remove_recipient(data['Текст инцидента'][n]))\n",
        "check_spelling(data['Текст инцидента'][n])"
      ]
    },
    {
      "cell_type": "code",
      "execution_count": null,
      "metadata": {
        "colab": {
          "base_uri": "https://localhost:8080/",
          "height": 591
        },
        "id": "LTdPbfIbkx18",
        "outputId": "117edef9-a46a-49c8-ceb3-5fdb18079a2f"
      },
      "outputs": [
        {
          "ename": "UnboundLocalError",
          "evalue": "ignored",
          "output_type": "error",
          "traceback": [
            "\u001b[0;31m---------------------------------------------------------------------------\u001b[0m",
            "\u001b[0;31mKeyboardInterrupt\u001b[0m                         Traceback (most recent call last)",
            "\u001b[0;32m<ipython-input-14-5a407c474e20>\u001b[0m in \u001b[0;36mcheck_spelling\u001b[0;34m(input_text)\u001b[0m\n\u001b[1;32m     10\u001b[0m \u001b[0;34m\u001b[0m\u001b[0m\n\u001b[0;32m---> 11\u001b[0;31m         \u001b[0mpredicts\u001b[0m \u001b[0;34m=\u001b[0m \u001b[0mspell_model\u001b[0m\u001b[0;34m.\u001b[0m\u001b[0mgenerate\u001b[0m\u001b[0;34m(\u001b[0m\u001b[0;34m**\u001b[0m\u001b[0mencoded\u001b[0m\u001b[0;34m)\u001b[0m\u001b[0;34m\u001b[0m\u001b[0;34m\u001b[0m\u001b[0m\n\u001b[0m\u001b[1;32m     12\u001b[0m         \u001b[0mcorrect_text\u001b[0m \u001b[0;34m=\u001b[0m \u001b[0mspell_tokenizer\u001b[0m\u001b[0;34m.\u001b[0m\u001b[0mbatch_decode\u001b[0m\u001b[0;34m(\u001b[0m\u001b[0mpredicts\u001b[0m\u001b[0;34m,\u001b[0m \u001b[0mskip_special_tokens\u001b[0m\u001b[0;34m=\u001b[0m\u001b[0;32mTrue\u001b[0m\u001b[0;34m)\u001b[0m\u001b[0;34m[\u001b[0m\u001b[0;36m0\u001b[0m\u001b[0;34m]\u001b[0m\u001b[0;34m\u001b[0m\u001b[0;34m\u001b[0m\u001b[0m\n",
            "\u001b[0;32m/usr/local/lib/python3.10/dist-packages/torch/utils/_contextlib.py\u001b[0m in \u001b[0;36mdecorate_context\u001b[0;34m(*args, **kwargs)\u001b[0m\n\u001b[1;32m    114\u001b[0m         \u001b[0;32mwith\u001b[0m \u001b[0mctx_factory\u001b[0m\u001b[0;34m(\u001b[0m\u001b[0;34m)\u001b[0m\u001b[0;34m:\u001b[0m\u001b[0;34m\u001b[0m\u001b[0;34m\u001b[0m\u001b[0m\n\u001b[0;32m--> 115\u001b[0;31m             \u001b[0;32mreturn\u001b[0m \u001b[0mfunc\u001b[0m\u001b[0;34m(\u001b[0m\u001b[0;34m*\u001b[0m\u001b[0margs\u001b[0m\u001b[0;34m,\u001b[0m \u001b[0;34m**\u001b[0m\u001b[0mkwargs\u001b[0m\u001b[0;34m)\u001b[0m\u001b[0;34m\u001b[0m\u001b[0;34m\u001b[0m\u001b[0m\n\u001b[0m\u001b[1;32m    116\u001b[0m \u001b[0;34m\u001b[0m\u001b[0m\n",
            "\u001b[0;32m/usr/local/lib/python3.10/dist-packages/transformers/generation/utils.py\u001b[0m in \u001b[0;36mgenerate\u001b[0;34m(self, inputs, generation_config, logits_processor, stopping_criteria, prefix_allowed_tokens_fn, synced_gpus, assistant_model, streamer, negative_prompt_ids, negative_prompt_attention_mask, **kwargs)\u001b[0m\n\u001b[1;32m   1753\u001b[0m             \u001b[0;31m# 11. run greedy search\u001b[0m\u001b[0;34m\u001b[0m\u001b[0;34m\u001b[0m\u001b[0m\n\u001b[0;32m-> 1754\u001b[0;31m             return self.greedy_search(\n\u001b[0m\u001b[1;32m   1755\u001b[0m                 \u001b[0minput_ids\u001b[0m\u001b[0;34m,\u001b[0m\u001b[0;34m\u001b[0m\u001b[0;34m\u001b[0m\u001b[0m\n",
            "\u001b[0;32m/usr/local/lib/python3.10/dist-packages/transformers/generation/utils.py\u001b[0m in \u001b[0;36mgreedy_search\u001b[0;34m(self, input_ids, logits_processor, stopping_criteria, max_length, pad_token_id, eos_token_id, output_attentions, output_hidden_states, output_scores, return_dict_in_generate, synced_gpus, streamer, **model_kwargs)\u001b[0m\n\u001b[1;32m   2614\u001b[0m             \u001b[0;31m# forward pass to get next token\u001b[0m\u001b[0;34m\u001b[0m\u001b[0;34m\u001b[0m\u001b[0m\n\u001b[0;32m-> 2615\u001b[0;31m             outputs = self(\n\u001b[0m\u001b[1;32m   2616\u001b[0m                 \u001b[0;34m**\u001b[0m\u001b[0mmodel_inputs\u001b[0m\u001b[0;34m,\u001b[0m\u001b[0;34m\u001b[0m\u001b[0;34m\u001b[0m\u001b[0m\n",
            "\u001b[0;32m/usr/local/lib/python3.10/dist-packages/torch/nn/modules/module.py\u001b[0m in \u001b[0;36m_wrapped_call_impl\u001b[0;34m(self, *args, **kwargs)\u001b[0m\n\u001b[1;32m   1517\u001b[0m         \u001b[0;32melse\u001b[0m\u001b[0;34m:\u001b[0m\u001b[0;34m\u001b[0m\u001b[0;34m\u001b[0m\u001b[0m\n\u001b[0;32m-> 1518\u001b[0;31m             \u001b[0;32mreturn\u001b[0m \u001b[0mself\u001b[0m\u001b[0;34m.\u001b[0m\u001b[0m_call_impl\u001b[0m\u001b[0;34m(\u001b[0m\u001b[0;34m*\u001b[0m\u001b[0margs\u001b[0m\u001b[0;34m,\u001b[0m \u001b[0;34m**\u001b[0m\u001b[0mkwargs\u001b[0m\u001b[0;34m)\u001b[0m\u001b[0;34m\u001b[0m\u001b[0;34m\u001b[0m\u001b[0m\n\u001b[0m\u001b[1;32m   1519\u001b[0m \u001b[0;34m\u001b[0m\u001b[0m\n",
            "\u001b[0;32m/usr/local/lib/python3.10/dist-packages/torch/nn/modules/module.py\u001b[0m in \u001b[0;36m_call_impl\u001b[0;34m(self, *args, **kwargs)\u001b[0m\n\u001b[1;32m   1526\u001b[0m                 or _global_forward_hooks or _global_forward_pre_hooks):\n\u001b[0;32m-> 1527\u001b[0;31m             \u001b[0;32mreturn\u001b[0m \u001b[0mforward_call\u001b[0m\u001b[0;34m(\u001b[0m\u001b[0;34m*\u001b[0m\u001b[0margs\u001b[0m\u001b[0;34m,\u001b[0m \u001b[0;34m**\u001b[0m\u001b[0mkwargs\u001b[0m\u001b[0;34m)\u001b[0m\u001b[0;34m\u001b[0m\u001b[0;34m\u001b[0m\u001b[0m\n\u001b[0m\u001b[1;32m   1528\u001b[0m \u001b[0;34m\u001b[0m\u001b[0m\n",
            "\u001b[0;32m/usr/local/lib/python3.10/dist-packages/transformers/models/t5/modeling_t5.py\u001b[0m in \u001b[0;36mforward\u001b[0;34m(self, input_ids, attention_mask, decoder_input_ids, decoder_attention_mask, head_mask, decoder_head_mask, cross_attn_head_mask, encoder_outputs, past_key_values, inputs_embeds, decoder_inputs_embeds, labels, use_cache, output_attentions, output_hidden_states, return_dict)\u001b[0m\n\u001b[1;32m   1742\u001b[0m         \u001b[0;31m# Decode\u001b[0m\u001b[0;34m\u001b[0m\u001b[0;34m\u001b[0m\u001b[0m\n\u001b[0;32m-> 1743\u001b[0;31m         decoder_outputs = self.decoder(\n\u001b[0m\u001b[1;32m   1744\u001b[0m             \u001b[0minput_ids\u001b[0m\u001b[0;34m=\u001b[0m\u001b[0mdecoder_input_ids\u001b[0m\u001b[0;34m,\u001b[0m\u001b[0;34m\u001b[0m\u001b[0;34m\u001b[0m\u001b[0m\n",
            "\u001b[0;32m/usr/local/lib/python3.10/dist-packages/torch/nn/modules/module.py\u001b[0m in \u001b[0;36m_wrapped_call_impl\u001b[0;34m(self, *args, **kwargs)\u001b[0m\n\u001b[1;32m   1517\u001b[0m         \u001b[0;32melse\u001b[0m\u001b[0;34m:\u001b[0m\u001b[0;34m\u001b[0m\u001b[0;34m\u001b[0m\u001b[0m\n\u001b[0;32m-> 1518\u001b[0;31m             \u001b[0;32mreturn\u001b[0m \u001b[0mself\u001b[0m\u001b[0;34m.\u001b[0m\u001b[0m_call_impl\u001b[0m\u001b[0;34m(\u001b[0m\u001b[0;34m*\u001b[0m\u001b[0margs\u001b[0m\u001b[0;34m,\u001b[0m \u001b[0;34m**\u001b[0m\u001b[0mkwargs\u001b[0m\u001b[0;34m)\u001b[0m\u001b[0;34m\u001b[0m\u001b[0;34m\u001b[0m\u001b[0m\n\u001b[0m\u001b[1;32m   1519\u001b[0m \u001b[0;34m\u001b[0m\u001b[0m\n",
            "\u001b[0;32m/usr/local/lib/python3.10/dist-packages/torch/nn/modules/module.py\u001b[0m in \u001b[0;36m_call_impl\u001b[0;34m(self, *args, **kwargs)\u001b[0m\n\u001b[1;32m   1526\u001b[0m                 or _global_forward_hooks or _global_forward_pre_hooks):\n\u001b[0;32m-> 1527\u001b[0;31m             \u001b[0;32mreturn\u001b[0m \u001b[0mforward_call\u001b[0m\u001b[0;34m(\u001b[0m\u001b[0;34m*\u001b[0m\u001b[0margs\u001b[0m\u001b[0;34m,\u001b[0m \u001b[0;34m**\u001b[0m\u001b[0mkwargs\u001b[0m\u001b[0;34m)\u001b[0m\u001b[0;34m\u001b[0m\u001b[0;34m\u001b[0m\u001b[0m\n\u001b[0m\u001b[1;32m   1528\u001b[0m \u001b[0;34m\u001b[0m\u001b[0m\n",
            "\u001b[0;32m/usr/local/lib/python3.10/dist-packages/transformers/models/t5/modeling_t5.py\u001b[0m in \u001b[0;36mforward\u001b[0;34m(self, input_ids, attention_mask, encoder_hidden_states, encoder_attention_mask, inputs_embeds, head_mask, cross_attn_head_mask, past_key_values, use_cache, output_attentions, output_hidden_states, return_dict)\u001b[0m\n\u001b[1;32m   1109\u001b[0m             \u001b[0;32melse\u001b[0m\u001b[0;34m:\u001b[0m\u001b[0;34m\u001b[0m\u001b[0;34m\u001b[0m\u001b[0m\n\u001b[0;32m-> 1110\u001b[0;31m                 layer_outputs = layer_module(\n\u001b[0m\u001b[1;32m   1111\u001b[0m                     \u001b[0mhidden_states\u001b[0m\u001b[0;34m,\u001b[0m\u001b[0;34m\u001b[0m\u001b[0;34m\u001b[0m\u001b[0m\n",
            "\u001b[0;32m/usr/local/lib/python3.10/dist-packages/torch/nn/modules/module.py\u001b[0m in \u001b[0;36m_wrapped_call_impl\u001b[0;34m(self, *args, **kwargs)\u001b[0m\n\u001b[1;32m   1517\u001b[0m         \u001b[0;32melse\u001b[0m\u001b[0;34m:\u001b[0m\u001b[0;34m\u001b[0m\u001b[0;34m\u001b[0m\u001b[0m\n\u001b[0;32m-> 1518\u001b[0;31m             \u001b[0;32mreturn\u001b[0m \u001b[0mself\u001b[0m\u001b[0;34m.\u001b[0m\u001b[0m_call_impl\u001b[0m\u001b[0;34m(\u001b[0m\u001b[0;34m*\u001b[0m\u001b[0margs\u001b[0m\u001b[0;34m,\u001b[0m \u001b[0;34m**\u001b[0m\u001b[0mkwargs\u001b[0m\u001b[0;34m)\u001b[0m\u001b[0;34m\u001b[0m\u001b[0;34m\u001b[0m\u001b[0m\n\u001b[0m\u001b[1;32m   1519\u001b[0m \u001b[0;34m\u001b[0m\u001b[0m\n",
            "\u001b[0;32m/usr/local/lib/python3.10/dist-packages/torch/nn/modules/module.py\u001b[0m in \u001b[0;36m_call_impl\u001b[0;34m(self, *args, **kwargs)\u001b[0m\n\u001b[1;32m   1526\u001b[0m                 or _global_forward_hooks or _global_forward_pre_hooks):\n\u001b[0;32m-> 1527\u001b[0;31m             \u001b[0;32mreturn\u001b[0m \u001b[0mforward_call\u001b[0m\u001b[0;34m(\u001b[0m\u001b[0;34m*\u001b[0m\u001b[0margs\u001b[0m\u001b[0;34m,\u001b[0m \u001b[0;34m**\u001b[0m\u001b[0mkwargs\u001b[0m\u001b[0;34m)\u001b[0m\u001b[0;34m\u001b[0m\u001b[0;34m\u001b[0m\u001b[0m\n\u001b[0m\u001b[1;32m   1528\u001b[0m \u001b[0;34m\u001b[0m\u001b[0m\n",
            "\u001b[0;32m/usr/local/lib/python3.10/dist-packages/transformers/models/t5/modeling_t5.py\u001b[0m in \u001b[0;36mforward\u001b[0;34m(self, hidden_states, attention_mask, position_bias, encoder_hidden_states, encoder_attention_mask, encoder_decoder_position_bias, layer_head_mask, cross_attn_layer_head_mask, past_key_value, use_cache, output_attentions, return_dict)\u001b[0m\n\u001b[1;32m    693\u001b[0m \u001b[0;34m\u001b[0m\u001b[0m\n\u001b[0;32m--> 694\u001b[0;31m         self_attention_outputs = self.layer[0](\n\u001b[0m\u001b[1;32m    695\u001b[0m             \u001b[0mhidden_states\u001b[0m\u001b[0;34m,\u001b[0m\u001b[0;34m\u001b[0m\u001b[0;34m\u001b[0m\u001b[0m\n",
            "\u001b[0;32m/usr/local/lib/python3.10/dist-packages/torch/nn/modules/module.py\u001b[0m in \u001b[0;36m_wrapped_call_impl\u001b[0;34m(self, *args, **kwargs)\u001b[0m\n\u001b[1;32m   1517\u001b[0m         \u001b[0;32melse\u001b[0m\u001b[0;34m:\u001b[0m\u001b[0;34m\u001b[0m\u001b[0;34m\u001b[0m\u001b[0m\n\u001b[0;32m-> 1518\u001b[0;31m             \u001b[0;32mreturn\u001b[0m \u001b[0mself\u001b[0m\u001b[0;34m.\u001b[0m\u001b[0m_call_impl\u001b[0m\u001b[0;34m(\u001b[0m\u001b[0;34m*\u001b[0m\u001b[0margs\u001b[0m\u001b[0;34m,\u001b[0m \u001b[0;34m**\u001b[0m\u001b[0mkwargs\u001b[0m\u001b[0;34m)\u001b[0m\u001b[0;34m\u001b[0m\u001b[0;34m\u001b[0m\u001b[0m\n\u001b[0m\u001b[1;32m   1519\u001b[0m \u001b[0;34m\u001b[0m\u001b[0m\n",
            "\u001b[0;32m/usr/local/lib/python3.10/dist-packages/torch/nn/modules/module.py\u001b[0m in \u001b[0;36m_call_impl\u001b[0;34m(self, *args, **kwargs)\u001b[0m\n\u001b[1;32m   1526\u001b[0m                 or _global_forward_hooks or _global_forward_pre_hooks):\n\u001b[0;32m-> 1527\u001b[0;31m             \u001b[0;32mreturn\u001b[0m \u001b[0mforward_call\u001b[0m\u001b[0;34m(\u001b[0m\u001b[0;34m*\u001b[0m\u001b[0margs\u001b[0m\u001b[0;34m,\u001b[0m \u001b[0;34m**\u001b[0m\u001b[0mkwargs\u001b[0m\u001b[0;34m)\u001b[0m\u001b[0;34m\u001b[0m\u001b[0;34m\u001b[0m\u001b[0m\n\u001b[0m\u001b[1;32m   1528\u001b[0m \u001b[0;34m\u001b[0m\u001b[0m\n",
            "\u001b[0;32m/usr/local/lib/python3.10/dist-packages/transformers/models/t5/modeling_t5.py\u001b[0m in \u001b[0;36mforward\u001b[0;34m(self, hidden_states, attention_mask, position_bias, layer_head_mask, past_key_value, use_cache, output_attentions)\u001b[0m\n\u001b[1;32m    600\u001b[0m         \u001b[0mnormed_hidden_states\u001b[0m \u001b[0;34m=\u001b[0m \u001b[0mself\u001b[0m\u001b[0;34m.\u001b[0m\u001b[0mlayer_norm\u001b[0m\u001b[0;34m(\u001b[0m\u001b[0mhidden_states\u001b[0m\u001b[0;34m)\u001b[0m\u001b[0;34m\u001b[0m\u001b[0;34m\u001b[0m\u001b[0m\n\u001b[0;32m--> 601\u001b[0;31m         attention_output = self.SelfAttention(\n\u001b[0m\u001b[1;32m    602\u001b[0m             \u001b[0mnormed_hidden_states\u001b[0m\u001b[0;34m,\u001b[0m\u001b[0;34m\u001b[0m\u001b[0;34m\u001b[0m\u001b[0m\n",
            "\u001b[0;32m/usr/local/lib/python3.10/dist-packages/torch/nn/modules/module.py\u001b[0m in \u001b[0;36m_wrapped_call_impl\u001b[0;34m(self, *args, **kwargs)\u001b[0m\n\u001b[1;32m   1517\u001b[0m         \u001b[0;32melse\u001b[0m\u001b[0;34m:\u001b[0m\u001b[0;34m\u001b[0m\u001b[0;34m\u001b[0m\u001b[0m\n\u001b[0;32m-> 1518\u001b[0;31m             \u001b[0;32mreturn\u001b[0m \u001b[0mself\u001b[0m\u001b[0;34m.\u001b[0m\u001b[0m_call_impl\u001b[0m\u001b[0;34m(\u001b[0m\u001b[0;34m*\u001b[0m\u001b[0margs\u001b[0m\u001b[0;34m,\u001b[0m \u001b[0;34m**\u001b[0m\u001b[0mkwargs\u001b[0m\u001b[0;34m)\u001b[0m\u001b[0;34m\u001b[0m\u001b[0;34m\u001b[0m\u001b[0m\n\u001b[0m\u001b[1;32m   1519\u001b[0m \u001b[0;34m\u001b[0m\u001b[0m\n",
            "\u001b[0;32m/usr/local/lib/python3.10/dist-packages/torch/nn/modules/module.py\u001b[0m in \u001b[0;36m_call_impl\u001b[0;34m(self, *args, **kwargs)\u001b[0m\n\u001b[1;32m   1526\u001b[0m                 or _global_forward_hooks or _global_forward_pre_hooks):\n\u001b[0;32m-> 1527\u001b[0;31m             \u001b[0;32mreturn\u001b[0m \u001b[0mforward_call\u001b[0m\u001b[0;34m(\u001b[0m\u001b[0;34m*\u001b[0m\u001b[0margs\u001b[0m\u001b[0;34m,\u001b[0m \u001b[0;34m**\u001b[0m\u001b[0mkwargs\u001b[0m\u001b[0;34m)\u001b[0m\u001b[0;34m\u001b[0m\u001b[0;34m\u001b[0m\u001b[0m\n\u001b[0m\u001b[1;32m   1528\u001b[0m \u001b[0;34m\u001b[0m\u001b[0m\n",
            "\u001b[0;32m/usr/local/lib/python3.10/dist-packages/transformers/models/t5/modeling_t5.py\u001b[0m in \u001b[0;36mforward\u001b[0;34m(self, hidden_states, mask, key_value_states, position_bias, past_key_value, layer_head_mask, query_length, use_cache, output_attentions)\u001b[0m\n\u001b[1;32m    522\u001b[0m         \u001b[0;31m# get key/value states\u001b[0m\u001b[0;34m\u001b[0m\u001b[0;34m\u001b[0m\u001b[0m\n\u001b[0;32m--> 523\u001b[0;31m         key_states = project(\n\u001b[0m\u001b[1;32m    524\u001b[0m             \u001b[0mhidden_states\u001b[0m\u001b[0;34m,\u001b[0m \u001b[0mself\u001b[0m\u001b[0;34m.\u001b[0m\u001b[0mk\u001b[0m\u001b[0;34m,\u001b[0m \u001b[0mkey_value_states\u001b[0m\u001b[0;34m,\u001b[0m \u001b[0mpast_key_value\u001b[0m\u001b[0;34m[\u001b[0m\u001b[0;36m0\u001b[0m\u001b[0;34m]\u001b[0m \u001b[0;32mif\u001b[0m \u001b[0mpast_key_value\u001b[0m \u001b[0;32mis\u001b[0m \u001b[0;32mnot\u001b[0m \u001b[0;32mNone\u001b[0m \u001b[0;32melse\u001b[0m \u001b[0;32mNone\u001b[0m\u001b[0;34m\u001b[0m\u001b[0;34m\u001b[0m\u001b[0m\n",
            "\u001b[0;32m/usr/local/lib/python3.10/dist-packages/transformers/models/t5/modeling_t5.py\u001b[0m in \u001b[0;36mproject\u001b[0;34m(hidden_states, proj_layer, key_value_states, past_key_value)\u001b[0m\n\u001b[1;32m    496\u001b[0m                 \u001b[0;31m# (batch_size, n_heads, seq_length, dim_per_head)\u001b[0m\u001b[0;34m\u001b[0m\u001b[0;34m\u001b[0m\u001b[0m\n\u001b[0;32m--> 497\u001b[0;31m                 \u001b[0mhidden_states\u001b[0m \u001b[0;34m=\u001b[0m \u001b[0mshape\u001b[0m\u001b[0;34m(\u001b[0m\u001b[0mproj_layer\u001b[0m\u001b[0;34m(\u001b[0m\u001b[0mhidden_states\u001b[0m\u001b[0;34m)\u001b[0m\u001b[0;34m)\u001b[0m\u001b[0;34m\u001b[0m\u001b[0;34m\u001b[0m\u001b[0m\n\u001b[0m\u001b[1;32m    498\u001b[0m             \u001b[0;32melif\u001b[0m \u001b[0mpast_key_value\u001b[0m \u001b[0;32mis\u001b[0m \u001b[0;32mNone\u001b[0m\u001b[0;34m:\u001b[0m\u001b[0;34m\u001b[0m\u001b[0;34m\u001b[0m\u001b[0m\n",
            "\u001b[0;32m/usr/local/lib/python3.10/dist-packages/torch/nn/modules/module.py\u001b[0m in \u001b[0;36m_wrapped_call_impl\u001b[0;34m(self, *args, **kwargs)\u001b[0m\n\u001b[1;32m   1517\u001b[0m         \u001b[0;32melse\u001b[0m\u001b[0;34m:\u001b[0m\u001b[0;34m\u001b[0m\u001b[0;34m\u001b[0m\u001b[0m\n\u001b[0;32m-> 1518\u001b[0;31m             \u001b[0;32mreturn\u001b[0m \u001b[0mself\u001b[0m\u001b[0;34m.\u001b[0m\u001b[0m_call_impl\u001b[0m\u001b[0;34m(\u001b[0m\u001b[0;34m*\u001b[0m\u001b[0margs\u001b[0m\u001b[0;34m,\u001b[0m \u001b[0;34m**\u001b[0m\u001b[0mkwargs\u001b[0m\u001b[0;34m)\u001b[0m\u001b[0;34m\u001b[0m\u001b[0;34m\u001b[0m\u001b[0m\n\u001b[0m\u001b[1;32m   1519\u001b[0m \u001b[0;34m\u001b[0m\u001b[0m\n",
            "\u001b[0;32m/usr/local/lib/python3.10/dist-packages/torch/nn/modules/module.py\u001b[0m in \u001b[0;36m_call_impl\u001b[0;34m(self, *args, **kwargs)\u001b[0m\n\u001b[1;32m   1526\u001b[0m                 or _global_forward_hooks or _global_forward_pre_hooks):\n\u001b[0;32m-> 1527\u001b[0;31m             \u001b[0;32mreturn\u001b[0m \u001b[0mforward_call\u001b[0m\u001b[0;34m(\u001b[0m\u001b[0;34m*\u001b[0m\u001b[0margs\u001b[0m\u001b[0;34m,\u001b[0m \u001b[0;34m**\u001b[0m\u001b[0mkwargs\u001b[0m\u001b[0;34m)\u001b[0m\u001b[0;34m\u001b[0m\u001b[0;34m\u001b[0m\u001b[0m\n\u001b[0m\u001b[1;32m   1528\u001b[0m \u001b[0;34m\u001b[0m\u001b[0m\n",
            "\u001b[0;32m/usr/local/lib/python3.10/dist-packages/torch/nn/modules/linear.py\u001b[0m in \u001b[0;36mforward\u001b[0;34m(self, input)\u001b[0m\n\u001b[1;32m    113\u001b[0m     \u001b[0;32mdef\u001b[0m \u001b[0mforward\u001b[0m\u001b[0;34m(\u001b[0m\u001b[0mself\u001b[0m\u001b[0;34m,\u001b[0m \u001b[0minput\u001b[0m\u001b[0;34m:\u001b[0m \u001b[0mTensor\u001b[0m\u001b[0;34m)\u001b[0m \u001b[0;34m->\u001b[0m \u001b[0mTensor\u001b[0m\u001b[0;34m:\u001b[0m\u001b[0;34m\u001b[0m\u001b[0;34m\u001b[0m\u001b[0m\n\u001b[0;32m--> 114\u001b[0;31m         \u001b[0;32mreturn\u001b[0m \u001b[0mF\u001b[0m\u001b[0;34m.\u001b[0m\u001b[0mlinear\u001b[0m\u001b[0;34m(\u001b[0m\u001b[0minput\u001b[0m\u001b[0;34m,\u001b[0m \u001b[0mself\u001b[0m\u001b[0;34m.\u001b[0m\u001b[0mweight\u001b[0m\u001b[0;34m,\u001b[0m \u001b[0mself\u001b[0m\u001b[0;34m.\u001b[0m\u001b[0mbias\u001b[0m\u001b[0;34m)\u001b[0m\u001b[0;34m\u001b[0m\u001b[0;34m\u001b[0m\u001b[0m\n\u001b[0m\u001b[1;32m    115\u001b[0m \u001b[0;34m\u001b[0m\u001b[0m\n",
            "\u001b[0;31mKeyboardInterrupt\u001b[0m: ",
            "\nDuring handling of the above exception, another exception occurred:\n",
            "\u001b[0;31mUnboundLocalError\u001b[0m                         Traceback (most recent call last)",
            "\u001b[0;32m<ipython-input-15-58a864cc962f>\u001b[0m in \u001b[0;36m<cell line: 1>\u001b[0;34m()\u001b[0m\n\u001b[0;32m----> 1\u001b[0;31m \u001b[0mdata\u001b[0m\u001b[0;34m[\u001b[0m\u001b[0;34m'Текст инцидента'\u001b[0m\u001b[0;34m]\u001b[0m \u001b[0;34m=\u001b[0m \u001b[0mdata\u001b[0m\u001b[0;34m[\u001b[0m\u001b[0;34m'Текст инцидента'\u001b[0m\u001b[0;34m]\u001b[0m\u001b[0;34m.\u001b[0m\u001b[0mapply\u001b[0m\u001b[0;34m(\u001b[0m\u001b[0mcheck_spelling\u001b[0m\u001b[0;34m)\u001b[0m\u001b[0;34m\u001b[0m\u001b[0;34m\u001b[0m\u001b[0m\n\u001b[0m",
            "\u001b[0;32m/usr/local/lib/python3.10/dist-packages/pandas/core/series.py\u001b[0m in \u001b[0;36mapply\u001b[0;34m(self, func, convert_dtype, args, **kwargs)\u001b[0m\n\u001b[1;32m   4769\u001b[0m         \u001b[0mdtype\u001b[0m\u001b[0;34m:\u001b[0m \u001b[0mfloat64\u001b[0m\u001b[0;34m\u001b[0m\u001b[0;34m\u001b[0m\u001b[0m\n\u001b[1;32m   4770\u001b[0m         \"\"\"\n\u001b[0;32m-> 4771\u001b[0;31m         \u001b[0;32mreturn\u001b[0m \u001b[0mSeriesApply\u001b[0m\u001b[0;34m(\u001b[0m\u001b[0mself\u001b[0m\u001b[0;34m,\u001b[0m \u001b[0mfunc\u001b[0m\u001b[0;34m,\u001b[0m \u001b[0mconvert_dtype\u001b[0m\u001b[0;34m,\u001b[0m \u001b[0margs\u001b[0m\u001b[0;34m,\u001b[0m \u001b[0mkwargs\u001b[0m\u001b[0;34m)\u001b[0m\u001b[0;34m.\u001b[0m\u001b[0mapply\u001b[0m\u001b[0;34m(\u001b[0m\u001b[0;34m)\u001b[0m\u001b[0;34m\u001b[0m\u001b[0;34m\u001b[0m\u001b[0m\n\u001b[0m\u001b[1;32m   4772\u001b[0m \u001b[0;34m\u001b[0m\u001b[0m\n\u001b[1;32m   4773\u001b[0m     def _reduce(\n",
            "\u001b[0;32m/usr/local/lib/python3.10/dist-packages/pandas/core/apply.py\u001b[0m in \u001b[0;36mapply\u001b[0;34m(self)\u001b[0m\n\u001b[1;32m   1121\u001b[0m \u001b[0;34m\u001b[0m\u001b[0m\n\u001b[1;32m   1122\u001b[0m         \u001b[0;31m# self.f is Callable\u001b[0m\u001b[0;34m\u001b[0m\u001b[0;34m\u001b[0m\u001b[0m\n\u001b[0;32m-> 1123\u001b[0;31m         \u001b[0;32mreturn\u001b[0m \u001b[0mself\u001b[0m\u001b[0;34m.\u001b[0m\u001b[0mapply_standard\u001b[0m\u001b[0;34m(\u001b[0m\u001b[0;34m)\u001b[0m\u001b[0;34m\u001b[0m\u001b[0;34m\u001b[0m\u001b[0m\n\u001b[0m\u001b[1;32m   1124\u001b[0m \u001b[0;34m\u001b[0m\u001b[0m\n\u001b[1;32m   1125\u001b[0m     \u001b[0;32mdef\u001b[0m \u001b[0magg\u001b[0m\u001b[0;34m(\u001b[0m\u001b[0mself\u001b[0m\u001b[0;34m)\u001b[0m\u001b[0;34m:\u001b[0m\u001b[0;34m\u001b[0m\u001b[0;34m\u001b[0m\u001b[0m\n",
            "\u001b[0;32m/usr/local/lib/python3.10/dist-packages/pandas/core/apply.py\u001b[0m in \u001b[0;36mapply_standard\u001b[0;34m(self)\u001b[0m\n\u001b[1;32m   1172\u001b[0m             \u001b[0;32melse\u001b[0m\u001b[0;34m:\u001b[0m\u001b[0;34m\u001b[0m\u001b[0;34m\u001b[0m\u001b[0m\n\u001b[1;32m   1173\u001b[0m                 \u001b[0mvalues\u001b[0m \u001b[0;34m=\u001b[0m \u001b[0mobj\u001b[0m\u001b[0;34m.\u001b[0m\u001b[0mastype\u001b[0m\u001b[0;34m(\u001b[0m\u001b[0mobject\u001b[0m\u001b[0;34m)\u001b[0m\u001b[0;34m.\u001b[0m\u001b[0m_values\u001b[0m\u001b[0;34m\u001b[0m\u001b[0;34m\u001b[0m\u001b[0m\n\u001b[0;32m-> 1174\u001b[0;31m                 mapped = lib.map_infer(\n\u001b[0m\u001b[1;32m   1175\u001b[0m                     \u001b[0mvalues\u001b[0m\u001b[0;34m,\u001b[0m\u001b[0;34m\u001b[0m\u001b[0;34m\u001b[0m\u001b[0m\n\u001b[1;32m   1176\u001b[0m                     \u001b[0mf\u001b[0m\u001b[0;34m,\u001b[0m\u001b[0;34m\u001b[0m\u001b[0;34m\u001b[0m\u001b[0m\n",
            "\u001b[0;32m/usr/local/lib/python3.10/dist-packages/pandas/_libs/lib.pyx\u001b[0m in \u001b[0;36mpandas._libs.lib.map_infer\u001b[0;34m()\u001b[0m\n",
            "\u001b[0;32m<ipython-input-14-5a407c474e20>\u001b[0m in \u001b[0;36mcheck_spelling\u001b[0;34m(input_text)\u001b[0m\n\u001b[1;32m     19\u001b[0m         \u001b[0mcorrect_text\u001b[0m \u001b[0;34m=\u001b[0m \u001b[0mre\u001b[0m\u001b[0;34m.\u001b[0m\u001b[0msub\u001b[0m\u001b[0;34m(\u001b[0m\u001b[0;34mr'([^\\w\\s])\\1+'\u001b[0m\u001b[0;34m,\u001b[0m \u001b[0;34mr'\\1'\u001b[0m\u001b[0;34m,\u001b[0m \u001b[0mcorrect_text\u001b[0m\u001b[0;34m)\u001b[0m\u001b[0;34m\u001b[0m\u001b[0;34m\u001b[0m\u001b[0m\n\u001b[1;32m     20\u001b[0m     \u001b[0;32mexcept\u001b[0m\u001b[0;34m:\u001b[0m\u001b[0;34m\u001b[0m\u001b[0;34m\u001b[0m\u001b[0m\n\u001b[0;32m---> 21\u001b[0;31m         \u001b[0mprint\u001b[0m\u001b[0;34m(\u001b[0m\u001b[0mcorrect_text\u001b[0m\u001b[0;34m)\u001b[0m\u001b[0;34m\u001b[0m\u001b[0;34m\u001b[0m\u001b[0m\n\u001b[0m\u001b[1;32m     22\u001b[0m \u001b[0;34m\u001b[0m\u001b[0m\n\u001b[1;32m     23\u001b[0m     \u001b[0;32mreturn\u001b[0m \u001b[0mcorrect_text\u001b[0m\u001b[0;34m\u001b[0m\u001b[0;34m\u001b[0m\u001b[0m\n",
            "\u001b[0;31mUnboundLocalError\u001b[0m: local variable 'correct_text' referenced before assignment"
          ]
        }
      ],
      "source": [
        "data['Текст инцидента'] = data['Текст инцидента'].apply(check_spelling)"
      ]
    },
    {
      "cell_type": "markdown",
      "metadata": {
        "id": "jNiWyy7Ch4rt"
      },
      "source": [
        "---"
      ]
    },
    {
      "cell_type": "markdown",
      "metadata": {
        "id": "Sr89OomGh4rt"
      },
      "source": [
        "### Классификация"
      ]
    },
    {
      "cell_type": "markdown",
      "metadata": {
        "id": "sbnvv1wm1E-R"
      },
      "source": [
        "jfbthtrht"
      ]
    },
    {
      "cell_type": "code",
      "execution_count": 3,
      "metadata": {
        "colab": {
          "base_uri": "https://localhost:8080/",
          "height": 597
        },
        "id": "DqnF23Jrvr6w",
        "outputId": "96860b95-3d16-47d7-9786-aa661a0eb6a9"
      },
      "outputs": [
        {
          "data": {
            "text/html": [
              "<div>\n",
              "<style scoped>\n",
              "    .dataframe tbody tr th:only-of-type {\n",
              "        vertical-align: middle;\n",
              "    }\n",
              "\n",
              "    .dataframe tbody tr th {\n",
              "        vertical-align: top;\n",
              "    }\n",
              "\n",
              "    .dataframe thead th {\n",
              "        text-align: right;\n",
              "    }\n",
              "</style>\n",
              "<table border=\"1\" class=\"dataframe\">\n",
              "  <thead>\n",
              "    <tr style=\"text-align: right;\">\n",
              "      <th></th>\n",
              "      <th>Исполнитель</th>\n",
              "      <th>Группа тем</th>\n",
              "      <th>Текст инцидента</th>\n",
              "      <th>Тема</th>\n",
              "      <th>Ners</th>\n",
              "      <th>full_text_wo_contractor</th>\n",
              "    </tr>\n",
              "  </thead>\n",
              "  <tbody>\n",
              "    <tr>\n",
              "      <th>0</th>\n",
              "      <td>Лысьвенский городской округ</td>\n",
              "      <td>Благоустройство</td>\n",
              "      <td>Добрый день. Сегодня, 20 августа, моя мать шла...</td>\n",
              "      <td>★ Ямы во дворах</td>\n",
              "      <td>LOC: Ленина</td>\n",
              "      <td>Добрый день. Сегодня, 20 августа, моя мать шла...</td>\n",
              "    </tr>\n",
              "    <tr>\n",
              "      <th>1</th>\n",
              "      <td>Министерство социального развития ПК</td>\n",
              "      <td>Социальное обслуживание и защита</td>\n",
              "      <td>Пермь, г. , +791692145. В Перми с ноября 2021 ...</td>\n",
              "      <td>Оказание гос. соц. помощи</td>\n",
              "      <td>LOC: Пермь, LOC: Перми</td>\n",
              "      <td>Пермь, г. , +791692145. В Перми с ноября 2021 ...</td>\n",
              "    </tr>\n",
              "    <tr>\n",
              "      <th>2</th>\n",
              "      <td>Министерство социального развития ПК</td>\n",
              "      <td>Социальное обслуживание и защита</td>\n",
              "      <td>Добрый день! Скажите, пожалуйста, если подала ...</td>\n",
              "      <td>Дети и многодетные семьи</td>\n",
              "      <td>NaN</td>\n",
              "      <td>Добрый день! Скажите, пожалуйста, если подала ...</td>\n",
              "    </tr>\n",
              "    <tr>\n",
              "      <th>3</th>\n",
              "      <td>Город Пермь</td>\n",
              "      <td>Общественный транспорт</td>\n",
              "      <td>Каждая из них не о чем. Люди на остановках хот...</td>\n",
              "      <td>Содержание остановок</td>\n",
              "      <td>NaN</td>\n",
              "      <td>Каждая из них не о чем. Люди на остановках хот...</td>\n",
              "    </tr>\n",
              "    <tr>\n",
              "      <th>4</th>\n",
              "      <td>Министерство здравоохранения</td>\n",
              "      <td>Здравоохранение/Медицина</td>\n",
              "      <td>В Березниках у сына, привитого от коронавируса...</td>\n",
              "      <td>Технические проблемы с записью на прием к врачу</td>\n",
              "      <td>LOC: Березниках</td>\n",
              "      <td>В Березниках у сына, привитого от коронавируса...</td>\n",
              "    </tr>\n",
              "    <tr>\n",
              "      <th>...</th>\n",
              "      <td>...</td>\n",
              "      <td>...</td>\n",
              "      <td>...</td>\n",
              "      <td>...</td>\n",
              "      <td>...</td>\n",
              "      <td>...</td>\n",
              "    </tr>\n",
              "    <tr>\n",
              "      <th>22485</th>\n",
              "      <td>Министерство социального развития ПК</td>\n",
              "      <td>Социальное обслуживание и защита</td>\n",
              "      <td>А если ещё не погасили ипотеку, но площадь бол...</td>\n",
              "      <td>Улучшение жилищных условий</td>\n",
              "      <td>NaN</td>\n",
              "      <td>А если ещё не погасили ипотеку, но площадь бол...</td>\n",
              "    </tr>\n",
              "    <tr>\n",
              "      <th>22486</th>\n",
              "      <td>Губахинский городской округ</td>\n",
              "      <td>ЖКХ</td>\n",
              "      <td>Город Гремячинск — ситуация с теплом на улице ...</td>\n",
              "      <td>Ненадлежащее качество или отсутствие отопления</td>\n",
              "      <td>LOC: Гремячинск</td>\n",
              "      <td>Город Гремячинск — ситуация с теплом на улице ...</td>\n",
              "    </tr>\n",
              "    <tr>\n",
              "      <th>22487</th>\n",
              "      <td>Министерство здравоохранения</td>\n",
              "      <td>Здравоохранение/Медицина</td>\n",
              "      <td>Здравствуйте, у меня ребёнку 2 месяца. Тест на...</td>\n",
              "      <td>Технические проблемы с записью на прием к врачу</td>\n",
              "      <td>NaN</td>\n",
              "      <td>Здравствуйте, у меня ребёнку 2 месяца. Тест на...</td>\n",
              "    </tr>\n",
              "    <tr>\n",
              "      <th>22488</th>\n",
              "      <td>Лысьвенский городской округ</td>\n",
              "      <td>Благоустройство</td>\n",
              "      <td>А что творится с благоустройством дворов?! Воо...</td>\n",
              "      <td>Благоустройство придомовых территорий</td>\n",
              "      <td>LOC: Оборина</td>\n",
              "      <td>А что творится с благоустройством дворов?! Воо...</td>\n",
              "    </tr>\n",
              "    <tr>\n",
              "      <th>22489</th>\n",
              "      <td>Министерство социального развития ПК</td>\n",
              "      <td>Социальное обслуживание и защита</td>\n",
              "      <td>Здравствуйте, подскажите, пожалуйста. Сколько ...</td>\n",
              "      <td>Оказание гос. соц. помощи</td>\n",
              "      <td>ORG: МФЦ</td>\n",
              "      <td>Здравствуйте, подскажите, пожалуйста. Сколько ...</td>\n",
              "    </tr>\n",
              "  </tbody>\n",
              "</table>\n",
              "<p>22490 rows × 6 columns</p>\n",
              "</div>"
            ],
            "text/plain": [
              "                                Исполнитель                        Группа тем  \\\n",
              "0               Лысьвенский городской округ                   Благоустройство   \n",
              "1      Министерство социального развития ПК  Социальное обслуживание и защита   \n",
              "2      Министерство социального развития ПК  Социальное обслуживание и защита   \n",
              "3                               Город Пермь            Общественный транспорт   \n",
              "4              Министерство здравоохранения          Здравоохранение/Медицина   \n",
              "...                                     ...                               ...   \n",
              "22485  Министерство социального развития ПК  Социальное обслуживание и защита   \n",
              "22486           Губахинский городской округ                               ЖКХ   \n",
              "22487          Министерство здравоохранения          Здравоохранение/Медицина   \n",
              "22488           Лысьвенский городской округ                   Благоустройство   \n",
              "22489  Министерство социального развития ПК  Социальное обслуживание и защита   \n",
              "\n",
              "                                         Текст инцидента  \\\n",
              "0      Добрый день. Сегодня, 20 августа, моя мать шла...   \n",
              "1      Пермь, г. , +791692145. В Перми с ноября 2021 ...   \n",
              "2      Добрый день! Скажите, пожалуйста, если подала ...   \n",
              "3      Каждая из них не о чем. Люди на остановках хот...   \n",
              "4      В Березниках у сына, привитого от коронавируса...   \n",
              "...                                                  ...   \n",
              "22485  А если ещё не погасили ипотеку, но площадь бол...   \n",
              "22486  Город Гремячинск — ситуация с теплом на улице ...   \n",
              "22487  Здравствуйте, у меня ребёнку 2 месяца. Тест на...   \n",
              "22488  А что творится с благоустройством дворов?! Воо...   \n",
              "22489  Здравствуйте, подскажите, пожалуйста. Сколько ...   \n",
              "\n",
              "                                                  Тема  \\\n",
              "0                                      ★ Ямы во дворах   \n",
              "1                            Оказание гос. соц. помощи   \n",
              "2                             Дети и многодетные семьи   \n",
              "3                                 Содержание остановок   \n",
              "4      Технические проблемы с записью на прием к врачу   \n",
              "...                                                ...   \n",
              "22485                       Улучшение жилищных условий   \n",
              "22486   Ненадлежащее качество или отсутствие отопления   \n",
              "22487  Технические проблемы с записью на прием к врачу   \n",
              "22488            Благоустройство придомовых территорий   \n",
              "22489                        Оказание гос. соц. помощи   \n",
              "\n",
              "                         Ners  \\\n",
              "0                 LOC: Ленина   \n",
              "1      LOC: Пермь, LOC: Перми   \n",
              "2                         NaN   \n",
              "3                         NaN   \n",
              "4             LOC: Березниках   \n",
              "...                       ...   \n",
              "22485                     NaN   \n",
              "22486         LOC: Гремячинск   \n",
              "22487                     NaN   \n",
              "22488            LOC: Оборина   \n",
              "22489                ORG: МФЦ   \n",
              "\n",
              "                                 full_text_wo_contractor  \n",
              "0      Добрый день. Сегодня, 20 августа, моя мать шла...  \n",
              "1      Пермь, г. , +791692145. В Перми с ноября 2021 ...  \n",
              "2      Добрый день! Скажите, пожалуйста, если подала ...  \n",
              "3      Каждая из них не о чем. Люди на остановках хот...  \n",
              "4      В Березниках у сына, привитого от коронавируса...  \n",
              "...                                                  ...  \n",
              "22485  А если ещё не погасили ипотеку, но площадь бол...  \n",
              "22486  Город Гремячинск — ситуация с теплом на улице ...  \n",
              "22487  Здравствуйте, у меня ребёнку 2 месяца. Тест на...  \n",
              "22488  А что творится с благоустройством дворов?! Воо...  \n",
              "22489  Здравствуйте, подскажите, пожалуйста. Сколько ...  \n",
              "\n",
              "[22490 rows x 6 columns]"
            ]
          },
          "execution_count": 3,
          "metadata": {},
          "output_type": "execute_result"
        }
      ],
      "source": [
        "data = pd.read_csv('data_corrected_spell_ner_full_text.csv')\n",
        "data"
      ]
    },
    {
      "cell_type": "code",
      "execution_count": 4,
      "metadata": {
        "colab": {
          "base_uri": "https://localhost:8080/",
          "height": 293
        },
        "id": "zE1yU0rvvlQs",
        "outputId": "f185b1b2-b8d2-4bed-a723-faa272e4f56e"
      },
      "outputs": [
        {
          "data": {
            "text/html": [
              "<div>\n",
              "<style scoped>\n",
              "    .dataframe tbody tr th:only-of-type {\n",
              "        vertical-align: middle;\n",
              "    }\n",
              "\n",
              "    .dataframe tbody tr th {\n",
              "        vertical-align: top;\n",
              "    }\n",
              "\n",
              "    .dataframe thead th {\n",
              "        text-align: right;\n",
              "    }\n",
              "</style>\n",
              "<table border=\"1\" class=\"dataframe\">\n",
              "  <thead>\n",
              "    <tr style=\"text-align: right;\">\n",
              "      <th></th>\n",
              "      <th>Исполнитель</th>\n",
              "      <th>Группа тем</th>\n",
              "      <th>Текст инцидента</th>\n",
              "      <th>Тема</th>\n",
              "      <th>Ners</th>\n",
              "      <th>full_text_wo_contractor</th>\n",
              "    </tr>\n",
              "  </thead>\n",
              "  <tbody>\n",
              "    <tr>\n",
              "      <th>0</th>\n",
              "      <td>Лысьвенский городской округ</td>\n",
              "      <td>Благоустройство</td>\n",
              "      <td>Добрый день. Сегодня, 20 августа, моя мать шла...</td>\n",
              "      <td>★ Ямы во дворах</td>\n",
              "      <td>LOC: Ленина</td>\n",
              "      <td>Добрый день. Сегодня, 20 августа, моя мать шла...</td>\n",
              "    </tr>\n",
              "    <tr>\n",
              "      <th>1</th>\n",
              "      <td>Министерство социального развития ПК</td>\n",
              "      <td>Социальное обслуживание и защита</td>\n",
              "      <td>Пермь, г. , +791692145. В Перми с ноября 2021 ...</td>\n",
              "      <td>Оказание гос. соц. помощи</td>\n",
              "      <td>LOC: Пермь, LOC: Перми</td>\n",
              "      <td>Пермь, г. , +791692145. В Перми с ноября 2021 ...</td>\n",
              "    </tr>\n",
              "    <tr>\n",
              "      <th>2</th>\n",
              "      <td>Министерство социального развития ПК</td>\n",
              "      <td>Социальное обслуживание и защита</td>\n",
              "      <td>Добрый день! Скажите, пожалуйста, если подала ...</td>\n",
              "      <td>Дети и многодетные семьи</td>\n",
              "      <td>NaN</td>\n",
              "      <td>Добрый день! Скажите, пожалуйста, если подала ...</td>\n",
              "    </tr>\n",
              "    <tr>\n",
              "      <th>3</th>\n",
              "      <td>Город Пермь</td>\n",
              "      <td>Общественный транспорт</td>\n",
              "      <td>Каждая из них не о чем. Люди на остановках хот...</td>\n",
              "      <td>Содержание остановок</td>\n",
              "      <td>NaN</td>\n",
              "      <td>Каждая из них не о чем. Люди на остановках хот...</td>\n",
              "    </tr>\n",
              "    <tr>\n",
              "      <th>4</th>\n",
              "      <td>Министерство здравоохранения</td>\n",
              "      <td>Здравоохранение/Медицина</td>\n",
              "      <td>В Березниках у сына, привитого от коронавируса...</td>\n",
              "      <td>Технические проблемы с записью на прием к врачу</td>\n",
              "      <td>LOC: Березниках</td>\n",
              "      <td>В Березниках у сына, привитого от коронавируса...</td>\n",
              "    </tr>\n",
              "  </tbody>\n",
              "</table>\n",
              "</div>"
            ],
            "text/plain": [
              "                            Исполнитель                        Группа тем  \\\n",
              "0           Лысьвенский городской округ                   Благоустройство   \n",
              "1  Министерство социального развития ПК  Социальное обслуживание и защита   \n",
              "2  Министерство социального развития ПК  Социальное обслуживание и защита   \n",
              "3                           Город Пермь            Общественный транспорт   \n",
              "4          Министерство здравоохранения          Здравоохранение/Медицина   \n",
              "\n",
              "                                     Текст инцидента  \\\n",
              "0  Добрый день. Сегодня, 20 августа, моя мать шла...   \n",
              "1  Пермь, г. , +791692145. В Перми с ноября 2021 ...   \n",
              "2  Добрый день! Скажите, пожалуйста, если подала ...   \n",
              "3  Каждая из них не о чем. Люди на остановках хот...   \n",
              "4  В Березниках у сына, привитого от коронавируса...   \n",
              "\n",
              "                                              Тема                    Ners  \\\n",
              "0                                  ★ Ямы во дворах             LOC: Ленина   \n",
              "1                        Оказание гос. соц. помощи  LOC: Пермь, LOC: Перми   \n",
              "2                         Дети и многодетные семьи                     NaN   \n",
              "3                             Содержание остановок                     NaN   \n",
              "4  Технические проблемы с записью на прием к врачу         LOC: Березниках   \n",
              "\n",
              "                             full_text_wo_contractor  \n",
              "0  Добрый день. Сегодня, 20 августа, моя мать шла...  \n",
              "1  Пермь, г. , +791692145. В Перми с ноября 2021 ...  \n",
              "2  Добрый день! Скажите, пожалуйста, если подала ...  \n",
              "3  Каждая из них не о чем. Люди на остановках хот...  \n",
              "4  В Березниках у сына, привитого от коронавируса...  "
            ]
          },
          "execution_count": 4,
          "metadata": {},
          "output_type": "execute_result"
        }
      ],
      "source": [
        "def remove_extra_symbols(text):\n",
        "    # Убираем лишние символы в начале предложения, если модель их добавила\n",
        "    # correct_text = correct_text[correct_text.index(input_text[0]):]\n",
        "    text = text.lstrip('.,[]«»')\n",
        "\n",
        "    # Если модель выдает несколько одинаковых знаков препинания подряд, оставляем один\n",
        "    text = re.sub(r'([^\\w\\s])\\1+', r'\\1', text)\n",
        "\n",
        "    return text\n",
        "\n",
        "data['Текст инцидента'] = data['Текст инцидента'].apply(remove_extra_symbols)\n",
        "data.head()"
      ]
    },
    {
      "cell_type": "code",
      "execution_count": 5,
      "metadata": {
        "colab": {
          "base_uri": "https://localhost:8080/",
          "height": 293
        },
        "id": "kOGwat9N1R4U",
        "outputId": "5ea73205-75d7-4782-fa81-880f58251620"
      },
      "outputs": [
        {
          "data": {
            "text/html": [
              "<div>\n",
              "<style scoped>\n",
              "    .dataframe tbody tr th:only-of-type {\n",
              "        vertical-align: middle;\n",
              "    }\n",
              "\n",
              "    .dataframe tbody tr th {\n",
              "        vertical-align: top;\n",
              "    }\n",
              "\n",
              "    .dataframe thead th {\n",
              "        text-align: right;\n",
              "    }\n",
              "</style>\n",
              "<table border=\"1\" class=\"dataframe\">\n",
              "  <thead>\n",
              "    <tr style=\"text-align: right;\">\n",
              "      <th></th>\n",
              "      <th>Исполнитель</th>\n",
              "      <th>Группа тем</th>\n",
              "      <th>Текст инцидента</th>\n",
              "      <th>Тема</th>\n",
              "      <th>Ners</th>\n",
              "      <th>full_text_wo_contractor</th>\n",
              "      <th>text_w_ners</th>\n",
              "    </tr>\n",
              "  </thead>\n",
              "  <tbody>\n",
              "    <tr>\n",
              "      <th>0</th>\n",
              "      <td>Лысьвенский городской округ</td>\n",
              "      <td>Благоустройство</td>\n",
              "      <td>Добрый день. Сегодня, 20 августа, моя мать шла...</td>\n",
              "      <td>★ Ямы во дворах</td>\n",
              "      <td>LOC: Ленина</td>\n",
              "      <td>Добрый день. Сегодня, 20 августа, моя мать шла...</td>\n",
              "      <td>Добрый день. Сегодня, 20 августа, моя мать шла...</td>\n",
              "    </tr>\n",
              "    <tr>\n",
              "      <th>1</th>\n",
              "      <td>Министерство социального развития ПК</td>\n",
              "      <td>Социальное обслуживание и защита</td>\n",
              "      <td>Пермь, г. , +791692145. В Перми с ноября 2021 ...</td>\n",
              "      <td>Оказание гос. соц. помощи</td>\n",
              "      <td>LOC: Пермь, LOC: Перми</td>\n",
              "      <td>Пермь, г. , +791692145. В Перми с ноября 2021 ...</td>\n",
              "      <td>Пермь, г. , +791692145. В Перми с ноября 2021 ...</td>\n",
              "    </tr>\n",
              "    <tr>\n",
              "      <th>2</th>\n",
              "      <td>Министерство социального развития ПК</td>\n",
              "      <td>Социальное обслуживание и защита</td>\n",
              "      <td>Добрый день! Скажите, пожалуйста, если подала ...</td>\n",
              "      <td>Дети и многодетные семьи</td>\n",
              "      <td>NaN</td>\n",
              "      <td>Добрый день! Скажите, пожалуйста, если подала ...</td>\n",
              "      <td>Добрый день! Скажите, пожалуйста, если подала ...</td>\n",
              "    </tr>\n",
              "    <tr>\n",
              "      <th>3</th>\n",
              "      <td>Город Пермь</td>\n",
              "      <td>Общественный транспорт</td>\n",
              "      <td>Каждая из них не о чем. Люди на остановках хот...</td>\n",
              "      <td>Содержание остановок</td>\n",
              "      <td>NaN</td>\n",
              "      <td>Каждая из них не о чем. Люди на остановках хот...</td>\n",
              "      <td>Каждая из них не о чем. Люди на остановках хот...</td>\n",
              "    </tr>\n",
              "    <tr>\n",
              "      <th>4</th>\n",
              "      <td>Министерство здравоохранения</td>\n",
              "      <td>Здравоохранение/Медицина</td>\n",
              "      <td>В Березниках у сына, привитого от коронавируса...</td>\n",
              "      <td>Технические проблемы с записью на прием к врачу</td>\n",
              "      <td>LOC: Березниках</td>\n",
              "      <td>В Березниках у сына, привитого от коронавируса...</td>\n",
              "      <td>В Березниках у сына, привитого от коронавируса...</td>\n",
              "    </tr>\n",
              "  </tbody>\n",
              "</table>\n",
              "</div>"
            ],
            "text/plain": [
              "                            Исполнитель                        Группа тем  \\\n",
              "0           Лысьвенский городской округ                   Благоустройство   \n",
              "1  Министерство социального развития ПК  Социальное обслуживание и защита   \n",
              "2  Министерство социального развития ПК  Социальное обслуживание и защита   \n",
              "3                           Город Пермь            Общественный транспорт   \n",
              "4          Министерство здравоохранения          Здравоохранение/Медицина   \n",
              "\n",
              "                                     Текст инцидента  \\\n",
              "0  Добрый день. Сегодня, 20 августа, моя мать шла...   \n",
              "1  Пермь, г. , +791692145. В Перми с ноября 2021 ...   \n",
              "2  Добрый день! Скажите, пожалуйста, если подала ...   \n",
              "3  Каждая из них не о чем. Люди на остановках хот...   \n",
              "4  В Березниках у сына, привитого от коронавируса...   \n",
              "\n",
              "                                              Тема                    Ners  \\\n",
              "0                                  ★ Ямы во дворах             LOC: Ленина   \n",
              "1                        Оказание гос. соц. помощи  LOC: Пермь, LOC: Перми   \n",
              "2                         Дети и многодетные семьи                     NaN   \n",
              "3                             Содержание остановок                     NaN   \n",
              "4  Технические проблемы с записью на прием к врачу         LOC: Березниках   \n",
              "\n",
              "                             full_text_wo_contractor  \\\n",
              "0  Добрый день. Сегодня, 20 августа, моя мать шла...   \n",
              "1  Пермь, г. , +791692145. В Перми с ноября 2021 ...   \n",
              "2  Добрый день! Скажите, пожалуйста, если подала ...   \n",
              "3  Каждая из них не о чем. Люди на остановках хот...   \n",
              "4  В Березниках у сына, привитого от коронавируса...   \n",
              "\n",
              "                                         text_w_ners  \n",
              "0  Добрый день. Сегодня, 20 августа, моя мать шла...  \n",
              "1  Пермь, г. , +791692145. В Перми с ноября 2021 ...  \n",
              "2  Добрый день! Скажите, пожалуйста, если подала ...  \n",
              "3  Каждая из них не о чем. Люди на остановках хот...  \n",
              "4  В Березниках у сына, привитого от коронавируса...  "
            ]
          },
          "execution_count": 5,
          "metadata": {},
          "output_type": "execute_result"
        }
      ],
      "source": [
        "def text_w_ners(row):\n",
        "    full_text = f\"{row['Текст инцидента']};\"\n",
        "\n",
        "    if row['Ners']:\n",
        "        full_text += f\"\\n{row['Ners']}\"\n",
        "\n",
        "    return full_text\n",
        "\n",
        "data['text_w_ners'] = data[['Текст инцидента', 'Ners']].apply(text_w_ners, axis=1)\n",
        "data.head()"
      ]
    },
    {
      "cell_type": "code",
      "execution_count": 6,
      "metadata": {
        "colab": {
          "base_uri": "https://localhost:8080/"
        },
        "id": "L7GeM79c0kmW",
        "outputId": "786e0750-9ed6-4304-8117-e5c99f73622c"
      },
      "outputs": [
        {
          "name": "stdout",
          "output_type": "stream",
          "text": [
            "Добрый день. Сегодня, 20 августа, моя мать шла по улице Ленина между домами 96 и 94. Фонари не горят, упала в яму, которую не видно. Сильно ударилась, остались синяки, очень больно. Спасибо, уважаемая администрация, сделайте с этим что-нибудь. Да и не только с этим. Ходить опасно не только взрослым, но и детям. Если бы упал маленький ребёнок, было бы намного хуже. Фото прилагаю. Спасибо.;\n",
            "LOC: Ленина\n"
          ]
        }
      ],
      "source": [
        "print(data['text_w_ners'].loc[0])"
      ]
    },
    {
      "cell_type": "code",
      "execution_count": 7,
      "metadata": {
        "id": "Xr55H3h8waGB"
      },
      "outputs": [],
      "source": [
        "def get_id_and_labels():\n",
        "    id2label_path = 'id2label.json'\n",
        "    label2id_path = 'label2id.json'\n",
        "\n",
        "    with open(id2label_path, 'r', encoding='UTF-8') as file:\n",
        "        id2label = json.load(file)\n",
        "\n",
        "    id2label = {int(key):value for key,value in id2label.items()}\n",
        "\n",
        "    with open(label2id_path, 'r', encoding='UTF-8') as file:\n",
        "        label2id = json.load(file)\n",
        "\n",
        "    return id2label, label2id\n",
        "\n",
        "id2label, label2id = get_id_and_labels()"
      ]
    },
    {
      "cell_type": "markdown",
      "metadata": {
        "id": "CF5IGhilh4rt"
      },
      "source": [
        "#### Обучение"
      ]
    },
    {
      "cell_type": "code",
      "execution_count": 8,
      "metadata": {
        "colab": {
          "base_uri": "https://localhost:8080/"
        },
        "id": "_eZ7TRd3h4rt",
        "outputId": "713b0e5b-0c43-450a-8c91-cb28bd6602c8"
      },
      "outputs": [
        {
          "data": {
            "text/plain": [
              "(195,)"
            ]
          },
          "execution_count": 8,
          "metadata": {},
          "output_type": "execute_result"
        }
      ],
      "source": [
        "data['Тема'].unique().shape"
      ]
    },
    {
      "cell_type": "code",
      "execution_count": 9,
      "metadata": {
        "id": "uSoFLbjPh4rt"
      },
      "outputs": [],
      "source": [
        "# id2label = {label: topic for label, topic in enumerate(data['Тема'].unique())}\n",
        "\n",
        "# label2id = {topic: label for label, topic in id2label.items()}"
      ]
    },
    {
      "cell_type": "code",
      "execution_count": 10,
      "metadata": {
        "id": "phSpkwwAkSvz"
      },
      "outputs": [],
      "source": [
        "# with open(\"id2label.json\", 'w', encoding='utf-8') as f:\n",
        "#     json.dump(id2label, f, ensure_ascii=False, indent=4)\n",
        "\n",
        "# with open(\"label2id.json\", 'w', encoding='utf-8') as f:\n",
        "#     json.dump(label2id, f, ensure_ascii=False, indent=4)"
      ]
    },
    {
      "cell_type": "code",
      "execution_count": 11,
      "metadata": {
        "colab": {
          "base_uri": "https://localhost:8080/",
          "height": 701
        },
        "id": "OE9MZtekh4rt",
        "outputId": "f87724e2-9fe4-4c52-ec09-9f5d168ceb5a"
      },
      "outputs": [
        {
          "data": {
            "text/html": [
              "<div>\n",
              "<style scoped>\n",
              "    .dataframe tbody tr th:only-of-type {\n",
              "        vertical-align: middle;\n",
              "    }\n",
              "\n",
              "    .dataframe tbody tr th {\n",
              "        vertical-align: top;\n",
              "    }\n",
              "\n",
              "    .dataframe thead th {\n",
              "        text-align: right;\n",
              "    }\n",
              "</style>\n",
              "<table border=\"1\" class=\"dataframe\">\n",
              "  <thead>\n",
              "    <tr style=\"text-align: right;\">\n",
              "      <th></th>\n",
              "      <th>Исполнитель</th>\n",
              "      <th>Группа тем</th>\n",
              "      <th>Текст инцидента</th>\n",
              "      <th>Тема</th>\n",
              "      <th>Ners</th>\n",
              "      <th>full_text_wo_contractor</th>\n",
              "      <th>text_w_ners</th>\n",
              "      <th>label</th>\n",
              "    </tr>\n",
              "  </thead>\n",
              "  <tbody>\n",
              "    <tr>\n",
              "      <th>0</th>\n",
              "      <td>Лысьвенский городской округ</td>\n",
              "      <td>Благоустройство</td>\n",
              "      <td>Добрый день. Сегодня, 20 августа, моя мать шла...</td>\n",
              "      <td>★ Ямы во дворах</td>\n",
              "      <td>LOC: Ленина</td>\n",
              "      <td>Добрый день. Сегодня, 20 августа, моя мать шла...</td>\n",
              "      <td>Добрый день. Сегодня, 20 августа, моя мать шла...</td>\n",
              "      <td>0</td>\n",
              "    </tr>\n",
              "    <tr>\n",
              "      <th>1</th>\n",
              "      <td>Министерство социального развития ПК</td>\n",
              "      <td>Социальное обслуживание и защита</td>\n",
              "      <td>Пермь, г. , +791692145. В Перми с ноября 2021 ...</td>\n",
              "      <td>Оказание гос. соц. помощи</td>\n",
              "      <td>LOC: Пермь, LOC: Перми</td>\n",
              "      <td>Пермь, г. , +791692145. В Перми с ноября 2021 ...</td>\n",
              "      <td>Пермь, г. , +791692145. В Перми с ноября 2021 ...</td>\n",
              "      <td>1</td>\n",
              "    </tr>\n",
              "    <tr>\n",
              "      <th>2</th>\n",
              "      <td>Министерство социального развития ПК</td>\n",
              "      <td>Социальное обслуживание и защита</td>\n",
              "      <td>Добрый день! Скажите, пожалуйста, если подала ...</td>\n",
              "      <td>Дети и многодетные семьи</td>\n",
              "      <td>NaN</td>\n",
              "      <td>Добрый день! Скажите, пожалуйста, если подала ...</td>\n",
              "      <td>Добрый день! Скажите, пожалуйста, если подала ...</td>\n",
              "      <td>2</td>\n",
              "    </tr>\n",
              "    <tr>\n",
              "      <th>3</th>\n",
              "      <td>Город Пермь</td>\n",
              "      <td>Общественный транспорт</td>\n",
              "      <td>Каждая из них не о чем. Люди на остановках хот...</td>\n",
              "      <td>Содержание остановок</td>\n",
              "      <td>NaN</td>\n",
              "      <td>Каждая из них не о чем. Люди на остановках хот...</td>\n",
              "      <td>Каждая из них не о чем. Люди на остановках хот...</td>\n",
              "      <td>3</td>\n",
              "    </tr>\n",
              "    <tr>\n",
              "      <th>4</th>\n",
              "      <td>Министерство здравоохранения</td>\n",
              "      <td>Здравоохранение/Медицина</td>\n",
              "      <td>В Березниках у сына, привитого от коронавируса...</td>\n",
              "      <td>Технические проблемы с записью на прием к врачу</td>\n",
              "      <td>LOC: Березниках</td>\n",
              "      <td>В Березниках у сына, привитого от коронавируса...</td>\n",
              "      <td>В Березниках у сына, привитого от коронавируса...</td>\n",
              "      <td>4</td>\n",
              "    </tr>\n",
              "    <tr>\n",
              "      <th>...</th>\n",
              "      <td>...</td>\n",
              "      <td>...</td>\n",
              "      <td>...</td>\n",
              "      <td>...</td>\n",
              "      <td>...</td>\n",
              "      <td>...</td>\n",
              "      <td>...</td>\n",
              "      <td>...</td>\n",
              "    </tr>\n",
              "    <tr>\n",
              "      <th>22485</th>\n",
              "      <td>Министерство социального развития ПК</td>\n",
              "      <td>Социальное обслуживание и защита</td>\n",
              "      <td>А если ещё не погасили ипотеку, но площадь бол...</td>\n",
              "      <td>Улучшение жилищных условий</td>\n",
              "      <td>NaN</td>\n",
              "      <td>А если ещё не погасили ипотеку, но площадь бол...</td>\n",
              "      <td>А если ещё не погасили ипотеку, но площадь бол...</td>\n",
              "      <td>125</td>\n",
              "    </tr>\n",
              "    <tr>\n",
              "      <th>22486</th>\n",
              "      <td>Губахинский городской округ</td>\n",
              "      <td>ЖКХ</td>\n",
              "      <td>Город Гремячинск — ситуация с теплом на улице ...</td>\n",
              "      <td>Ненадлежащее качество или отсутствие отопления</td>\n",
              "      <td>LOC: Гремячинск</td>\n",
              "      <td>Город Гремячинск — ситуация с теплом на улице ...</td>\n",
              "      <td>Город Гремячинск — ситуация с теплом на улице ...</td>\n",
              "      <td>44</td>\n",
              "    </tr>\n",
              "    <tr>\n",
              "      <th>22487</th>\n",
              "      <td>Министерство здравоохранения</td>\n",
              "      <td>Здравоохранение/Медицина</td>\n",
              "      <td>Здравствуйте, у меня ребёнку 2 месяца. Тест на...</td>\n",
              "      <td>Технические проблемы с записью на прием к врачу</td>\n",
              "      <td>NaN</td>\n",
              "      <td>Здравствуйте, у меня ребёнку 2 месяца. Тест на...</td>\n",
              "      <td>Здравствуйте, у меня ребёнку 2 месяца. Тест на...</td>\n",
              "      <td>4</td>\n",
              "    </tr>\n",
              "    <tr>\n",
              "      <th>22488</th>\n",
              "      <td>Лысьвенский городской округ</td>\n",
              "      <td>Благоустройство</td>\n",
              "      <td>А что творится с благоустройством дворов?! Воо...</td>\n",
              "      <td>Благоустройство придомовых территорий</td>\n",
              "      <td>LOC: Оборина</td>\n",
              "      <td>А что творится с благоустройством дворов?! Воо...</td>\n",
              "      <td>А что творится с благоустройством дворов?! Воо...</td>\n",
              "      <td>122</td>\n",
              "    </tr>\n",
              "    <tr>\n",
              "      <th>22489</th>\n",
              "      <td>Министерство социального развития ПК</td>\n",
              "      <td>Социальное обслуживание и защита</td>\n",
              "      <td>Здравствуйте, подскажите, пожалуйста. Сколько ...</td>\n",
              "      <td>Оказание гос. соц. помощи</td>\n",
              "      <td>ORG: МФЦ</td>\n",
              "      <td>Здравствуйте, подскажите, пожалуйста. Сколько ...</td>\n",
              "      <td>Здравствуйте, подскажите, пожалуйста. Сколько ...</td>\n",
              "      <td>1</td>\n",
              "    </tr>\n",
              "  </tbody>\n",
              "</table>\n",
              "<p>22490 rows × 8 columns</p>\n",
              "</div>"
            ],
            "text/plain": [
              "                                Исполнитель                        Группа тем  \\\n",
              "0               Лысьвенский городской округ                   Благоустройство   \n",
              "1      Министерство социального развития ПК  Социальное обслуживание и защита   \n",
              "2      Министерство социального развития ПК  Социальное обслуживание и защита   \n",
              "3                               Город Пермь            Общественный транспорт   \n",
              "4              Министерство здравоохранения          Здравоохранение/Медицина   \n",
              "...                                     ...                               ...   \n",
              "22485  Министерство социального развития ПК  Социальное обслуживание и защита   \n",
              "22486           Губахинский городской округ                               ЖКХ   \n",
              "22487          Министерство здравоохранения          Здравоохранение/Медицина   \n",
              "22488           Лысьвенский городской округ                   Благоустройство   \n",
              "22489  Министерство социального развития ПК  Социальное обслуживание и защита   \n",
              "\n",
              "                                         Текст инцидента  \\\n",
              "0      Добрый день. Сегодня, 20 августа, моя мать шла...   \n",
              "1      Пермь, г. , +791692145. В Перми с ноября 2021 ...   \n",
              "2      Добрый день! Скажите, пожалуйста, если подала ...   \n",
              "3      Каждая из них не о чем. Люди на остановках хот...   \n",
              "4      В Березниках у сына, привитого от коронавируса...   \n",
              "...                                                  ...   \n",
              "22485  А если ещё не погасили ипотеку, но площадь бол...   \n",
              "22486  Город Гремячинск — ситуация с теплом на улице ...   \n",
              "22487  Здравствуйте, у меня ребёнку 2 месяца. Тест на...   \n",
              "22488  А что творится с благоустройством дворов?! Воо...   \n",
              "22489  Здравствуйте, подскажите, пожалуйста. Сколько ...   \n",
              "\n",
              "                                                  Тема  \\\n",
              "0                                      ★ Ямы во дворах   \n",
              "1                            Оказание гос. соц. помощи   \n",
              "2                             Дети и многодетные семьи   \n",
              "3                                 Содержание остановок   \n",
              "4      Технические проблемы с записью на прием к врачу   \n",
              "...                                                ...   \n",
              "22485                       Улучшение жилищных условий   \n",
              "22486   Ненадлежащее качество или отсутствие отопления   \n",
              "22487  Технические проблемы с записью на прием к врачу   \n",
              "22488            Благоустройство придомовых территорий   \n",
              "22489                        Оказание гос. соц. помощи   \n",
              "\n",
              "                         Ners  \\\n",
              "0                 LOC: Ленина   \n",
              "1      LOC: Пермь, LOC: Перми   \n",
              "2                         NaN   \n",
              "3                         NaN   \n",
              "4             LOC: Березниках   \n",
              "...                       ...   \n",
              "22485                     NaN   \n",
              "22486         LOC: Гремячинск   \n",
              "22487                     NaN   \n",
              "22488            LOC: Оборина   \n",
              "22489                ORG: МФЦ   \n",
              "\n",
              "                                 full_text_wo_contractor  \\\n",
              "0      Добрый день. Сегодня, 20 августа, моя мать шла...   \n",
              "1      Пермь, г. , +791692145. В Перми с ноября 2021 ...   \n",
              "2      Добрый день! Скажите, пожалуйста, если подала ...   \n",
              "3      Каждая из них не о чем. Люди на остановках хот...   \n",
              "4      В Березниках у сына, привитого от коронавируса...   \n",
              "...                                                  ...   \n",
              "22485  А если ещё не погасили ипотеку, но площадь бол...   \n",
              "22486  Город Гремячинск — ситуация с теплом на улице ...   \n",
              "22487  Здравствуйте, у меня ребёнку 2 месяца. Тест на...   \n",
              "22488  А что творится с благоустройством дворов?! Воо...   \n",
              "22489  Здравствуйте, подскажите, пожалуйста. Сколько ...   \n",
              "\n",
              "                                             text_w_ners  label  \n",
              "0      Добрый день. Сегодня, 20 августа, моя мать шла...      0  \n",
              "1      Пермь, г. , +791692145. В Перми с ноября 2021 ...      1  \n",
              "2      Добрый день! Скажите, пожалуйста, если подала ...      2  \n",
              "3      Каждая из них не о чем. Люди на остановках хот...      3  \n",
              "4      В Березниках у сына, привитого от коронавируса...      4  \n",
              "...                                                  ...    ...  \n",
              "22485  А если ещё не погасили ипотеку, но площадь бол...    125  \n",
              "22486  Город Гремячинск — ситуация с теплом на улице ...     44  \n",
              "22487  Здравствуйте, у меня ребёнку 2 месяца. Тест на...      4  \n",
              "22488  А что творится с благоустройством дворов?! Воо...    122  \n",
              "22489  Здравствуйте, подскажите, пожалуйста. Сколько ...      1  \n",
              "\n",
              "[22490 rows x 8 columns]"
            ]
          },
          "execution_count": 11,
          "metadata": {},
          "output_type": "execute_result"
        }
      ],
      "source": [
        "data['label'] = [label2id[topic] for topic in data['Тема']]\n",
        "data"
      ]
    },
    {
      "cell_type": "code",
      "execution_count": 12,
      "metadata": {
        "colab": {
          "base_uri": "https://localhost:8080/"
        },
        "id": "TbfDOQyth4rt",
        "outputId": "59628d75-f197-48f7-d09c-05859216ade7"
      },
      "outputs": [
        {
          "name": "stderr",
          "output_type": "stream",
          "text": [
            "Some weights of the model checkpoint at cointegrated/rubert-tiny2 were not used when initializing BertForSequenceClassification: ['cls.predictions.bias', 'cls.predictions.transform.dense.bias', 'cls.predictions.transform.LayerNorm.weight', 'cls.seq_relationship.bias', 'cls.predictions.transform.LayerNorm.bias', 'cls.predictions.transform.dense.weight', 'cls.seq_relationship.weight']\n",
            "- This IS expected if you are initializing BertForSequenceClassification from the checkpoint of a model trained on another task or with another architecture (e.g. initializing a BertForSequenceClassification model from a BertForPreTraining model).\n",
            "- This IS NOT expected if you are initializing BertForSequenceClassification from the checkpoint of a model that you expect to be exactly identical (initializing a BertForSequenceClassification model from a BertForSequenceClassification model).\n",
            "Some weights of BertForSequenceClassification were not initialized from the model checkpoint at cointegrated/rubert-tiny2 and are newly initialized: ['classifier.weight', 'classifier.bias']\n",
            "You should probably TRAIN this model on a down-stream task to be able to use it for predictions and inference.\n"
          ]
        }
      ],
      "source": [
        "# checkpoint = \"xlm-roberta-base\"\n",
        "classification_checkpoint = \"cointegrated/rubert-tiny2\"\n",
        "# classification_checkpoint = \"ai-forever/ruBert-base\"\n",
        "\n",
        "tokenizer = AutoTokenizer.from_pretrained(classification_checkpoint)\n",
        "\n",
        "classification_model = AutoModelForSequenceClassification.from_pretrained(\n",
        "    classification_checkpoint, num_labels = data['Тема'].unique().shape[0],\n",
        "    id2label=id2label, label2id=label2id\n",
        ")"
      ]
    },
    {
      "cell_type": "code",
      "execution_count": 13,
      "metadata": {
        "id": "OLh-8_fXh4rt"
      },
      "outputs": [],
      "source": [
        "class_weights = compute_class_weight(None, classes=np.array(list(label2id.keys())), y=data[\"Тема\"])\n",
        "class_weights = torch.tensor(class_weights, device=classification_model.device).to(torch.float).to(\"cuda\")"
      ]
    },
    {
      "cell_type": "code",
      "execution_count": 14,
      "metadata": {
        "id": "Ov3OZKLkh4rt"
      },
      "outputs": [],
      "source": [
        "class CustomTrainer(Trainer):\n",
        "    def compute_loss(self, model, inputs, return_outputs=False):\n",
        "        labels = inputs.pop(\"labels\")\n",
        "\n",
        "        outputs = classification_model(**inputs)\n",
        "        logits = outputs.get(\"logits\")\n",
        "\n",
        "        loss_fct = torch.nn.CrossEntropyLoss(weight=class_weights)\n",
        "        loss = loss_fct(logits.view(-1, self.model.config.num_labels), labels.view(-1))\n",
        "\n",
        "        return (loss, outputs) if return_outputs else loss"
      ]
    },
    {
      "cell_type": "code",
      "execution_count": 15,
      "metadata": {
        "colab": {
          "base_uri": "https://localhost:8080/",
          "height": 206
        },
        "id": "Sm8LU9_Wh4rt",
        "outputId": "cce18d88-8e62-4226-e82f-e8f5ef4d7447"
      },
      "outputs": [
        {
          "data": {
            "text/html": [
              "<div>\n",
              "<style scoped>\n",
              "    .dataframe tbody tr th:only-of-type {\n",
              "        vertical-align: middle;\n",
              "    }\n",
              "\n",
              "    .dataframe tbody tr th {\n",
              "        vertical-align: top;\n",
              "    }\n",
              "\n",
              "    .dataframe thead th {\n",
              "        text-align: right;\n",
              "    }\n",
              "</style>\n",
              "<table border=\"1\" class=\"dataframe\">\n",
              "  <thead>\n",
              "    <tr style=\"text-align: right;\">\n",
              "      <th></th>\n",
              "      <th>text_w_ners</th>\n",
              "      <th>label</th>\n",
              "    </tr>\n",
              "  </thead>\n",
              "  <tbody>\n",
              "    <tr>\n",
              "      <th>13586</th>\n",
              "      <td>В Мотовилихе тоже не везде порядок с остановка...</td>\n",
              "      <td>3</td>\n",
              "    </tr>\n",
              "    <tr>\n",
              "      <th>19217</th>\n",
              "      <td>В посёлке станции «Уральская» не разъехаться. ...</td>\n",
              "      <td>9</td>\n",
              "    </tr>\n",
              "    <tr>\n",
              "      <th>7201</th>\n",
              "      <td>Скажите, пожалуйста! Где можно пройти окулиста...</td>\n",
              "      <td>7</td>\n",
              "    </tr>\n",
              "    <tr>\n",
              "      <th>16776</th>\n",
              "      <td>Я сегодня целый день обзванивала всех: поликли...</td>\n",
              "      <td>4</td>\n",
              "    </tr>\n",
              "    <tr>\n",
              "      <th>17831</th>\n",
              "      <td>Мусор в Сарашах по середине улицы, позор и сты...</td>\n",
              "      <td>25</td>\n",
              "    </tr>\n",
              "  </tbody>\n",
              "</table>\n",
              "</div>"
            ],
            "text/plain": [
              "                                             text_w_ners  label\n",
              "13586  В Мотовилихе тоже не везде порядок с остановка...      3\n",
              "19217  В посёлке станции «Уральская» не разъехаться. ...      9\n",
              "7201   Скажите, пожалуйста! Где можно пройти окулиста...      7\n",
              "16776  Я сегодня целый день обзванивала всех: поликли...      4\n",
              "17831  Мусор в Сарашах по середине улицы, позор и сты...     25"
            ]
          },
          "execution_count": 15,
          "metadata": {},
          "output_type": "execute_result"
        }
      ],
      "source": [
        "train_data, val_data = train_test_split(\n",
        "    data[['text_w_ners', 'label']], random_state=42, test_size=.1\n",
        ")\n",
        "val_data.head()"
      ]
    },
    {
      "cell_type": "code",
      "execution_count": 16,
      "metadata": {
        "id": "muO-hdu_h4rt"
      },
      "outputs": [],
      "source": [
        "class TextDataset(Dataset):\n",
        "    def __init__(self, data_df, tokenizer, max_length=512):\n",
        "        self.tokenizer = tokenizer\n",
        "        self.max_length = max_length\n",
        "\n",
        "        self.sentences = data_df[\"text_w_ners\"].values\n",
        "        self.labels = data_df['label'].values\n",
        "\n",
        "    def __len__(self):\n",
        "        return self.labels.shape[0]\n",
        "\n",
        "    def __getitem__(self, i):\n",
        "        sentence, label = self.sentences[i], self.labels[i]\n",
        "\n",
        "        tokens = tokenizer(sentence, truncation=\"longest_first\", padding=\"max_length\", max_length=self.max_length)\n",
        "\n",
        "        tokens['labels'] = label\n",
        "\n",
        "        tokens = {key: torch.tensor(val).long() for key, val in tokens.items()}\n",
        "\n",
        "        return tokens\n",
        "\n",
        "\n",
        "train_dataset = TextDataset(train_data, tokenizer)\n",
        "val_dataset = TextDataset(val_data, tokenizer)\n",
        "\n",
        "# train_dataset[0]"
      ]
    },
    {
      "cell_type": "code",
      "execution_count": 17,
      "metadata": {
        "id": "BWNMlJOLh4rt"
      },
      "outputs": [],
      "source": [
        "accuracy = evaluate.load(\"accuracy\")\n",
        "f1_metric = evaluate.load(\"f1\")"
      ]
    },
    {
      "cell_type": "code",
      "execution_count": 18,
      "metadata": {
        "id": "nnR24b7th4rt"
      },
      "outputs": [],
      "source": [
        "def compute_metrics(eval_pred):\n",
        "    predictions, labels = eval_pred\n",
        "    predictions = np.argmax(predictions, axis=1)\n",
        "\n",
        "    out = {}\n",
        "\n",
        "    out.update(accuracy.compute(predictions=predictions, references=labels))\n",
        "    out.update(f1_metric.compute(predictions=predictions, references=labels,\n",
        "                                 average='weighted'))\n",
        "\n",
        "    return out"
      ]
    },
    {
      "cell_type": "markdown",
      "metadata": {},
      "source": [
        "3+20 epochs batch 32"
      ]
    },
    {
      "cell_type": "code",
      "execution_count": 22,
      "metadata": {
        "id": "0O5QRdoYh4rt"
      },
      "outputs": [],
      "source": [
        "training_args = TrainingArguments(\n",
        "    output_dir=\"promobot/models/rubert_base\",\n",
        "    learning_rate=2e-5,\n",
        "    per_device_train_batch_size=32,\n",
        "    per_device_eval_batch_size=32,\n",
        "    num_train_epochs=20,\n",
        "    weight_decay=0.01,\n",
        "    evaluation_strategy=\"epoch\",\n",
        "    # save_strategy=\"epoch\",\n",
        "    save_strategy='no',\n",
        "    # load_best_model_at_end=True,\n",
        ")"
      ]
    },
    {
      "cell_type": "code",
      "execution_count": 23,
      "metadata": {
        "id": "fZy7a6uyh4rt"
      },
      "outputs": [],
      "source": [
        "trainer = CustomTrainer(\n",
        "    model=classification_model,\n",
        "    args=training_args,\n",
        "    train_dataset=train_dataset,\n",
        "    eval_dataset=val_dataset,\n",
        "    tokenizer=tokenizer,\n",
        "    compute_metrics=compute_metrics,\n",
        ")"
      ]
    },
    {
      "cell_type": "code",
      "execution_count": 21,
      "metadata": {
        "colab": {
          "base_uri": "https://localhost:8080/",
          "height": 114
        },
        "id": "L-LkwMz3h4rt",
        "outputId": "f225686a-2dac-4484-f7aa-03c184a5b538"
      },
      "outputs": [
        {
          "name": "stderr",
          "output_type": "stream",
          "text": [
            "/home/mat/miniconda3/lib/python3.11/site-packages/transformers/optimization.py:411: FutureWarning: This implementation of AdamW is deprecated and will be removed in a future version. Use the PyTorch implementation torch.optim.AdamW instead, or set `no_deprecation_warning=True` to disable this warning\n",
            "  warnings.warn(\n"
          ]
        },
        {
          "data": {
            "application/vnd.jupyter.widget-view+json": {
              "model_id": "d22d7801199541bf9edb4cba5488670e",
              "version_major": 2,
              "version_minor": 0
            },
            "text/plain": [
              "  0%|          | 0/1899 [00:00<?, ?it/s]"
            ]
          },
          "metadata": {},
          "output_type": "display_data"
        },
        {
          "name": "stderr",
          "output_type": "stream",
          "text": [
            "You're using a BertTokenizerFast tokenizer. Please note that with a fast tokenizer, using the `__call__` method is faster than using a method to encode the text followed by a call to the `pad` method to get a padded encoding.\n"
          ]
        },
        {
          "name": "stdout",
          "output_type": "stream",
          "text": [
            "{'loss': 4.6301, 'learning_rate': 1.473407056345445e-05, 'epoch': 0.79}\n"
          ]
        },
        {
          "data": {
            "application/vnd.jupyter.widget-view+json": {
              "model_id": "8d97727bcb084c36b008da516cad0e55",
              "version_major": 2,
              "version_minor": 0
            },
            "text/plain": [
              "  0%|          | 0/71 [00:00<?, ?it/s]"
            ]
          },
          "metadata": {},
          "output_type": "display_data"
        },
        {
          "name": "stdout",
          "output_type": "stream",
          "text": [
            "{'eval_loss': 4.061192035675049, 'eval_accuracy': 0.17652289906625165, 'eval_f1': 0.07885230175977113, 'eval_runtime': 7.1149, 'eval_samples_per_second': 316.096, 'eval_steps_per_second': 9.979, 'epoch': 1.0}\n",
            "{'loss': 3.9764, 'learning_rate': 9.4681411269089e-06, 'epoch': 1.58}\n"
          ]
        },
        {
          "data": {
            "application/vnd.jupyter.widget-view+json": {
              "model_id": "b3c2c71d45e348749e908d624a824d02",
              "version_major": 2,
              "version_minor": 0
            },
            "text/plain": [
              "  0%|          | 0/71 [00:00<?, ?it/s]"
            ]
          },
          "metadata": {},
          "output_type": "display_data"
        },
        {
          "name": "stdout",
          "output_type": "stream",
          "text": [
            "{'eval_loss': 3.718000650405884, 'eval_accuracy': 0.19030680302356603, 'eval_f1': 0.09245969454455955, 'eval_runtime': 6.878, 'eval_samples_per_second': 326.984, 'eval_steps_per_second': 10.323, 'epoch': 2.0}\n",
            "{'loss': 3.7151, 'learning_rate': 4.20221169036335e-06, 'epoch': 2.37}\n"
          ]
        },
        {
          "data": {
            "application/vnd.jupyter.widget-view+json": {
              "model_id": "a87a1261991d4c4bafb75e115cc4090e",
              "version_major": 2,
              "version_minor": 0
            },
            "text/plain": [
              "  0%|          | 0/71 [00:00<?, ?it/s]"
            ]
          },
          "metadata": {},
          "output_type": "display_data"
        },
        {
          "name": "stdout",
          "output_type": "stream",
          "text": [
            "{'eval_loss': 3.631883144378662, 'eval_accuracy': 0.20631391729657625, 'eval_f1': 0.1083400479378686, 'eval_runtime': 6.9221, 'eval_samples_per_second': 324.902, 'eval_steps_per_second': 10.257, 'epoch': 3.0}\n",
            "{'train_runtime': 507.3078, 'train_samples_per_second': 119.697, 'train_steps_per_second': 3.743, 'train_loss': 4.003943726035907, 'epoch': 3.0}\n"
          ]
        },
        {
          "data": {
            "text/plain": [
              "TrainOutput(global_step=1899, training_loss=4.003943726035907, metrics={'train_runtime': 507.3078, 'train_samples_per_second': 119.697, 'train_steps_per_second': 3.743, 'train_loss': 4.003943726035907, 'epoch': 3.0})"
            ]
          },
          "execution_count": 21,
          "metadata": {},
          "output_type": "execute_result"
        }
      ],
      "source": [
        "trainer.train()"
      ]
    },
    {
      "cell_type": "code",
      "execution_count": 24,
      "metadata": {},
      "outputs": [
        {
          "name": "stderr",
          "output_type": "stream",
          "text": [
            "/home/mat/miniconda3/lib/python3.11/site-packages/transformers/optimization.py:411: FutureWarning: This implementation of AdamW is deprecated and will be removed in a future version. Use the PyTorch implementation torch.optim.AdamW instead, or set `no_deprecation_warning=True` to disable this warning\n",
            "  warnings.warn(\n"
          ]
        },
        {
          "data": {
            "application/vnd.jupyter.widget-view+json": {
              "model_id": "f54066490e73416ca1cfc0a9f08e76ba",
              "version_major": 2,
              "version_minor": 0
            },
            "text/plain": [
              "  0%|          | 0/12660 [00:00<?, ?it/s]"
            ]
          },
          "metadata": {},
          "output_type": "display_data"
        },
        {
          "name": "stdout",
          "output_type": "stream",
          "text": [
            "{'loss': 3.4275, 'learning_rate': 1.921011058451817e-05, 'epoch': 0.79}\n"
          ]
        },
        {
          "data": {
            "application/vnd.jupyter.widget-view+json": {
              "model_id": "a40615b1e5e34c85b9b78e01d23cc9de",
              "version_major": 2,
              "version_minor": 0
            },
            "text/plain": [
              "  0%|          | 0/71 [00:00<?, ?it/s]"
            ]
          },
          "metadata": {},
          "output_type": "display_data"
        },
        {
          "name": "stdout",
          "output_type": "stream",
          "text": [
            "{'eval_loss': 3.2529101371765137, 'eval_accuracy': 0.272565584704313, 'eval_f1': 0.1748345296870504, 'eval_runtime': 7.0032, 'eval_samples_per_second': 321.137, 'eval_steps_per_second': 10.138, 'epoch': 1.0}\n",
            "{'loss': 3.1411, 'learning_rate': 1.8420221169036335e-05, 'epoch': 1.58}\n"
          ]
        },
        {
          "data": {
            "application/vnd.jupyter.widget-view+json": {
              "model_id": "94875c8bd13d46d4a2993ddc6bf835ff",
              "version_major": 2,
              "version_minor": 0
            },
            "text/plain": [
              "  0%|          | 0/71 [00:00<?, ?it/s]"
            ]
          },
          "metadata": {},
          "output_type": "display_data"
        },
        {
          "name": "stdout",
          "output_type": "stream",
          "text": [
            "{'eval_loss': 3.0169341564178467, 'eval_accuracy': 0.316140506891952, 'eval_f1': 0.2164704158469376, 'eval_runtime': 6.8351, 'eval_samples_per_second': 329.037, 'eval_steps_per_second': 10.388, 'epoch': 2.0}\n",
            "{'loss': 2.9402, 'learning_rate': 1.7630331753554504e-05, 'epoch': 2.37}\n"
          ]
        },
        {
          "data": {
            "application/vnd.jupyter.widget-view+json": {
              "model_id": "0c08ae4e21314841b07d8f6327693b2b",
              "version_major": 2,
              "version_minor": 0
            },
            "text/plain": [
              "  0%|          | 0/71 [00:00<?, ?it/s]"
            ]
          },
          "metadata": {},
          "output_type": "display_data"
        },
        {
          "name": "stdout",
          "output_type": "stream",
          "text": [
            "{'eval_loss': 2.838510513305664, 'eval_accuracy': 0.35927078701645176, 'eval_f1': 0.2662088036894997, 'eval_runtime': 6.8609, 'eval_samples_per_second': 327.8, 'eval_steps_per_second': 10.349, 'epoch': 3.0}\n",
            "{'loss': 2.7685, 'learning_rate': 1.6840442338072673e-05, 'epoch': 3.16}\n",
            "{'loss': 2.6471, 'learning_rate': 1.6050552922590838e-05, 'epoch': 3.95}\n"
          ]
        },
        {
          "data": {
            "application/vnd.jupyter.widget-view+json": {
              "model_id": "d567811d82bc47a087af7ef55ee6388f",
              "version_major": 2,
              "version_minor": 0
            },
            "text/plain": [
              "  0%|          | 0/71 [00:00<?, ?it/s]"
            ]
          },
          "metadata": {},
          "output_type": "display_data"
        },
        {
          "name": "stdout",
          "output_type": "stream",
          "text": [
            "{'eval_loss': 2.712026834487915, 'eval_accuracy': 0.38016896398399286, 'eval_f1': 0.28859019242066003, 'eval_runtime': 6.1206, 'eval_samples_per_second': 367.45, 'eval_steps_per_second': 11.6, 'epoch': 4.0}\n",
            "{'loss': 2.4944, 'learning_rate': 1.5260663507109007e-05, 'epoch': 4.74}\n"
          ]
        },
        {
          "data": {
            "application/vnd.jupyter.widget-view+json": {
              "model_id": "4997c59e3877454dbfffed059661a041",
              "version_major": 2,
              "version_minor": 0
            },
            "text/plain": [
              "  0%|          | 0/71 [00:00<?, ?it/s]"
            ]
          },
          "metadata": {},
          "output_type": "display_data"
        },
        {
          "name": "stdout",
          "output_type": "stream",
          "text": [
            "{'eval_loss': 2.6076369285583496, 'eval_accuracy': 0.3926189417518897, 'eval_f1': 0.3004566192945374, 'eval_runtime': 6.4576, 'eval_samples_per_second': 348.271, 'eval_steps_per_second': 10.995, 'epoch': 5.0}\n",
            "{'loss': 2.3901, 'learning_rate': 1.4470774091627173e-05, 'epoch': 5.53}\n"
          ]
        },
        {
          "data": {
            "application/vnd.jupyter.widget-view+json": {
              "model_id": "a31aee7bb36d4b40baff6b33a345eb1a",
              "version_major": 2,
              "version_minor": 0
            },
            "text/plain": [
              "  0%|          | 0/71 [00:00<?, ?it/s]"
            ]
          },
          "metadata": {},
          "output_type": "display_data"
        },
        {
          "name": "stdout",
          "output_type": "stream",
          "text": [
            "{'eval_loss': 2.5344793796539307, 'eval_accuracy': 0.40729212983548246, 'eval_f1': 0.3186516952363187, 'eval_runtime': 6.9146, 'eval_samples_per_second': 325.256, 'eval_steps_per_second': 10.268, 'epoch': 6.0}\n",
            "{'loss': 2.3098, 'learning_rate': 1.368088467614534e-05, 'epoch': 6.32}\n"
          ]
        },
        {
          "data": {
            "application/vnd.jupyter.widget-view+json": {
              "model_id": "e8f13bc2d62f4e2dad32dce841a3d090",
              "version_major": 2,
              "version_minor": 0
            },
            "text/plain": [
              "  0%|          | 0/71 [00:00<?, ?it/s]"
            ]
          },
          "metadata": {},
          "output_type": "display_data"
        },
        {
          "name": "stdout",
          "output_type": "stream",
          "text": [
            "{'eval_loss': 2.4753849506378174, 'eval_accuracy': 0.4144064028457092, 'eval_f1': 0.33070966178985256, 'eval_runtime': 6.4888, 'eval_samples_per_second': 346.596, 'eval_steps_per_second': 10.942, 'epoch': 7.0}\n",
            "{'loss': 2.2161, 'learning_rate': 1.2890995260663507e-05, 'epoch': 7.11}\n",
            "{'loss': 2.127, 'learning_rate': 1.2101105845181676e-05, 'epoch': 7.9}\n"
          ]
        },
        {
          "data": {
            "application/vnd.jupyter.widget-view+json": {
              "model_id": "e4e63f905eaa439a90b229cd3dbaca62",
              "version_major": 2,
              "version_minor": 0
            },
            "text/plain": [
              "  0%|          | 0/71 [00:00<?, ?it/s]"
            ]
          },
          "metadata": {},
          "output_type": "display_data"
        },
        {
          "name": "stdout",
          "output_type": "stream",
          "text": [
            "{'eval_loss': 2.4367010593414307, 'eval_accuracy': 0.42285460204535347, 'eval_f1': 0.34222343624503554, 'eval_runtime': 7.2897, 'eval_samples_per_second': 308.517, 'eval_steps_per_second': 9.74, 'epoch': 8.0}\n",
            "{'loss': 2.0486, 'learning_rate': 1.1311216429699843e-05, 'epoch': 8.69}\n"
          ]
        },
        {
          "data": {
            "application/vnd.jupyter.widget-view+json": {
              "model_id": "f23c72926887464b893085d4be9d571a",
              "version_major": 2,
              "version_minor": 0
            },
            "text/plain": [
              "  0%|          | 0/71 [00:00<?, ?it/s]"
            ]
          },
          "metadata": {},
          "output_type": "display_data"
        },
        {
          "name": "stdout",
          "output_type": "stream",
          "text": [
            "{'eval_loss': 2.388583183288574, 'eval_accuracy': 0.4290795909293019, 'eval_f1': 0.35055624952550646, 'eval_runtime': 6.3577, 'eval_samples_per_second': 353.743, 'eval_steps_per_second': 11.168, 'epoch': 9.0}\n",
            "{'loss': 1.9975, 'learning_rate': 1.052132701421801e-05, 'epoch': 9.48}\n"
          ]
        },
        {
          "data": {
            "application/vnd.jupyter.widget-view+json": {
              "model_id": "6b7fb3a21320492fa2e8c6bef08d9b59",
              "version_major": 2,
              "version_minor": 0
            },
            "text/plain": [
              "  0%|          | 0/71 [00:00<?, ?it/s]"
            ]
          },
          "metadata": {},
          "output_type": "display_data"
        },
        {
          "name": "stdout",
          "output_type": "stream",
          "text": [
            "{'eval_loss': 2.3601982593536377, 'eval_accuracy': 0.43485993775011117, 'eval_f1': 0.35969301461002007, 'eval_runtime': 6.2941, 'eval_samples_per_second': 357.32, 'eval_steps_per_second': 11.28, 'epoch': 10.0}\n",
            "{'loss': 1.9497, 'learning_rate': 9.731437598736178e-06, 'epoch': 10.27}\n"
          ]
        },
        {
          "data": {
            "application/vnd.jupyter.widget-view+json": {
              "model_id": "83849b35363c4ea1aaf199a25db9d515",
              "version_major": 2,
              "version_minor": 0
            },
            "text/plain": [
              "  0%|          | 0/71 [00:00<?, ?it/s]"
            ]
          },
          "metadata": {},
          "output_type": "display_data"
        },
        {
          "name": "stdout",
          "output_type": "stream",
          "text": [
            "{'eval_loss': 2.3497753143310547, 'eval_accuracy': 0.4339706536238328, 'eval_f1': 0.3593056528400017, 'eval_runtime': 6.8442, 'eval_samples_per_second': 328.601, 'eval_steps_per_second': 10.374, 'epoch': 11.0}\n",
            "{'loss': 1.8758, 'learning_rate': 8.941548183254345e-06, 'epoch': 11.06}\n",
            "{'loss': 1.8444, 'learning_rate': 8.151658767772512e-06, 'epoch': 11.85}\n"
          ]
        },
        {
          "data": {
            "application/vnd.jupyter.widget-view+json": {
              "model_id": "5dd2e13c2ec3498d9e87f349eb46750d",
              "version_major": 2,
              "version_minor": 0
            },
            "text/plain": [
              "  0%|          | 0/71 [00:00<?, ?it/s]"
            ]
          },
          "metadata": {},
          "output_type": "display_data"
        },
        {
          "name": "stdout",
          "output_type": "stream",
          "text": [
            "{'eval_loss': 2.323066234588623, 'eval_accuracy': 0.4459759893285905, 'eval_f1': 0.37488974225002136, 'eval_runtime': 6.2232, 'eval_samples_per_second': 361.392, 'eval_steps_per_second': 11.409, 'epoch': 12.0}\n",
            "{'loss': 1.7961, 'learning_rate': 7.36176935229068e-06, 'epoch': 12.64}\n"
          ]
        },
        {
          "data": {
            "application/vnd.jupyter.widget-view+json": {
              "model_id": "c2648dc9bd1f4591834460757fd9518b",
              "version_major": 2,
              "version_minor": 0
            },
            "text/plain": [
              "  0%|          | 0/71 [00:00<?, ?it/s]"
            ]
          },
          "metadata": {},
          "output_type": "display_data"
        },
        {
          "name": "stdout",
          "output_type": "stream",
          "text": [
            "{'eval_loss': 2.3100545406341553, 'eval_accuracy': 0.44419742107603377, 'eval_f1': 0.3703726881471782, 'eval_runtime': 6.6088, 'eval_samples_per_second': 340.303, 'eval_steps_per_second': 10.743, 'epoch': 13.0}\n",
            "{'loss': 1.7711, 'learning_rate': 6.571879936808847e-06, 'epoch': 13.43}\n"
          ]
        },
        {
          "data": {
            "application/vnd.jupyter.widget-view+json": {
              "model_id": "484d7f7290924e389162764cd7d90901",
              "version_major": 2,
              "version_minor": 0
            },
            "text/plain": [
              "  0%|          | 0/71 [00:00<?, ?it/s]"
            ]
          },
          "metadata": {},
          "output_type": "display_data"
        },
        {
          "name": "stdout",
          "output_type": "stream",
          "text": [
            "{'eval_loss': 2.304213285446167, 'eval_accuracy': 0.44953312583370386, 'eval_f1': 0.3784723144234253, 'eval_runtime': 6.7815, 'eval_samples_per_second': 331.635, 'eval_steps_per_second': 10.47, 'epoch': 14.0}\n",
            "{'loss': 1.7243, 'learning_rate': 5.7819905213270145e-06, 'epoch': 14.22}\n"
          ]
        },
        {
          "data": {
            "application/vnd.jupyter.widget-view+json": {
              "model_id": "151b86fa24c04daa8ac5361afba63dad",
              "version_major": 2,
              "version_minor": 0
            },
            "text/plain": [
              "  0%|          | 0/71 [00:00<?, ?it/s]"
            ]
          },
          "metadata": {},
          "output_type": "display_data"
        },
        {
          "name": "stdout",
          "output_type": "stream",
          "text": [
            "{'eval_loss': 2.2951712608337402, 'eval_accuracy': 0.449977767896843, 'eval_f1': 0.38042758572542984, 'eval_runtime': 6.0001, 'eval_samples_per_second': 374.827, 'eval_steps_per_second': 11.833, 'epoch': 15.0}\n",
            "{'loss': 1.6957, 'learning_rate': 4.9921011058451815e-06, 'epoch': 15.01}\n",
            "{'loss': 1.6586, 'learning_rate': 4.20221169036335e-06, 'epoch': 15.8}\n"
          ]
        },
        {
          "data": {
            "application/vnd.jupyter.widget-view+json": {
              "model_id": "e071dbf96e594340822f9cdc5512664d",
              "version_major": 2,
              "version_minor": 0
            },
            "text/plain": [
              "  0%|          | 0/71 [00:00<?, ?it/s]"
            ]
          },
          "metadata": {},
          "output_type": "display_data"
        },
        {
          "name": "stdout",
          "output_type": "stream",
          "text": [
            "{'eval_loss': 2.2909789085388184, 'eval_accuracy': 0.447309915518008, 'eval_f1': 0.3790831133088159, 'eval_runtime': 6.0462, 'eval_samples_per_second': 371.97, 'eval_steps_per_second': 11.743, 'epoch': 16.0}\n",
            "{'loss': 1.6551, 'learning_rate': 3.412322274881517e-06, 'epoch': 16.59}\n"
          ]
        },
        {
          "data": {
            "application/vnd.jupyter.widget-view+json": {
              "model_id": "ad4813c70a0b4ed89fe88ee7447e3a6d",
              "version_major": 2,
              "version_minor": 0
            },
            "text/plain": [
              "  0%|          | 0/71 [00:00<?, ?it/s]"
            ]
          },
          "metadata": {},
          "output_type": "display_data"
        },
        {
          "name": "stdout",
          "output_type": "stream",
          "text": [
            "{'eval_loss': 2.287795066833496, 'eval_accuracy': 0.4455313472654513, 'eval_f1': 0.379461079515095, 'eval_runtime': 6.014, 'eval_samples_per_second': 373.964, 'eval_steps_per_second': 11.806, 'epoch': 17.0}\n",
            "{'loss': 1.6419, 'learning_rate': 2.6224328593996843e-06, 'epoch': 17.38}\n"
          ]
        },
        {
          "data": {
            "application/vnd.jupyter.widget-view+json": {
              "model_id": "b14755633879471083788f82a63fd396",
              "version_major": 2,
              "version_minor": 0
            },
            "text/plain": [
              "  0%|          | 0/71 [00:00<?, ?it/s]"
            ]
          },
          "metadata": {},
          "output_type": "display_data"
        },
        {
          "name": "stdout",
          "output_type": "stream",
          "text": [
            "{'eval_loss': 2.285200595855713, 'eval_accuracy': 0.45175633614939975, 'eval_f1': 0.38509763026927807, 'eval_runtime': 6.4857, 'eval_samples_per_second': 346.762, 'eval_steps_per_second': 10.947, 'epoch': 18.0}\n",
            "{'loss': 1.6213, 'learning_rate': 1.8325434439178516e-06, 'epoch': 18.17}\n",
            "{'loss': 1.6133, 'learning_rate': 1.042654028436019e-06, 'epoch': 18.96}\n"
          ]
        },
        {
          "data": {
            "application/vnd.jupyter.widget-view+json": {
              "model_id": "f7d2ee98739744ccba67119bb5aa5fca",
              "version_major": 2,
              "version_minor": 0
            },
            "text/plain": [
              "  0%|          | 0/71 [00:00<?, ?it/s]"
            ]
          },
          "metadata": {},
          "output_type": "display_data"
        },
        {
          "name": "stdout",
          "output_type": "stream",
          "text": [
            "{'eval_loss': 2.282538414001465, 'eval_accuracy': 0.4508670520231214, 'eval_f1': 0.3843705786854621, 'eval_runtime': 5.9894, 'eval_samples_per_second': 375.498, 'eval_steps_per_second': 11.854, 'epoch': 19.0}\n",
            "{'loss': 1.6037, 'learning_rate': 2.527646129541864e-07, 'epoch': 19.75}\n"
          ]
        },
        {
          "data": {
            "application/vnd.jupyter.widget-view+json": {
              "model_id": "8eea0654ad204e82b156e010479c99f0",
              "version_major": 2,
              "version_minor": 0
            },
            "text/plain": [
              "  0%|          | 0/71 [00:00<?, ?it/s]"
            ]
          },
          "metadata": {},
          "output_type": "display_data"
        },
        {
          "name": "stdout",
          "output_type": "stream",
          "text": [
            "{'eval_loss': 2.2832629680633545, 'eval_accuracy': 0.45175633614939975, 'eval_f1': 0.38423753660023846, 'eval_runtime': 6.4786, 'eval_samples_per_second': 347.14, 'eval_steps_per_second': 10.959, 'epoch': 20.0}\n",
            "{'train_runtime': 3226.2949, 'train_samples_per_second': 125.475, 'train_steps_per_second': 3.924, 'train_loss': 2.111862512862701, 'epoch': 20.0}\n"
          ]
        },
        {
          "data": {
            "text/plain": [
              "TrainOutput(global_step=12660, training_loss=2.111862512862701, metrics={'train_runtime': 3226.2949, 'train_samples_per_second': 125.475, 'train_steps_per_second': 3.924, 'train_loss': 2.111862512862701, 'epoch': 20.0})"
            ]
          },
          "execution_count": 24,
          "metadata": {},
          "output_type": "execute_result"
        }
      ],
      "source": [
        "trainer.train()"
      ]
    },
    {
      "cell_type": "code",
      "execution_count": 25,
      "metadata": {},
      "outputs": [],
      "source": [
        "classification_model.save_pretrained(\"ruBert-tiny-topic-ner/\")"
      ]
    },
    {
      "cell_type": "markdown",
      "metadata": {
        "id": "IEVKnd9_h4rt"
      },
      "source": [
        "#### Тест"
      ]
    },
    {
      "cell_type": "code",
      "execution_count": null,
      "metadata": {
        "id": "0IXOKJMPh4rt"
      },
      "outputs": [],
      "source": [
        "n = np.random.randint(val_data.shape[0])\n",
        "n"
      ]
    },
    {
      "cell_type": "code",
      "execution_count": null,
      "metadata": {
        "id": "Z8rDsfeah4rt"
      },
      "outputs": [],
      "source": [
        "sentence = str(val_data[\"Текст инцидента\"].iloc[n])\n",
        "\n",
        "print(sentence, '\\n', id2label[val_data[\"label\"].iloc[n]])\n",
        "\n",
        "tokens = tokenizer(sentence, truncation=\"longest_first\", padding=\"max_length\", max_length=512)\n",
        "\n",
        "tokens = {key: torch.tensor(val).long() for key, val in tokens.items()}\n",
        "\n",
        "\n",
        "for key in tokens:\n",
        "    # tokens[key] = tokens[key].to(\"cuda\").unsqueeze(0)\n",
        "    tokens[key] = tokens[key].unsqueeze(0)"
      ]
    },
    {
      "cell_type": "code",
      "execution_count": null,
      "metadata": {
        "id": "2ZIkYMbQh4rt"
      },
      "outputs": [],
      "source": [
        "pred = model(**tokens)\n",
        "id2label[pred[\"logits\"].argmax().item()]"
      ]
    },
    {
      "cell_type": "markdown",
      "metadata": {
        "id": "EZoOITtVh4rt"
      },
      "source": [
        "#### Сохранение модели"
      ]
    },
    {
      "cell_type": "code",
      "execution_count": null,
      "metadata": {
        "id": "A_hp7Le1h4rt"
      },
      "outputs": [],
      "source": [
        "# torch.save(model, '/content/drive/MyDrive/models/promobot/rubert.pt')"
      ]
    },
    {
      "cell_type": "markdown",
      "metadata": {
        "id": "0SqLWy-4h4rt"
      },
      "source": [
        "#### Загрузка модели"
      ]
    },
    {
      "cell_type": "code",
      "execution_count": null,
      "metadata": {
        "id": "IrJluNVSh4rt"
      },
      "outputs": [],
      "source": []
    }
  ],
  "metadata": {
    "accelerator": "GPU",
    "colab": {
      "collapsed_sections": [
        "B_kDea86h4rc",
        "zx9I6qzMh4rt"
      ],
      "gpuType": "T4",
      "provenance": []
    },
    "kernelspec": {
      "display_name": "Python 3",
      "name": "python3"
    },
    "language_info": {
      "codemirror_mode": {
        "name": "ipython",
        "version": 3
      },
      "file_extension": ".py",
      "mimetype": "text/x-python",
      "name": "python",
      "nbconvert_exporter": "python",
      "pygments_lexer": "ipython3",
      "version": "3.11.5"
    },
    "orig_nbformat": 4,
    "vscode": {
      "interpreter": {
        "hash": "e7370f93d1d0cde622a1f8e1c04877d8463912d04d973331ad4851f04de6915a"
      }
    },
    "widgets": {
      "application/vnd.jupyter.widget-state+json": {
        "100887629d404a0e91b60aa8e6112d67": {
          "model_module": "@jupyter-widgets/base",
          "model_module_version": "1.2.0",
          "model_name": "LayoutModel",
          "state": {
            "_model_module": "@jupyter-widgets/base",
            "_model_module_version": "1.2.0",
            "_model_name": "LayoutModel",
            "_view_count": null,
            "_view_module": "@jupyter-widgets/base",
            "_view_module_version": "1.2.0",
            "_view_name": "LayoutView",
            "align_content": null,
            "align_items": null,
            "align_self": null,
            "border": null,
            "bottom": null,
            "display": null,
            "flex": null,
            "flex_flow": null,
            "grid_area": null,
            "grid_auto_columns": null,
            "grid_auto_flow": null,
            "grid_auto_rows": null,
            "grid_column": null,
            "grid_gap": null,
            "grid_row": null,
            "grid_template_areas": null,
            "grid_template_columns": null,
            "grid_template_rows": null,
            "height": null,
            "justify_content": null,
            "justify_items": null,
            "left": null,
            "margin": null,
            "max_height": null,
            "max_width": null,
            "min_height": null,
            "min_width": null,
            "object_fit": null,
            "object_position": null,
            "order": null,
            "overflow": null,
            "overflow_x": null,
            "overflow_y": null,
            "padding": null,
            "right": null,
            "top": null,
            "visibility": null,
            "width": null
          }
        },
        "14ef91b498ca4830b39f1b8b96f20a53": {
          "model_module": "@jupyter-widgets/controls",
          "model_module_version": "1.5.0",
          "model_name": "HTMLModel",
          "state": {
            "_dom_classes": [],
            "_model_module": "@jupyter-widgets/controls",
            "_model_module_version": "1.5.0",
            "_model_name": "HTMLModel",
            "_view_count": null,
            "_view_module": "@jupyter-widgets/controls",
            "_view_module_version": "1.5.0",
            "_view_name": "HTMLView",
            "description": "",
            "description_tooltip": null,
            "layout": "IPY_MODEL_1717fbb5407f4d648d63684f8469d6b9",
            "placeholder": "​",
            "style": "IPY_MODEL_8db8abab20784dedb11cd4a7b28ff411",
            "value": " 18%"
          }
        },
        "1717fbb5407f4d648d63684f8469d6b9": {
          "model_module": "@jupyter-widgets/base",
          "model_module_version": "1.2.0",
          "model_name": "LayoutModel",
          "state": {
            "_model_module": "@jupyter-widgets/base",
            "_model_module_version": "1.2.0",
            "_model_name": "LayoutModel",
            "_view_count": null,
            "_view_module": "@jupyter-widgets/base",
            "_view_module_version": "1.2.0",
            "_view_name": "LayoutView",
            "align_content": null,
            "align_items": null,
            "align_self": null,
            "border": null,
            "bottom": null,
            "display": null,
            "flex": null,
            "flex_flow": null,
            "grid_area": null,
            "grid_auto_columns": null,
            "grid_auto_flow": null,
            "grid_auto_rows": null,
            "grid_column": null,
            "grid_gap": null,
            "grid_row": null,
            "grid_template_areas": null,
            "grid_template_columns": null,
            "grid_template_rows": null,
            "height": null,
            "justify_content": null,
            "justify_items": null,
            "left": null,
            "margin": null,
            "max_height": null,
            "max_width": null,
            "min_height": null,
            "min_width": null,
            "object_fit": null,
            "object_position": null,
            "order": null,
            "overflow": null,
            "overflow_x": null,
            "overflow_y": null,
            "padding": null,
            "right": null,
            "top": null,
            "visibility": null,
            "width": null
          }
        },
        "2bec3fe3ecce4f39b8ad5c18e24d926c": {
          "model_module": "@jupyter-widgets/base",
          "model_module_version": "1.2.0",
          "model_name": "LayoutModel",
          "state": {
            "_model_module": "@jupyter-widgets/base",
            "_model_module_version": "1.2.0",
            "_model_name": "LayoutModel",
            "_view_count": null,
            "_view_module": "@jupyter-widgets/base",
            "_view_module_version": "1.2.0",
            "_view_name": "LayoutView",
            "align_content": null,
            "align_items": null,
            "align_self": null,
            "border": null,
            "bottom": null,
            "display": null,
            "flex": null,
            "flex_flow": null,
            "grid_area": null,
            "grid_auto_columns": null,
            "grid_auto_flow": null,
            "grid_auto_rows": null,
            "grid_column": null,
            "grid_gap": null,
            "grid_row": null,
            "grid_template_areas": null,
            "grid_template_columns": null,
            "grid_template_rows": null,
            "height": null,
            "justify_content": null,
            "justify_items": null,
            "left": null,
            "margin": null,
            "max_height": null,
            "max_width": null,
            "min_height": null,
            "min_width": null,
            "object_fit": null,
            "object_position": null,
            "order": null,
            "overflow": null,
            "overflow_x": null,
            "overflow_y": null,
            "padding": null,
            "right": null,
            "top": null,
            "visibility": null,
            "width": null
          }
        },
        "3205f414aeac40e198a095c8536bbb6a": {
          "model_module": "@jupyter-widgets/controls",
          "model_module_version": "1.5.0",
          "model_name": "FloatProgressModel",
          "state": {
            "_dom_classes": [],
            "_model_module": "@jupyter-widgets/controls",
            "_model_module_version": "1.5.0",
            "_model_name": "FloatProgressModel",
            "_view_count": null,
            "_view_module": "@jupyter-widgets/controls",
            "_view_module_version": "1.5.0",
            "_view_name": "ProgressView",
            "bar_style": "danger",
            "description": "",
            "description_tooltip": null,
            "layout": "IPY_MODEL_2bec3fe3ecce4f39b8ad5c18e24d926c",
            "max": 22490,
            "min": 0,
            "orientation": "horizontal",
            "style": "IPY_MODEL_dc1cff3aab734a269cdfc56e8e51b965",
            "value": 4160
          }
        },
        "5e481b1254114febb55ef34419d350d8": {
          "model_module": "@jupyter-widgets/base",
          "model_module_version": "1.2.0",
          "model_name": "LayoutModel",
          "state": {
            "_model_module": "@jupyter-widgets/base",
            "_model_module_version": "1.2.0",
            "_model_name": "LayoutModel",
            "_view_count": null,
            "_view_module": "@jupyter-widgets/base",
            "_view_module_version": "1.2.0",
            "_view_name": "LayoutView",
            "align_content": null,
            "align_items": null,
            "align_self": null,
            "border": null,
            "bottom": null,
            "display": null,
            "flex": null,
            "flex_flow": null,
            "grid_area": null,
            "grid_auto_columns": null,
            "grid_auto_flow": null,
            "grid_auto_rows": null,
            "grid_column": null,
            "grid_gap": null,
            "grid_row": null,
            "grid_template_areas": null,
            "grid_template_columns": null,
            "grid_template_rows": null,
            "height": null,
            "justify_content": null,
            "justify_items": null,
            "left": null,
            "margin": null,
            "max_height": null,
            "max_width": null,
            "min_height": null,
            "min_width": null,
            "object_fit": null,
            "object_position": null,
            "order": null,
            "overflow": null,
            "overflow_x": null,
            "overflow_y": null,
            "padding": null,
            "right": null,
            "top": null,
            "visibility": null,
            "width": null
          }
        },
        "8db8abab20784dedb11cd4a7b28ff411": {
          "model_module": "@jupyter-widgets/controls",
          "model_module_version": "1.5.0",
          "model_name": "DescriptionStyleModel",
          "state": {
            "_model_module": "@jupyter-widgets/controls",
            "_model_module_version": "1.5.0",
            "_model_name": "DescriptionStyleModel",
            "_view_count": null,
            "_view_module": "@jupyter-widgets/base",
            "_view_module_version": "1.2.0",
            "_view_name": "StyleView",
            "description_width": ""
          }
        },
        "9a32bd7089c24867be8cc196d2ee7dbd": {
          "model_module": "@jupyter-widgets/controls",
          "model_module_version": "1.5.0",
          "model_name": "HBoxModel",
          "state": {
            "_dom_classes": [],
            "_model_module": "@jupyter-widgets/controls",
            "_model_module_version": "1.5.0",
            "_model_name": "HBoxModel",
            "_view_count": null,
            "_view_module": "@jupyter-widgets/controls",
            "_view_module_version": "1.5.0",
            "_view_name": "HBoxView",
            "box_style": "",
            "children": [
              "IPY_MODEL_14ef91b498ca4830b39f1b8b96f20a53",
              "IPY_MODEL_3205f414aeac40e198a095c8536bbb6a",
              "IPY_MODEL_c169e388e2ca4e3d85d359cd95205c56"
            ],
            "layout": "IPY_MODEL_5e481b1254114febb55ef34419d350d8"
          }
        },
        "a229905ccd144af89cee89bbb123c858": {
          "model_module": "@jupyter-widgets/controls",
          "model_module_version": "1.5.0",
          "model_name": "DescriptionStyleModel",
          "state": {
            "_model_module": "@jupyter-widgets/controls",
            "_model_module_version": "1.5.0",
            "_model_name": "DescriptionStyleModel",
            "_view_count": null,
            "_view_module": "@jupyter-widgets/base",
            "_view_module_version": "1.2.0",
            "_view_name": "StyleView",
            "description_width": ""
          }
        },
        "c169e388e2ca4e3d85d359cd95205c56": {
          "model_module": "@jupyter-widgets/controls",
          "model_module_version": "1.5.0",
          "model_name": "HTMLModel",
          "state": {
            "_dom_classes": [],
            "_model_module": "@jupyter-widgets/controls",
            "_model_module_version": "1.5.0",
            "_model_name": "HTMLModel",
            "_view_count": null,
            "_view_module": "@jupyter-widgets/controls",
            "_view_module_version": "1.5.0",
            "_view_name": "HTMLView",
            "description": "",
            "description_tooltip": null,
            "layout": "IPY_MODEL_100887629d404a0e91b60aa8e6112d67",
            "placeholder": "​",
            "style": "IPY_MODEL_a229905ccd144af89cee89bbb123c858",
            "value": " 4160/22490 [13:49&lt;58:05,  5.26it/s]"
          }
        },
        "dc1cff3aab734a269cdfc56e8e51b965": {
          "model_module": "@jupyter-widgets/controls",
          "model_module_version": "1.5.0",
          "model_name": "ProgressStyleModel",
          "state": {
            "_model_module": "@jupyter-widgets/controls",
            "_model_module_version": "1.5.0",
            "_model_name": "ProgressStyleModel",
            "_view_count": null,
            "_view_module": "@jupyter-widgets/base",
            "_view_module_version": "1.2.0",
            "_view_name": "StyleView",
            "bar_color": null,
            "description_width": ""
          }
        }
      }
    }
  },
  "nbformat": 4,
  "nbformat_minor": 0
}
